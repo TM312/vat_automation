{
 "cells": [
  {
   "cell_type": "code",
   "execution_count": 4,
   "metadata": {},
   "outputs": [],
   "source": [
    "from datetime import datetime, date, timedelta\n",
    "from typing import Dict, List\n",
    "import os\n",
    "from flask import Flask\n",
    "from flask_sqlalchemy import SQLAlchemy\n",
    "from sqlalchemy.ext.declarative import declared_attr\n",
    "import uuid\n",
    "from sqlalchemy.dialects.postgresql import UUID\n",
    "\n",
    "\n",
    "app = Flask(__name__)\n",
    "\n",
    "app.config[\"SQLALCHEMY_DATABASE_URI\"] = \"sqlite:///:memory:\"\n",
    "app.config[\"SQLALCHEMY_TRACK_MODIFICATIONS\"] = False\n",
    "\n",
    "\n",
    "db = SQLAlchemy(app)\n"
   ]
  },
  {
   "cell_type": "code",
   "execution_count": 5,
   "metadata": {},
   "outputs": [],
   "source": [
    "class Item(db.Model):\n",
    "    id=db.Column(db.Integer, primary_key=True)\n",
    "    name=db.Column(db.String(255))\n",
    "    location=db.Column(db.String(255))\n",
    "    \n",
    "    "
   ]
  },
  {
   "cell_type": "code",
   "execution_count": 6,
   "metadata": {},
   "outputs": [],
   "source": [
    "db.create_all()"
   ]
  },
  {
   "cell_type": "code",
   "execution_count": 7,
   "metadata": {},
   "outputs": [],
   "source": [
    "i = Item()\n",
    "db.session.add(i)\n",
    "db.session.commit()"
   ]
  },
  {
   "cell_type": "code",
   "execution_count": 8,
   "metadata": {},
   "outputs": [
    {
     "name": "stdout",
     "output_type": "stream",
     "text": [
      "1\n",
      "None\n"
     ]
    }
   ],
   "source": [
    "i1 = Item.query.first()\n",
    "print(i1.id)\n",
    "print(i1.name)"
   ]
  },
  {
   "cell_type": "code",
   "execution_count": 1,
   "metadata": {},
   "outputs": [],
   "source": [
    "import pandas as pd"
   ]
  },
  {
   "cell_type": "code",
   "execution_count": 184,
   "metadata": {},
   "outputs": [
    {
     "name": "stderr",
     "output_type": "stream",
     "text": [
      "/Library/Python/3.7/site-packages/IPython/core/interactiveshell.py:3146: DtypeWarning: Columns (7,59,70,71,72,73,74,75,76,77,78,79,80,81,86) have mixed types.Specify dtype option on import or set low_memory=False.\n",
      "  interactivity=interactivity, compiler=compiler, result=result)\n"
     ]
    }
   ],
   "source": [
    "path = '/Users/tm/Projects/vat/webapp/api/data/test/GVCTest/JN Imports/raw/JN IMPORTS - OCT NOV DEC 2019.txt'\n",
    "df = pd.read_csv(path, sep=\"\\t\")"
   ]
  },
  {
   "cell_type": "code",
   "execution_count": 185,
   "metadata": {},
   "outputs": [
    {
     "data": {
      "text/html": [
       "<div>\n",
       "<style scoped>\n",
       "    .dataframe tbody tr th:only-of-type {\n",
       "        vertical-align: middle;\n",
       "    }\n",
       "\n",
       "    .dataframe tbody tr th {\n",
       "        vertical-align: top;\n",
       "    }\n",
       "\n",
       "    .dataframe thead th {\n",
       "        text-align: right;\n",
       "    }\n",
       "</style>\n",
       "<table border=\"1\" class=\"dataframe\">\n",
       "  <thead>\n",
       "    <tr style=\"text-align: right;\">\n",
       "      <th></th>\n",
       "      <th>UNIQUE_ACCOUNT_IDENTIFIER</th>\n",
       "      <th>ACTIVITY_PERIOD</th>\n",
       "      <th>SALES_CHANNEL</th>\n",
       "      <th>MARKETPLACE</th>\n",
       "      <th>TRANSACTION_TYPE</th>\n",
       "      <th>TRANSACTION_EVENT_ID</th>\n",
       "      <th>ACTIVITY_TRANSACTION_ID</th>\n",
       "      <th>TAX_CALCULATION_DATE</th>\n",
       "      <th>TRANSACTION_DEPART_DATE</th>\n",
       "      <th>TRANSACTION_ARRIVAL_DATE</th>\n",
       "      <th>...</th>\n",
       "      <th>VAT_INV_CONVERTED_AMT</th>\n",
       "      <th>VAT_INV_CURRENCY_CODE</th>\n",
       "      <th>VAT_INV_EXCHANGE_RATE</th>\n",
       "      <th>VAT_INV_EXCHANGE_RATE_DATE</th>\n",
       "      <th>EXPORT_OUTSIDE_EU</th>\n",
       "      <th>INVOICE_URL</th>\n",
       "      <th>BUYER_NAME</th>\n",
       "      <th>ARRIVAL_ADDRESS</th>\n",
       "      <th>SUPPLIER_NAME</th>\n",
       "      <th>SUPPLIER_VAT_NUMBER</th>\n",
       "    </tr>\n",
       "  </thead>\n",
       "  <tbody>\n",
       "    <tr>\n",
       "      <th>0</th>\n",
       "      <td>A1GNCDLT9XBMNN</td>\n",
       "      <td>2019-DEC</td>\n",
       "      <td>MFN</td>\n",
       "      <td>amazon.fr</td>\n",
       "      <td>SALE</td>\n",
       "      <td>408-9720047-6097111</td>\n",
       "      <td>D2CQDQkpy</td>\n",
       "      <td>NaN</td>\n",
       "      <td>31-12-2019</td>\n",
       "      <td>NaN</td>\n",
       "      <td>...</td>\n",
       "      <td>NaN</td>\n",
       "      <td>NaN</td>\n",
       "      <td>NaN</td>\n",
       "      <td>NaN</td>\n",
       "      <td>NaN</td>\n",
       "      <td>NaN</td>\n",
       "      <td>NaN</td>\n",
       "      <td>NaN</td>\n",
       "      <td>NaN</td>\n",
       "      <td>NaN</td>\n",
       "    </tr>\n",
       "    <tr>\n",
       "      <th>1</th>\n",
       "      <td>A1GNCDLT9XBMNN</td>\n",
       "      <td>2019-DEC</td>\n",
       "      <td>MFN</td>\n",
       "      <td>amazon.fr</td>\n",
       "      <td>SALE</td>\n",
       "      <td>408-9720047-6097111</td>\n",
       "      <td>D2CQDQkpy</td>\n",
       "      <td>NaN</td>\n",
       "      <td>31-12-2019</td>\n",
       "      <td>NaN</td>\n",
       "      <td>...</td>\n",
       "      <td>NaN</td>\n",
       "      <td>NaN</td>\n",
       "      <td>NaN</td>\n",
       "      <td>NaN</td>\n",
       "      <td>NaN</td>\n",
       "      <td>NaN</td>\n",
       "      <td>NaN</td>\n",
       "      <td>NaN</td>\n",
       "      <td>NaN</td>\n",
       "      <td>NaN</td>\n",
       "    </tr>\n",
       "    <tr>\n",
       "      <th>2</th>\n",
       "      <td>A1GNCDLT9XBMNN</td>\n",
       "      <td>2019-DEC</td>\n",
       "      <td>MFN</td>\n",
       "      <td>amazon.fr</td>\n",
       "      <td>SALE</td>\n",
       "      <td>408-8685933-5889139</td>\n",
       "      <td>Dpqgvd3PD</td>\n",
       "      <td>NaN</td>\n",
       "      <td>31-12-2019</td>\n",
       "      <td>NaN</td>\n",
       "      <td>...</td>\n",
       "      <td>NaN</td>\n",
       "      <td>NaN</td>\n",
       "      <td>NaN</td>\n",
       "      <td>NaN</td>\n",
       "      <td>NaN</td>\n",
       "      <td>NaN</td>\n",
       "      <td>NaN</td>\n",
       "      <td>NaN</td>\n",
       "      <td>NaN</td>\n",
       "      <td>NaN</td>\n",
       "    </tr>\n",
       "    <tr>\n",
       "      <th>3</th>\n",
       "      <td>A1GNCDLT9XBMNN</td>\n",
       "      <td>2019-DEC</td>\n",
       "      <td>MFN</td>\n",
       "      <td>amazon.fr</td>\n",
       "      <td>SALE</td>\n",
       "      <td>408-6561626-5309947</td>\n",
       "      <td>DKW4Zd2PF</td>\n",
       "      <td>NaN</td>\n",
       "      <td>31-12-2019</td>\n",
       "      <td>NaN</td>\n",
       "      <td>...</td>\n",
       "      <td>NaN</td>\n",
       "      <td>NaN</td>\n",
       "      <td>NaN</td>\n",
       "      <td>NaN</td>\n",
       "      <td>NaN</td>\n",
       "      <td>NaN</td>\n",
       "      <td>NaN</td>\n",
       "      <td>NaN</td>\n",
       "      <td>NaN</td>\n",
       "      <td>NaN</td>\n",
       "    </tr>\n",
       "    <tr>\n",
       "      <th>4</th>\n",
       "      <td>A1GNCDLT9XBMNN</td>\n",
       "      <td>2019-DEC</td>\n",
       "      <td>MFN</td>\n",
       "      <td>amazon.fr</td>\n",
       "      <td>SALE</td>\n",
       "      <td>408-6487173-2525963</td>\n",
       "      <td>D8D7w1k8y</td>\n",
       "      <td>NaN</td>\n",
       "      <td>31-12-2019</td>\n",
       "      <td>NaN</td>\n",
       "      <td>...</td>\n",
       "      <td>NaN</td>\n",
       "      <td>NaN</td>\n",
       "      <td>NaN</td>\n",
       "      <td>NaN</td>\n",
       "      <td>NaN</td>\n",
       "      <td>NaN</td>\n",
       "      <td>NaN</td>\n",
       "      <td>NaN</td>\n",
       "      <td>NaN</td>\n",
       "      <td>NaN</td>\n",
       "    </tr>\n",
       "  </tbody>\n",
       "</table>\n",
       "<p>5 rows × 92 columns</p>\n",
       "</div>"
      ],
      "text/plain": [
       "  UNIQUE_ACCOUNT_IDENTIFIER ACTIVITY_PERIOD SALES_CHANNEL MARKETPLACE  \\\n",
       "0            A1GNCDLT9XBMNN        2019-DEC           MFN   amazon.fr   \n",
       "1            A1GNCDLT9XBMNN        2019-DEC           MFN   amazon.fr   \n",
       "2            A1GNCDLT9XBMNN        2019-DEC           MFN   amazon.fr   \n",
       "3            A1GNCDLT9XBMNN        2019-DEC           MFN   amazon.fr   \n",
       "4            A1GNCDLT9XBMNN        2019-DEC           MFN   amazon.fr   \n",
       "\n",
       "  TRANSACTION_TYPE TRANSACTION_EVENT_ID ACTIVITY_TRANSACTION_ID  \\\n",
       "0             SALE  408-9720047-6097111               D2CQDQkpy   \n",
       "1             SALE  408-9720047-6097111               D2CQDQkpy   \n",
       "2             SALE  408-8685933-5889139               Dpqgvd3PD   \n",
       "3             SALE  408-6561626-5309947               DKW4Zd2PF   \n",
       "4             SALE  408-6487173-2525963               D8D7w1k8y   \n",
       "\n",
       "  TAX_CALCULATION_DATE TRANSACTION_DEPART_DATE TRANSACTION_ARRIVAL_DATE  ...  \\\n",
       "0                  NaN              31-12-2019                      NaN  ...   \n",
       "1                  NaN              31-12-2019                      NaN  ...   \n",
       "2                  NaN              31-12-2019                      NaN  ...   \n",
       "3                  NaN              31-12-2019                      NaN  ...   \n",
       "4                  NaN              31-12-2019                      NaN  ...   \n",
       "\n",
       "  VAT_INV_CONVERTED_AMT VAT_INV_CURRENCY_CODE VAT_INV_EXCHANGE_RATE  \\\n",
       "0                   NaN                   NaN                   NaN   \n",
       "1                   NaN                   NaN                   NaN   \n",
       "2                   NaN                   NaN                   NaN   \n",
       "3                   NaN                   NaN                   NaN   \n",
       "4                   NaN                   NaN                   NaN   \n",
       "\n",
       "  VAT_INV_EXCHANGE_RATE_DATE  EXPORT_OUTSIDE_EU  INVOICE_URL  BUYER_NAME  \\\n",
       "0                        NaN                NaN          NaN         NaN   \n",
       "1                        NaN                NaN          NaN         NaN   \n",
       "2                        NaN                NaN          NaN         NaN   \n",
       "3                        NaN                NaN          NaN         NaN   \n",
       "4                        NaN                NaN          NaN         NaN   \n",
       "\n",
       "   ARRIVAL_ADDRESS  SUPPLIER_NAME  SUPPLIER_VAT_NUMBER  \n",
       "0              NaN            NaN                  NaN  \n",
       "1              NaN            NaN                  NaN  \n",
       "2              NaN            NaN                  NaN  \n",
       "3              NaN            NaN                  NaN  \n",
       "4              NaN            NaN                  NaN  \n",
       "\n",
       "[5 rows x 92 columns]"
      ]
     },
     "execution_count": 185,
     "metadata": {},
     "output_type": "execute_result"
    }
   ],
   "source": [
    "df.head()"
   ]
  },
  {
   "cell_type": "code",
   "execution_count": 9,
   "metadata": {},
   "outputs": [
    {
     "data": {
      "text/plain": [
       "8.578506242905789"
      ]
     },
     "execution_count": 9,
     "metadata": {},
     "output_type": "execute_result"
    }
   ],
   "source": [
    "df['PRICE_OF_ITEMS_AMT_VAT_INCL'].mean()"
   ]
  },
  {
   "cell_type": "code",
   "execution_count": null,
   "metadata": {},
   "outputs": [],
   "source": []
  },
  {
   "cell_type": "code",
   "execution_count": 12,
   "metadata": {},
   "outputs": [
    {
     "data": {
      "text/plain": [
       "7.483188422247446"
      ]
     },
     "execution_count": 12,
     "metadata": {},
     "output_type": "execute_result"
    }
   ],
   "source": [
    "(df.PRICE_OF_ITEMS_AMT_VAT_INCL / df.QTY).mean()"
   ]
  },
  {
   "cell_type": "code",
   "execution_count": 40,
   "metadata": {},
   "outputs": [
    {
     "data": {
      "text/html": [
       "<div>\n",
       "<style scoped>\n",
       "    .dataframe tbody tr th:only-of-type {\n",
       "        vertical-align: middle;\n",
       "    }\n",
       "\n",
       "    .dataframe tbody tr th {\n",
       "        vertical-align: top;\n",
       "    }\n",
       "\n",
       "    .dataframe thead th {\n",
       "        text-align: right;\n",
       "    }\n",
       "</style>\n",
       "<table border=\"1\" class=\"dataframe\">\n",
       "  <thead>\n",
       "    <tr style=\"text-align: right;\">\n",
       "      <th></th>\n",
       "      <th>UNIQUE_ACCOUNT_IDENTIFIER</th>\n",
       "      <th>SALES_CHANNEL</th>\n",
       "    </tr>\n",
       "  </thead>\n",
       "  <tbody>\n",
       "    <tr>\n",
       "      <th>0</th>\n",
       "      <td>A1GNCDLT9XBMNN</td>\n",
       "      <td>MFN</td>\n",
       "    </tr>\n",
       "    <tr>\n",
       "      <th>88</th>\n",
       "      <td>A1GNCDLT9XBMNN</td>\n",
       "      <td>AFN</td>\n",
       "    </tr>\n",
       "  </tbody>\n",
       "</table>\n",
       "</div>"
      ],
      "text/plain": [
       "   UNIQUE_ACCOUNT_IDENTIFIER SALES_CHANNEL\n",
       "0             A1GNCDLT9XBMNN           MFN\n",
       "88            A1GNCDLT9XBMNN           AFN"
      ]
     },
     "execution_count": 40,
     "metadata": {},
     "output_type": "execute_result"
    }
   ],
   "source": [
    "df.drop_duplicates(subset=['UNIQUE_ACCOUNT_IDENTIFIER','SALES_CHANNEL'])[['UNIQUE_ACCOUNT_IDENTIFIER','SALES_CHANNEL']]"
   ]
  },
  {
   "cell_type": "code",
   "execution_count": 19,
   "metadata": {},
   "outputs": [],
   "source": [
    "path2 = '/Users/tm/Projects/vat/webapp/api/data/test/DEMO/SampleAG/transactions/Sales Tax Transaction Report_M-2020-02.txt'\n",
    "df2 = pd.read_csv(path2, sep=\"\\t\")"
   ]
  },
  {
   "cell_type": "code",
   "execution_count": null,
   "metadata": {},
   "outputs": [],
   "source": [
    "SELLER_DEPART_COUNTRY_VAT_NUMBER\t\n",
    "SELLER_ARRIVAL_COUNTRY_VAT_NUMBER\t\n",
    "TRANSACTION_SELLER_VAT_NUMBER"
   ]
  },
  {
   "cell_type": "code",
   "execution_count": 61,
   "metadata": {},
   "outputs": [
    {
     "data": {
      "text/html": [
       "<div>\n",
       "<style scoped>\n",
       "    .dataframe tbody tr th:only-of-type {\n",
       "        vertical-align: middle;\n",
       "    }\n",
       "\n",
       "    .dataframe tbody tr th {\n",
       "        vertical-align: top;\n",
       "    }\n",
       "\n",
       "    .dataframe thead th {\n",
       "        text-align: right;\n",
       "    }\n",
       "</style>\n",
       "<table border=\"1\" class=\"dataframe\">\n",
       "  <thead>\n",
       "    <tr style=\"text-align: right;\">\n",
       "      <th></th>\n",
       "      <th>SELLER_DEPART_VAT_NUMBER_COUNTRY</th>\n",
       "      <th>SELLER_DEPART_COUNTRY_VAT_NUMBER</th>\n",
       "    </tr>\n",
       "  </thead>\n",
       "  <tbody>\n",
       "    <tr>\n",
       "      <th>2</th>\n",
       "      <td>DE</td>\n",
       "      <td>DE322857776</td>\n",
       "    </tr>\n",
       "    <tr>\n",
       "      <th>13</th>\n",
       "      <td>PL</td>\n",
       "      <td>PL5263266229</td>\n",
       "    </tr>\n",
       "    <tr>\n",
       "      <th>29</th>\n",
       "      <td>FR</td>\n",
       "      <td>FR17850992868</td>\n",
       "    </tr>\n",
       "    <tr>\n",
       "      <th>31</th>\n",
       "      <td>ES</td>\n",
       "      <td>ESA81405219</td>\n",
       "    </tr>\n",
       "    <tr>\n",
       "      <th>34</th>\n",
       "      <td>CZ</td>\n",
       "      <td>CZ684824655</td>\n",
       "    </tr>\n",
       "    <tr>\n",
       "      <th>132</th>\n",
       "      <td>IT</td>\n",
       "      <td>IT00231149998</td>\n",
       "    </tr>\n",
       "  </tbody>\n",
       "</table>\n",
       "</div>"
      ],
      "text/plain": [
       "    SELLER_DEPART_VAT_NUMBER_COUNTRY SELLER_DEPART_COUNTRY_VAT_NUMBER\n",
       "2                                 DE                      DE322857776\n",
       "13                                PL                     PL5263266229\n",
       "29                                FR                    FR17850992868\n",
       "31                                ES                      ESA81405219\n",
       "34                                CZ                      CZ684824655\n",
       "132                               IT                    IT00231149998"
      ]
     },
     "execution_count": 61,
     "metadata": {},
     "output_type": "execute_result"
    }
   ],
   "source": [
    "df2.drop_duplicates(subset=['SELLER_DEPART_COUNTRY_VAT_NUMBER','SELLER_DEPART_COUNTRY_VAT_NUMBER'])[['SELLER_DEPART_VAT_NUMBER_COUNTRY', 'SELLER_DEPART_COUNTRY_VAT_NUMBER']].dropna()\n"
   ]
  },
  {
   "cell_type": "code",
   "execution_count": 154,
   "metadata": {},
   "outputs": [],
   "source": [
    "column_values = df2[[\"SELLER_DEPART_COUNTRY_VAT_NUMBER\", \"SELLER_ARRIVAL_COUNTRY_VAT_NUMBER\", \"TRANSACTION_SELLER_VAT_NUMBER\"]].values.ravel('K')\n",
    "unique_values_raw = pd.unique(column_values).tolist()\n",
    "unique_values = [x for x in unique_values_raw if str(x) != 'nan']"
   ]
  },
  {
   "cell_type": "code",
   "execution_count": 153,
   "metadata": {},
   "outputs": [
    {
     "name": "stdout",
     "output_type": "stream",
     "text": [
      "['DE322857776', 'PL5263266229', 'FR17850992868', 'ESA81405219', 'CZ684824655', 'IT00231149998']\n"
     ]
    }
   ],
   "source": [
    "print(unique_values)\n"
   ]
  },
  {
   "cell_type": "code",
   "execution_count": null,
   "metadata": {},
   "outputs": [],
   "source": []
  },
  {
   "cell_type": "code",
   "execution_count": 159,
   "metadata": {},
   "outputs": [],
   "source": [
    "df3 = df.drop_duplicates(subset=['SELLER_SKU','ASIN'])[['SELLER_SKU','ASIN', 'ITEM_DESCRIPTION', 'ITEM_WEIGHT']]"
   ]
  },
  {
   "cell_type": "code",
   "execution_count": 161,
   "metadata": {},
   "outputs": [
    {
     "data": {
      "text/plain": [
       "876"
      ]
     },
     "execution_count": 161,
     "metadata": {},
     "output_type": "execute_result"
    }
   ],
   "source": [
    "len(df3.index)"
   ]
  },
  {
   "cell_type": "code",
   "execution_count": 162,
   "metadata": {},
   "outputs": [
    {
     "data": {
      "text/plain": [
       "853"
      ]
     },
     "execution_count": 162,
     "metadata": {},
     "output_type": "execute_result"
    }
   ],
   "source": [
    "df4 = df.drop_duplicates(subset=['ASIN'])[['SELLER_SKU','ASIN', 'ITEM_DESCRIPTION', 'ITEM_WEIGHT']]\n",
    "len(df4.index)"
   ]
  },
  {
   "cell_type": "code",
   "execution_count": 163,
   "metadata": {},
   "outputs": [
    {
     "data": {
      "text/plain": [
       "876"
      ]
     },
     "execution_count": 163,
     "metadata": {},
     "output_type": "execute_result"
    }
   ],
   "source": [
    "df4 = df.drop_duplicates(subset=['SELLER_SKU'])[['SELLER_SKU','ASIN', 'ITEM_DESCRIPTION', 'ITEM_WEIGHT']]\n",
    "len(df4.index)"
   ]
  },
  {
   "cell_type": "code",
   "execution_count": 171,
   "metadata": {},
   "outputs": [],
   "source": [
    "from datetime import datetime\n"
   ]
  },
  {
   "cell_type": "code",
   "execution_count": 186,
   "metadata": {},
   "outputs": [
    {
     "data": {
      "text/html": [
       "<div>\n",
       "<style scoped>\n",
       "    .dataframe tbody tr th:only-of-type {\n",
       "        vertical-align: middle;\n",
       "    }\n",
       "\n",
       "    .dataframe tbody tr th {\n",
       "        vertical-align: top;\n",
       "    }\n",
       "\n",
       "    .dataframe thead th {\n",
       "        text-align: right;\n",
       "    }\n",
       "</style>\n",
       "<table border=\"1\" class=\"dataframe\">\n",
       "  <thead>\n",
       "    <tr style=\"text-align: right;\">\n",
       "      <th></th>\n",
       "      <th>UNIQUE_ACCOUNT_IDENTIFIER</th>\n",
       "      <th>ACTIVITY_PERIOD</th>\n",
       "      <th>SALES_CHANNEL</th>\n",
       "      <th>MARKETPLACE</th>\n",
       "      <th>TRANSACTION_TYPE</th>\n",
       "      <th>TRANSACTION_EVENT_ID</th>\n",
       "      <th>ACTIVITY_TRANSACTION_ID</th>\n",
       "      <th>TAX_CALCULATION_DATE</th>\n",
       "      <th>TRANSACTION_DEPART_DATE</th>\n",
       "      <th>TRANSACTION_ARRIVAL_DATE</th>\n",
       "      <th>...</th>\n",
       "      <th>VAT_INV_CONVERTED_AMT</th>\n",
       "      <th>VAT_INV_CURRENCY_CODE</th>\n",
       "      <th>VAT_INV_EXCHANGE_RATE</th>\n",
       "      <th>VAT_INV_EXCHANGE_RATE_DATE</th>\n",
       "      <th>EXPORT_OUTSIDE_EU</th>\n",
       "      <th>INVOICE_URL</th>\n",
       "      <th>BUYER_NAME</th>\n",
       "      <th>ARRIVAL_ADDRESS</th>\n",
       "      <th>SUPPLIER_NAME</th>\n",
       "      <th>SUPPLIER_VAT_NUMBER</th>\n",
       "    </tr>\n",
       "  </thead>\n",
       "  <tbody>\n",
       "    <tr>\n",
       "      <th>0</th>\n",
       "      <td>A1GNCDLT9XBMNN</td>\n",
       "      <td>2019-DEC</td>\n",
       "      <td>MFN</td>\n",
       "      <td>amazon.fr</td>\n",
       "      <td>SALE</td>\n",
       "      <td>408-9720047-6097111</td>\n",
       "      <td>D2CQDQkpy</td>\n",
       "      <td>NaN</td>\n",
       "      <td>31-12-2019</td>\n",
       "      <td>NaN</td>\n",
       "      <td>...</td>\n",
       "      <td>NaN</td>\n",
       "      <td>NaN</td>\n",
       "      <td>NaN</td>\n",
       "      <td>NaN</td>\n",
       "      <td>NaN</td>\n",
       "      <td>NaN</td>\n",
       "      <td>NaN</td>\n",
       "      <td>NaN</td>\n",
       "      <td>NaN</td>\n",
       "      <td>NaN</td>\n",
       "    </tr>\n",
       "    <tr>\n",
       "      <th>1</th>\n",
       "      <td>A1GNCDLT9XBMNN</td>\n",
       "      <td>2019-DEC</td>\n",
       "      <td>MFN</td>\n",
       "      <td>amazon.fr</td>\n",
       "      <td>SALE</td>\n",
       "      <td>408-9720047-6097111</td>\n",
       "      <td>D2CQDQkpy</td>\n",
       "      <td>NaN</td>\n",
       "      <td>31-12-2019</td>\n",
       "      <td>NaN</td>\n",
       "      <td>...</td>\n",
       "      <td>NaN</td>\n",
       "      <td>NaN</td>\n",
       "      <td>NaN</td>\n",
       "      <td>NaN</td>\n",
       "      <td>NaN</td>\n",
       "      <td>NaN</td>\n",
       "      <td>NaN</td>\n",
       "      <td>NaN</td>\n",
       "      <td>NaN</td>\n",
       "      <td>NaN</td>\n",
       "    </tr>\n",
       "    <tr>\n",
       "      <th>2</th>\n",
       "      <td>A1GNCDLT9XBMNN</td>\n",
       "      <td>2019-DEC</td>\n",
       "      <td>MFN</td>\n",
       "      <td>amazon.fr</td>\n",
       "      <td>SALE</td>\n",
       "      <td>408-8685933-5889139</td>\n",
       "      <td>Dpqgvd3PD</td>\n",
       "      <td>NaN</td>\n",
       "      <td>31-12-2019</td>\n",
       "      <td>NaN</td>\n",
       "      <td>...</td>\n",
       "      <td>NaN</td>\n",
       "      <td>NaN</td>\n",
       "      <td>NaN</td>\n",
       "      <td>NaN</td>\n",
       "      <td>NaN</td>\n",
       "      <td>NaN</td>\n",
       "      <td>NaN</td>\n",
       "      <td>NaN</td>\n",
       "      <td>NaN</td>\n",
       "      <td>NaN</td>\n",
       "    </tr>\n",
       "    <tr>\n",
       "      <th>3</th>\n",
       "      <td>A1GNCDLT9XBMNN</td>\n",
       "      <td>2019-DEC</td>\n",
       "      <td>MFN</td>\n",
       "      <td>amazon.fr</td>\n",
       "      <td>SALE</td>\n",
       "      <td>408-6561626-5309947</td>\n",
       "      <td>DKW4Zd2PF</td>\n",
       "      <td>NaN</td>\n",
       "      <td>31-12-2019</td>\n",
       "      <td>NaN</td>\n",
       "      <td>...</td>\n",
       "      <td>NaN</td>\n",
       "      <td>NaN</td>\n",
       "      <td>NaN</td>\n",
       "      <td>NaN</td>\n",
       "      <td>NaN</td>\n",
       "      <td>NaN</td>\n",
       "      <td>NaN</td>\n",
       "      <td>NaN</td>\n",
       "      <td>NaN</td>\n",
       "      <td>NaN</td>\n",
       "    </tr>\n",
       "    <tr>\n",
       "      <th>4</th>\n",
       "      <td>A1GNCDLT9XBMNN</td>\n",
       "      <td>2019-DEC</td>\n",
       "      <td>MFN</td>\n",
       "      <td>amazon.fr</td>\n",
       "      <td>SALE</td>\n",
       "      <td>408-6487173-2525963</td>\n",
       "      <td>D8D7w1k8y</td>\n",
       "      <td>NaN</td>\n",
       "      <td>31-12-2019</td>\n",
       "      <td>NaN</td>\n",
       "      <td>...</td>\n",
       "      <td>NaN</td>\n",
       "      <td>NaN</td>\n",
       "      <td>NaN</td>\n",
       "      <td>NaN</td>\n",
       "      <td>NaN</td>\n",
       "      <td>NaN</td>\n",
       "      <td>NaN</td>\n",
       "      <td>NaN</td>\n",
       "      <td>NaN</td>\n",
       "      <td>NaN</td>\n",
       "    </tr>\n",
       "  </tbody>\n",
       "</table>\n",
       "<p>5 rows × 92 columns</p>\n",
       "</div>"
      ],
      "text/plain": [
       "  UNIQUE_ACCOUNT_IDENTIFIER ACTIVITY_PERIOD SALES_CHANNEL MARKETPLACE  \\\n",
       "0            A1GNCDLT9XBMNN        2019-DEC           MFN   amazon.fr   \n",
       "1            A1GNCDLT9XBMNN        2019-DEC           MFN   amazon.fr   \n",
       "2            A1GNCDLT9XBMNN        2019-DEC           MFN   amazon.fr   \n",
       "3            A1GNCDLT9XBMNN        2019-DEC           MFN   amazon.fr   \n",
       "4            A1GNCDLT9XBMNN        2019-DEC           MFN   amazon.fr   \n",
       "\n",
       "  TRANSACTION_TYPE TRANSACTION_EVENT_ID ACTIVITY_TRANSACTION_ID  \\\n",
       "0             SALE  408-9720047-6097111               D2CQDQkpy   \n",
       "1             SALE  408-9720047-6097111               D2CQDQkpy   \n",
       "2             SALE  408-8685933-5889139               Dpqgvd3PD   \n",
       "3             SALE  408-6561626-5309947               DKW4Zd2PF   \n",
       "4             SALE  408-6487173-2525963               D8D7w1k8y   \n",
       "\n",
       "  TAX_CALCULATION_DATE TRANSACTION_DEPART_DATE TRANSACTION_ARRIVAL_DATE  ...  \\\n",
       "0                  NaN              31-12-2019                      NaN  ...   \n",
       "1                  NaN              31-12-2019                      NaN  ...   \n",
       "2                  NaN              31-12-2019                      NaN  ...   \n",
       "3                  NaN              31-12-2019                      NaN  ...   \n",
       "4                  NaN              31-12-2019                      NaN  ...   \n",
       "\n",
       "  VAT_INV_CONVERTED_AMT VAT_INV_CURRENCY_CODE VAT_INV_EXCHANGE_RATE  \\\n",
       "0                   NaN                   NaN                   NaN   \n",
       "1                   NaN                   NaN                   NaN   \n",
       "2                   NaN                   NaN                   NaN   \n",
       "3                   NaN                   NaN                   NaN   \n",
       "4                   NaN                   NaN                   NaN   \n",
       "\n",
       "  VAT_INV_EXCHANGE_RATE_DATE  EXPORT_OUTSIDE_EU  INVOICE_URL  BUYER_NAME  \\\n",
       "0                        NaN                NaN          NaN         NaN   \n",
       "1                        NaN                NaN          NaN         NaN   \n",
       "2                        NaN                NaN          NaN         NaN   \n",
       "3                        NaN                NaN          NaN         NaN   \n",
       "4                        NaN                NaN          NaN         NaN   \n",
       "\n",
       "   ARRIVAL_ADDRESS  SUPPLIER_NAME  SUPPLIER_VAT_NUMBER  \n",
       "0              NaN            NaN                  NaN  \n",
       "1              NaN            NaN                  NaN  \n",
       "2              NaN            NaN                  NaN  \n",
       "3              NaN            NaN                  NaN  \n",
       "4              NaN            NaN                  NaN  \n",
       "\n",
       "[5 rows x 92 columns]"
      ]
     },
     "execution_count": 186,
     "metadata": {},
     "output_type": "execute_result"
    }
   ],
   "source": [
    "df.head()"
   ]
  },
  {
   "cell_type": "code",
   "execution_count": 198,
   "metadata": {},
   "outputs": [],
   "source": [
    "dates_all = df[\n",
    "    [\"TRANSACTION_DEPART_DATE\", \"TRANSACTION_ARRIVAL_DATE\", \"TRANSACTION_COMPLETE_DATE\", \"TAX_CALCULATION_DATE\", \"VAT_INV_EXCHANGE_RATE_DATE\"]\n",
    "    ].values.ravel('K')\n",
    "dates_raw = pd.unique(dates_all).tolist()\n",
    "dates = [datetime.strptime(d, '%d-%m-%Y').date() for d in dates_raw if str(d) != 'nan']\n",
    "valid_from = min(dates)"
   ]
  },
  {
   "cell_type": "code",
   "execution_count": 199,
   "metadata": {},
   "outputs": [
    {
     "data": {
      "text/plain": [
       "datetime.date(2019, 9, 19)"
      ]
     },
     "execution_count": 199,
     "metadata": {},
     "output_type": "execute_result"
    }
   ],
   "source": [
    "valid_from"
   ]
  },
  {
   "cell_type": "code",
   "execution_count": null,
   "metadata": {},
   "outputs": [],
   "source": []
  },
  {
   "cell_type": "code",
   "execution_count": null,
   "metadata": {},
   "outputs": [],
   "source": []
  },
  {
   "cell_type": "code",
   "execution_count": 29,
   "metadata": {},
   "outputs": [],
   "source": [
    "\n"
   ]
  },
  {
   "cell_type": "code",
   "execution_count": null,
   "metadata": {},
   "outputs": [],
   "source": []
  },
  {
   "cell_type": "code",
   "execution_count": null,
   "metadata": {},
   "outputs": [],
   "source": []
  }
 ],
 "metadata": {
  "kernelspec": {
   "display_name": "Python 3",
   "language": "python",
   "name": "python3"
  },
  "language_info": {
   "codemirror_mode": {
    "name": "ipython",
    "version": 3
   },
   "file_extension": ".py",
   "mimetype": "text/x-python",
   "name": "python",
   "nbconvert_exporter": "python",
   "pygments_lexer": "ipython3",
   "version": "3.7.3"
  }
 },
 "nbformat": 4,
 "nbformat_minor": 4
}
