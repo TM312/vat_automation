{
 "cells": [
  {
   "cell_type": "code",
   "execution_count": null,
   "metadata": {},
   "outputs": [],
   "source": [
    "@staticmethod\n",
    "    def move_data_to_file_type(file_path_tbd: str, file_type: str, **kwargs):\n",
    "\n",
    "        \"\"\"\n",
    "        kwargs takes 'seller_firm_id' as an argument to determine the seller firm specific path\n",
    "        \"\"\"\n",
    "        basepath = current_app.config.BASE_PATH_BUSINESS_DATA\n",
    "\n",
    "        basepath_tbd = os.path.join(basepath, 'tbd')\n",
    "        basepath_file_type = os.path.join(basepath, file_type, 'in')\n",
    "        os.makedirs(basepath_file_type, exist_ok=True)\n",
    "\n",
    "        file_name = os.path.basename(file_path_tbd)\n",
    "        file_path_file_type = os.path.join(basepath_file_type, file_name)\n",
    "        try:\n",
    "            shutil.move(file_path_tbd, file_path_file_type)\n",
    "            return file_path_file_type\n",
    "        except:\n",
    "            raise"
   ]
  },
  {
   "cell_type": "code",
   "execution_count": 7,
   "metadata": {},
   "outputs": [
    {
     "name": "stdout",
     "output_type": "stream",
     "text": [
      "/Users/tm/Projects/vat/webapp_data/test/0/in\n"
     ]
    }
   ],
   "source": [
    "import os\n",
    "basepath = '/Users/tm/Projects/vat/webapp_data/test'\n",
    "seller_firm_id = 0\n",
    "basepath_in = os.path.join(basepath, str(seller_firm_id), 'in')\n",
    "print(basepath_in)\n",
    "\n",
    "os.makedirs(basepath_in, exist_ok=True)\n",
    "\n",
    "\n",
    "\n",
    "def stringify_snake_case(string_raw: str) -> str:\n",
    "    import re\n",
    "    pattern = re.compile(r'-{2,}')\n",
    "    #https://stackoverflow.com/questions/23996118/replace-special-characters-in-a-string-python\n",
    "    string = string_raw.lower().translate(\n",
    "        {ord(c): \" \" for c in \"!@#$%^&*()[]{};:,./<>?\\|`~-=-+\"}).replace(\" \", \"_\").strip(\"-\")\n",
    "    return re.sub(pattern, \"_\", string)\n",
    "\n"
   ]
  },
  {
   "cell_type": "code",
   "execution_count": 8,
   "metadata": {},
   "outputs": [
    {
     "data": {
      "text/plain": [
       "'asldk_akklaskllakkl_alsdklaksd'"
      ]
     },
     "execution_count": 8,
     "metadata": {},
     "output_type": "execute_result"
    }
   ],
   "source": [
    "string_raw = 'asldk AKKLASKLLAKKL alsdklaksd'\n",
    "\n",
    "stringify_snake_case(string_raw)"
   ]
  },
  {
   "cell_type": "code",
   "execution_count": null,
   "metadata": {},
   "outputs": [],
   "source": []
  }
 ],
 "metadata": {
  "kernelspec": {
   "display_name": "Python 3",
   "language": "python",
   "name": "python3"
  },
  "language_info": {
   "codemirror_mode": {
    "name": "ipython",
    "version": 3
   },
   "file_extension": ".py",
   "mimetype": "text/x-python",
   "name": "python",
   "nbconvert_exporter": "python",
   "pygments_lexer": "ipython3",
   "version": "3.7.6"
  }
 },
 "nbformat": 4,
 "nbformat_minor": 4
}
