{
 "cells": [
  {
   "cell_type": "code",
   "execution_count": null,
   "metadata": {},
   "outputs": [],
   "source": []
  },
  {
   "cell_type": "code",
   "execution_count": 4,
   "metadata": {},
   "outputs": [],
   "source": []
  },
  {
   "cell_type": "code",
   "execution_count": 5,
   "metadata": {},
   "outputs": [],
   "source": []
  },
  {
   "cell_type": "code",
   "execution_count": 6,
   "metadata": {},
   "outputs": [],
   "source": [
    "VATINService.verify('ES', 'A91415221')"
   ]
  },
  {
   "cell_type": "code",
   "execution_count": 3,
   "metadata": {},
   "outputs": [
    {
     "name": "stdout",
     "output_type": "stream",
     "text": [
      "/Users/tm/Projects/vat/webapp_data/test/0/in\n"
     ]
    }
   ],
   "source": []
  },
  {
   "cell_type": "code",
   "execution_count": 4,
   "metadata": {},
   "outputs": [
    {
     "data": {
      "text/plain": [
       "'asldk_akklaskllakkl_alsdklaksd'"
      ]
     },
     "execution_count": 4,
     "metadata": {},
     "output_type": "execute_result"
    }
   ],
   "source": [
    "string_raw = 'asldk AKKLASKLLAKKL alsdklaksd'\n",
    "\n",
    "stringify_snake_case(string_raw)"
   ]
  },
  {
   "cell_type": "code",
   "execution_count": null,
   "metadata": {},
   "outputs": [],
   "source": []
  },
  {
   "cell_type": "code",
   "execution_count": 4,
   "metadata": {},
   "outputs": [],
   "source": [
    "import pandas as pd\n",
    "import os\n",
    "\n",
    "def clean_df(df_raw: pd.DataFrame) -> pd.DataFrame:\n",
    "\n",
    "    df = df_raw.dropna(how='all')\n",
    "    #formatting to handle bad input\n",
    "    df.columns = df.columns.str.strip('')\n",
    "    df.columns = df.columns.str.replace('(,$)|(^,)', '', regex=True) #removes , from both ends of column\n",
    "\n",
    "    return df\n",
    "\n",
    "\n",
    "def read_file_path_into_df(file_path: str, df_encoding: str, delimiter: str) -> pd.DataFrame:\n",
    "        if os.path.isfile(file_path):\n",
    "            file_name = os.path.basename(file_path)\n",
    "            try:\n",
    "                if file_name.lower().endswith('.csv') or file_name.lower().endswith('.txt'):\n",
    "                    df_raw = pd.read_csv(file_path, encoding=df_encoding, delimiter=delimiter)\n",
    "                    df = clean_df(df_raw)\n",
    "\n",
    "                else:\n",
    "                    raise UnsupportedMediaType('File extension invalid (file: {}).'.format(file_name))\n",
    "                return df\n",
    "            except:\n",
    "                raise UnsupportedMediaType('Cannot read file {}.'.format(file_name))\n",
    "\n",
    "        else:\n",
    "            raise  # !!! (not a file)\n",
    "\n",
    "def get_str(df: pd.DataFrame, i: int, column: str) -> str:\n",
    "    try:\n",
    "        string = str(df.iloc[i][column])\n",
    "    except:\n",
    "        raise UnsupportedMediaType('Can not read str format.')\n",
    "    return string\n",
    "\n",
    "def get_index(df, value: str, column_name: str) -> int:\n",
    "    return df[df[column_name]==value].index.values[0]\n",
    "    \n",
    "\n",
    "    "
   ]
  },
  {
   "cell_type": "code",
   "execution_count": 10,
   "metadata": {},
   "outputs": [
    {
     "data": {
      "text/html": [
       "<div>\n",
       "<style scoped>\n",
       "    .dataframe tbody tr th:only-of-type {\n",
       "        vertical-align: middle;\n",
       "    }\n",
       "\n",
       "    .dataframe tbody tr th {\n",
       "        vertical-align: top;\n",
       "    }\n",
       "\n",
       "    .dataframe thead th {\n",
       "        text-align: right;\n",
       "    }\n",
       "</style>\n",
       "<table border=\"1\" class=\"dataframe\">\n",
       "  <thead>\n",
       "    <tr style=\"text-align: right;\">\n",
       "      <th></th>\n",
       "      <th>valid_from</th>\n",
       "      <th>SKU</th>\n",
       "      <th>brand_name</th>\n",
       "      <th>name</th>\n",
       "      <th>ean</th>\n",
       "      <th>asin</th>\n",
       "      <th>fnksu</th>\n",
       "      <th>weight_kg</th>\n",
       "      <th>tax_code</th>\n",
       "      <th>unit_cost_price_currency_code</th>\n",
       "      <th>unit_cost_price_net</th>\n",
       "    </tr>\n",
       "  </thead>\n",
       "  <tbody>\n",
       "    <tr>\n",
       "      <th>0</th>\n",
       "      <td>NaN</td>\n",
       "      <td>NaN</td>\n",
       "      <td>NaN</td>\n",
       "      <td>NaN</td>\n",
       "      <td>NaN</td>\n",
       "      <td>B010B808PM</td>\n",
       "      <td>NaN</td>\n",
       "      <td>NaN</td>\n",
       "      <td>NaN</td>\n",
       "      <td>EUR</td>\n",
       "      <td>1.05</td>\n",
       "    </tr>\n",
       "    <tr>\n",
       "      <th>1</th>\n",
       "      <td>NaN</td>\n",
       "      <td>NaN</td>\n",
       "      <td>NaN</td>\n",
       "      <td>NaN</td>\n",
       "      <td>NaN</td>\n",
       "      <td>B00FWZDZC8</td>\n",
       "      <td>NaN</td>\n",
       "      <td>NaN</td>\n",
       "      <td>NaN</td>\n",
       "      <td>EUR</td>\n",
       "      <td>1.44</td>\n",
       "    </tr>\n",
       "    <tr>\n",
       "      <th>2</th>\n",
       "      <td>NaN</td>\n",
       "      <td>NaN</td>\n",
       "      <td>NaN</td>\n",
       "      <td>NaN</td>\n",
       "      <td>NaN</td>\n",
       "      <td>B01J3U7HTE</td>\n",
       "      <td>NaN</td>\n",
       "      <td>NaN</td>\n",
       "      <td>NaN</td>\n",
       "      <td>EUR</td>\n",
       "      <td>1.72</td>\n",
       "    </tr>\n",
       "    <tr>\n",
       "      <th>3</th>\n",
       "      <td>NaN</td>\n",
       "      <td>NaN</td>\n",
       "      <td>NaN</td>\n",
       "      <td>NaN</td>\n",
       "      <td>NaN</td>\n",
       "      <td>B01G5JF2CK</td>\n",
       "      <td>NaN</td>\n",
       "      <td>NaN</td>\n",
       "      <td>NaN</td>\n",
       "      <td>EUR</td>\n",
       "      <td>2.00</td>\n",
       "    </tr>\n",
       "    <tr>\n",
       "      <th>4</th>\n",
       "      <td>NaN</td>\n",
       "      <td>NaN</td>\n",
       "      <td>NaN</td>\n",
       "      <td>NaN</td>\n",
       "      <td>NaN</td>\n",
       "      <td>B017IV7PMY</td>\n",
       "      <td>NaN</td>\n",
       "      <td>NaN</td>\n",
       "      <td>NaN</td>\n",
       "      <td>EUR</td>\n",
       "      <td>2.07</td>\n",
       "    </tr>\n",
       "  </tbody>\n",
       "</table>\n",
       "</div>"
      ],
      "text/plain": [
       "   valid_from  SKU  brand_name  name  ean        asin  fnksu  weight_kg  \\\n",
       "0         NaN  NaN         NaN   NaN  NaN  B010B808PM    NaN        NaN   \n",
       "1         NaN  NaN         NaN   NaN  NaN  B00FWZDZC8    NaN        NaN   \n",
       "2         NaN  NaN         NaN   NaN  NaN  B01J3U7HTE    NaN        NaN   \n",
       "3         NaN  NaN         NaN   NaN  NaN  B01G5JF2CK    NaN        NaN   \n",
       "4         NaN  NaN         NaN   NaN  NaN  B017IV7PMY    NaN        NaN   \n",
       "\n",
       "   tax_code unit_cost_price_currency_code  unit_cost_price_net  \n",
       "0       NaN                           EUR                 1.05  \n",
       "1       NaN                           EUR                 1.44  \n",
       "2       NaN                           EUR                 1.72  \n",
       "3       NaN                           EUR                 2.00  \n",
       "4       NaN                           EUR                 2.07  "
      ]
     },
     "execution_count": 10,
     "metadata": {},
     "output_type": "execute_result"
    }
   ],
   "source": [
    "file_path = '/Users/tm/Projects/vat/webapp/api/data/test/DEMO/SampleAG/account_information_filled.csv'\n",
    "file_path2 = '/Users/tm/Projects/vat/webapp/api/data/test/GVCTest/JN Imports/item_information.csv'\n",
    "\n",
    "df = read_file_path_into_df(file_path2, df_encoding=\"utf-8\", delimiter=\";\")\n",
    "\n",
    "df.head()"
   ]
  },
  {
   "cell_type": "code",
   "execution_count": 10,
   "metadata": {},
   "outputs": [],
   "source": [
    "from datetime import datetime, date\n",
    "\n",
    "def get_date_or_None(df: pd.DataFrame, i:int, column:str) -> date:\n",
    "        if pd.isnull(df.iloc[i][column]):\n",
    "            return None\n",
    "        else:\n",
    "            try:\n",
    "                date = datetime.strptime(df.iloc[i][column], '%d-%m-%Y').date()\n",
    "            except:\n",
    "                try:\n",
    "                    date = datetime.strptime(df.iloc[i][column], '%d.%m.%Y').date()\n",
    "                except:\n",
    "                    try:\n",
    "                        date = datetime.strptime(df.iloc[i][column], '%d.%m.%y').date()\n",
    "                    except:\n",
    "                        raise UnsupportedMediaType('Can not read date format.')\n",
    "        return date\n",
    "\n",
    "\n",
    "def verify_transaction_order(df, total) -> bool:\n",
    "\n",
    "    complete_date_top = get_date_or_None(df, 0, column='TRANSACTION_COMPLETE_DATE')\n",
    "    complete_date_bottom = get_date_or_None(df, total, column='TRANSACTION_COMPLETE_DATE')\n",
    "    \n",
    "    print('complete_date_top: {} - ')\n",
    "\n",
    "    return complete_date_top >= complete_date_bottom\n",
    "\n"
   ]
  },
  {
   "cell_type": "code",
   "execution_count": 11,
   "metadata": {},
   "outputs": [
    {
     "ename": "TypeError",
     "evalue": "'>=' not supported between instances of 'datetime.date' and 'NoneType'",
     "output_type": "error",
     "traceback": [
      "\u001b[0;31m---------------------------------------------------------------------------\u001b[0m",
      "\u001b[0;31mTypeError\u001b[0m                                 Traceback (most recent call last)",
      "\u001b[0;32m<ipython-input-11-a77dbe62c7f4>\u001b[0m in \u001b[0;36m<module>\u001b[0;34m\u001b[0m\n\u001b[1;32m      1\u001b[0m \u001b[0mtotal\u001b[0m \u001b[0;34m=\u001b[0m \u001b[0mtotal_number_transaction_inputs\u001b[0m \u001b[0;34m=\u001b[0m \u001b[0mlen\u001b[0m\u001b[0;34m(\u001b[0m\u001b[0mdf\u001b[0m\u001b[0;34m.\u001b[0m\u001b[0mindex\u001b[0m\u001b[0;34m)\u001b[0m\u001b[0;34m\u001b[0m\u001b[0;34m\u001b[0m\u001b[0m\n\u001b[0;32m----> 2\u001b[0;31m \u001b[0mdesc\u001b[0m \u001b[0;34m=\u001b[0m \u001b[0mverify_transaction_order\u001b[0m\u001b[0;34m(\u001b[0m\u001b[0mdf\u001b[0m\u001b[0;34m,\u001b[0m \u001b[0mtotal_number_transaction_inputs\u001b[0m\u001b[0;34m-\u001b[0m\u001b[0;36m1\u001b[0m\u001b[0;34m)\u001b[0m\u001b[0;34m\u001b[0m\u001b[0;34m\u001b[0m\u001b[0m\n\u001b[0m\u001b[1;32m      3\u001b[0m \u001b[0mprint\u001b[0m\u001b[0;34m(\u001b[0m\u001b[0;34m'total: {} - desc: {}'\u001b[0m\u001b[0;34m.\u001b[0m\u001b[0mformat\u001b[0m\u001b[0;34m(\u001b[0m\u001b[0mtotal\u001b[0m\u001b[0;34m,\u001b[0m \u001b[0mdesc\u001b[0m\u001b[0;34m)\u001b[0m\u001b[0;34m)\u001b[0m\u001b[0;34m\u001b[0m\u001b[0;34m\u001b[0m\u001b[0m\n",
      "\u001b[0;32m<ipython-input-10-9e8c93597ee2>\u001b[0m in \u001b[0;36mverify_transaction_order\u001b[0;34m(df, total)\u001b[0m\n\u001b[1;32m     23\u001b[0m     \u001b[0mcomplete_date_bottom\u001b[0m \u001b[0;34m=\u001b[0m \u001b[0mget_date_or_None\u001b[0m\u001b[0;34m(\u001b[0m\u001b[0mdf\u001b[0m\u001b[0;34m,\u001b[0m \u001b[0mtotal\u001b[0m\u001b[0;34m,\u001b[0m \u001b[0mcolumn\u001b[0m\u001b[0;34m=\u001b[0m\u001b[0;34m'TRANSACTION_COMPLETE_DATE'\u001b[0m\u001b[0;34m)\u001b[0m\u001b[0;34m\u001b[0m\u001b[0;34m\u001b[0m\u001b[0m\n\u001b[1;32m     24\u001b[0m \u001b[0;34m\u001b[0m\u001b[0m\n\u001b[0;32m---> 25\u001b[0;31m     \u001b[0;32mreturn\u001b[0m \u001b[0mcomplete_date_top\u001b[0m \u001b[0;34m>=\u001b[0m \u001b[0mcomplete_date_bottom\u001b[0m\u001b[0;34m\u001b[0m\u001b[0;34m\u001b[0m\u001b[0m\n\u001b[0m\u001b[1;32m     26\u001b[0m \u001b[0;34m\u001b[0m\u001b[0m\n",
      "\u001b[0;31mTypeError\u001b[0m: '>=' not supported between instances of 'datetime.date' and 'NoneType'"
     ]
    }
   ],
   "source": [
    "total = total_number_transaction_inputs = len(df.index)\n",
    "desc = verify_transaction_order(df, total_number_transaction_inputs-1)\n",
    "print('total: {} - desc: {}'.format(total, desc))"
   ]
  },
  {
   "cell_type": "code",
   "execution_count": 2,
   "metadata": {},
   "outputs": [
    {
     "ename": "NameError",
     "evalue": "name 'df' is not defined",
     "output_type": "error",
     "traceback": [
      "\u001b[0;31m---------------------------------------------------------------------------\u001b[0m",
      "\u001b[0;31mNameError\u001b[0m                                 Traceback (most recent call last)",
      "\u001b[0;32m<ipython-input-2-d157d38f3d24>\u001b[0m in \u001b[0;36m<module>\u001b[0;34m\u001b[0m\n\u001b[0;32m----> 1\u001b[0;31m \u001b[0;32mfor\u001b[0m \u001b[0mi\u001b[0m \u001b[0;32min\u001b[0m \u001b[0mrange\u001b[0m\u001b[0;34m(\u001b[0m\u001b[0mlen\u001b[0m\u001b[0;34m(\u001b[0m\u001b[0mdf\u001b[0m\u001b[0;34m.\u001b[0m\u001b[0mindex\u001b[0m\u001b[0;34m)\u001b[0m\u001b[0;34m)\u001b[0m\u001b[0;34m:\u001b[0m\u001b[0;34m\u001b[0m\u001b[0;34m\u001b[0m\u001b[0m\n\u001b[0m\u001b[1;32m      2\u001b[0m     \u001b[0msku\u001b[0m \u001b[0;34m=\u001b[0m \u001b[0mget_str\u001b[0m\u001b[0;34m(\u001b[0m\u001b[0mdf\u001b[0m\u001b[0;34m,\u001b[0m \u001b[0mi\u001b[0m\u001b[0;34m,\u001b[0m \u001b[0mcolumn\u001b[0m\u001b[0;34m=\u001b[0m\u001b[0;34m\"SELLER_SKU\"\u001b[0m\u001b[0;34m)\u001b[0m\u001b[0;34m\u001b[0m\u001b[0;34m\u001b[0m\u001b[0m\n\u001b[1;32m      3\u001b[0m     \u001b[0mt_type\u001b[0m \u001b[0;34m=\u001b[0m \u001b[0mget_str\u001b[0m\u001b[0;34m(\u001b[0m\u001b[0mdf\u001b[0m\u001b[0;34m,\u001b[0m \u001b[0mi\u001b[0m\u001b[0;34m,\u001b[0m \u001b[0mcolumn\u001b[0m\u001b[0;34m=\u001b[0m\u001b[0;34m\"TRANSACTION_TYPE\"\u001b[0m\u001b[0;34m)\u001b[0m\u001b[0;34m\u001b[0m\u001b[0;34m\u001b[0m\u001b[0m\n\u001b[1;32m      4\u001b[0m     \u001b[0mindexs\u001b[0m \u001b[0;34m=\u001b[0m \u001b[0mget_index\u001b[0m\u001b[0;34m(\u001b[0m\u001b[0mdf2\u001b[0m\u001b[0;34m,\u001b[0m \u001b[0msku\u001b[0m\u001b[0;34m,\u001b[0m \u001b[0mcolumn_name\u001b[0m\u001b[0;34m=\u001b[0m\u001b[0;34m\"SKU\"\u001b[0m\u001b[0;34m)\u001b[0m\u001b[0;34m\u001b[0m\u001b[0;34m\u001b[0m\u001b[0m\n\u001b[1;32m      5\u001b[0m \u001b[0;34m\u001b[0m\u001b[0m\n",
      "\u001b[0;31mNameError\u001b[0m: name 'df' is not defined"
     ]
    }
   ],
   "source": [
    "for i in range(len(df.index)):\n",
    "    sku = get_str(df, i, column=\"SELLER_SKU\")\n",
    "    t_type = get_str(df, i, column=\"TRANSACTION_TYPE\") \n",
    "    indexs = get_index(df2, sku, column_name=\"SKU\")\n",
    "    \n",
    "    price1 = round(float(get_str(df, i, column=\"GIFT_WRAP_AMT_VAT_EXCL\")), 2)\n",
    "    price2 = round(float(get_str(df, i, column=\"GIFT_WRAP_VAT_AMT\")), 2)\n",
    "    price3 = round(float(get_str(df, i, column=\"GIFT_WRAP_AMT_VAT_INCL\")), 2)\n",
    "    \n",
    "    \n",
    "    if round(price1+price2,2) != round(price3,2) and not math.isnan(price1):\n",
    "        print(sku, t_type, round(price1+price2,2), price3)\n",
    "    #if price1 != price2:\n",
    "    #    print(i, sku, indexs, price1, price2)\n",
    "    \n",
    "    \n",
    "    #print(float(price1) * 4 + if price1 != 'nan' else 'nan')\n",
    "    \n",
    "    \"\"\"if t_type == 'FC_TRANSFER' or t_type == 'RETURN':\n",
    "        price = 'nan'\n",
    "    elif t_type == 'REFUND':\n",
    "        price = float(get_str(df2, indexs, column=\"price\"))  * -1\n",
    "    else:\n",
    "        price = get_str(df2, indexs, column=\"price\")\n",
    "        \n",
    "    print(price)\n",
    "    \"\"\"\n"
   ]
  },
  {
   "cell_type": "code",
   "execution_count": 169,
   "metadata": {},
   "outputs": [],
   "source": [
    "\n",
    "\n",
    "import re\n",
    "for i in range(len(df.index)):\n",
    "    value = get_str(df, i, column=\"VAT_INV_NUMBER\")\n",
    "    new_string = re.sub(pattern=r'0(?=.)', string=value, repl=\"1\")\n",
    "    new_string = re.sub(pattern=r'7(?=.)', string=new_string, repl=\"5\") \n",
    "    new_string = re.sub(pattern=r'3(?=.)', string=new_string, repl=\"2\") \n",
    "    new_string = re.sub(pattern=r'8(?=.)', string=new_string, repl=\"7\") \n",
    "    new_string = re.sub(pattern=r'9(?=.)', string=new_string, repl=\"8\") \n",
    "    #new_string = re.sub(pattern=r'D(?=.)', string=new_string, repl=\"E\")\n",
    "    #new_string = re.sub(pattern=r'7', string=value, repl=\"5\")\n",
    "    #new_string = re.sub(pattern=r'3', string=new_string, repl=\"2\")\n",
    "    #new_string = re.sub(pattern=r'31-01', string=new_string, repl=\"01-01\")\n",
    "    #new_string = re.sub(pattern=r'29-01', string=new_string, repl=\"30-01\")\n",
    "\n",
    "    #print(new_string)\n",
    "\n"
   ]
  },
  {
   "cell_type": "code",
   "execution_count": 227,
   "metadata": {},
   "outputs": [
    {
     "data": {
      "text/plain": [
       "0.18749999999999997"
      ]
     },
     "execution_count": 227,
     "metadata": {},
     "output_type": "execute_result"
    }
   ],
   "source": [
    "0.21/1.12"
   ]
  },
  {
   "cell_type": "code",
   "execution_count": 226,
   "metadata": {},
   "outputs": [
    {
     "data": {
      "text/plain": [
       "0.191044776119403"
      ]
     },
     "execution_count": 226,
     "metadata": {},
     "output_type": "execute_result"
    }
   ],
   "source": [
    "0.64/3.35"
   ]
  },
  {
   "cell_type": "code",
   "execution_count": 239,
   "metadata": {},
   "outputs": [
    {
     "data": {
      "text/plain": [
       "24.55"
      ]
     },
     "execution_count": 239,
     "metadata": {},
     "output_type": "execute_result"
    }
   ],
   "source": [
    "29.5-4.95"
   ]
  },
  {
   "cell_type": "code",
   "execution_count": 240,
   "metadata": {},
   "outputs": [
    {
     "data": {
      "text/plain": [
       "-29.5"
      ]
     },
     "execution_count": 240,
     "metadata": {},
     "output_type": "execute_result"
    }
   ],
   "source": [
    "-24.79-4.71"
   ]
  },
  {
   "cell_type": "code",
   "execution_count": null,
   "metadata": {},
   "outputs": [],
   "source": []
  }
 ],
 "metadata": {
  "kernelspec": {
   "display_name": "Python 3",
   "language": "python",
   "name": "python3"
  },
  "language_info": {
   "codemirror_mode": {
    "name": "ipython",
    "version": 3
   },
   "file_extension": ".py",
   "mimetype": "text/x-python",
   "name": "python",
   "nbconvert_exporter": "python",
   "pygments_lexer": "ipython3",
   "version": "3.7.3"
  }
 },
 "nbformat": 4,
 "nbformat_minor": 4
}
