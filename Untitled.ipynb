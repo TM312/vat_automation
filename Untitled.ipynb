{
 "cells": [
  {
   "cell_type": "code",
   "execution_count": null,
   "metadata": {},
   "outputs": [],
   "source": [
    "@staticmethod\n",
    "    def move_data_to_file_type(file_path_tbd: str, file_type: str, **kwargs):\n",
    "\n",
    "        \"\"\"\n",
    "        kwargs takes 'seller_firm_id' as an argument to determine the seller firm specific path\n",
    "        \"\"\"\n",
    "        basepath = current_app.config.BASE_PATH_BUSINESS_DATA\n",
    "\n",
    "        basepath_tbd = os.path.join(basepath, 'tbd')\n",
    "        basepath_file_type = os.path.join(basepath, file_type, 'in')\n",
    "        os.makedirs(basepath_file_type, exist_ok=True)\n",
    "\n",
    "        file_name = os.path.basename(file_path_tbd)\n",
    "        file_path_file_type = os.path.join(basepath_file_type, file_name)\n",
    "        try:\n",
    "            shutil.move(file_path_tbd, file_path_file_type)\n",
    "            return file_path_file_type\n",
    "        except:\n",
    "            raise"
   ]
  },
  {
   "cell_type": "code",
   "execution_count": null,
   "metadata": {},
   "outputs": [],
   "source": []
  },
  {
   "cell_type": "code",
   "execution_count": 3,
   "metadata": {},
   "outputs": [
    {
     "name": "stdout",
     "output_type": "stream",
     "text": [
      "/Users/tm/Projects/vat/webapp_data/test/0/in\n"
     ]
    }
   ],
   "source": [
    "import os\n",
    "basepath = '/Users/tm/Projects/vat/webapp_data/test'\n",
    "seller_firm_id = 0\n",
    "basepath_in = os.path.join(basepath, str(seller_firm_id), 'in')\n",
    "print(basepath_in)\n",
    "\n",
    "os.makedirs(basepath_in, exist_ok=True)\n",
    "\n",
    "\n",
    "\n",
    "def stringify_snake_case(string_raw: str) -> str:\n",
    "    import re\n",
    "    pattern = re.compile(r'-{2,}')\n",
    "    #https://stackoverflow.com/questions/23996118/replace-special-characters-in-a-string-python\n",
    "    string = string_raw.lower().translate(\n",
    "        {ord(c): \" \" for c in \"!@#$%^&*()[]{};:,./<>?\\|`~-=-+\"}).replace(\" \", \"_\").strip(\"-\")\n",
    "    return re.sub(pattern, \"_\", string)\n",
    "\n"
   ]
  },
  {
   "cell_type": "code",
   "execution_count": 4,
   "metadata": {},
   "outputs": [
    {
     "data": {
      "text/plain": [
       "'asldk_akklaskllakkl_alsdklaksd'"
      ]
     },
     "execution_count": 4,
     "metadata": {},
     "output_type": "execute_result"
    }
   ],
   "source": [
    "string_raw = 'asldk AKKLASKLLAKKL alsdklaksd'\n",
    "\n",
    "stringify_snake_case(string_raw)"
   ]
  },
  {
   "cell_type": "code",
   "execution_count": null,
   "metadata": {},
   "outputs": [],
   "source": []
  },
  {
   "cell_type": "code",
   "execution_count": 4,
   "metadata": {},
   "outputs": [],
   "source": [
    "import pandas as pd\n",
    "import os\n",
    "\n",
    "def clean_df(df_raw: pd.DataFrame) -> pd.DataFrame:\n",
    "\n",
    "    df = df_raw.dropna(how='all')\n",
    "    #formatting to handle bad input\n",
    "    df.columns = df.columns.str.strip('')\n",
    "    df.columns = df.columns.str.replace('(,$)|(^,)', '', regex=True) #removes , from both ends of column\n",
    "\n",
    "    return df\n",
    "\n",
    "\n",
    "def read_file_path_into_df(file_path: str, df_encoding: str, delimiter: str) -> pd.DataFrame:\n",
    "        if os.path.isfile(file_path):\n",
    "            file_name = os.path.basename(file_path)\n",
    "            try:\n",
    "                if file_name.lower().endswith('.csv') or file_name.lower().endswith('.txt'):\n",
    "                    df_raw = pd.read_csv(file_path, encoding=df_encoding, delimiter=delimiter)\n",
    "                    df = clean_df(df_raw)\n",
    "\n",
    "                else:\n",
    "                    raise UnsupportedMediaType('File extension invalid (file: {}).'.format(file_name))\n",
    "                return df\n",
    "            except:\n",
    "                raise UnsupportedMediaType('Cannot read file {}.'.format(file_name))\n",
    "\n",
    "        else:\n",
    "            raise  # !!! (not a file)\n",
    "\n",
    "def get_str(df: pd.DataFrame, i: int, column: str) -> str:\n",
    "    try:\n",
    "        string = str(df.iloc[i][column])\n",
    "    except:\n",
    "        raise UnsupportedMediaType('Can not read str format.')\n",
    "    return string\n",
    "\n",
    "def get_index(df, value: str, column_name: str) -> int:\n",
    "    return df[df[column_name]==value].index.values[0]\n",
    "    \n",
    "\n",
    "    \n",
    "file_path = '/Users/tm/Projects/vat/webapp/api/seeds/sample_seller_firm/Bond_Store_Ltd/transactions/Sales Tax Transaction Report_MBOND-2020-01.csv'\n",
    "\n",
    "df = read_file_path_into_df(file_path, df_encoding=\"utf-8\", delimiter=\",\")\n"
   ]
  },
  {
   "cell_type": "code",
   "execution_count": 5,
   "metadata": {},
   "outputs": [
    {
     "data": {
      "text/html": [
       "<div>\n",
       "<style scoped>\n",
       "    .dataframe tbody tr th:only-of-type {\n",
       "        vertical-align: middle;\n",
       "    }\n",
       "\n",
       "    .dataframe tbody tr th {\n",
       "        vertical-align: top;\n",
       "    }\n",
       "\n",
       "    .dataframe thead th {\n",
       "        text-align: right;\n",
       "    }\n",
       "</style>\n",
       "<table border=\"1\" class=\"dataframe\">\n",
       "  <thead>\n",
       "    <tr style=\"text-align: right;\">\n",
       "      <th></th>\n",
       "      <th>UNIQUE_ACCOUNT_IDENTIFIER</th>\n",
       "      <th>ACTIVITY_PERIOD</th>\n",
       "      <th>SALES_CHANNEL</th>\n",
       "      <th>MARKETPLACE</th>\n",
       "      <th>TRANSACTION_TYPE</th>\n",
       "      <th>TRANSACTION_EVENT_ID</th>\n",
       "      <th>ACTIVITY_TRANSACTION_ID</th>\n",
       "      <th>TAX_CALCULATION_DATE</th>\n",
       "      <th>TRANSACTION_DEPART_DATE</th>\n",
       "      <th>TRANSACTION_ARRIVAL_DATE</th>\n",
       "      <th>...</th>\n",
       "      <th>VAT_INV_CONVERTED_AMT</th>\n",
       "      <th>VAT_INV_CURRENCY_CODE</th>\n",
       "      <th>VAT_INV_EXCHANGE_RATE</th>\n",
       "      <th>VAT_INV_EXCHANGE_RATE_DATE</th>\n",
       "      <th>EXPORT_OUTSIDE_EU</th>\n",
       "      <th>INVOICE_URL</th>\n",
       "      <th>BUYER_NAME</th>\n",
       "      <th>ARRIVAL_ADDRESS</th>\n",
       "      <th>SUPPLIER_NAME</th>\n",
       "      <th>SUPPLIER_VAT_NUMBER</th>\n",
       "    </tr>\n",
       "  </thead>\n",
       "  <tbody>\n",
       "    <tr>\n",
       "      <th>0</th>\n",
       "      <td>A2SB1NLSCTA007</td>\n",
       "      <td>2020-JAN</td>\n",
       "      <td>AFN</td>\n",
       "      <td>NaN</td>\n",
       "      <td>FC_TRANSFER</td>\n",
       "      <td>4771817619</td>\n",
       "      <td>4771817619</td>\n",
       "      <td>NaN</td>\n",
       "      <td>28-01-2020</td>\n",
       "      <td>30-01-2020</td>\n",
       "      <td>...</td>\n",
       "      <td>NaN</td>\n",
       "      <td>NaN</td>\n",
       "      <td>NaN</td>\n",
       "      <td>NaN</td>\n",
       "      <td>NaN</td>\n",
       "      <td>NaN</td>\n",
       "      <td>NaN</td>\n",
       "      <td>NaN</td>\n",
       "      <td>NaN</td>\n",
       "      <td>NaN</td>\n",
       "    </tr>\n",
       "    <tr>\n",
       "      <th>1</th>\n",
       "      <td>A2SB1NLSCTA008</td>\n",
       "      <td>2020-JAN</td>\n",
       "      <td>AFN</td>\n",
       "      <td>amazon.de</td>\n",
       "      <td>SALE</td>\n",
       "      <td>214-1448457-2676716</td>\n",
       "      <td>EC6kv22rs</td>\n",
       "      <td>30-01-2020</td>\n",
       "      <td>30-01-2020</td>\n",
       "      <td>NaN</td>\n",
       "      <td>...</td>\n",
       "      <td>NaN</td>\n",
       "      <td>NaN</td>\n",
       "      <td>NaN</td>\n",
       "      <td>NaN</td>\n",
       "      <td>NO</td>\n",
       "      <td>NaN</td>\n",
       "      <td>NaN</td>\n",
       "      <td>NaN</td>\n",
       "      <td>NaN</td>\n",
       "      <td>NaN</td>\n",
       "    </tr>\n",
       "    <tr>\n",
       "      <th>2</th>\n",
       "      <td>A2SB1NLSCTA009</td>\n",
       "      <td>2020-JAN</td>\n",
       "      <td>AFN</td>\n",
       "      <td>amazon.de</td>\n",
       "      <td>SALE</td>\n",
       "      <td>212-6864247-8482824</td>\n",
       "      <td>EJlGV5lQM</td>\n",
       "      <td>30-01-2020</td>\n",
       "      <td>30-01-2020</td>\n",
       "      <td>NaN</td>\n",
       "      <td>...</td>\n",
       "      <td>NaN</td>\n",
       "      <td>NaN</td>\n",
       "      <td>NaN</td>\n",
       "      <td>NaN</td>\n",
       "      <td>NO</td>\n",
       "      <td>NaN</td>\n",
       "      <td>NaN</td>\n",
       "      <td>NaN</td>\n",
       "      <td>NaN</td>\n",
       "      <td>NaN</td>\n",
       "    </tr>\n",
       "    <tr>\n",
       "      <th>3</th>\n",
       "      <td>A2SB1NLSCTA010</td>\n",
       "      <td>2020-JAN</td>\n",
       "      <td>AFN</td>\n",
       "      <td>amazon.de</td>\n",
       "      <td>SALE</td>\n",
       "      <td>212-5267511-7218525</td>\n",
       "      <td>EJ58HphVF</td>\n",
       "      <td>30-01-2020</td>\n",
       "      <td>30-01-2020</td>\n",
       "      <td>NaN</td>\n",
       "      <td>...</td>\n",
       "      <td>NaN</td>\n",
       "      <td>NaN</td>\n",
       "      <td>NaN</td>\n",
       "      <td>NaN</td>\n",
       "      <td>NO</td>\n",
       "      <td>NaN</td>\n",
       "      <td>NaN</td>\n",
       "      <td>NaN</td>\n",
       "      <td>NaN</td>\n",
       "      <td>NaN</td>\n",
       "    </tr>\n",
       "    <tr>\n",
       "      <th>4</th>\n",
       "      <td>A2SB1NLSCTA011</td>\n",
       "      <td>2020-JAN</td>\n",
       "      <td>AFN</td>\n",
       "      <td>amazon.de</td>\n",
       "      <td>SALE</td>\n",
       "      <td>216-6177411-2584759</td>\n",
       "      <td>EJYWnBFWc</td>\n",
       "      <td>30-01-2020</td>\n",
       "      <td>30-01-2020</td>\n",
       "      <td>NaN</td>\n",
       "      <td>...</td>\n",
       "      <td>NaN</td>\n",
       "      <td>NaN</td>\n",
       "      <td>NaN</td>\n",
       "      <td>NaN</td>\n",
       "      <td>NO</td>\n",
       "      <td>NaN</td>\n",
       "      <td>NaN</td>\n",
       "      <td>NaN</td>\n",
       "      <td>NaN</td>\n",
       "      <td>NaN</td>\n",
       "    </tr>\n",
       "  </tbody>\n",
       "</table>\n",
       "<p>5 rows × 92 columns</p>\n",
       "</div>"
      ],
      "text/plain": [
       "  UNIQUE_ACCOUNT_IDENTIFIER ACTIVITY_PERIOD SALES_CHANNEL MARKETPLACE  \\\n",
       "0            A2SB1NLSCTA007        2020-JAN           AFN         NaN   \n",
       "1            A2SB1NLSCTA008        2020-JAN           AFN   amazon.de   \n",
       "2            A2SB1NLSCTA009        2020-JAN           AFN   amazon.de   \n",
       "3            A2SB1NLSCTA010        2020-JAN           AFN   amazon.de   \n",
       "4            A2SB1NLSCTA011        2020-JAN           AFN   amazon.de   \n",
       "\n",
       "  TRANSACTION_TYPE TRANSACTION_EVENT_ID ACTIVITY_TRANSACTION_ID  \\\n",
       "0      FC_TRANSFER           4771817619              4771817619   \n",
       "1             SALE  214-1448457-2676716               EC6kv22rs   \n",
       "2             SALE  212-6864247-8482824               EJlGV5lQM   \n",
       "3             SALE  212-5267511-7218525               EJ58HphVF   \n",
       "4             SALE  216-6177411-2584759               EJYWnBFWc   \n",
       "\n",
       "  TAX_CALCULATION_DATE TRANSACTION_DEPART_DATE TRANSACTION_ARRIVAL_DATE  ...  \\\n",
       "0                  NaN              28-01-2020               30-01-2020  ...   \n",
       "1           30-01-2020              30-01-2020                      NaN  ...   \n",
       "2           30-01-2020              30-01-2020                      NaN  ...   \n",
       "3           30-01-2020              30-01-2020                      NaN  ...   \n",
       "4           30-01-2020              30-01-2020                      NaN  ...   \n",
       "\n",
       "  VAT_INV_CONVERTED_AMT VAT_INV_CURRENCY_CODE VAT_INV_EXCHANGE_RATE  \\\n",
       "0                   NaN                   NaN                   NaN   \n",
       "1                   NaN                   NaN                   NaN   \n",
       "2                   NaN                   NaN                   NaN   \n",
       "3                   NaN                   NaN                   NaN   \n",
       "4                   NaN                   NaN                   NaN   \n",
       "\n",
       "  VAT_INV_EXCHANGE_RATE_DATE  EXPORT_OUTSIDE_EU  INVOICE_URL  BUYER_NAME  \\\n",
       "0                        NaN                NaN          NaN         NaN   \n",
       "1                        NaN                 NO          NaN         NaN   \n",
       "2                        NaN                 NO          NaN         NaN   \n",
       "3                        NaN                 NO          NaN         NaN   \n",
       "4                        NaN                 NO          NaN         NaN   \n",
       "\n",
       "   ARRIVAL_ADDRESS  SUPPLIER_NAME  SUPPLIER_VAT_NUMBER  \n",
       "0              NaN            NaN                  NaN  \n",
       "1              NaN            NaN                  NaN  \n",
       "2              NaN            NaN                  NaN  \n",
       "3              NaN            NaN                  NaN  \n",
       "4              NaN            NaN                  NaN  \n",
       "\n",
       "[5 rows x 92 columns]"
      ]
     },
     "execution_count": 5,
     "metadata": {},
     "output_type": "execute_result"
    }
   ],
   "source": [
    "df.head()"
   ]
  },
  {
   "cell_type": "code",
   "execution_count": 10,
   "metadata": {},
   "outputs": [],
   "source": [
    "from datetime import datetime, date\n",
    "\n",
    "def get_date_or_None(df: pd.DataFrame, i:int, column:str) -> date:\n",
    "        if pd.isnull(df.iloc[i][column]):\n",
    "            return None\n",
    "        else:\n",
    "            try:\n",
    "                date = datetime.strptime(df.iloc[i][column], '%d-%m-%Y').date()\n",
    "            except:\n",
    "                try:\n",
    "                    date = datetime.strptime(df.iloc[i][column], '%d.%m.%Y').date()\n",
    "                except:\n",
    "                    try:\n",
    "                        date = datetime.strptime(df.iloc[i][column], '%d.%m.%y').date()\n",
    "                    except:\n",
    "                        raise UnsupportedMediaType('Can not read date format.')\n",
    "        return date\n",
    "\n",
    "\n",
    "def verify_transaction_order(df, total) -> bool:\n",
    "\n",
    "    complete_date_top = get_date_or_None(df, 0, column='TRANSACTION_COMPLETE_DATE')\n",
    "    complete_date_bottom = get_date_or_None(df, total, column='TRANSACTION_COMPLETE_DATE')\n",
    "    \n",
    "    print('complete_date_top: {} - ')\n",
    "\n",
    "    return complete_date_top >= complete_date_bottom\n",
    "\n"
   ]
  },
  {
   "cell_type": "code",
   "execution_count": 11,
   "metadata": {},
   "outputs": [
    {
     "ename": "TypeError",
     "evalue": "'>=' not supported between instances of 'datetime.date' and 'NoneType'",
     "output_type": "error",
     "traceback": [
      "\u001b[0;31m---------------------------------------------------------------------------\u001b[0m",
      "\u001b[0;31mTypeError\u001b[0m                                 Traceback (most recent call last)",
      "\u001b[0;32m<ipython-input-11-a77dbe62c7f4>\u001b[0m in \u001b[0;36m<module>\u001b[0;34m\u001b[0m\n\u001b[1;32m      1\u001b[0m \u001b[0mtotal\u001b[0m \u001b[0;34m=\u001b[0m \u001b[0mtotal_number_transaction_inputs\u001b[0m \u001b[0;34m=\u001b[0m \u001b[0mlen\u001b[0m\u001b[0;34m(\u001b[0m\u001b[0mdf\u001b[0m\u001b[0;34m.\u001b[0m\u001b[0mindex\u001b[0m\u001b[0;34m)\u001b[0m\u001b[0;34m\u001b[0m\u001b[0;34m\u001b[0m\u001b[0m\n\u001b[0;32m----> 2\u001b[0;31m \u001b[0mdesc\u001b[0m \u001b[0;34m=\u001b[0m \u001b[0mverify_transaction_order\u001b[0m\u001b[0;34m(\u001b[0m\u001b[0mdf\u001b[0m\u001b[0;34m,\u001b[0m \u001b[0mtotal_number_transaction_inputs\u001b[0m\u001b[0;34m-\u001b[0m\u001b[0;36m1\u001b[0m\u001b[0;34m)\u001b[0m\u001b[0;34m\u001b[0m\u001b[0;34m\u001b[0m\u001b[0m\n\u001b[0m\u001b[1;32m      3\u001b[0m \u001b[0mprint\u001b[0m\u001b[0;34m(\u001b[0m\u001b[0;34m'total: {} - desc: {}'\u001b[0m\u001b[0;34m.\u001b[0m\u001b[0mformat\u001b[0m\u001b[0;34m(\u001b[0m\u001b[0mtotal\u001b[0m\u001b[0;34m,\u001b[0m \u001b[0mdesc\u001b[0m\u001b[0;34m)\u001b[0m\u001b[0;34m)\u001b[0m\u001b[0;34m\u001b[0m\u001b[0;34m\u001b[0m\u001b[0m\n",
      "\u001b[0;32m<ipython-input-10-9e8c93597ee2>\u001b[0m in \u001b[0;36mverify_transaction_order\u001b[0;34m(df, total)\u001b[0m\n\u001b[1;32m     23\u001b[0m     \u001b[0mcomplete_date_bottom\u001b[0m \u001b[0;34m=\u001b[0m \u001b[0mget_date_or_None\u001b[0m\u001b[0;34m(\u001b[0m\u001b[0mdf\u001b[0m\u001b[0;34m,\u001b[0m \u001b[0mtotal\u001b[0m\u001b[0;34m,\u001b[0m \u001b[0mcolumn\u001b[0m\u001b[0;34m=\u001b[0m\u001b[0;34m'TRANSACTION_COMPLETE_DATE'\u001b[0m\u001b[0;34m)\u001b[0m\u001b[0;34m\u001b[0m\u001b[0;34m\u001b[0m\u001b[0m\n\u001b[1;32m     24\u001b[0m \u001b[0;34m\u001b[0m\u001b[0m\n\u001b[0;32m---> 25\u001b[0;31m     \u001b[0;32mreturn\u001b[0m \u001b[0mcomplete_date_top\u001b[0m \u001b[0;34m>=\u001b[0m \u001b[0mcomplete_date_bottom\u001b[0m\u001b[0;34m\u001b[0m\u001b[0;34m\u001b[0m\u001b[0m\n\u001b[0m\u001b[1;32m     26\u001b[0m \u001b[0;34m\u001b[0m\u001b[0m\n",
      "\u001b[0;31mTypeError\u001b[0m: '>=' not supported between instances of 'datetime.date' and 'NoneType'"
     ]
    }
   ],
   "source": [
    "total = total_number_transaction_inputs = len(df.index)\n",
    "desc = verify_transaction_order(df, total_number_transaction_inputs-1)\n",
    "print('total: {} - desc: {}'.format(total, desc))"
   ]
  },
  {
   "cell_type": "code",
   "execution_count": 2,
   "metadata": {},
   "outputs": [
    {
     "ename": "NameError",
     "evalue": "name 'df' is not defined",
     "output_type": "error",
     "traceback": [
      "\u001b[0;31m---------------------------------------------------------------------------\u001b[0m",
      "\u001b[0;31mNameError\u001b[0m                                 Traceback (most recent call last)",
      "\u001b[0;32m<ipython-input-2-d157d38f3d24>\u001b[0m in \u001b[0;36m<module>\u001b[0;34m\u001b[0m\n\u001b[0;32m----> 1\u001b[0;31m \u001b[0;32mfor\u001b[0m \u001b[0mi\u001b[0m \u001b[0;32min\u001b[0m \u001b[0mrange\u001b[0m\u001b[0;34m(\u001b[0m\u001b[0mlen\u001b[0m\u001b[0;34m(\u001b[0m\u001b[0mdf\u001b[0m\u001b[0;34m.\u001b[0m\u001b[0mindex\u001b[0m\u001b[0;34m)\u001b[0m\u001b[0;34m)\u001b[0m\u001b[0;34m:\u001b[0m\u001b[0;34m\u001b[0m\u001b[0;34m\u001b[0m\u001b[0m\n\u001b[0m\u001b[1;32m      2\u001b[0m     \u001b[0msku\u001b[0m \u001b[0;34m=\u001b[0m \u001b[0mget_str\u001b[0m\u001b[0;34m(\u001b[0m\u001b[0mdf\u001b[0m\u001b[0;34m,\u001b[0m \u001b[0mi\u001b[0m\u001b[0;34m,\u001b[0m \u001b[0mcolumn\u001b[0m\u001b[0;34m=\u001b[0m\u001b[0;34m\"SELLER_SKU\"\u001b[0m\u001b[0;34m)\u001b[0m\u001b[0;34m\u001b[0m\u001b[0;34m\u001b[0m\u001b[0m\n\u001b[1;32m      3\u001b[0m     \u001b[0mt_type\u001b[0m \u001b[0;34m=\u001b[0m \u001b[0mget_str\u001b[0m\u001b[0;34m(\u001b[0m\u001b[0mdf\u001b[0m\u001b[0;34m,\u001b[0m \u001b[0mi\u001b[0m\u001b[0;34m,\u001b[0m \u001b[0mcolumn\u001b[0m\u001b[0;34m=\u001b[0m\u001b[0;34m\"TRANSACTION_TYPE\"\u001b[0m\u001b[0;34m)\u001b[0m\u001b[0;34m\u001b[0m\u001b[0;34m\u001b[0m\u001b[0m\n\u001b[1;32m      4\u001b[0m     \u001b[0mindexs\u001b[0m \u001b[0;34m=\u001b[0m \u001b[0mget_index\u001b[0m\u001b[0;34m(\u001b[0m\u001b[0mdf2\u001b[0m\u001b[0;34m,\u001b[0m \u001b[0msku\u001b[0m\u001b[0;34m,\u001b[0m \u001b[0mcolumn_name\u001b[0m\u001b[0;34m=\u001b[0m\u001b[0;34m\"SKU\"\u001b[0m\u001b[0;34m)\u001b[0m\u001b[0;34m\u001b[0m\u001b[0;34m\u001b[0m\u001b[0m\n\u001b[1;32m      5\u001b[0m \u001b[0;34m\u001b[0m\u001b[0m\n",
      "\u001b[0;31mNameError\u001b[0m: name 'df' is not defined"
     ]
    }
   ],
   "source": [
    "for i in range(len(df.index)):\n",
    "    sku = get_str(df, i, column=\"SELLER_SKU\")\n",
    "    t_type = get_str(df, i, column=\"TRANSACTION_TYPE\") \n",
    "    indexs = get_index(df2, sku, column_name=\"SKU\")\n",
    "    \n",
    "    price1 = round(float(get_str(df, i, column=\"GIFT_WRAP_AMT_VAT_EXCL\")), 2)\n",
    "    price2 = round(float(get_str(df, i, column=\"GIFT_WRAP_VAT_AMT\")), 2)\n",
    "    price3 = round(float(get_str(df, i, column=\"GIFT_WRAP_AMT_VAT_INCL\")), 2)\n",
    "    \n",
    "    \n",
    "    if round(price1+price2,2) != round(price3,2) and not math.isnan(price1):\n",
    "        print(sku, t_type, round(price1+price2,2), price3)\n",
    "    #if price1 != price2:\n",
    "    #    print(i, sku, indexs, price1, price2)\n",
    "    \n",
    "    \n",
    "    #print(float(price1) * 4 + if price1 != 'nan' else 'nan')\n",
    "    \n",
    "    \"\"\"if t_type == 'FC_TRANSFER' or t_type == 'RETURN':\n",
    "        price = 'nan'\n",
    "    elif t_type == 'REFUND':\n",
    "        price = float(get_str(df2, indexs, column=\"price\"))  * -1\n",
    "    else:\n",
    "        price = get_str(df2, indexs, column=\"price\")\n",
    "        \n",
    "    print(price)\n",
    "    \"\"\"\n"
   ]
  },
  {
   "cell_type": "code",
   "execution_count": 169,
   "metadata": {},
   "outputs": [],
   "source": [
    "\n",
    "\n",
    "import re\n",
    "for i in range(len(df.index)):\n",
    "    value = get_str(df, i, column=\"VAT_INV_NUMBER\")\n",
    "    new_string = re.sub(pattern=r'0(?=.)', string=value, repl=\"1\")\n",
    "    new_string = re.sub(pattern=r'7(?=.)', string=new_string, repl=\"5\") \n",
    "    new_string = re.sub(pattern=r'3(?=.)', string=new_string, repl=\"2\") \n",
    "    new_string = re.sub(pattern=r'8(?=.)', string=new_string, repl=\"7\") \n",
    "    new_string = re.sub(pattern=r'9(?=.)', string=new_string, repl=\"8\") \n",
    "    #new_string = re.sub(pattern=r'D(?=.)', string=new_string, repl=\"E\")\n",
    "    #new_string = re.sub(pattern=r'7', string=value, repl=\"5\")\n",
    "    #new_string = re.sub(pattern=r'3', string=new_string, repl=\"2\")\n",
    "    #new_string = re.sub(pattern=r'31-01', string=new_string, repl=\"01-01\")\n",
    "    #new_string = re.sub(pattern=r'29-01', string=new_string, repl=\"30-01\")\n",
    "\n",
    "    #print(new_string)\n",
    "\n"
   ]
  },
  {
   "cell_type": "code",
   "execution_count": 227,
   "metadata": {},
   "outputs": [
    {
     "data": {
      "text/plain": [
       "0.18749999999999997"
      ]
     },
     "execution_count": 227,
     "metadata": {},
     "output_type": "execute_result"
    }
   ],
   "source": [
    "0.21/1.12"
   ]
  },
  {
   "cell_type": "code",
   "execution_count": 226,
   "metadata": {},
   "outputs": [
    {
     "data": {
      "text/plain": [
       "0.191044776119403"
      ]
     },
     "execution_count": 226,
     "metadata": {},
     "output_type": "execute_result"
    }
   ],
   "source": [
    "0.64/3.35"
   ]
  },
  {
   "cell_type": "code",
   "execution_count": 239,
   "metadata": {},
   "outputs": [
    {
     "data": {
      "text/plain": [
       "24.55"
      ]
     },
     "execution_count": 239,
     "metadata": {},
     "output_type": "execute_result"
    }
   ],
   "source": [
    "29.5-4.95"
   ]
  },
  {
   "cell_type": "code",
   "execution_count": 240,
   "metadata": {},
   "outputs": [
    {
     "data": {
      "text/plain": [
       "-29.5"
      ]
     },
     "execution_count": 240,
     "metadata": {},
     "output_type": "execute_result"
    }
   ],
   "source": [
    "-24.79-4.71"
   ]
  },
  {
   "cell_type": "code",
   "execution_count": null,
   "metadata": {},
   "outputs": [],
   "source": []
  }
 ],
 "metadata": {
  "kernelspec": {
   "display_name": "Python 3",
   "language": "python",
   "name": "python3"
  },
  "language_info": {
   "codemirror_mode": {
    "name": "ipython",
    "version": 3
   },
   "file_extension": ".py",
   "mimetype": "text/x-python",
   "name": "python",
   "nbconvert_exporter": "python",
   "pygments_lexer": "ipython3",
   "version": "3.7.6"
  }
 },
 "nbformat": 4,
 "nbformat_minor": 4
}
