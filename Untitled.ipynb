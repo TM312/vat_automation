{
 "cells": [
  {
   "cell_type": "code",
   "execution_count": null,
   "metadata": {},
   "outputs": [],
   "source": [
    "@staticmethod\n",
    "    def move_data_to_file_type(file_path_tbd: str, file_type: str, **kwargs):\n",
    "\n",
    "        \"\"\"\n",
    "        kwargs takes 'seller_firm_id' as an argument to determine the seller firm specific path\n",
    "        \"\"\"\n",
    "        basepath = current_app.config.BASE_PATH_BUSINESS_DATA\n",
    "\n",
    "        basepath_tbd = os.path.join(basepath, 'tbd')\n",
    "        basepath_file_type = os.path.join(basepath, file_type, 'in')\n",
    "        os.makedirs(basepath_file_type, exist_ok=True)\n",
    "\n",
    "        file_name = os.path.basename(file_path_tbd)\n",
    "        file_path_file_type = os.path.join(basepath_file_type, file_name)\n",
    "        try:\n",
    "            shutil.move(file_path_tbd, file_path_file_type)\n",
    "            return file_path_file_type\n",
    "        except:\n",
    "            raise"
   ]
  },
  {
   "cell_type": "code",
   "execution_count": 3,
   "metadata": {},
   "outputs": [
    {
     "name": "stdout",
     "output_type": "stream",
     "text": [
      "/Users/tm/Projects/vat/webapp_data/test/0/in\n"
     ]
    }
   ],
   "source": [
    "import os\n",
    "basepath = '/Users/tm/Projects/vat/webapp_data/test'\n",
    "seller_firm_id = 0\n",
    "basepath_in = os.path.join(basepath, str(seller_firm_id), 'in')\n",
    "print(basepath_in)\n",
    "\n",
    "os.makedirs(basepath_in, exist_ok=True)\n",
    "\n",
    "\n",
    "\n",
    "def stringify_snake_case(string_raw: str) -> str:\n",
    "    import re\n",
    "    pattern = re.compile(r'-{2,}')\n",
    "    #https://stackoverflow.com/questions/23996118/replace-special-characters-in-a-string-python\n",
    "    string = string_raw.lower().translate(\n",
    "        {ord(c): \" \" for c in \"!@#$%^&*()[]{};:,./<>?\\|`~-=-+\"}).replace(\" \", \"_\").strip(\"-\")\n",
    "    return re.sub(pattern, \"_\", string)\n",
    "\n"
   ]
  },
  {
   "cell_type": "code",
   "execution_count": 4,
   "metadata": {},
   "outputs": [
    {
     "data": {
      "text/plain": [
       "'asldk_akklaskllakkl_alsdklaksd'"
      ]
     },
     "execution_count": 4,
     "metadata": {},
     "output_type": "execute_result"
    }
   ],
   "source": [
    "string_raw = 'asldk AKKLASKLLAKKL alsdklaksd'\n",
    "\n",
    "stringify_snake_case(string_raw)"
   ]
  },
  {
   "cell_type": "code",
   "execution_count": null,
   "metadata": {},
   "outputs": [],
   "source": []
  },
  {
   "cell_type": "code",
   "execution_count": 21,
   "metadata": {},
   "outputs": [],
   "source": [
    "import pandas as pd\n",
    "import os\n",
    "\n",
    "def clean_df(df_raw: pd.DataFrame) -> pd.DataFrame:\n",
    "\n",
    "    df = df_raw.dropna(how='all')\n",
    "    #formatting to handle bad input\n",
    "    df.columns = df.columns.str.strip('')\n",
    "    df.columns = df.columns.str.replace('(,$)|(^,)', '', regex=True) #removes , from both ends of column\n",
    "\n",
    "    return df\n",
    "\n",
    "\n",
    "def read_file_path_into_df(file_path: str, df_encoding: str, delimiter: str) -> pd.DataFrame:\n",
    "        if os.path.isfile(file_path):\n",
    "            file_name = os.path.basename(file_path)\n",
    "            try:\n",
    "                if file_name.lower().endswith('.csv') or file_name.lower().endswith('.txt'):\n",
    "                    df_raw = pd.read_csv(file_path, encoding=df_encoding, delimiter=delimiter)\n",
    "                    df = clean_df(df_raw)\n",
    "\n",
    "                else:\n",
    "                    raise UnsupportedMediaType('File extension invalid (file: {}).'.format(file_name))\n",
    "                return df\n",
    "            except:\n",
    "                raise UnsupportedMediaType('Cannot read file {}.'.format(file_name))\n",
    "\n",
    "        else:\n",
    "            raise  # !!! (not a file)\n",
    "\n",
    "def get_str(df: pd.DataFrame, i: int, column: str) -> str:\n",
    "    try:\n",
    "        string = str(df.iloc[i][column])\n",
    "    except:\n",
    "        raise UnsupportedMediaType('Can not read str format.')\n",
    "    return string\n",
    "\n",
    "def get_index(df, value: str, column_name: str) -> int:\n",
    "    return df[df[column_name]==value].index.values[0]\n",
    "    \n",
    "\n",
    "file_path = '/Users/tm/Projects/vat/webapp/api/data/seeds/sample_seller_firm/Bond_Store_Ltd/transactions/Sales Tax Transaction Report_MBOND-2020-01.csv'\n",
    "\n",
    "df = read_file_path_into_df(file_path, df_encoding=\"utf-8\", delimiter=\",\")\n",
    "\n",
    "file_path2 = '/Users/tm/Projects/vat/webapp/api/data/seeds/sample_seller_firm/Bond_Store_Ltd/items.csv'\n",
    "df2 = read_file_path_into_df(file_path2, df_encoding=\"utf-8\", delimiter=\",\")"
   ]
  },
  {
   "cell_type": "code",
   "execution_count": 22,
   "metadata": {},
   "outputs": [
    {
     "data": {
      "text/html": [
       "<div>\n",
       "<style scoped>\n",
       "    .dataframe tbody tr th:only-of-type {\n",
       "        vertical-align: middle;\n",
       "    }\n",
       "\n",
       "    .dataframe tbody tr th {\n",
       "        vertical-align: top;\n",
       "    }\n",
       "\n",
       "    .dataframe thead th {\n",
       "        text-align: right;\n",
       "    }\n",
       "</style>\n",
       "<table border=\"1\" class=\"dataframe\">\n",
       "  <thead>\n",
       "    <tr style=\"text-align: right;\">\n",
       "      <th></th>\n",
       "      <th>valid_from</th>\n",
       "      <th>SKU</th>\n",
       "      <th>brand_name</th>\n",
       "      <th>name</th>\n",
       "      <th>ean</th>\n",
       "      <th>asin</th>\n",
       "      <th>fnksu</th>\n",
       "      <th>weight_kg</th>\n",
       "      <th>tax_code</th>\n",
       "      <th>unit_cost_price_currency_code</th>\n",
       "      <th>unit_cost_price_net</th>\n",
       "      <th>price</th>\n",
       "    </tr>\n",
       "  </thead>\n",
       "  <tbody>\n",
       "    <tr>\n",
       "      <th>0</th>\n",
       "      <td>15.10.2019</td>\n",
       "      <td>AG-WETSUIT-CONN-SEAG-21-01</td>\n",
       "      <td>Agent Gadgets</td>\n",
       "      <td>Wetsuit Connery with seagull on top XS (ed. 2020)</td>\n",
       "      <td>8.423480e+12</td>\n",
       "      <td>B007DFNH2O</td>\n",
       "      <td>X000UVCP91</td>\n",
       "      <td>1.25</td>\n",
       "      <td>A_GEN_STANDARD</td>\n",
       "      <td>EUR</td>\n",
       "      <td>32.3</td>\n",
       "      <td>58.14</td>\n",
       "    </tr>\n",
       "    <tr>\n",
       "      <th>1</th>\n",
       "      <td>15.10.2019</td>\n",
       "      <td>AG-WETSUIT-CONN-SEAG-21-02</td>\n",
       "      <td>Agent Gadgets</td>\n",
       "      <td>Wetsuit Connery with seagull on top S (ed. 2020)</td>\n",
       "      <td>8.423480e+12</td>\n",
       "      <td>B007DGNH2O</td>\n",
       "      <td>X000US7UGZ</td>\n",
       "      <td>1.25</td>\n",
       "      <td>A_GEN_STANDARD</td>\n",
       "      <td>EUR</td>\n",
       "      <td>32.3</td>\n",
       "      <td>58.14</td>\n",
       "    </tr>\n",
       "    <tr>\n",
       "      <th>2</th>\n",
       "      <td>15.10.2019</td>\n",
       "      <td>AG-WETSUIT-CONN-SEAG-21-03</td>\n",
       "      <td>Agent Gadgets</td>\n",
       "      <td>Wetsuit Connery with seagull on top M (ed. 2020)</td>\n",
       "      <td>8.423480e+12</td>\n",
       "      <td>B007DHNH2O</td>\n",
       "      <td>X000UV6KGX</td>\n",
       "      <td>1.25</td>\n",
       "      <td>A_GEN_STANDARD</td>\n",
       "      <td>EUR</td>\n",
       "      <td>32.3</td>\n",
       "      <td>58.14</td>\n",
       "    </tr>\n",
       "    <tr>\n",
       "      <th>3</th>\n",
       "      <td>15.10.2019</td>\n",
       "      <td>AG-WETSUIT-CONN-SEAG-21-04</td>\n",
       "      <td>Agent Gadgets</td>\n",
       "      <td>Wetsuit Connery with seagull on top L (ed. 2020)</td>\n",
       "      <td>8.423480e+12</td>\n",
       "      <td>B007DINH2O</td>\n",
       "      <td>X000UVDNPN</td>\n",
       "      <td>1.25</td>\n",
       "      <td>A_GEN_STANDARD</td>\n",
       "      <td>EUR</td>\n",
       "      <td>32.3</td>\n",
       "      <td>58.14</td>\n",
       "    </tr>\n",
       "    <tr>\n",
       "      <th>4</th>\n",
       "      <td>15.10.2019</td>\n",
       "      <td>AG-WETSUIT-CONN-SEAG-21-05</td>\n",
       "      <td>Agent Gadgets</td>\n",
       "      <td>Wetsuit Connery with seagull on top XL (ed. 2021)</td>\n",
       "      <td>8.423480e+12</td>\n",
       "      <td>B007DJNH2O</td>\n",
       "      <td>X000UVZOOX</td>\n",
       "      <td>1.25</td>\n",
       "      <td>A_GEN_STANDARD</td>\n",
       "      <td>EUR</td>\n",
       "      <td>32.3</td>\n",
       "      <td>58.14</td>\n",
       "    </tr>\n",
       "  </tbody>\n",
       "</table>\n",
       "</div>"
      ],
      "text/plain": [
       "   valid_from                         SKU     brand_name  \\\n",
       "0  15.10.2019  AG-WETSUIT-CONN-SEAG-21-01  Agent Gadgets   \n",
       "1  15.10.2019  AG-WETSUIT-CONN-SEAG-21-02  Agent Gadgets   \n",
       "2  15.10.2019  AG-WETSUIT-CONN-SEAG-21-03  Agent Gadgets   \n",
       "3  15.10.2019  AG-WETSUIT-CONN-SEAG-21-04  Agent Gadgets   \n",
       "4  15.10.2019  AG-WETSUIT-CONN-SEAG-21-05  Agent Gadgets   \n",
       "\n",
       "                                                name           ean  \\\n",
       "0  Wetsuit Connery with seagull on top XS (ed. 2020)  8.423480e+12   \n",
       "1   Wetsuit Connery with seagull on top S (ed. 2020)  8.423480e+12   \n",
       "2   Wetsuit Connery with seagull on top M (ed. 2020)  8.423480e+12   \n",
       "3   Wetsuit Connery with seagull on top L (ed. 2020)  8.423480e+12   \n",
       "4  Wetsuit Connery with seagull on top XL (ed. 2021)  8.423480e+12   \n",
       "\n",
       "         asin       fnksu  weight_kg        tax_code  \\\n",
       "0  B007DFNH2O  X000UVCP91       1.25  A_GEN_STANDARD   \n",
       "1  B007DGNH2O  X000US7UGZ       1.25  A_GEN_STANDARD   \n",
       "2  B007DHNH2O  X000UV6KGX       1.25  A_GEN_STANDARD   \n",
       "3  B007DINH2O  X000UVDNPN       1.25  A_GEN_STANDARD   \n",
       "4  B007DJNH2O  X000UVZOOX       1.25  A_GEN_STANDARD   \n",
       "\n",
       "  unit_cost_price_currency_code  unit_cost_price_net  price  \n",
       "0                           EUR                 32.3  58.14  \n",
       "1                           EUR                 32.3  58.14  \n",
       "2                           EUR                 32.3  58.14  \n",
       "3                           EUR                 32.3  58.14  \n",
       "4                           EUR                 32.3  58.14  "
      ]
     },
     "execution_count": 22,
     "metadata": {},
     "output_type": "execute_result"
    }
   ],
   "source": [
    "df2.head()"
   ]
  },
  {
   "cell_type": "code",
   "execution_count": 13,
   "metadata": {},
   "outputs": [],
   "source": [
    "import math"
   ]
  },
  {
   "cell_type": "code",
   "execution_count": 2,
   "metadata": {},
   "outputs": [
    {
     "ename": "NameError",
     "evalue": "name 'df' is not defined",
     "output_type": "error",
     "traceback": [
      "\u001b[0;31m---------------------------------------------------------------------------\u001b[0m",
      "\u001b[0;31mNameError\u001b[0m                                 Traceback (most recent call last)",
      "\u001b[0;32m<ipython-input-2-d157d38f3d24>\u001b[0m in \u001b[0;36m<module>\u001b[0;34m\u001b[0m\n\u001b[0;32m----> 1\u001b[0;31m \u001b[0;32mfor\u001b[0m \u001b[0mi\u001b[0m \u001b[0;32min\u001b[0m \u001b[0mrange\u001b[0m\u001b[0;34m(\u001b[0m\u001b[0mlen\u001b[0m\u001b[0;34m(\u001b[0m\u001b[0mdf\u001b[0m\u001b[0;34m.\u001b[0m\u001b[0mindex\u001b[0m\u001b[0;34m)\u001b[0m\u001b[0;34m)\u001b[0m\u001b[0;34m:\u001b[0m\u001b[0;34m\u001b[0m\u001b[0;34m\u001b[0m\u001b[0m\n\u001b[0m\u001b[1;32m      2\u001b[0m     \u001b[0msku\u001b[0m \u001b[0;34m=\u001b[0m \u001b[0mget_str\u001b[0m\u001b[0;34m(\u001b[0m\u001b[0mdf\u001b[0m\u001b[0;34m,\u001b[0m \u001b[0mi\u001b[0m\u001b[0;34m,\u001b[0m \u001b[0mcolumn\u001b[0m\u001b[0;34m=\u001b[0m\u001b[0;34m\"SELLER_SKU\"\u001b[0m\u001b[0;34m)\u001b[0m\u001b[0;34m\u001b[0m\u001b[0;34m\u001b[0m\u001b[0m\n\u001b[1;32m      3\u001b[0m     \u001b[0mt_type\u001b[0m \u001b[0;34m=\u001b[0m \u001b[0mget_str\u001b[0m\u001b[0;34m(\u001b[0m\u001b[0mdf\u001b[0m\u001b[0;34m,\u001b[0m \u001b[0mi\u001b[0m\u001b[0;34m,\u001b[0m \u001b[0mcolumn\u001b[0m\u001b[0;34m=\u001b[0m\u001b[0;34m\"TRANSACTION_TYPE\"\u001b[0m\u001b[0;34m)\u001b[0m\u001b[0;34m\u001b[0m\u001b[0;34m\u001b[0m\u001b[0m\n\u001b[1;32m      4\u001b[0m     \u001b[0mindexs\u001b[0m \u001b[0;34m=\u001b[0m \u001b[0mget_index\u001b[0m\u001b[0;34m(\u001b[0m\u001b[0mdf2\u001b[0m\u001b[0;34m,\u001b[0m \u001b[0msku\u001b[0m\u001b[0;34m,\u001b[0m \u001b[0mcolumn_name\u001b[0m\u001b[0;34m=\u001b[0m\u001b[0;34m\"SKU\"\u001b[0m\u001b[0;34m)\u001b[0m\u001b[0;34m\u001b[0m\u001b[0;34m\u001b[0m\u001b[0m\n\u001b[1;32m      5\u001b[0m \u001b[0;34m\u001b[0m\u001b[0m\n",
      "\u001b[0;31mNameError\u001b[0m: name 'df' is not defined"
     ]
    }
   ],
   "source": [
    "for i in range(len(df.index)):\n",
    "    sku = get_str(df, i, column=\"SELLER_SKU\")\n",
    "    t_type = get_str(df, i, column=\"TRANSACTION_TYPE\") \n",
    "    indexs = get_index(df2, sku, column_name=\"SKU\")\n",
    "    \n",
    "    price1 = round(float(get_str(df, i, column=\"GIFT_WRAP_AMT_VAT_EXCL\")), 2)\n",
    "    price2 = round(float(get_str(df, i, column=\"GIFT_WRAP_VAT_AMT\")), 2)\n",
    "    price3 = round(float(get_str(df, i, column=\"GIFT_WRAP_AMT_VAT_INCL\")), 2)\n",
    "    \n",
    "    \n",
    "    if round(price1+price2,2) != round(price3,2) and not math.isnan(price1):\n",
    "        print(sku, t_type, round(price1+price2,2), price3)\n",
    "    #if price1 != price2:\n",
    "    #    print(i, sku, indexs, price1, price2)\n",
    "    \n",
    "    \n",
    "    #print(float(price1) * 4 + if price1 != 'nan' else 'nan')\n",
    "    \n",
    "    \"\"\"if t_type == 'FC_TRANSFER' or t_type == 'RETURN':\n",
    "        price = 'nan'\n",
    "    elif t_type == 'REFUND':\n",
    "        price = float(get_str(df2, indexs, column=\"price\"))  * -1\n",
    "    else:\n",
    "        price = get_str(df2, indexs, column=\"price\")\n",
    "        \n",
    "    print(price)\n",
    "    \"\"\"\n"
   ]
  },
  {
   "cell_type": "code",
   "execution_count": 169,
   "metadata": {},
   "outputs": [],
   "source": [
    "\n",
    "\n",
    "import re\n",
    "for i in range(len(df.index)):\n",
    "    value = get_str(df, i, column=\"VAT_INV_NUMBER\")\n",
    "    new_string = re.sub(pattern=r'0(?=.)', string=value, repl=\"1\")\n",
    "    new_string = re.sub(pattern=r'7(?=.)', string=new_string, repl=\"5\") \n",
    "    new_string = re.sub(pattern=r'3(?=.)', string=new_string, repl=\"2\") \n",
    "    new_string = re.sub(pattern=r'8(?=.)', string=new_string, repl=\"7\") \n",
    "    new_string = re.sub(pattern=r'9(?=.)', string=new_string, repl=\"8\") \n",
    "    #new_string = re.sub(pattern=r'D(?=.)', string=new_string, repl=\"E\")\n",
    "    #new_string = re.sub(pattern=r'7', string=value, repl=\"5\")\n",
    "    #new_string = re.sub(pattern=r'3', string=new_string, repl=\"2\")\n",
    "    #new_string = re.sub(pattern=r'31-01', string=new_string, repl=\"01-01\")\n",
    "    #new_string = re.sub(pattern=r'29-01', string=new_string, repl=\"30-01\")\n",
    "\n",
    "    #print(new_string)\n",
    "\n"
   ]
  },
  {
   "cell_type": "code",
   "execution_count": 227,
   "metadata": {},
   "outputs": [
    {
     "data": {
      "text/plain": [
       "0.18749999999999997"
      ]
     },
     "execution_count": 227,
     "metadata": {},
     "output_type": "execute_result"
    }
   ],
   "source": [
    "0.21/1.12"
   ]
  },
  {
   "cell_type": "code",
   "execution_count": 226,
   "metadata": {},
   "outputs": [
    {
     "data": {
      "text/plain": [
       "0.191044776119403"
      ]
     },
     "execution_count": 226,
     "metadata": {},
     "output_type": "execute_result"
    }
   ],
   "source": [
    "0.64/3.35"
   ]
  },
  {
   "cell_type": "code",
   "execution_count": 239,
   "metadata": {},
   "outputs": [
    {
     "data": {
      "text/plain": [
       "24.55"
      ]
     },
     "execution_count": 239,
     "metadata": {},
     "output_type": "execute_result"
    }
   ],
   "source": [
    "29.5-4.95"
   ]
  },
  {
   "cell_type": "code",
   "execution_count": 240,
   "metadata": {},
   "outputs": [
    {
     "data": {
      "text/plain": [
       "-29.5"
      ]
     },
     "execution_count": 240,
     "metadata": {},
     "output_type": "execute_result"
    }
   ],
   "source": [
    "-24.79-4.71"
   ]
  },
  {
   "cell_type": "code",
   "execution_count": null,
   "metadata": {},
   "outputs": [],
   "source": []
  }
 ],
 "metadata": {
  "kernelspec": {
   "display_name": "Python 3",
   "language": "python",
   "name": "python3"
  },
  "language_info": {
   "codemirror_mode": {
    "name": "ipython",
    "version": 3
   },
   "file_extension": ".py",
   "mimetype": "text/x-python",
   "name": "python",
   "nbconvert_exporter": "python",
   "pygments_lexer": "ipython3",
   "version": "3.7.6"
  }
 },
 "nbformat": 4,
 "nbformat_minor": 4
}
