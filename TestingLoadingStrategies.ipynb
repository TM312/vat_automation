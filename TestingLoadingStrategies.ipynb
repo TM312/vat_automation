{
 "cells": [
  {
   "cell_type": "code",
   "execution_count": 1,
   "metadata": {},
   "outputs": [],
   "source": [
    "from datetime import datetime, date, timedelta\n",
    "from typing import Dict, List\n",
    "import os\n",
    "from flask import Flask\n",
    "from flask_sqlalchemy import SQLAlchemy\n",
    "from sqlalchemy.ext.declarative import declared_attr\n",
    "import uuid\n",
    "from sqlalchemy.dialects.postgresql import UUID\n",
    "\n",
    "\n",
    "app = Flask(__name__)\n",
    "\n",
    "app.config['SQLALCHEMY_DATABASE_URI'] = \"sqlite:///\"\n",
    "app.config[\"SQLALCHEMY_TRACK_MODIFICATIONS\"] = False\n",
    "\n",
    "db = SQLAlchemy(app)\n"
   ]
  },
  {
   "cell_type": "code",
   "execution_count": 22,
   "metadata": {},
   "outputs": [],
   "source": [
    "import pandas as pd\n",
    "def determine_file_type(file_path_in) -> str:\n",
    "\n",
    "    df = InputService.read_file_path_into_df(file_path_in, df_encoding='utf-8', delimiter=';')\n",
    "    column_name_list = list(df.columns.values)\n",
    "\n",
    "    if ('channel_code' in column_name_list and 'channel_code' in column_name_list):\n",
    "        return 'account_list'\n",
    "\n",
    "    elif ('arrival_country_code' in column_name_list and 'active' in column_name_list):\n",
    "        return 'distance_sale_list'\n",
    "\n",
    "    elif ('SKU' in column_name_list and 'name' in column_name_list and 'tax_code' in column_name_list and 'unit_cost_price_currency_code' in column_name_list):\n",
    "        return 'item_list'\n",
    "\n",
    "    elif ('country_code' in column_name_list and 'number' in column_name_list):\n",
    "        return 'vat_numbers'\n",
    "\n",
    "    else:\n",
    "        print('ehhh ?')\n",
    "\n",
    "def determine_data_type(file_type: str) -> str:\n",
    "    if file_type in ['account_list', 'distance_sale_list', 'item_list', 'vat_numbers']:\n",
    "        return 'static'\n",
    "    else:\n",
    "        raise\n",
    "\n",
    "class InputService:\n",
    "    @staticmethod\n",
    "    def read_file_path_into_df(file_path: str, df_encoding: str, delimiter: str) -> pd.DataFrame:\n",
    "        if os.path.isfile(file_path):\n",
    "            file_name = os.path.basename(file_path)\n",
    "            print('file_name: ', file_name, flush=True)\n",
    "            try:\n",
    "                if file_name.lower().endswith('.csv'):\n",
    "                    df_raw = pd.read_csv(file_path, encoding=df_encoding, delimiter=delimiter)\n",
    "                    df = df_raw.dropna(how='all')\n",
    "                    print('df.head()', flush=True)\n",
    "                    print(df.head(), flush=True)\n",
    "                else:\n",
    "                    print('Case \"Read File Path: File extension invalid\"', flush=True)\n",
    "                    raise UnsupportedMediaType(\n",
    "                        'File extension invalid (file: {}).'.format(file_name))\n",
    "                return df\n",
    "            except:\n",
    "                print('Case \"Read File Path: Cannot read file\"', flush=True)\n",
    "\n",
    "                raise UnsupportedMediaType(\n",
    "                    'Cannot read file {}.'.format(file_name))\n",
    "\n",
    "        else:\n",
    "            raise  # !!! (not a file)\n"
   ]
  },
  {
   "cell_type": "code",
   "execution_count": 23,
   "metadata": {},
   "outputs": [],
   "source": [
    "file_path_in = '/Users/tm/Projects/NTAMAZON/webapp/api/data/test/GOLDEN FIRE/distance_sales_filled.csv'"
   ]
  },
  {
   "cell_type": "code",
   "execution_count": 24,
   "metadata": {},
   "outputs": [
    {
     "name": "stdout",
     "output_type": "stream",
     "text": [
      "file_name:  distance_sales_filled.csv\n",
      "df.head()\n",
      "   seller_firm_public_id  valid_from  valid_to arrival_country_code  active\n",
      "0                    NaN  01.06.2018       NaN                   CZ    True\n",
      "1                    NaN  01.06.2018       NaN                   DE    True\n",
      "2                    NaN  01.06.2018       NaN                   ES    True\n",
      "3                    NaN  01.06.2018       NaN                   FR    True\n",
      "4                    NaN  01.06.2018       NaN                   GB    True\n"
     ]
    }
   ],
   "source": [
    "file_type = determine_file_type(file_path_in)\n",
    "data_type = determine_data_type(file_type)"
   ]
  },
  {
   "cell_type": "code",
   "execution_count": 25,
   "metadata": {},
   "outputs": [
    {
     "name": "stdout",
     "output_type": "stream",
     "text": [
      "file_type:  distance_sale_list\n",
      "data_type:  static\n"
     ]
    }
   ],
   "source": [
    "print('file_type: ', file_type)\n",
    "print('data_type: ', data_type)"
   ]
  },
  {
   "cell_type": "code",
   "execution_count": null,
   "metadata": {},
   "outputs": [],
   "source": []
  },
  {
   "cell_type": "code",
   "execution_count": null,
   "metadata": {},
   "outputs": [],
   "source": []
  },
  {
   "cell_type": "code",
   "execution_count": 8,
   "metadata": {},
   "outputs": [],
   "source": [
    "from urllib import request\n",
    "import xml.etree.ElementTree as ET"
   ]
  },
  {
   "cell_type": "code",
   "execution_count": 5,
   "metadata": {},
   "outputs": [],
   "source": [
    "\n",
    "def send_request_via_urllib(country_code: str, number: str):\n",
    "    #adapted from here: https://github.com/ajcerejeira/vat-validator/blob/master/vat_validator/vies.py\n",
    "    from urllib import request\n",
    "    import xml.etree.ElementTree as ET\n",
    "\n",
    "    # Prepare the SOAP request\n",
    "    envelope = ET.Element(\n",
    "        \"soapenv:Envelope\",\n",
    "        attrib={\n",
    "            \"xmlns:hs\": \"urn:ec.europa.eu:taxud:vies:services:checkVat:types\",\n",
    "            \"xmlns:soapenv\": \"http://schemas.xmlsoap.org/soap/envelope/\",\n",
    "        },\n",
    "    )\n",
    "    body = ET.SubElement(envelope, \"soapenv:Body\")\n",
    "    action = ET.SubElement(body, \"hs:checkVat\")\n",
    "    ET.SubElement(action, \"hs:countryCode\").text = country_code\n",
    "    ET.SubElement(action, \"hs:vatNumber\").text = number\n",
    "    payload = ET.tostring(envelope, encoding=\"utf-8\")\n",
    "\n",
    "    # Send the SOAP request to VIES Webservice\n",
    "    url = \"http://ec.europa.eu/taxation_customs/vies/services/checkVatService\"\n",
    "    req = request.Request(url, data=payload)\n",
    "    res = request.urlopen(req)\n",
    "\n",
    "    # Parse the result\n",
    "    res_envelope = ET.fromstring(res.read())\n",
    "    namespace = \"urn:ec.europa.eu:taxud:vies:services:checkVat:types\"\n",
    "    request_date = res_envelope.find(\".//{{{}}}requestDate\".format(namespace))\n",
    "    valid = res_envelope.find(\".//{{{}}}valid\".format(namespace))\n",
    "    name = res_envelope.find(\".//{{{}}}name\".format(namespace))\n",
    "    address = res_envelope.find(\".//{{{}}}address\".format(namespace))\n",
    "\n",
    "    response_object = {\n",
    "        'valid': valid is not None and valid.text == \"true\",\n",
    "        'request_date': datetime.strptime(request_date.text, \"%Y-%m-%d%z\").date()\n",
    "                        if request_date is not None and request_date.text is not None\n",
    "                        else None,\n",
    "        'name': name.text if name is not None else None,\n",
    "        'address': address.text if address is not None else None\n",
    "    }\n",
    "\n",
    "    return response_object"
   ]
  },
  {
   "cell_type": "code",
   "execution_count": 29,
   "metadata": {},
   "outputs": [],
   "source": [
    "response_object = check_vat('CZ', '684811557')"
   ]
  },
  {
   "cell_type": "code",
   "execution_count": 30,
   "metadata": {},
   "outputs": [
    {
     "data": {
      "text/plain": [
       "{'country_code': 'CZ',\n",
       " 'vat': '684811557',\n",
       " 'valid': True,\n",
       " 'request_date': datetime.date(2020, 7, 11),\n",
       " 'name': 'FRIAS SEPULVEDA A R Y GUZMAN SEPULVEDA M A',\n",
       " 'address': 'Cl Monasterio de Irache 4\\n31591 CORELLA (NAVARRA)\\n '}"
      ]
     },
     "execution_count": 30,
     "metadata": {},
     "output_type": "execute_result"
    }
   ],
   "source": [
    "response_object"
   ]
  },
  {
   "cell_type": "code",
   "execution_count": 35,
   "metadata": {},
   "outputs": [],
   "source": [
    "def send_request_via_zeep(country_code: str, number: str):\n",
    "    from zeep import Client, helpers\n",
    "    client = Client(VIES_WSDL_URL)\n",
    "    vat_zeep_object = client.service.checkVat(country_code, number)\n",
    "    vat = helpers.serialize_object(vat_zeep_object)\n",
    "    response_object = {\n",
    "        'valid': vat['valid'],\n",
    "        'request_date': vat['requestDate'] if isinstance(vat.get(['requestDate']), date) else None,\n",
    "        'name': None if vat['address'] == '---' else vat['address'],\n",
    "        'address': None if vat['name'] == '---' else vat['name']\n",
    "    }\n",
    "\n",
    "    return response_object"
   ]
  },
  {
   "cell_type": "code",
   "execution_count": 9,
   "metadata": {},
   "outputs": [],
   "source": [
    "response_object = send_request_via_urllib('GB', '235032544')"
   ]
  },
  {
   "cell_type": "code",
   "execution_count": 10,
   "metadata": {},
   "outputs": [
    {
     "data": {
      "text/plain": [
       "{'valid': True,\n",
       " 'request_date': datetime.date(2020, 7, 11),\n",
       " 'name': 'CARSTENS & ROBINSON LTD',\n",
       " 'address': '26 OKEHURST ROAD\\nEASTBOURNE\\nEAST SUSSEX\\n\\n\\nBN21 1QP'}"
      ]
     },
     "execution_count": 10,
     "metadata": {},
     "output_type": "execute_result"
    }
   ],
   "source": [
    "response_object"
   ]
  },
  {
   "cell_type": "code",
   "execution_count": 31,
   "metadata": {},
   "outputs": [],
   "source": [
    "from datetime import date, datetime\n",
    "from time import sleep"
   ]
  },
  {
   "cell_type": "code",
   "execution_count": 32,
   "metadata": {},
   "outputs": [
    {
     "name": "stdout",
     "output_type": "stream",
     "text": [
      "first\n",
      "second\n"
     ]
    }
   ],
   "source": [
    "print(\"first\")\n",
    "sleep(4)\n",
    "print(\"second\")"
   ]
  },
  {
   "cell_type": "code",
   "execution_count": 2,
   "metadata": {},
   "outputs": [],
   "source": [
    "class User(db.Model):  # type: ignore\n",
    "    \"\"\" User parent model \"\"\"\n",
    "    __tablename__ = \"user\"\n",
    "\n",
    "    id = db.Column(db.Integer, primary_key=True)\n",
    "    name = db.Column(db.String)\n",
    "    level = db.Column(db.Integer)\n",
    "    \n",
    "    def __repr__(self):\n",
    "        return '<User: {} | Name: {} | Level: {}>'.format(self.id, self.name, self.level)\n",
    "\n",
    "    \n",
    "    def update(self, data_changes):\n",
    "        for key, val in data_changes.items():\n",
    "            setattr(self, key, val)\n",
    "        return self\n",
    "    \n",
    "    def update_diverging(self, data_changes):\n",
    "        for k, v in data_changes.items():\n",
    "            if data_changes[k] is not None and data_changes[k] != getattr(self, k):\n",
    "                setattr(self, k, v)\n",
    "        return self\n",
    "    "
   ]
  },
  {
   "cell_type": "code",
   "execution_count": 4,
   "metadata": {},
   "outputs": [
    {
     "name": "stdout",
     "output_type": "stream",
     "text": [
      "<User: 1 | Name: Thomas | Level: 5>\n",
      "<User: 2 | Name: Tobi | Level: 2>\n"
     ]
    }
   ],
   "source": [
    "u1 = User(name='Thomas', level=5)\n",
    "u2 = User(name='Tobi', level=2)\n",
    "\n",
    "db.session.add(u1)\n",
    "db.session.add(u2)\n",
    "db.session.commit()\n",
    "\n",
    "data_changes = {\n",
    "    'name': 'Egon'\n",
    "}\n",
    "\n",
    "print(u1)\n",
    "print(u2)"
   ]
  },
  {
   "cell_type": "code",
   "execution_count": 5,
   "metadata": {},
   "outputs": [],
   "source": [
    "u1.update_diverging(data_changes)\n",
    "u2.update_diverging(data_changes)\n",
    "\n",
    "db.session.commit()"
   ]
  },
  {
   "cell_type": "code",
   "execution_count": 6,
   "metadata": {},
   "outputs": [
    {
     "name": "stdout",
     "output_type": "stream",
     "text": [
      "<User: 1 | Name: Egon | Level: 5>\n",
      "<User: 2 | Name: Egon | Level: 2>\n"
     ]
    }
   ],
   "source": [
    "print(u1)\n",
    "print(u2)"
   ]
  },
  {
   "cell_type": "code",
   "execution_count": 2,
   "metadata": {},
   "outputs": [],
   "source": [
    "class Business(db.Model):  # type: ignore\n",
    "    \"\"\" Business parent model \"\"\"\n",
    "    __tablename__ = \"business\"\n",
    "\n",
    "    id = db.Column(db.Integer, primary_key=True)\n",
    "    name = db.Column(db.String(24))\n",
    "    created_on = db.Column(db.DateTime, default=datetime.utcnow)\n",
    "    created_by = db.Column(db.Integer,  db.ForeignKey('user.id', name='fk_user_business_created_by'))\n",
    "    employees = db.relationship('User', backref=\"employer\", primaryjoin='User.employer_id==Business.id')\n",
    "\n",
    "    \n",
    "    \n",
    "class User(db.Model):  # type: ignore\n",
    "    \"\"\" User parent model \"\"\"\n",
    "    __tablename__ = \"user\"\n",
    "\n",
    "    id = db.Column(db.Integer, primary_key=True)\n",
    "    employer_id = db.Column(db.Integer, db.ForeignKey('business.id', name='fk_business_user_employer_id'))\n",
    "    created_businesses = db.relationship('Business', backref='creator', order_by=\"desc(Business.created_on)\", primaryjoin='Business.created_by==User.id', post_update=True)\n",
    "    items = db.relationship('Item', backref=\"user\", lazy='select')\n",
    "\n",
    "    \n",
    "    \n",
    "class Item(db.Model):  # type: ignore\n",
    "    \"\"\" User parent model \"\"\"\n",
    "    __tablename__ = \"item\"\n",
    "\n",
    "    id = db.Column(db.Integer, primary_key=True)\n",
    "    user_id = db.Column(db.Integer, db.ForeignKey('user.id', name='fk_user_item_user_id'))\n",
    "    \n",
    "    "
   ]
  },
  {
   "cell_type": "code",
   "execution_count": 3,
   "metadata": {},
   "outputs": [
    {
     "name": "stdout",
     "output_type": "stream",
     "text": [
      "committing\n",
      "Dopping all\n",
      "Creating all\n"
     ]
    }
   ],
   "source": [
    "#db.reflect()\n",
    "print(\"committing\") #https://stackoverflow.com/questions/24289808/drop-all-freezes-in-flask-with-sqlalchemy\n",
    "db.session.remove()\n",
    "\n",
    "print(\"Dopping all\")\n",
    "db.drop_all()\n",
    "\n",
    "print(\"Creating all\")\n",
    "db.create_all()"
   ]
  },
  {
   "cell_type": "code",
   "execution_count": 4,
   "metadata": {},
   "outputs": [
    {
     "name": "stdout",
     "output_type": "stream",
     "text": [
      "[<User 1>, <User 2>]\n",
      "b1\n",
      "[<Business 1>]\n",
      "2\n",
      "[<Item 1>, <Item 2>]\n"
     ]
    }
   ],
   "source": [
    "b1 = Business(name=\"b1\")\n",
    "b2 = Business(name=\"b2\")\n",
    "\n",
    "u1 = User()\n",
    "u2 = User()\n",
    "\n",
    "i1 = Item()\n",
    "i2 = Item()\n",
    "\n",
    "db.session.add(b1)\n",
    "db.session.add(b2)\n",
    "db.session.add(u1)\n",
    "db.session.add(u2)\n",
    "db.session.add(i1)\n",
    "db.session.add(i2)\n",
    "\n",
    "db.session.commit()\n",
    "\n",
    "b1.employees.append(u1)\n",
    "b1.employees.append(u2)\n",
    "u1.created_businesses.append(b1)\n",
    "u2.created_businesses.append(b2)\n",
    "u1.items.append(i1)\n",
    "u1.items.append(i2)\n",
    "db.session.commit()\n",
    "\n",
    "print(b1.employees)\n",
    "print(u1.employer.name)\n",
    "print(u1.created_businesses)\n",
    "print(b2.created_by)\n",
    "print(u1.items)\n"
   ]
  },
  {
   "cell_type": "code",
   "execution_count": null,
   "metadata": {},
   "outputs": [],
   "source": []
  }
 ],
 "metadata": {
  "kernelspec": {
   "display_name": "Python 3",
   "language": "python",
   "name": "python3"
  },
  "language_info": {
   "codemirror_mode": {
    "name": "ipython",
    "version": 3
   },
   "file_extension": ".py",
   "mimetype": "text/x-python",
   "name": "python",
   "nbconvert_exporter": "python",
   "pygments_lexer": "ipython3",
   "version": "3.7.6"
  }
 },
 "nbformat": 4,
 "nbformat_minor": 4
}
