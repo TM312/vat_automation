{
 "cells": [
  {
   "cell_type": "code",
   "execution_count": 4,
   "metadata": {},
   "outputs": [],
   "source": [
    "from datetime import datetime, date, timedelta\n",
    "from typing import Dict, List\n",
    "import os\n",
    "from flask import Flask\n",
    "from flask_sqlalchemy import SQLAlchemy\n",
    "from sqlalchemy.ext.declarative import declared_attr\n",
    "import uuid\n",
    "from sqlalchemy.dialects.postgresql import UUID\n",
    "\n",
    "\n",
    "app = Flask(__name__)\n",
    "\n",
    "app.config['SQLALCHEMY_DATABASE_URI'] = \"sqlite:///\"\n",
    "app.config[\"SQLALCHEMY_TRACK_MODIFICATIONS\"] = False\n",
    "\n",
    "db = SQLAlchemy(app)\n"
   ]
  },
  {
   "cell_type": "code",
   "execution_count": 5,
   "metadata": {},
   "outputs": [],
   "source": [
    "class Business(db.Model):  # type: ignore\n",
    "    \"\"\" Business parent model \"\"\"\n",
    "    __tablename__ = \"business\"\n",
    "\n",
    "    id = db.Column(db.Integer, primary_key=True)\n",
    "    employees = db.relationship('User', backref=\"employer\")\n",
    "\n",
    "    \n",
    "    \n",
    "class User(db.Model):  # type: ignore\n",
    "    \"\"\" User parent model \"\"\"\n",
    "    __tablename__ = \"user\"\n",
    "\n",
    "    id = db.Column(db.Integer, primary_key=True)\n",
    "    employer_id = db.Column(db.Integer, db.ForeignKey('business.id'))\n",
    "    \n",
    "   "
   ]
  },
  {
   "cell_type": "code",
   "execution_count": 6,
   "metadata": {},
   "outputs": [],
   "source": [
    "db.create_all()"
   ]
  },
  {
   "cell_type": "code",
   "execution_count": 7,
   "metadata": {},
   "outputs": [],
   "source": [
    "b1 = Business()\n",
    "b2 = Business()\n",
    "u1 = User(employer_id=1)\n",
    "u2 = User(employer_id=1)\n",
    "u3 = User(employer_id=2)\n",
    "\n",
    "db.session.add(b1)\n",
    "db.session.add(b2)\n",
    "db.session.add(u1)\n",
    "db.session.add(u2)\n",
    "db.session.add(u3)\n",
    "\n",
    "db.session.commit()"
   ]
  },
  {
   "cell_type": "code",
   "execution_count": 14,
   "metadata": {},
   "outputs": [
    {
     "name": "stdout",
     "output_type": "stream",
     "text": [
      "b1.employees:  []\n",
      "b1.employees:  []\n",
      "tye_ b2.employees:  <class 'sqlalchemy.orm.collections.InstrumentedList'>\n"
     ]
    }
   ],
   "source": [
    "print('b1.employees: ', b1.employees)\n",
    "\n",
    "print('b1.employees: ', b1.employees)\n",
    "print('tye_ b2.employees: ', type(b2.employees))\n",
    "\n"
   ]
  },
  {
   "cell_type": "code",
   "execution_count": 13,
   "metadata": {},
   "outputs": [],
   "source": [
    "b1.employees = []\n",
    "db.session.commit()"
   ]
  },
  {
   "cell_type": "code",
   "execution_count": 6,
   "metadata": {},
   "outputs": [],
   "source": [
    "db.session.delete(b1)\n",
    "db.session.commit()"
   ]
  },
  {
   "cell_type": "code",
   "execution_count": 10,
   "metadata": {},
   "outputs": [
    {
     "data": {
      "text/plain": [
       "[<User 3>]"
      ]
     },
     "execution_count": 10,
     "metadata": {},
     "output_type": "execute_result"
    }
   ],
   "source": [
    "Business.query.all()\n",
    "User.query.all()"
   ]
  },
  {
   "cell_type": "code",
   "execution_count": null,
   "metadata": {},
   "outputs": [],
   "source": [
    "class User(db.Model):  # type: ignore\n",
    "    \"\"\" User parent model \"\"\"\n",
    "    __tablename__ = \"user\"\n",
    "\n",
    "    id = db.Column(db.Integer, primary_key=True)\n",
    "    name = db.Column(db.String)\n",
    "    level = db.Column(db.Integer)\n",
    "    \n",
    "    def __repr__(self):\n",
    "        return '<User: {} | Name: {} | Level: {}>'.format(self.id, self.name, self.level)\n",
    "\n",
    "    \n",
    "    def update(self, data_changes):\n",
    "        for key, val in data_changes.items():\n",
    "            setattr(self, key, val)\n",
    "        return self\n",
    "    \n",
    "    def update_diverging(self, data_changes):\n",
    "        for k, v in data_changes.items():\n",
    "            if data_changes[k] is not None and data_changes[k] != getattr(self, k):\n",
    "                setattr(self, k, v)\n",
    "        return self\n",
    "    "
   ]
  },
  {
   "cell_type": "code",
   "execution_count": null,
   "metadata": {},
   "outputs": [],
   "source": [
    "u1 = User(name='Thomas', level=5)\n",
    "u2 = User(name='Tobi', level=2)\n",
    "\n",
    "db.session.add(u1)\n",
    "db.session.add(u2)\n",
    "db.session.commit()\n",
    "\n",
    "data_changes = {\n",
    "    'name': 'Egon'\n",
    "}\n",
    "\n",
    "print(u1)\n",
    "print(u2)"
   ]
  },
  {
   "cell_type": "code",
   "execution_count": null,
   "metadata": {},
   "outputs": [],
   "source": [
    "u1.update_diverging(data_changes)\n",
    "u2.update_diverging(data_changes)\n",
    "\n",
    "db.session.commit()"
   ]
  },
  {
   "cell_type": "code",
   "execution_count": null,
   "metadata": {},
   "outputs": [],
   "source": [
    "print(u1)\n",
    "print(u2)"
   ]
  },
  {
   "cell_type": "code",
   "execution_count": 2,
   "metadata": {},
   "outputs": [],
   "source": [
    "class Business(db.Model):  # type: ignore\n",
    "    \"\"\" Business parent model \"\"\"\n",
    "    __tablename__ = \"business\"\n",
    "\n",
    "    id = db.Column(db.Integer, primary_key=True)\n",
    "    name = db.Column(db.String(24))\n",
    "    created_on = db.Column(db.DateTime, default=datetime.utcnow)\n",
    "    created_by = db.Column(db.Integer,  db.ForeignKey('user.id', name='fk_user_business_created_by'))\n",
    "    employees = db.relationship('User', backref=\"employer\", primaryjoin='User.employer_id==Business.id', cascade=\"all, delete-orphan\")\n",
    "\n",
    "    \n",
    "    \n",
    "class User(db.Model):  # type: ignore\n",
    "    \"\"\" User parent model \"\"\"\n",
    "    __tablename__ = \"user\"\n",
    "\n",
    "    id = db.Column(db.Integer, primary_key=True)\n",
    "    employer_id = db.Column(db.Integer, db.ForeignKey('business.id', name='fk_business_user_employer_id'))\n",
    "    created_businesses = db.relationship('Business', backref='creator', order_by=\"desc(Business.created_on)\", primaryjoin='Business.created_by==User.id', post_update=True)\n",
    "    items = db.relationship('Item', backref=\"user\", lazy='select')\n",
    "\n",
    "    \n",
    "    \n",
    "class Item(db.Model):  # type: ignore\n",
    "    \"\"\" User parent model \"\"\"\n",
    "    __tablename__ = \"item\"\n",
    "\n",
    "    id = db.Column(db.Integer, primary_key=True)\n",
    "    user_id = db.Column(db.Integer, db.ForeignKey('user.id', name='fk_user_item_user_id'))\n",
    "    \n",
    "    "
   ]
  },
  {
   "cell_type": "code",
   "execution_count": 3,
   "metadata": {},
   "outputs": [
    {
     "name": "stdout",
     "output_type": "stream",
     "text": [
      "committing\n",
      "Dopping all\n",
      "Creating all\n"
     ]
    }
   ],
   "source": [
    "#db.reflect()\n",
    "print(\"committing\") #https://stackoverflow.com/questions/24289808/drop-all-freezes-in-flask-with-sqlalchemy\n",
    "db.session.remove()\n",
    "\n",
    "print(\"Dopping all\")\n",
    "db.drop_all()\n",
    "\n",
    "print(\"Creating all\")\n",
    "db.create_all()"
   ]
  },
  {
   "cell_type": "code",
   "execution_count": 4,
   "metadata": {},
   "outputs": [
    {
     "name": "stdout",
     "output_type": "stream",
     "text": [
      "[<User 1>, <User 2>]\n",
      "b1\n",
      "[<Business 1>]\n",
      "2\n",
      "[<Item 1>, <Item 2>]\n"
     ]
    }
   ],
   "source": [
    "b1 = Business(name=\"b1\")\n",
    "b2 = Business(name=\"b2\")\n",
    "\n",
    "u1 = User()\n",
    "u2 = User()\n",
    "\n",
    "i1 = Item()\n",
    "i2 = Item()\n",
    "\n",
    "db.session.add(b1)\n",
    "db.session.add(b2)\n",
    "db.session.add(u1)\n",
    "db.session.add(u2)\n",
    "db.session.add(i1)\n",
    "db.session.add(i2)\n",
    "\n",
    "db.session.commit()\n",
    "\n",
    "b1.employees.append(u1)\n",
    "b1.employees.append(u2)\n",
    "u1.created_businesses.append(b1)\n",
    "u2.created_businesses.append(b2)\n",
    "u1.items.append(i1)\n",
    "u1.items.append(i2)\n",
    "db.session.commit()\n",
    "\n",
    "print(b1.employees)\n",
    "print(u1.employer.name)\n",
    "print(u1.created_businesses)\n",
    "print(b2.created_by)\n",
    "print(u1.items)\n"
   ]
  },
  {
   "cell_type": "code",
   "execution_count": null,
   "metadata": {},
   "outputs": [],
   "source": [
    "db.session.delete(b1)\n",
    "db.session.commit()\n",
    "\n",
    "print(\"All Businesses:\", Business.query.all())\n",
    "print(\"All Employees:\", User.query.all())\n",
    "print(\"All Item:\", Item.query.all())\n"
   ]
  },
  {
   "cell_type": "code",
   "execution_count": 6,
   "metadata": {},
   "outputs": [
    {
     "ename": "NameError",
     "evalue": "name 'subqueryload' is not defined",
     "output_type": "error",
     "traceback": [
      "\u001b[0;31m---------------------------------------------------------------------------\u001b[0m",
      "\u001b[0;31mNameError\u001b[0m                                 Traceback (most recent call last)",
      "\u001b[0;32m<ipython-input-6-6e9b9559b54f>\u001b[0m in \u001b[0;36m<module>\u001b[0;34m\u001b[0m\n\u001b[1;32m      1\u001b[0m len_items = Business.query.filter_by(id = 1).options(\n\u001b[0;32m----> 2\u001b[0;31m     subqueryload(User.items)).all()\n\u001b[0m",
      "\u001b[0;31mNameError\u001b[0m: name 'subqueryload' is not defined"
     ]
    }
   ],
   "source": [
    "len_items = Business.query.filter_by(id = 1).options(subqueryload(User.items)).all()"
   ]
  },
  {
   "cell_type": "code",
   "execution_count": 10,
   "metadata": {},
   "outputs": [
    {
     "ename": "ArgumentError",
     "evalue": "Mapped attribute \"User.items\" does not apply to any of the root entities in this query, e.g. mapped class Business->business. Please specify the full path from one of the root entities to the target attribute. ",
     "output_type": "error",
     "traceback": [
      "\u001b[0;31m---------------------------------------------------------------------------\u001b[0m",
      "\u001b[0;31mArgumentError\u001b[0m                             Traceback (most recent call last)",
      "\u001b[0;32m<ipython-input-10-b468ce5d8f61>\u001b[0m in \u001b[0;36m<module>\u001b[0;34m\u001b[0m\n\u001b[0;32m----> 1\u001b[0;31m \u001b[0mb1\u001b[0m \u001b[0;34m=\u001b[0m \u001b[0mBusiness\u001b[0m\u001b[0;34m.\u001b[0m\u001b[0mquery\u001b[0m\u001b[0;34m.\u001b[0m\u001b[0mfilter_by\u001b[0m\u001b[0;34m(\u001b[0m\u001b[0mid\u001b[0m\u001b[0;34m=\u001b[0m\u001b[0;36m1\u001b[0m\u001b[0;34m)\u001b[0m\u001b[0;34m.\u001b[0m\u001b[0moptions\u001b[0m\u001b[0;34m(\u001b[0m\u001b[0msubqueryload\u001b[0m\u001b[0;34m(\u001b[0m\u001b[0mUser\u001b[0m\u001b[0;34m.\u001b[0m\u001b[0mitems\u001b[0m\u001b[0;34m)\u001b[0m\u001b[0;34m)\u001b[0m\u001b[0;34m.\u001b[0m\u001b[0mall\u001b[0m\u001b[0;34m(\u001b[0m\u001b[0;34m)\u001b[0m\u001b[0;34m\u001b[0m\u001b[0;34m\u001b[0m\u001b[0m\n\u001b[0m",
      "\u001b[0;32m/usr/local/lib/python3.7/site-packages/sqlalchemy/orm/query.py\u001b[0m in \u001b[0;36moptions\u001b[0;34m(self, *args)\u001b[0m\n\u001b[1;32m   1575\u001b[0m \u001b[0;34m\u001b[0m\u001b[0m\n\u001b[1;32m   1576\u001b[0m         \"\"\"\n\u001b[0;32m-> 1577\u001b[0;31m         \u001b[0;32mreturn\u001b[0m \u001b[0mself\u001b[0m\u001b[0;34m.\u001b[0m\u001b[0m_options\u001b[0m\u001b[0;34m(\u001b[0m\u001b[0;32mFalse\u001b[0m\u001b[0;34m,\u001b[0m \u001b[0;34m*\u001b[0m\u001b[0margs\u001b[0m\u001b[0;34m)\u001b[0m\u001b[0;34m\u001b[0m\u001b[0;34m\u001b[0m\u001b[0m\n\u001b[0m\u001b[1;32m   1578\u001b[0m \u001b[0;34m\u001b[0m\u001b[0m\n\u001b[1;32m   1579\u001b[0m     \u001b[0;32mdef\u001b[0m \u001b[0m_conditional_options\u001b[0m\u001b[0;34m(\u001b[0m\u001b[0mself\u001b[0m\u001b[0;34m,\u001b[0m \u001b[0;34m*\u001b[0m\u001b[0margs\u001b[0m\u001b[0;34m)\u001b[0m\u001b[0;34m:\u001b[0m\u001b[0;34m\u001b[0m\u001b[0;34m\u001b[0m\u001b[0m\n",
      "\u001b[0;32m<string>\u001b[0m in \u001b[0;36m_options\u001b[0;34m(self, conditional, *args)\u001b[0m\n",
      "\u001b[0;32m/usr/local/lib/python3.7/site-packages/sqlalchemy/orm/base.py\u001b[0m in \u001b[0;36mgenerate\u001b[0;34m(fn, *args, **kw)\u001b[0m\n\u001b[1;32m    218\u001b[0m         \u001b[0;32mfor\u001b[0m \u001b[0massertion\u001b[0m \u001b[0;32min\u001b[0m \u001b[0massertions\u001b[0m\u001b[0;34m:\u001b[0m\u001b[0;34m\u001b[0m\u001b[0;34m\u001b[0m\u001b[0m\n\u001b[1;32m    219\u001b[0m             \u001b[0massertion\u001b[0m\u001b[0;34m(\u001b[0m\u001b[0mself\u001b[0m\u001b[0;34m,\u001b[0m \u001b[0mfn\u001b[0m\u001b[0;34m.\u001b[0m\u001b[0m__name__\u001b[0m\u001b[0;34m)\u001b[0m\u001b[0;34m\u001b[0m\u001b[0;34m\u001b[0m\u001b[0m\n\u001b[0;32m--> 220\u001b[0;31m         \u001b[0mfn\u001b[0m\u001b[0;34m(\u001b[0m\u001b[0mself\u001b[0m\u001b[0;34m,\u001b[0m \u001b[0;34m*\u001b[0m\u001b[0margs\u001b[0m\u001b[0;34m[\u001b[0m\u001b[0;36m1\u001b[0m\u001b[0;34m:\u001b[0m\u001b[0;34m]\u001b[0m\u001b[0;34m,\u001b[0m \u001b[0;34m**\u001b[0m\u001b[0mkw\u001b[0m\u001b[0;34m)\u001b[0m\u001b[0;34m\u001b[0m\u001b[0;34m\u001b[0m\u001b[0m\n\u001b[0m\u001b[1;32m    221\u001b[0m         \u001b[0;32mreturn\u001b[0m \u001b[0mself\u001b[0m\u001b[0;34m\u001b[0m\u001b[0;34m\u001b[0m\u001b[0m\n\u001b[1;32m    222\u001b[0m \u001b[0;34m\u001b[0m\u001b[0m\n",
      "\u001b[0;32m/usr/local/lib/python3.7/site-packages/sqlalchemy/orm/query.py\u001b[0m in \u001b[0;36m_options\u001b[0;34m(self, conditional, *args)\u001b[0m\n\u001b[1;32m   1594\u001b[0m         \u001b[0;32melse\u001b[0m\u001b[0;34m:\u001b[0m\u001b[0;34m\u001b[0m\u001b[0;34m\u001b[0m\u001b[0m\n\u001b[1;32m   1595\u001b[0m             \u001b[0;32mfor\u001b[0m \u001b[0mopt\u001b[0m \u001b[0;32min\u001b[0m \u001b[0mopts\u001b[0m\u001b[0;34m:\u001b[0m\u001b[0;34m\u001b[0m\u001b[0;34m\u001b[0m\u001b[0m\n\u001b[0;32m-> 1596\u001b[0;31m                 \u001b[0mopt\u001b[0m\u001b[0;34m.\u001b[0m\u001b[0mprocess_query\u001b[0m\u001b[0;34m(\u001b[0m\u001b[0mself\u001b[0m\u001b[0;34m)\u001b[0m\u001b[0;34m\u001b[0m\u001b[0;34m\u001b[0m\u001b[0m\n\u001b[0m\u001b[1;32m   1597\u001b[0m \u001b[0;34m\u001b[0m\u001b[0m\n\u001b[1;32m   1598\u001b[0m     \u001b[0;32mdef\u001b[0m \u001b[0mwith_transformation\u001b[0m\u001b[0;34m(\u001b[0m\u001b[0mself\u001b[0m\u001b[0;34m,\u001b[0m \u001b[0mfn\u001b[0m\u001b[0;34m)\u001b[0m\u001b[0;34m:\u001b[0m\u001b[0;34m\u001b[0m\u001b[0;34m\u001b[0m\u001b[0m\n",
      "\u001b[0;32m/usr/local/lib/python3.7/site-packages/sqlalchemy/orm/strategy_options.py\u001b[0m in \u001b[0;36mprocess_query\u001b[0;34m(self, query)\u001b[0m\n\u001b[1;32m    170\u001b[0m \u001b[0;34m\u001b[0m\u001b[0m\n\u001b[1;32m    171\u001b[0m     \u001b[0;32mdef\u001b[0m \u001b[0mprocess_query\u001b[0m\u001b[0;34m(\u001b[0m\u001b[0mself\u001b[0m\u001b[0;34m,\u001b[0m \u001b[0mquery\u001b[0m\u001b[0;34m)\u001b[0m\u001b[0;34m:\u001b[0m\u001b[0;34m\u001b[0m\u001b[0;34m\u001b[0m\u001b[0m\n\u001b[0;32m--> 172\u001b[0;31m         \u001b[0mself\u001b[0m\u001b[0;34m.\u001b[0m\u001b[0m_process\u001b[0m\u001b[0;34m(\u001b[0m\u001b[0mquery\u001b[0m\u001b[0;34m,\u001b[0m \u001b[0;32mTrue\u001b[0m\u001b[0;34m)\u001b[0m\u001b[0;34m\u001b[0m\u001b[0;34m\u001b[0m\u001b[0m\n\u001b[0m\u001b[1;32m    173\u001b[0m \u001b[0;34m\u001b[0m\u001b[0m\n\u001b[1;32m    174\u001b[0m     \u001b[0;32mdef\u001b[0m \u001b[0mprocess_query_conditionally\u001b[0m\u001b[0;34m(\u001b[0m\u001b[0mself\u001b[0m\u001b[0;34m,\u001b[0m \u001b[0mquery\u001b[0m\u001b[0;34m)\u001b[0m\u001b[0;34m:\u001b[0m\u001b[0;34m\u001b[0m\u001b[0;34m\u001b[0m\u001b[0m\n",
      "\u001b[0;32m/usr/local/lib/python3.7/site-packages/sqlalchemy/orm/strategy_options.py\u001b[0m in \u001b[0;36m_process\u001b[0;34m(self, query, raiseerr)\u001b[0m\n\u001b[1;32m    659\u001b[0m                     \u001b[0mquery\u001b[0m\u001b[0;34m.\u001b[0m\u001b[0m_current_path\u001b[0m\u001b[0;34m,\u001b[0m\u001b[0;34m\u001b[0m\u001b[0;34m\u001b[0m\u001b[0m\n\u001b[1;32m    660\u001b[0m                     \u001b[0mquery\u001b[0m\u001b[0;34m.\u001b[0m\u001b[0m_attributes\u001b[0m\u001b[0;34m,\u001b[0m\u001b[0;34m\u001b[0m\u001b[0;34m\u001b[0m\u001b[0m\n\u001b[0;32m--> 661\u001b[0;31m                     \u001b[0mraiseerr\u001b[0m\u001b[0;34m,\u001b[0m\u001b[0;34m\u001b[0m\u001b[0;34m\u001b[0m\u001b[0m\n\u001b[0m\u001b[1;32m    662\u001b[0m                 )\n\u001b[1;32m    663\u001b[0m \u001b[0;34m\u001b[0m\u001b[0m\n",
      "\u001b[0;32m/usr/local/lib/python3.7/site-packages/sqlalchemy/orm/strategy_options.py\u001b[0m in \u001b[0;36m_bind_loader\u001b[0;34m(self, entities, current_path, context, raiseerr)\u001b[0m\n\u001b[1;32m    800\u001b[0m             \u001b[0mprop\u001b[0m \u001b[0;34m=\u001b[0m \u001b[0mtoken\u001b[0m\u001b[0;34m.\u001b[0m\u001b[0mproperty\u001b[0m\u001b[0;34m\u001b[0m\u001b[0;34m\u001b[0m\u001b[0m\n\u001b[1;32m    801\u001b[0m             entity = self._find_entity_prop_comparator(\n\u001b[0;32m--> 802\u001b[0;31m                 \u001b[0mentities\u001b[0m\u001b[0;34m,\u001b[0m \u001b[0mprop\u001b[0m\u001b[0;34m,\u001b[0m \u001b[0mtoken\u001b[0m\u001b[0;34m.\u001b[0m\u001b[0m_parententity\u001b[0m\u001b[0;34m,\u001b[0m \u001b[0mraiseerr\u001b[0m\u001b[0;34m\u001b[0m\u001b[0;34m\u001b[0m\u001b[0m\n\u001b[0m\u001b[1;32m    803\u001b[0m             )\n\u001b[1;32m    804\u001b[0m         \u001b[0;32melif\u001b[0m \u001b[0mself\u001b[0m\u001b[0;34m.\u001b[0m\u001b[0mis_class_strategy\u001b[0m \u001b[0;32mand\u001b[0m \u001b[0m_is_mapped_class\u001b[0m\u001b[0;34m(\u001b[0m\u001b[0mtoken\u001b[0m\u001b[0;34m)\u001b[0m\u001b[0;34m:\u001b[0m\u001b[0;34m\u001b[0m\u001b[0;34m\u001b[0m\u001b[0m\n",
      "\u001b[0;32m/usr/local/lib/python3.7/site-packages/sqlalchemy/orm/strategy_options.py\u001b[0m in \u001b[0;36m_find_entity_prop_comparator\u001b[0;34m(self, entities, prop, mapper, raiseerr)\u001b[0m\n\u001b[1;32m    895\u001b[0m                         \u001b[0;34m\"from one of the root entities to the target \"\u001b[0m\u001b[0;34m\u001b[0m\u001b[0;34m\u001b[0m\u001b[0m\n\u001b[1;32m    896\u001b[0m                         \u001b[0;34m\"attribute. \"\u001b[0m\u001b[0;34m\u001b[0m\u001b[0;34m\u001b[0m\u001b[0m\n\u001b[0;32m--> 897\u001b[0;31m                         \u001b[0;34m%\u001b[0m \u001b[0;34m(\u001b[0m\u001b[0mprop\u001b[0m\u001b[0;34m,\u001b[0m \u001b[0;34m\", \"\u001b[0m\u001b[0;34m.\u001b[0m\u001b[0mjoin\u001b[0m\u001b[0;34m(\u001b[0m\u001b[0mstr\u001b[0m\u001b[0;34m(\u001b[0m\u001b[0mx\u001b[0m\u001b[0;34m)\u001b[0m \u001b[0;32mfor\u001b[0m \u001b[0mx\u001b[0m \u001b[0;32min\u001b[0m \u001b[0mentities\u001b[0m\u001b[0;34m)\u001b[0m\u001b[0;34m)\u001b[0m\u001b[0;34m\u001b[0m\u001b[0;34m\u001b[0m\u001b[0m\n\u001b[0m\u001b[1;32m    898\u001b[0m                     )\n\u001b[1;32m    899\u001b[0m             \u001b[0;32melse\u001b[0m\u001b[0;34m:\u001b[0m\u001b[0;34m\u001b[0m\u001b[0;34m\u001b[0m\u001b[0m\n",
      "\u001b[0;31mArgumentError\u001b[0m: Mapped attribute \"User.items\" does not apply to any of the root entities in this query, e.g. mapped class Business->business. Please specify the full path from one of the root entities to the target attribute. "
     ]
    }
   ],
   "source": [
    "b1 = Business.query.filter_by(id=1).options(subqueryload(User.items)).all()"
   ]
  },
  {
   "cell_type": "code",
   "execution_count": 9,
   "metadata": {},
   "outputs": [],
   "source": [
    "from sqlalchemy.orm import subqueryload"
   ]
  },
  {
   "cell_type": "code",
   "execution_count": null,
   "metadata": {},
   "outputs": [],
   "source": [
    "q = db.session.query(Tag.text) # @new:modified\n",
    "q = q.join(Tag.article)\n",
    "q = q.join(Article.project)\n",
    "q = q.filter(Project.id == project_id)\n",
    "q = q.filter(Article.date_created.between(now-timedelta(hours=1), now))\n",
    "tags = q.all()\n",
    "return tags # @not"
   ]
  },
  {
   "cell_type": "code",
   "execution_count": 13,
   "metadata": {},
   "outputs": [],
   "source": [
    "b1_items = Item.query.join(Item.user).join(User.employer).filter(Business.id == 1).all()"
   ]
  },
  {
   "cell_type": "code",
   "execution_count": 14,
   "metadata": {},
   "outputs": [
    {
     "data": {
      "text/plain": [
       "[<Item 1>, <Item 2>]"
      ]
     },
     "execution_count": 14,
     "metadata": {},
     "output_type": "execute_result"
    }
   ],
   "source": [
    "b1_items"
   ]
  },
  {
   "cell_type": "code",
   "execution_count": null,
   "metadata": {},
   "outputs": [],
   "source": []
  },
  {
   "cell_type": "code",
   "execution_count": null,
   "metadata": {},
   "outputs": [],
   "source": []
  },
  {
   "cell_type": "code",
   "execution_count": null,
   "metadata": {},
   "outputs": [],
   "source": []
  },
  {
   "cell_type": "code",
   "execution_count": null,
   "metadata": {},
   "outputs": [],
   "source": []
  },
  {
   "cell_type": "code",
   "execution_count": 2,
   "metadata": {},
   "outputs": [],
   "source": [
    "class Transaction(db.Model):  # type: ignore\n",
    "    \"\"\" User parent model \"\"\"\n",
    "    __tablename__ = \"transaction\"\n",
    "\n",
    "    code = db.Column(db.String(8), primary_key=True)\n",
    "    item_tax_rate_type_code = db.Column(db.String(8), db.ForeignKey('tax_rate_type.code'), nullable=False)\n",
    "    shipment_tax_rate_type_code = db.Column(db.String(8), db.ForeignKey('tax_rate_type.code'))\n",
    "    gift_wrap_tax_rate_type_code = db.Column(db.String(8), db.ForeignKey('tax_rate_type.code'))\n",
    "    \n",
    "\n",
    "class TaxRateType(db.Model):  # type: ignore\n",
    "    \"\"\" User parent model \"\"\"\n",
    "    __tablename__ = \"tax_rate_type\"\n",
    "\n",
    "    code = db.Column(db.String(8), primary_key=True)\n",
    "    transaction_items = db.relationship('Transaction', backref='item_tax_rate_type', foreign_keys='Transaction.item_tax_rate_type_code', lazy=True)\n",
    "    transaction_shipments = db.relationship('Transaction', backref='shipment_tax_rate_type', foreign_keys='Transaction.shipment_tax_rate_type_code', lazy=True)\n",
    "    transaction_gift_wraps = db.relationship('Transaction', backref='gift_wrap_tax_rate_type', foreign_keys='Transaction.gift_wrap_tax_rate_type_code', lazy=True)\n",
    "\n",
    "\n",
    "    \n"
   ]
  },
  {
   "cell_type": "code",
   "execution_count": 3,
   "metadata": {},
   "outputs": [],
   "source": [
    "db.create_all()"
   ]
  },
  {
   "cell_type": "code",
   "execution_count": 4,
   "metadata": {},
   "outputs": [],
   "source": [
    "v1 = TaxRateType(code=\"A\")\n",
    "v2 = TaxRateType(code=\"B\")\n",
    "db.session.add(v1)\n",
    "db.session.add(v2)\n",
    "\n",
    "t1 = Transaction(code=\"T1\", item_tax_rate_type_code=\"A\", shipment_tax_rate_type_code=\"B\", gift_wrap_tax_rate_type_code=\"A\")\n",
    "t2 = Transaction(code=\"T2\", item_tax_rate_type_code=\"B\", shipment_tax_rate_type_code=\"B\", gift_wrap_tax_rate_type_code=\"B\")\n",
    "\n",
    "db.session.add(t1)\n",
    "db.session.add(t2)\n",
    "\n",
    "db.session.commit()\n",
    "\n"
   ]
  },
  {
   "cell_type": "code",
   "execution_count": 12,
   "metadata": {},
   "outputs": [
    {
     "data": {
      "text/plain": [
       "[<Transaction T1>, <Transaction T2>]"
      ]
     },
     "execution_count": 12,
     "metadata": {},
     "output_type": "execute_result"
    }
   ],
   "source": [
    "v2.transaction_shipments"
   ]
  },
  {
   "cell_type": "code",
   "execution_count": 13,
   "metadata": {},
   "outputs": [],
   "source": []
  },
  {
   "cell_type": "code",
   "execution_count": null,
   "metadata": {},
   "outputs": [],
   "source": []
  },
  {
   "cell_type": "code",
   "execution_count": null,
   "metadata": {},
   "outputs": [],
   "source": []
  }
 ],
 "metadata": {
  "kernelspec": {
   "display_name": "Python 3",
   "language": "python",
   "name": "python3"
  },
  "language_info": {
   "codemirror_mode": {
    "name": "ipython",
    "version": 3
   },
   "file_extension": ".py",
   "mimetype": "text/x-python",
   "name": "python",
   "nbconvert_exporter": "python",
   "pygments_lexer": "ipython3",
   "version": "3.7.6"
  }
 },
 "nbformat": 4,
 "nbformat_minor": 4
}
