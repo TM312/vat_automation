{
 "cells": [
  {
   "cell_type": "code",
   "execution_count": 1,
   "metadata": {},
   "outputs": [],
   "source": [
    "from datetime import datetime, date, timedelta\n",
    "from typing import Dict, List\n",
    "import os\n",
    "from flask import Flask\n",
    "from flask_sqlalchemy import SQLAlchemy\n",
    "from sqlalchemy.ext.declarative import declared_attr\n",
    "import uuid\n",
    "from sqlalchemy.dialects.postgresql import UUID\n",
    "\n",
    "\n",
    "app = Flask(__name__)\n",
    "\n",
    "app.config['SQLALCHEMY_DATABASE_URI'] = \"sqlite://\"\n",
    "app.config[\"SQLALCHEMY_TRACK_MODIFICATIONS\"] = False\n",
    "\n",
    "db = SQLAlchemy(app)\n"
   ]
  },
  {
   "cell_type": "code",
   "execution_count": 2,
   "metadata": {},
   "outputs": [
    {
     "name": "stdout",
     "output_type": "stream",
     "text": [
      "0.57\n"
     ]
    }
   ],
   "source": [
    "a = ''\n",
    "\n",
    "b = '0.57'\n",
    "\n",
    "c = float(b)\n",
    "print(c)"
   ]
  },
  {
   "cell_type": "code",
   "execution_count": 2,
   "metadata": {},
   "outputs": [],
   "source": [
    "class Business(db.Model):  # type: ignore\n",
    "    \"\"\" Business parent model \"\"\"\n",
    "    __tablename__ = \"business\"\n",
    "\n",
    "    id = db.Column(db.Integer, primary_key=True)\n",
    "    name = db.Column(db.String(24))\n",
    "    created_on = db.Column(db.DateTime, default=datetime.utcnow)\n",
    "    created_by = db.Column(db.Integer,  db.ForeignKey('user.id', name='fk_user_business_created_by'))\n",
    "    employees = db.relationship('User', backref=\"employer\", primaryjoin='User.employer_id==Business.id')\n",
    "\n",
    "    \n",
    "    \n",
    "class User(db.Model):  # type: ignore\n",
    "    \"\"\" User parent model \"\"\"\n",
    "    __tablename__ = \"user\"\n",
    "\n",
    "    id = db.Column(db.Integer, primary_key=True)\n",
    "    employer_id = db.Column(db.Integer, db.ForeignKey('business.id', name='fk_business_user_employer_id'))\n",
    "    created_businesses = db.relationship('Business', backref='creator', order_by=\"desc(Business.created_on)\", primaryjoin='Business.created_by==User.id', post_update=True)\n",
    "    items = db.relationship('Item', backref=\"user\", lazy='select')\n",
    "\n",
    "    \n",
    "    \n",
    "class Item(db.Model):  # type: ignore\n",
    "    \"\"\" User parent model \"\"\"\n",
    "    __tablename__ = \"item\"\n",
    "\n",
    "    id = db.Column(db.Integer, primary_key=True)\n",
    "    user_id = db.Column(db.Integer, db.ForeignKey('user.id', name='fk_user_item_user_id'))\n",
    "    \n",
    "    "
   ]
  },
  {
   "cell_type": "code",
   "execution_count": 3,
   "metadata": {},
   "outputs": [
    {
     "name": "stdout",
     "output_type": "stream",
     "text": [
      "committing\n",
      "Dopping all\n",
      "Creating all\n"
     ]
    }
   ],
   "source": [
    "#db.reflect()\n",
    "print(\"committing\") #https://stackoverflow.com/questions/24289808/drop-all-freezes-in-flask-with-sqlalchemy\n",
    "db.session.remove()\n",
    "\n",
    "print(\"Dopping all\")\n",
    "db.drop_all()\n",
    "\n",
    "print(\"Creating all\")\n",
    "db.create_all()"
   ]
  },
  {
   "cell_type": "code",
   "execution_count": 4,
   "metadata": {},
   "outputs": [
    {
     "name": "stdout",
     "output_type": "stream",
     "text": [
      "[<User 1>, <User 2>]\n",
      "b1\n",
      "[<Business 1>]\n",
      "2\n",
      "[<Item 1>, <Item 2>]\n"
     ]
    }
   ],
   "source": [
    "b1 = Business(name=\"b1\")\n",
    "b2 = Business(name=\"b2\")\n",
    "\n",
    "u1 = User()\n",
    "u2 = User()\n",
    "\n",
    "i1 = Item()\n",
    "i2 = Item()\n",
    "\n",
    "db.session.add(b1)\n",
    "db.session.add(b2)\n",
    "db.session.add(u1)\n",
    "db.session.add(u2)\n",
    "db.session.add(i1)\n",
    "db.session.add(i2)\n",
    "\n",
    "db.session.commit()\n",
    "\n",
    "b1.employees.append(u1)\n",
    "b1.employees.append(u2)\n",
    "u1.created_businesses.append(b1)\n",
    "u2.created_businesses.append(b2)\n",
    "u1.items.append(i1)\n",
    "u1.items.append(i2)\n",
    "db.session.commit()\n",
    "\n",
    "print(b1.employees)\n",
    "print(u1.employer.name)\n",
    "print(u1.created_businesses)\n",
    "print(b2.created_by)\n",
    "print(u1.items)\n"
   ]
  },
  {
   "cell_type": "code",
   "execution_count": null,
   "metadata": {},
   "outputs": [],
   "source": []
  }
 ],
 "metadata": {
  "kernelspec": {
   "display_name": "Python 3",
   "language": "python",
   "name": "python3"
  },
  "language_info": {
   "codemirror_mode": {
    "name": "ipython",
    "version": 3
   },
   "file_extension": ".py",
   "mimetype": "text/x-python",
   "name": "python",
   "nbconvert_exporter": "python",
   "pygments_lexer": "ipython3",
   "version": "3.7.6"
  }
 },
 "nbformat": 4,
 "nbformat_minor": 4
}
