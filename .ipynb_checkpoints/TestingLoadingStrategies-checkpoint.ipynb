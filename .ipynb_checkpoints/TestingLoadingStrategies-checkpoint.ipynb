{
 "cells": [
  {
   "cell_type": "code",
   "execution_count": 1,
   "metadata": {},
   "outputs": [],
   "source": [
    "from datetime import datetime, date, timedelta\n",
    "from typing import Dict, List\n",
    "import os\n",
    "from flask import Flask\n",
    "from flask_sqlalchemy import SQLAlchemy\n",
    "from sqlalchemy.ext.declarative import declared_attr\n",
    "import uuid\n",
    "from sqlalchemy.dialects.postgresql import UUID\n",
    "\n",
    "\n",
    "app = Flask(__name__)\n",
    "\n",
    "app.config['SQLALCHEMY_DATABASE_URI'] = \"sqlite:///\"\n",
    "app.config[\"SQLALCHEMY_TRACK_MODIFICATIONS\"] = False\n",
    "\n",
    "db = SQLAlchemy(app)\n"
   ]
  },
  {
   "cell_type": "code",
   "execution_count": 2,
   "metadata": {},
   "outputs": [],
   "source": [
    "from urllib import request\n",
    "import xml.etree.ElementTree as ET"
   ]
  },
  {
   "cell_type": "code",
   "execution_count": 5,
   "metadata": {},
   "outputs": [],
   "source": [
    "def check_vat(country_code: str, number: str):\n",
    "    \"\"\"Checks if given VAT code is valid and (if possible) fetches the name\n",
    "    and address of the entity with that code.\n",
    "    :param country_code: valid IS0 3166 country code.\n",
    "    :param vat: VAT number to check.\n",
    "    :return: instance of :class:`CheckVATResult`.\n",
    "    :raises ValueError: when the country code is invalid or the VAT is empty.\n",
    "    \"\"\"\n",
    "    \n",
    "\n",
    "    # Prepare the SOAP request\n",
    "    envelope = ET.Element(\n",
    "        \"soapenv:Envelope\",\n",
    "        attrib={\n",
    "            \"xmlns:hs\": \"urn:ec.europa.eu:taxud:vies:services:checkVat:types\",\n",
    "            \"xmlns:soapenv\": \"http://schemas.xmlsoap.org/soap/envelope/\",\n",
    "        },\n",
    "    )\n",
    "    body = ET.SubElement(envelope, \"soapenv:Body\")\n",
    "    action = ET.SubElement(body, \"hs:checkVat\")\n",
    "    ET.SubElement(action, \"hs:countryCode\").text = country_code\n",
    "    ET.SubElement(action, \"hs:vatNumber\").text = number\n",
    "    payload = ET.tostring(envelope, encoding=\"utf-8\")\n",
    "\n",
    "    # Send the SOAP request to VIES Webservice\n",
    "    url = \"http://ec.europa.eu/taxation_customs/vies/services/checkVatService\"\n",
    "    req = request.Request(url, data=payload)\n",
    "    res = request.urlopen(req)\n",
    "\n",
    "    # Parse the result\n",
    "    res_envelope = ET.fromstring(res.read())\n",
    "    namespace = \"urn:ec.europa.eu:taxud:vies:services:checkVat:types\"\n",
    "    request_date = res_envelope.find(\".//{{{}}}requestDate\".format(namespace))\n",
    "    valid = res_envelope.find(\".//{{{}}}valid\".format(namespace))\n",
    "    name = res_envelope.find(\".//{{{}}}name\".format(namespace))\n",
    "    address = res_envelope.find(\".//{{{}}}address\".format(namespace))\n",
    "\n",
    "    response_object = {\n",
    "        'country_code': country_code,\n",
    "        'vat': number,\n",
    "        'valid': valid is not None and valid.text == \"true\",\n",
    "        'name': name.text if name is not None else None,\n",
    "        'address': address.text if address is not None else None\n",
    "    }\n",
    "    \n",
    "    return response_object"
   ]
  },
  {
   "cell_type": "code",
   "execution_count": 6,
   "metadata": {},
   "outputs": [],
   "source": [
    "response_object = check_vat('CZ', '684811557')"
   ]
  },
  {
   "cell_type": "code",
   "execution_count": 7,
   "metadata": {},
   "outputs": [
    {
     "data": {
      "text/plain": [
       "{'country_code': 'CZ',\n",
       " 'vat': '684811557',\n",
       " 'valid': True,\n",
       " 'name': 'FRIAS SEPULVEDA A R Y GUZMAN SEPULVEDA M A',\n",
       " 'address': 'Cl Monasterio de Irache 4\\n31591 CORELLA (NAVARRA)\\n '}"
      ]
     },
     "execution_count": 7,
     "metadata": {},
     "output_type": "execute_result"
    }
   ],
   "source": [
    "response_object"
   ]
  },
  {
   "cell_type": "code",
   "execution_count": 9,
   "metadata": {},
   "outputs": [
    {
     "name": "stderr",
     "output_type": "stream",
     "text": [
      "Forcing soap:address location to HTTPS\n"
     ]
    }
   ],
   "source": [
    "VIES_WSDL_URL = (\n",
    "    \"https://ec.europa.eu/taxation_customs/vies/checkVatService.wsdl\"  # NoQA\n",
    ")\n",
    "from zeep import Client, helpers\n",
    "client = Client(VIES_WSDL_URL)\n"
   ]
  },
  {
   "cell_type": "code",
   "execution_count": 11,
   "metadata": {},
   "outputs": [],
   "source": [
    "vat_zeep_object = client.service.checkVat('CZ', '684811557')\n",
    "vat = helpers.serialize_object(vat_zeep_object)"
   ]
  },
  {
   "cell_type": "code",
   "execution_count": 12,
   "metadata": {},
   "outputs": [
    {
     "data": {
      "text/plain": [
       "OrderedDict([('countryCode', 'CZ'),\n",
       "             ('vatNumber', '684811557'),\n",
       "             ('requestDate', datetime.date(2020, 7, 11)),\n",
       "             ('valid', True),\n",
       "             ('name', 'FRIAS SEPULVEDA A R Y GUZMAN SEPULVEDA M A'),\n",
       "             ('address',\n",
       "              'Cl Monasterio de Irache 4\\n31591 CORELLA (NAVARRA)\\n ')])"
      ]
     },
     "execution_count": 12,
     "metadata": {},
     "output_type": "execute_result"
    }
   ],
   "source": [
    "vat"
   ]
  },
  {
   "cell_type": "code",
   "execution_count": 2,
   "metadata": {},
   "outputs": [],
   "source": [
    "class User(db.Model):  # type: ignore\n",
    "    \"\"\" User parent model \"\"\"\n",
    "    __tablename__ = \"user\"\n",
    "\n",
    "    id = db.Column(db.Integer, primary_key=True)\n",
    "    name = db.Column(db.String)\n",
    "    level = db.Column(db.Integer)\n",
    "    \n",
    "    def __repr__(self):\n",
    "        return '<User: {} | Name: {} | Level: {}>'.format(self.id, self.name, self.level)\n",
    "\n",
    "    \n",
    "    def update(self, data_changes):\n",
    "        for key, val in data_changes.items():\n",
    "            setattr(self, key, val)\n",
    "        return self\n",
    "    \n",
    "    def update_diverging(self, data_changes):\n",
    "        for k, v in data_changes.items():\n",
    "            if data_changes[k] is not None and data_changes[k] != getattr(self, k):\n",
    "                setattr(self, k, v)\n",
    "        return self\n",
    "    "
   ]
  },
  {
   "cell_type": "code",
   "execution_count": 4,
   "metadata": {},
   "outputs": [
    {
     "name": "stdout",
     "output_type": "stream",
     "text": [
      "<User: 1 | Name: Thomas | Level: 5>\n",
      "<User: 2 | Name: Tobi | Level: 2>\n"
     ]
    }
   ],
   "source": [
    "u1 = User(name='Thomas', level=5)\n",
    "u2 = User(name='Tobi', level=2)\n",
    "\n",
    "db.session.add(u1)\n",
    "db.session.add(u2)\n",
    "db.session.commit()\n",
    "\n",
    "data_changes = {\n",
    "    'name': 'Egon'\n",
    "}\n",
    "\n",
    "print(u1)\n",
    "print(u2)"
   ]
  },
  {
   "cell_type": "code",
   "execution_count": 5,
   "metadata": {},
   "outputs": [],
   "source": [
    "u1.update_diverging(data_changes)\n",
    "u2.update_diverging(data_changes)\n",
    "\n",
    "db.session.commit()"
   ]
  },
  {
   "cell_type": "code",
   "execution_count": 6,
   "metadata": {},
   "outputs": [
    {
     "name": "stdout",
     "output_type": "stream",
     "text": [
      "<User: 1 | Name: Egon | Level: 5>\n",
      "<User: 2 | Name: Egon | Level: 2>\n"
     ]
    }
   ],
   "source": [
    "print(u1)\n",
    "print(u2)"
   ]
  },
  {
   "cell_type": "code",
   "execution_count": 2,
   "metadata": {},
   "outputs": [],
   "source": [
    "class Business(db.Model):  # type: ignore\n",
    "    \"\"\" Business parent model \"\"\"\n",
    "    __tablename__ = \"business\"\n",
    "\n",
    "    id = db.Column(db.Integer, primary_key=True)\n",
    "    name = db.Column(db.String(24))\n",
    "    created_on = db.Column(db.DateTime, default=datetime.utcnow)\n",
    "    created_by = db.Column(db.Integer,  db.ForeignKey('user.id', name='fk_user_business_created_by'))\n",
    "    employees = db.relationship('User', backref=\"employer\", primaryjoin='User.employer_id==Business.id')\n",
    "\n",
    "    \n",
    "    \n",
    "class User(db.Model):  # type: ignore\n",
    "    \"\"\" User parent model \"\"\"\n",
    "    __tablename__ = \"user\"\n",
    "\n",
    "    id = db.Column(db.Integer, primary_key=True)\n",
    "    employer_id = db.Column(db.Integer, db.ForeignKey('business.id', name='fk_business_user_employer_id'))\n",
    "    created_businesses = db.relationship('Business', backref='creator', order_by=\"desc(Business.created_on)\", primaryjoin='Business.created_by==User.id', post_update=True)\n",
    "    items = db.relationship('Item', backref=\"user\", lazy='select')\n",
    "\n",
    "    \n",
    "    \n",
    "class Item(db.Model):  # type: ignore\n",
    "    \"\"\" User parent model \"\"\"\n",
    "    __tablename__ = \"item\"\n",
    "\n",
    "    id = db.Column(db.Integer, primary_key=True)\n",
    "    user_id = db.Column(db.Integer, db.ForeignKey('user.id', name='fk_user_item_user_id'))\n",
    "    \n",
    "    "
   ]
  },
  {
   "cell_type": "code",
   "execution_count": 3,
   "metadata": {},
   "outputs": [
    {
     "name": "stdout",
     "output_type": "stream",
     "text": [
      "committing\n",
      "Dopping all\n",
      "Creating all\n"
     ]
    }
   ],
   "source": [
    "#db.reflect()\n",
    "print(\"committing\") #https://stackoverflow.com/questions/24289808/drop-all-freezes-in-flask-with-sqlalchemy\n",
    "db.session.remove()\n",
    "\n",
    "print(\"Dopping all\")\n",
    "db.drop_all()\n",
    "\n",
    "print(\"Creating all\")\n",
    "db.create_all()"
   ]
  },
  {
   "cell_type": "code",
   "execution_count": 4,
   "metadata": {},
   "outputs": [
    {
     "name": "stdout",
     "output_type": "stream",
     "text": [
      "[<User 1>, <User 2>]\n",
      "b1\n",
      "[<Business 1>]\n",
      "2\n",
      "[<Item 1>, <Item 2>]\n"
     ]
    }
   ],
   "source": [
    "b1 = Business(name=\"b1\")\n",
    "b2 = Business(name=\"b2\")\n",
    "\n",
    "u1 = User()\n",
    "u2 = User()\n",
    "\n",
    "i1 = Item()\n",
    "i2 = Item()\n",
    "\n",
    "db.session.add(b1)\n",
    "db.session.add(b2)\n",
    "db.session.add(u1)\n",
    "db.session.add(u2)\n",
    "db.session.add(i1)\n",
    "db.session.add(i2)\n",
    "\n",
    "db.session.commit()\n",
    "\n",
    "b1.employees.append(u1)\n",
    "b1.employees.append(u2)\n",
    "u1.created_businesses.append(b1)\n",
    "u2.created_businesses.append(b2)\n",
    "u1.items.append(i1)\n",
    "u1.items.append(i2)\n",
    "db.session.commit()\n",
    "\n",
    "print(b1.employees)\n",
    "print(u1.employer.name)\n",
    "print(u1.created_businesses)\n",
    "print(b2.created_by)\n",
    "print(u1.items)\n"
   ]
  },
  {
   "cell_type": "code",
   "execution_count": null,
   "metadata": {},
   "outputs": [],
   "source": []
  }
 ],
 "metadata": {
  "kernelspec": {
   "display_name": "Python 3",
   "language": "python",
   "name": "python3"
  },
  "language_info": {
   "codemirror_mode": {
    "name": "ipython",
    "version": 3
   },
   "file_extension": ".py",
   "mimetype": "text/x-python",
   "name": "python",
   "nbconvert_exporter": "python",
   "pygments_lexer": "ipython3",
   "version": "3.7.6"
  }
 },
 "nbformat": 4,
 "nbformat_minor": 4
}
