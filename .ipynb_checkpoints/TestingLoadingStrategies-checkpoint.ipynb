{
 "cells": [
  {
   "cell_type": "code",
   "execution_count": 1,
   "metadata": {},
   "outputs": [],
   "source": [
    "from datetime import datetime, date, timedelta\n",
    "from typing import Dict, List\n",
    "import os\n",
    "from flask import Flask\n",
    "from flask_sqlalchemy import SQLAlchemy\n",
    "from sqlalchemy.ext.declarative import declared_attr\n",
    "import uuid\n",
    "from sqlalchemy.dialects.postgresql import UUID\n",
    "from sqlalchemy import or_\n",
    "\n",
    "\n",
    "app = Flask(__name__)\n",
    "\n",
    "app.config['SQLALCHEMY_DATABASE_URI'] = \"sqlite://\"\n",
    "app.config[\"SQLALCHEMY_TRACK_MODIFICATIONS\"] = False\n",
    "\n",
    "db = SQLAlchemy(app)\n"
   ]
  },
  {
   "cell_type": "code",
   "execution_count": 2,
   "metadata": {},
   "outputs": [],
   "source": [
    "exchange_rate_dict = {'USD': '1.1870', 'JPY': '122.66', 'BGN': '1.9558', 'CZK': '26.667', 'DKK': '7.4493', 'GBP': '0.90430', 'HUF': '359.02', 'PLN': '4.5263', 'RON': '4.8670', 'SEK': '10.2805', 'CHF': '1.0682', 'ISK': '163.50', 'NOK': '10.9203', 'HRK': '7.5590', 'RUB': '92.4200', 'TRY': '10.1489', 'AUD': '1.6359', 'BRL': '6.6072', 'CAD': '1.5525', 'CNY': '7.8468', 'HKD': '9.2030', 'IDR': '16943.12', 'ILS': '4.0076', 'INR': '88.0085', 'KRW': '1332.60', 'MXN': '24.6840', 'MYR': '4.9005', 'NZD': '1.7507', 'PHP': '57.192', 'SGD': '1.5999', 'THB': '36.287', 'ZAR': '18.6933'}\n",
    "SUPPORTED_CURRENCIES = ['GBP', 'CZK', 'PLN', 'HUF', 'DKK', 'SEK', 'CHF', 'NOK'] #besides 'EUR'\n"
   ]
  },
  {
   "cell_type": "code",
   "execution_count": 13,
   "metadata": {},
   "outputs": [],
   "source": [
    "def process_ecb_rates(date, exchange_rate_dict: Dict, supported_currencies: List[str]) -> None:\n",
    "    import more_itertools as mit\n",
    "    current_app.logger.info('hell')\n",
    "    current_app.logger.info(date,\n",
    "                            exchange_rate_dict,\n",
    "                            supported_currencies)\n",
    "\n",
    "    for currency_code in supported_currencies:\n",
    "        value = exchange_rate_dict[currency_code]\n",
    "        current_app.logger.info('value', value)\n",
    "\n",
    "\n",
    "        exchange_rate_data = {\n",
    "            'source': 'ECB',\n",
    "            'date': date,\n",
    "            'base': 'EUR',\n",
    "            'target': currency_code,\n",
    "            'rate': round(float(value), 5)\n",
    "        }\n",
    "        \n",
    "        print(\"\")\n",
    "        print(exchange_rate_data)\n",
    "        print(\"\")"
   ]
  },
  {
   "cell_type": "code",
   "execution_count": 2,
   "metadata": {},
   "outputs": [],
   "source": [
    "class Business(db.Model):\n",
    "    __tablename__ = 'business'\n",
    "    id = db.Column(db.Integer, primary_key=True)\n",
    "    name = db.Column(db.String(128), unique=True) #UUID(as_uuid=True), unique=True, default=uuid4)\n",
    "    public_id = db.Column(db.String(128), unique=True) #UUID(as_uuid=True), unique=True, default=uuid4)\n",
    "    \n",
    "    def __init__(self, **kwargs):\n",
    "        super().__init__(**kwargs)\n",
    "        self.public_id = BusinessService.create_public_id(kwargs.get('name'))\n",
    "\n",
    "\n",
    "    def update(self, data_changes):\n",
    "        for k, v in data_changes.items():\n",
    "            setattr(self, k, v)\n",
    "            if k == 'name':\n",
    "                self.public_id=BusinessService.create_public_id(v)\n",
    "\n",
    "        #self.modified_at = datetime.utcnow()\n",
    "        #self.times_modified += 1\n",
    "        return self\n",
    "\n",
    "\n",
    "class BusinessService:\n",
    "\n",
    "    @staticmethod\n",
    "    def stringify(string_raw: str) -> str:\n",
    "        import re\n",
    "        pattern = re.compile(r'-{2,}')\n",
    "        #https://stackoverflow.com/questions/23996118/replace-special-characters-in-a-string-python\n",
    "        string = string_raw.lower().translate({ord(c): \" \" for c in \"!@#$%^&*()[]{};:,./<>?\\|`~-=_+\"}).replace(\" \", \"-\").strip(\"-\")\n",
    "        return re.sub(pattern, \"-\", string)\n",
    "\n",
    "\n",
    "    @staticmethod\n",
    "    def get_by_public_id(public_id: str) -> Business:\n",
    "        return Business.query.filter_by(public_id = public_id).first()\n",
    "    \n",
    "    @staticmethod\n",
    "    def create_public_id(name_pre):\n",
    "        name = BusinessService.stringify(name_pre)\n",
    "        business_exist = True\n",
    "        i = 0\n",
    "        while business_exist:\n",
    "            business = BusinessService.get_by_public_id(name)\n",
    "            if isinstance(business, Business):\n",
    "                i += 1\n",
    "                name = name + str(i)\n",
    "            else:\n",
    "                business_exist = False\n",
    "\n",
    "        return name"
   ]
  },
  {
   "cell_type": "code",
   "execution_count": 3,
   "metadata": {},
   "outputs": [],
   "source": [
    "db.create_all()"
   ]
  },
  {
   "cell_type": "code",
   "execution_count": null,
   "metadata": {},
   "outputs": [],
   "source": [
    "whi"
   ]
  },
  {
   "cell_type": "code",
   "execution_count": 4,
   "metadata": {},
   "outputs": [],
   "source": [
    "t1 = Business(name = 'Hallo')\n",
    "t2 = Business(name = 'Ciao')\n",
    "#t3 = Test(public_id = 'Ciao!')\n",
    "\n",
    "db.session.add(t1)\n",
    "db.session.add(t2)\n",
    "#db.session.add(t3)\n",
    "\n",
    "db.session.commit()"
   ]
  },
  {
   "cell_type": "code",
   "execution_count": 5,
   "metadata": {},
   "outputs": [],
   "source": [
    "t3 = Business(name = 'Ciao!')\n",
    "\n",
    "db.session.add(t3)\n",
    "db.session.commit()"
   ]
  },
  {
   "cell_type": "code",
   "execution_count": 6,
   "metadata": {},
   "outputs": [
    {
     "name": "stdout",
     "output_type": "stream",
     "text": [
      "1 Hallo hallo\n",
      "2 Ciao ciao\n",
      "3 Ciao! ciao1\n"
     ]
    }
   ],
   "source": [
    "asll = Business.query.all()\n",
    "for a in asll:\n",
    "    print(a.id, a.name, a.public_id)"
   ]
  },
  {
   "cell_type": "code",
   "execution_count": 8,
   "metadata": {},
   "outputs": [
    {
     "ename": "AttributeError",
     "evalue": "'Business' object has no attribute 'times_modified'",
     "output_type": "error",
     "traceback": [
      "\u001b[0;31m---------------------------------------------------------------------------\u001b[0m",
      "\u001b[0;31mAttributeError\u001b[0m                            Traceback (most recent call last)",
      "\u001b[0;32m<ipython-input-8-a1d9cb509ea2>\u001b[0m in \u001b[0;36m<module>\u001b[0;34m\u001b[0m\n\u001b[1;32m      2\u001b[0m     \u001b[0;34m'name'\u001b[0m\u001b[0;34m:\u001b[0m \u001b[0;34m'Hallo!!'\u001b[0m\u001b[0;34m\u001b[0m\u001b[0;34m\u001b[0m\u001b[0m\n\u001b[1;32m      3\u001b[0m }\n\u001b[0;32m----> 4\u001b[0;31m \u001b[0mt3\u001b[0m\u001b[0;34m.\u001b[0m\u001b[0mupdate\u001b[0m\u001b[0;34m(\u001b[0m\u001b[0mdata_changes\u001b[0m\u001b[0;34m)\u001b[0m\u001b[0;34m\u001b[0m\u001b[0;34m\u001b[0m\u001b[0m\n\u001b[0m\u001b[1;32m      5\u001b[0m \u001b[0mdb\u001b[0m\u001b[0;34m.\u001b[0m\u001b[0msession\u001b[0m\u001b[0;34m.\u001b[0m\u001b[0mcommit\u001b[0m\u001b[0;34m(\u001b[0m\u001b[0;34m)\u001b[0m\u001b[0;34m\u001b[0m\u001b[0;34m\u001b[0m\u001b[0m\n",
      "\u001b[0;32m<ipython-input-2-f0c7360667f1>\u001b[0m in \u001b[0;36mupdate\u001b[0;34m(self, data_changes)\u001b[0m\n\u001b[1;32m     17\u001b[0m \u001b[0;34m\u001b[0m\u001b[0m\n\u001b[1;32m     18\u001b[0m         \u001b[0mself\u001b[0m\u001b[0;34m.\u001b[0m\u001b[0mmodified_at\u001b[0m \u001b[0;34m=\u001b[0m \u001b[0mdatetime\u001b[0m\u001b[0;34m.\u001b[0m\u001b[0mutcnow\u001b[0m\u001b[0;34m(\u001b[0m\u001b[0;34m)\u001b[0m\u001b[0;34m\u001b[0m\u001b[0;34m\u001b[0m\u001b[0m\n\u001b[0;32m---> 19\u001b[0;31m         \u001b[0mself\u001b[0m\u001b[0;34m.\u001b[0m\u001b[0mtimes_modified\u001b[0m \u001b[0;34m+=\u001b[0m \u001b[0;36m1\u001b[0m\u001b[0;34m\u001b[0m\u001b[0;34m\u001b[0m\u001b[0m\n\u001b[0m\u001b[1;32m     20\u001b[0m         \u001b[0;32mreturn\u001b[0m \u001b[0mself\u001b[0m\u001b[0;34m\u001b[0m\u001b[0;34m\u001b[0m\u001b[0m\n\u001b[1;32m     21\u001b[0m \u001b[0;34m\u001b[0m\u001b[0m\n",
      "\u001b[0;31mAttributeError\u001b[0m: 'Business' object has no attribute 'times_modified'"
     ]
    }
   ],
   "source": [
    "data_changes = {\n",
    "    'name': 'Hallo!!'\n",
    "}\n",
    "t3.update(data_changes)\n",
    "db.session.commit()"
   ]
  },
  {
   "cell_type": "code",
   "execution_count": 93,
   "metadata": {},
   "outputs": [
    {
     "name": "stdout",
     "output_type": "stream",
     "text": [
      "! =)He! lo T-oo-l-s!!! Thomas\n",
      "! =)He! lo T-oo-l-s!!! Thomas2\n"
     ]
    }
   ],
   "source": [
    "import re\n",
    "string_raw = \"! =)He! lo T--oo---l--s!!! Thomas\"\n",
    "pattern = re.compile(r'-{2,}')\n",
    "string = re.sub(pattern, \"-\", string_raw)\n",
    "\n",
    "\n",
    "print(string)\n",
    "print(string + str(2))\n"
   ]
  },
  {
   "cell_type": "code",
   "execution_count": 90,
   "metadata": {},
   "outputs": [],
   "source": [
    "def stringify(string_raw: str) -> str:\n",
    "    import re\n",
    "    pattern = re.compile(r'-{2,}')\n",
    "    #https://stackoverflow.com/questions/23996118/replace-special-characters-in-a-string-python\n",
    "    string = string_raw.lower().translate({ord(c): \" \" for c in \"!@#$%^&*()[]{};:,./<>?\\|`~-=_+\"}).replace(\" \", \"-\").strip(\"-\")\n",
    "    return re.sub(pattern, \"-\", string)\n",
    "\n"
   ]
  },
  {
   "cell_type": "code",
   "execution_count": 95,
   "metadata": {},
   "outputs": [
    {
     "data": {
      "text/plain": [
       "'he-l-o-t-ools'"
      ]
     },
     "execution_count": 95,
     "metadata": {},
     "output_type": "execute_result"
    }
   ],
   "source": [
    "string_raw = \"-! =)He! l...----o T--ools!!!--------\"\n",
    "stringify(string_raw)\n"
   ]
  },
  {
   "cell_type": "code",
   "execution_count": 3,
   "metadata": {},
   "outputs": [],
   "source": [
    "db.create_all()"
   ]
  },
  {
   "cell_type": "code",
   "execution_count": 2,
   "metadata": {},
   "outputs": [],
   "source": [
    "from sqlalchemy.ext.hybrid import hybrid_property\n",
    "class Business(db.Model):  # type: ignore\n",
    "    \"\"\" Business parent model \"\"\"\n",
    "    __tablename__ = \"business\"\n",
    "\n",
    "    id = db.Column(db.Integer, primary_key=True)\n",
    "    employees = db.relationship('User', backref=\"employer\")\n",
    "    cents = db.Column(db.Integer)\n",
    "    _rate = db.Column(db.Integer)\n",
    "    \n",
    "    @hybrid_property\n",
    "    def rate(self):\n",
    "        return self._rate / 10_000\n",
    "\n",
    "    @rate.setter\n",
    "    def rate(self, value):\n",
    "        self._rate = int(value * 10_000)\n",
    "        \n",
    "    @hybrid_property\n",
    "    def dollars(self):\n",
    "        return self.cents / 100\n",
    "\n",
    "    @dollars.setter\n",
    "    def dollars(self, value):\n",
    "        self.cents = int(value * 100)\n",
    "\n",
    "    \n",
    "    \n",
    "class User(db.Model):  # type: ignore\n",
    "    \"\"\" User parent model \"\"\"\n",
    "    __tablename__ = \"user\"\n",
    "\n",
    "    id = db.Column(db.Integer, primary_key=True)\n",
    "    employer_id = db.Column(db.Integer, db.ForeignKey('business.id'))\n",
    "    \n",
    "   "
   ]
  },
  {
   "cell_type": "code",
   "execution_count": 3,
   "metadata": {},
   "outputs": [
    {
     "name": "stdout",
     "output_type": "stream",
     "text": [
      "25749\n",
      "897\n"
     ]
    }
   ],
   "source": [
    "a = 25.749000000000002\n",
    "b = int(round(a * 1000))\n",
    "print(b)\n",
    "\n",
    "c = 0.8975799999999999\n",
    "d = int(c * 1000)\n",
    "print(d)\n"
   ]
  },
  {
   "cell_type": "code",
   "execution_count": 4,
   "metadata": {},
   "outputs": [],
   "source": [
    "b1 = Business(rate=0.012, dollars=0.3)\n",
    "db.session.add(b1)\n",
    "db.session.commit()"
   ]
  },
  {
   "cell_type": "code",
   "execution_count": 5,
   "metadata": {},
   "outputs": [
    {
     "name": "stdout",
     "output_type": "stream",
     "text": [
      "b1 dollars:  0.3\n",
      "b1 cents:  30\n",
      "b1 rate:  0.012\n",
      "b1 _rate:  120\n"
     ]
    }
   ],
   "source": [
    "print('b1 dollars: ', b1.dollars)\n",
    "print('b1 cents: ', b1.cents)\n",
    "print('b1 rate: ', b1.rate)\n",
    "print('b1 _rate: ', b1._rate)"
   ]
  },
  {
   "cell_type": "code",
   "execution_count": 2,
   "metadata": {},
   "outputs": [],
   "source": [
    "class Business(db.Model):  # type: ignore\n",
    "    \"\"\" Business parent model \"\"\"\n",
    "    __tablename__ = \"business\"\n",
    "\n",
    "    id = db.Column(db.Integer, primary_key=True)\n",
    "    lalala = db.Column(db.String(8))\n",
    "    employees = db.relationship('User', backref=\"employer\")\n",
    "\n",
    "    \n",
    "    \n",
    "class User(db.Model):  # type: ignore\n",
    "    \"\"\" User parent model \"\"\"\n",
    "    __tablename__ = \"user\"\n",
    "\n",
    "    id = db.Column(db.Integer, primary_key=True)\n",
    "    employer_id = db.Column(db.Integer, db.ForeignKey('business.id'))\n",
    "    items = db.relationship('Item', backref=\"user\")\n",
    "    \n",
    "class Item(db.Model):\n",
    "    __tablename__ = 'item'\n",
    "    \n",
    "    id = db.Column(db.Integer, primary_key=True)\n",
    "    code = db.Column(db.String(1))\n",
    "    user_id = db.Column(db.Integer, db.ForeignKey('user.id'))\n",
    "    \n",
    "    \n",
    "    "
   ]
  },
  {
   "cell_type": "code",
   "execution_count": 3,
   "metadata": {},
   "outputs": [],
   "source": [
    "db.create_all()"
   ]
  },
  {
   "cell_type": "code",
   "execution_count": 5,
   "metadata": {},
   "outputs": [],
   "source": [
    "#items = Item.query.filter(Item.user.has(employer_id=1)).all()\n",
    "items = Item.query.join(Item.user).join(User.employer, aliased=True).filter_by(lalala='A').all()\n",
    "\n",
    "items = Item.query.all()"
   ]
  },
  {
   "cell_type": "code",
   "execution_count": 8,
   "metadata": {},
   "outputs": [
    {
     "name": "stdout",
     "output_type": "stream",
     "text": [
      "3\n"
     ]
    }
   ],
   "source": [
    "#items = Item.query.join(User.items).filter(User.id == 1).all()\n",
    "items\n",
    "max_v = max(item.user_id for item in items)\n",
    "print(max_v) "
   ]
  },
  {
   "cell_type": "code",
   "execution_count": 7,
   "metadata": {},
   "outputs": [
    {
     "data": {
      "text/plain": [
       "True"
      ]
     },
     "execution_count": 7,
     "metadata": {},
     "output_type": "execute_result"
    }
   ],
   "source": [
    "isinstance(i1.user, User)"
   ]
  },
  {
   "cell_type": "code",
   "execution_count": 4,
   "metadata": {},
   "outputs": [],
   "source": [
    "b1 = Business(lalala = 'A')\n",
    "b2 = Business(lalala = 'B')\n",
    "u1 = User(employer_id=1)\n",
    "u2 = User(employer_id=1)\n",
    "u3 = User(employer_id=2)\n",
    "\n",
    "i1 = Item(user_id=1, code='A')\n",
    "i2 = Item(user_id=1, code = 'B')\n",
    "i3 = Item(user_id=1, code = 'C')\n",
    "i4 = Item(user_id=3)\n",
    "\n",
    "db.session.add(b1)\n",
    "db.session.add(b2)\n",
    "db.session.add(u1)\n",
    "db.session.add(u2)\n",
    "db.session.add(u3)\n",
    "\n",
    "db.session.add(i1)\n",
    "db.session.add(i2)\n",
    "db.session.add(i3)\n",
    "db.session.add(i4)\n",
    "\n",
    "db.session.commit()"
   ]
  },
  {
   "cell_type": "code",
   "execution_count": 5,
   "metadata": {},
   "outputs": [
    {
     "data": {
      "text/plain": [
       "[<Item 1>, <Item 2>]"
      ]
     },
     "execution_count": 5,
     "metadata": {},
     "output_type": "execute_result"
    }
   ],
   "source": [
    "Item.query.filter(\n",
    "    Item.user_id == 1,\n",
    "    or_(Item.code == 'A', Item.code == 'B')\n",
    "    ).all()"
   ]
  },
  {
   "cell_type": "code",
   "execution_count": 6,
   "metadata": {},
   "outputs": [
    {
     "name": "stdout",
     "output_type": "stream",
     "text": [
      "b1.employees:  [<User 1>, <User 2>]\n",
      "b1.employees:  [<User 1>, <User 2>]\n",
      "tye_ b2.employees:  <class 'sqlalchemy.orm.collections.InstrumentedList'>\n",
      "A\n",
      "<class '__main__.Business'>\n"
     ]
    }
   ],
   "source": [
    "print('b1.employees: ', b1.employees)\n",
    "\n",
    "print('b1.employees: ', b1.employees)\n",
    "print('tye_ b2.employees: ', type(b2.employees))\n",
    "\n",
    "print(b1.lalala)\n",
    "print(type(u1.employer))"
   ]
  },
  {
   "cell_type": "code",
   "execution_count": null,
   "metadata": {},
   "outputs": [],
   "source": [
    "b1.employees = []\n",
    "db.session.commit()"
   ]
  },
  {
   "cell_type": "code",
   "execution_count": null,
   "metadata": {},
   "outputs": [],
   "source": [
    "db.session.delete(b1)\n",
    "db.session.commit()"
   ]
  },
  {
   "cell_type": "code",
   "execution_count": null,
   "metadata": {},
   "outputs": [],
   "source": [
    "Business.query.all()\n",
    "User.query.all()"
   ]
  },
  {
   "cell_type": "code",
   "execution_count": null,
   "metadata": {},
   "outputs": [],
   "source": [
    "class User(db.Model):  # type: ignore\n",
    "    \"\"\" User parent model \"\"\"\n",
    "    __tablename__ = \"user\"\n",
    "\n",
    "    id = db.Column(db.Integer, primary_key=True)\n",
    "    name = db.Column(db.String)\n",
    "    level = db.Column(db.Integer)\n",
    "    \n",
    "    def __repr__(self):\n",
    "        return '<User: {} | Name: {} | Level: {}>'.format(self.id, self.name, self.level)\n",
    "\n",
    "    \n",
    "    def update(self, data_changes):\n",
    "        for key, val in data_changes.items():\n",
    "            setattr(self, key, val)\n",
    "        return self\n",
    "    \n",
    "    def update_diverging(self, data_changes):\n",
    "        for k, v in data_changes.items():\n",
    "            if data_changes[k] is not None and data_changes[k] != getattr(self, k):\n",
    "                setattr(self, k, v)\n",
    "        return self\n",
    "    "
   ]
  },
  {
   "cell_type": "code",
   "execution_count": null,
   "metadata": {},
   "outputs": [],
   "source": [
    "u1 = User(name='Thomas', level=5)\n",
    "u2 = User(name='Tobi', level=2)\n",
    "\n",
    "db.session.add(u1)\n",
    "db.session.add(u2)\n",
    "db.session.commit()\n",
    "\n",
    "data_changes = {\n",
    "    'name': 'Egon'\n",
    "}\n",
    "\n",
    "print(u1)\n",
    "print(u2)"
   ]
  },
  {
   "cell_type": "code",
   "execution_count": null,
   "metadata": {},
   "outputs": [],
   "source": [
    "u1.update_diverging(data_changes)\n",
    "u2.update_diverging(data_changes)\n",
    "\n",
    "db.session.commit()"
   ]
  },
  {
   "cell_type": "code",
   "execution_count": null,
   "metadata": {},
   "outputs": [],
   "source": [
    "print(u1)\n",
    "print(u2)"
   ]
  },
  {
   "cell_type": "code",
   "execution_count": null,
   "metadata": {},
   "outputs": [],
   "source": [
    "class Business(db.Model):  # type: ignore\n",
    "    \"\"\" Business parent model \"\"\"\n",
    "    __tablename__ = \"business\"\n",
    "\n",
    "    id = db.Column(db.Integer, primary_key=True)\n",
    "    name = db.Column(db.String(24))\n",
    "    created_on = db.Column(db.DateTime, default=datetime.utcnow)\n",
    "    created_by = db.Column(db.Integer,  db.ForeignKey('user.id', name='fk_user_business_created_by'))\n",
    "    employees = db.relationship('User', backref=\"employer\", primaryjoin='User.employer_id==Business.id', cascade=\"all, delete-orphan\")\n",
    "\n",
    "    \n",
    "    \n",
    "class User(db.Model):  # type: ignore\n",
    "    \"\"\" User parent model \"\"\"\n",
    "    __tablename__ = \"user\"\n",
    "\n",
    "    id = db.Column(db.Integer, primary_key=True)\n",
    "    employer_id = db.Column(db.Integer, db.ForeignKey('business.id', name='fk_business_user_employer_id'))\n",
    "    created_businesses = db.relationship('Business', backref='creator', order_by=\"desc(Business.created_on)\", primaryjoin='Business.created_by==User.id', post_update=True)\n",
    "    items = db.relationship('Item', backref=\"user\", lazy='select')\n",
    "\n",
    "    \n",
    "    \n",
    "class Item(db.Model):  # type: ignore\n",
    "    \"\"\" User parent model \"\"\"\n",
    "    __tablename__ = \"item\"\n",
    "\n",
    "    id = db.Column(db.Integer, primary_key=True)\n",
    "    user_id = db.Column(db.Integer, db.ForeignKey('user.id', name='fk_user_item_user_id'))\n",
    "    \n",
    "    "
   ]
  },
  {
   "cell_type": "code",
   "execution_count": null,
   "metadata": {},
   "outputs": [],
   "source": [
    "#db.reflect()\n",
    "print(\"committing\") #https://stackoverflow.com/questions/24289808/drop-all-freezes-in-flask-with-sqlalchemy\n",
    "db.session.remove()\n",
    "\n",
    "print(\"Dopping all\")\n",
    "db.drop_all()\n",
    "\n",
    "print(\"Creating all\")\n",
    "db.create_all()"
   ]
  },
  {
   "cell_type": "code",
   "execution_count": null,
   "metadata": {},
   "outputs": [],
   "source": [
    "b1 = Business(name=\"b1\")\n",
    "b2 = Business(name=\"b2\")\n",
    "\n",
    "u1 = User()\n",
    "u2 = User()\n",
    "\n",
    "i1 = Item()\n",
    "i2 = Item()\n",
    "\n",
    "db.session.add(b1)\n",
    "db.session.add(b2)\n",
    "db.session.add(u1)\n",
    "db.session.add(u2)\n",
    "db.session.add(i1)\n",
    "db.session.add(i2)\n",
    "\n",
    "db.session.commit()\n",
    "\n",
    "b1.employees.append(u1)\n",
    "b1.employees.append(u2)\n",
    "u1.created_businesses.append(b1)\n",
    "u2.created_businesses.append(b2)\n",
    "u1.items.append(i1)\n",
    "u1.items.append(i2)\n",
    "db.session.commit()\n",
    "\n",
    "print(b1.employees)\n",
    "print(u1.employer.name)\n",
    "print(u1.created_businesses)\n",
    "print(b2.created_by)\n",
    "print(u1.items)\n"
   ]
  },
  {
   "cell_type": "code",
   "execution_count": null,
   "metadata": {},
   "outputs": [],
   "source": [
    "db.session.delete(b1)\n",
    "db.session.commit()\n",
    "\n",
    "print(\"All Businesses:\", Business.query.all())\n",
    "print(\"All Employees:\", User.query.all())\n",
    "print(\"All Item:\", Item.query.all())\n"
   ]
  },
  {
   "cell_type": "code",
   "execution_count": null,
   "metadata": {},
   "outputs": [],
   "source": [
    "len_items = Business.query.filter_by(id = 1).options(subqueryload(User.items)).all()"
   ]
  },
  {
   "cell_type": "code",
   "execution_count": null,
   "metadata": {},
   "outputs": [],
   "source": [
    "b1 = Business.query.filter_by(id=1).options(subqueryload(User.items)).all()"
   ]
  },
  {
   "cell_type": "code",
   "execution_count": null,
   "metadata": {},
   "outputs": [],
   "source": [
    "from sqlalchemy.orm import subqueryload"
   ]
  },
  {
   "cell_type": "code",
   "execution_count": null,
   "metadata": {},
   "outputs": [],
   "source": [
    "q = db.session.query(Tag.text) # @new:modified\n",
    "q = q.join(Tag.article)\n",
    "q = q.join(Article.project)\n",
    "q = q.filter(Project.id == project_id)\n",
    "q = q.filter(Article.date_created.between(now-timedelta(hours=1), now))\n",
    "tags = q.all()\n",
    "return tags # @not"
   ]
  },
  {
   "cell_type": "code",
   "execution_count": null,
   "metadata": {},
   "outputs": [],
   "source": [
    "b1_items = Item.query.join(Item.user).join(User.employer).filter(Business.id == 1).all()"
   ]
  },
  {
   "cell_type": "code",
   "execution_count": null,
   "metadata": {},
   "outputs": [],
   "source": [
    "b1_items"
   ]
  },
  {
   "cell_type": "code",
   "execution_count": null,
   "metadata": {},
   "outputs": [],
   "source": []
  },
  {
   "cell_type": "code",
   "execution_count": null,
   "metadata": {},
   "outputs": [],
   "source": []
  },
  {
   "cell_type": "code",
   "execution_count": null,
   "metadata": {},
   "outputs": [],
   "source": []
  },
  {
   "cell_type": "code",
   "execution_count": null,
   "metadata": {},
   "outputs": [],
   "source": []
  },
  {
   "cell_type": "code",
   "execution_count": null,
   "metadata": {},
   "outputs": [],
   "source": [
    "class Transaction(db.Model):  # type: ignore\n",
    "    \"\"\" User parent model \"\"\"\n",
    "    __tablename__ = \"transaction\"\n",
    "\n",
    "    code = db.Column(db.String(8), primary_key=True)\n",
    "    item_tax_rate_type_code = db.Column(db.String(8), db.ForeignKey('tax_rate_type.code'), nullable=False)\n",
    "    shipment_tax_rate_type_code = db.Column(db.String(8), db.ForeignKey('tax_rate_type.code'))\n",
    "    gift_wrap_tax_rate_type_code = db.Column(db.String(8), db.ForeignKey('tax_rate_type.code'))\n",
    "    \n",
    "\n",
    "class TaxRateType(db.Model):  # type: ignore\n",
    "    \"\"\" User parent model \"\"\"\n",
    "    __tablename__ = \"tax_rate_type\"\n",
    "\n",
    "    code = db.Column(db.String(8), primary_key=True)\n",
    "    transaction_items = db.relationship('Transaction', backref='item_tax_rate_type', foreign_keys='Transaction.item_tax_rate_type_code', lazy=True)\n",
    "    transaction_shipments = db.relationship('Transaction', backref='shipment_tax_rate_type', foreign_keys='Transaction.shipment_tax_rate_type_code', lazy=True)\n",
    "    transaction_gift_wraps = db.relationship('Transaction', backref='gift_wrap_tax_rate_type', foreign_keys='Transaction.gift_wrap_tax_rate_type_code', lazy=True)\n",
    "\n",
    "\n",
    "    \n"
   ]
  },
  {
   "cell_type": "code",
   "execution_count": null,
   "metadata": {},
   "outputs": [],
   "source": [
    "db.create_all()"
   ]
  },
  {
   "cell_type": "code",
   "execution_count": null,
   "metadata": {},
   "outputs": [],
   "source": [
    "v1 = TaxRateType(code=\"A\")\n",
    "v2 = TaxRateType(code=\"B\")\n",
    "db.session.add(v1)\n",
    "db.session.add(v2)\n",
    "\n",
    "t1 = Transaction(code=\"T1\", item_tax_rate_type_code=\"A\", shipment_tax_rate_type_code=\"B\", gift_wrap_tax_rate_type_code=\"A\")\n",
    "t2 = Transaction(code=\"T2\", item_tax_rate_type_code=\"B\", shipment_tax_rate_type_code=\"B\", gift_wrap_tax_rate_type_code=\"B\")\n",
    "\n",
    "db.session.add(t1)\n",
    "db.session.add(t2)\n",
    "\n",
    "db.session.commit()\n",
    "\n"
   ]
  },
  {
   "cell_type": "code",
   "execution_count": null,
   "metadata": {},
   "outputs": [],
   "source": [
    "v2.transaction_shipments"
   ]
  },
  {
   "cell_type": "code",
   "execution_count": null,
   "metadata": {},
   "outputs": [],
   "source": []
  },
  {
   "cell_type": "code",
   "execution_count": null,
   "metadata": {},
   "outputs": [],
   "source": []
  },
  {
   "cell_type": "code",
   "execution_count": null,
   "metadata": {},
   "outputs": [],
   "source": []
  }
 ],
 "metadata": {
  "kernelspec": {
   "display_name": "Python 3",
   "language": "python",
   "name": "python3"
  },
  "language_info": {
   "codemirror_mode": {
    "name": "ipython",
    "version": 3
   },
   "file_extension": ".py",
   "mimetype": "text/x-python",
   "name": "python",
   "nbconvert_exporter": "python",
   "pygments_lexer": "ipython3",
   "version": "3.7.6"
  }
 },
 "nbformat": 4,
 "nbformat_minor": 4
}
