{
 "cells": [
  {
   "cell_type": "code",
   "execution_count": 299,
   "metadata": {},
   "outputs": [],
   "source": [
    "import datetime\n",
    "\n",
    "from flask import Flask, session\n",
    "from flask_sqlalchemy import SQLAlchemy\n",
    "\n",
    "app = Flask(__name__)\n",
    "app.config[\"SQLALCHEMY_DATABASE_URI\"] = \"sqlite://\"\n",
    "app.config[\"SQLALCHEMY_TRACK_MODIFICATIONS\"] = False\n",
    "\n",
    "db = SQLAlchemy(app)\n"
   ]
  },
  {
   "cell_type": "code",
   "execution_count": 294,
   "metadata": {},
   "outputs": [],
   "source": [
    "class User(db.Model):\n",
    "    __tablename__ = \"user\"\n",
    "\n",
    "    id = db.Column(db.Integer, primary_key=True)\n",
    "    email = db.Column(db.String(254), unique=True, nullable=True)\n",
    "    last_seen = db.Column(db.DateTime, default=datetime.datetime.utcnow)\n",
    "    \n",
    "    actions = db.relationship(\n",
    "        'Action', backref='user', lazy=True)\n",
    "    \n",
    "    discriminator = db.Column('type', db.String(50))\n",
    "    __mapper_args__ = {'polymorphic_on': discriminator}\n",
    "\n",
    "    def update_last_seen(self):\n",
    "        self.last_seen = datetime.datetime.utcnow()\n",
    "        return self\n",
    "    \n",
    "\n",
    "\n",
    "class Seller(User):\n",
    "    __mapper_args__ = {'polymorphic_identity': 'seller'}\n",
    "\n",
    "    def __init__(self, **kwargs):\n",
    "        super(Seller, self).__init__(**kwargs)\n",
    "\n",
    "    def __repr__(self):\n",
    "        return '<Seller: %r>' % self.email\n",
    "    \n",
    "class Action(db.Model):  # type: ignore\n",
    "    __tablename__ = \"action\"\n",
    "\n",
    "    id = db.Column(db.Integer, primary_key=True)\n",
    "    timestamp = db.Column(db.DateTime, default=datetime.datetime.utcnow)\n",
    "    user_id = db.Column(db.Integer, db.ForeignKey('user.id'),\n",
    "                         nullable=False)\n",
    "    method_name = db.Column(db.String(32))\n",
    "    service_context = db.Column(db.String(32))\n",
    "    api_context = db.Column(db.String(32))\n",
    "    \n",
    "    \n",
    "    def __init__(self, **kwargs):\n",
    "        super(Action, self).__init__(**kwargs)\n",
    "\n"
   ]
  },
  {
   "cell_type": "code",
   "execution_count": 4,
   "metadata": {},
   "outputs": [],
   "source": []
  },
  {
   "cell_type": "code",
   "execution_count": 5,
   "metadata": {},
   "outputs": [],
   "source": [
    "new_seller = Seller(email = 'test@email.com')\n",
    "#add seller to db\n",
    "db.session.add(new_seller)\n",
    "db.session.commit()\n"
   ]
  },
  {
   "cell_type": "code",
   "execution_count": 6,
   "metadata": {},
   "outputs": [],
   "source": [
    "def get_one():\n",
    "    action = Action.query.first()\n",
    "    return action\n",
    "    \n"
   ]
  },
  {
   "cell_type": "code",
   "execution_count": 7,
   "metadata": {},
   "outputs": [
    {
     "ename": "AttributeError",
     "evalue": "'NoneType' object has no attribute 'user'",
     "output_type": "error",
     "traceback": [
      "\u001b[0;31m---------------------------------------------------------------------------\u001b[0m",
      "\u001b[0;31mAttributeError\u001b[0m                            Traceback (most recent call last)",
      "\u001b[0;32m<ipython-input-7-74356418a5cd>\u001b[0m in \u001b[0;36m<module>\u001b[0;34m\u001b[0m\n\u001b[1;32m      1\u001b[0m \u001b[0maction\u001b[0m \u001b[0;34m=\u001b[0m \u001b[0mget_one\u001b[0m\u001b[0;34m(\u001b[0m\u001b[0;34m)\u001b[0m\u001b[0;34m\u001b[0m\u001b[0;34m\u001b[0m\u001b[0m\n\u001b[0;32m----> 2\u001b[0;31m \u001b[0maction\u001b[0m\u001b[0;34m.\u001b[0m\u001b[0muser\u001b[0m\u001b[0;34m.\u001b[0m\u001b[0memail\u001b[0m\u001b[0;34m\u001b[0m\u001b[0;34m\u001b[0m\u001b[0m\n\u001b[0m\u001b[1;32m      3\u001b[0m \u001b[0;34m\u001b[0m\u001b[0m\n\u001b[1;32m      4\u001b[0m \u001b[0;31m#test_seller = get_all()\u001b[0m\u001b[0;34m\u001b[0m\u001b[0;34m\u001b[0m\u001b[0;34m\u001b[0m\u001b[0m\n\u001b[1;32m      5\u001b[0m \u001b[0;31m#test_seller.last_seen\u001b[0m\u001b[0;34m\u001b[0m\u001b[0;34m\u001b[0m\u001b[0;34m\u001b[0m\u001b[0m\n",
      "\u001b[0;31mAttributeError\u001b[0m: 'NoneType' object has no attribute 'user'"
     ]
    }
   ],
   "source": [
    "action = get_one()\n",
    "action.user.email\n",
    "\n",
    "#test_seller = get_all()\n",
    "#test_seller.last_seen"
   ]
  },
  {
   "cell_type": "code",
   "execution_count": 8,
   "metadata": {},
   "outputs": [],
   "source": [
    "class UserService:\n",
    "    @staticmethod\n",
    "    def ping(user: User, method_name: str, service_context: str) -> User:\n",
    "        user.update_last_seen()\n",
    "\n",
    "        new_action = Action(\n",
    "            method_name=method_name,\n",
    "            service_context=service_context,\n",
    "            user_id=user.id\n",
    "        )\n",
    "\n",
    "        #add seller to db\n",
    "        db.session.add(new_action)\n",
    "        db.session.commit()\n",
    "        return user\n",
    "    \n",
    "\n",
    "class TokenService:\n",
    "    @staticmethod\n",
    "    def logout_user(user):\n",
    "       \n",
    "        UserService.ping(user, method_name=inspect.stack()[0][3],\n",
    "                         service_context=TokenService.__name__)\n",
    "        \n",
    "\n"
   ]
  },
  {
   "cell_type": "code",
   "execution_count": 9,
   "metadata": {},
   "outputs": [
    {
     "ename": "NameError",
     "evalue": "name 'test_seller' is not defined",
     "output_type": "error",
     "traceback": [
      "\u001b[0;31m---------------------------------------------------------------------------\u001b[0m",
      "\u001b[0;31mNameError\u001b[0m                                 Traceback (most recent call last)",
      "\u001b[0;32m<ipython-input-9-7ce770b11762>\u001b[0m in \u001b[0;36m<module>\u001b[0;34m\u001b[0m\n\u001b[0;32m----> 1\u001b[0;31m \u001b[0mTokenService\u001b[0m\u001b[0;34m.\u001b[0m\u001b[0mlogout_user\u001b[0m\u001b[0;34m(\u001b[0m\u001b[0mtest_seller\u001b[0m\u001b[0;34m)\u001b[0m\u001b[0;34m\u001b[0m\u001b[0;34m\u001b[0m\u001b[0m\n\u001b[0m",
      "\u001b[0;31mNameError\u001b[0m: name 'test_seller' is not defined"
     ]
    }
   ],
   "source": [
    "TokenService.logout_user(test_seller)"
   ]
  },
  {
   "cell_type": "code",
   "execution_count": 182,
   "metadata": {},
   "outputs": [
    {
     "data": {
      "text/plain": [
       "[<Action 1>, <Action 2>, <Action 3>]"
      ]
     },
     "execution_count": 182,
     "metadata": {},
     "output_type": "execute_result"
    }
   ],
   "source": [
    "test_seller.actions"
   ]
  },
  {
   "cell_type": "code",
   "execution_count": 158,
   "metadata": {},
   "outputs": [
    {
     "data": {
      "text/plain": [
       "<Action 1>"
      ]
     },
     "execution_count": 158,
     "metadata": {},
     "output_type": "execute_result"
    }
   ],
   "source": [
    "test_seller.actions[0]"
   ]
  },
  {
   "cell_type": "code",
   "execution_count": 159,
   "metadata": {},
   "outputs": [],
   "source": [
    "action = test_seller.actions[0]"
   ]
  },
  {
   "cell_type": "code",
   "execution_count": 168,
   "metadata": {},
   "outputs": [
    {
     "data": {
      "text/plain": [
       "1"
      ]
     },
     "execution_count": 168,
     "metadata": {},
     "output_type": "execute_result"
    }
   ],
   "source": [
    "action.user_id"
   ]
  },
  {
   "cell_type": "code",
   "execution_count": 191,
   "metadata": {},
   "outputs": [],
   "source": [
    "c,d = [1,2]\n",
    "a,b = 1,2"
   ]
  },
  {
   "cell_type": "code",
   "execution_count": 193,
   "metadata": {},
   "outputs": [
    {
     "name": "stdout",
     "output_type": "stream",
     "text": [
      "1 2 1 2\n"
     ]
    }
   ],
   "source": [
    "print(a, b, c, d)"
   ]
  },
  {
   "cell_type": "code",
   "execution_count": 194,
   "metadata": {},
   "outputs": [
    {
     "data": {
      "text/plain": [
       "dict_keys(['AT', 'BE', 'BG', 'HR', 'CY', 'CZ', 'DE', 'DK', 'EE', 'EL', 'ES', 'FI', 'FR', 'GB', 'HU', 'IE', 'IT', 'LT', 'LU', 'LV', 'MT', 'NL', 'PL', 'PT', 'RO', 'SE', 'SI', 'SK'])"
      ]
     },
     "execution_count": 194,
     "metadata": {},
     "output_type": "execute_result"
    }
   ],
   "source": [
    "import re\n",
    "def dk_format(v):\n",
    "    return \"{} {} {} {}\".format(v[:4], v[4:6], v[6:8], v[8:10])\n",
    "\n",
    "\n",
    "def gb_format(v):\n",
    "    if len(v) == 11:\n",
    "        return \"{} {} {}\".format(v[:5], v[5:9], v[9:11])\n",
    "    if len(v) == 14:\n",
    "        return \"{} {}\".format(gb_format(v[:11]), v[11:14])\n",
    "    return v\n",
    "\n",
    "\n",
    "def fr_format(v):\n",
    "    return \"{} {}\".format(v[:4], v[4:])\n",
    "\n",
    "VIES_WSDL_URL = (\n",
    "    \"https://ec.europa.eu/taxation_customs/vies/checkVatService.wsdl\"  # NoQA\n",
    ")\n",
    "VATIN_MAX_LENGTH = 14\n",
    "\n",
    "VIES_OPTIONS = {\n",
    "    \"AT\": (\"Austria\", re.compile(r\"^ATU\\d{8}$\")),\n",
    "    \"BE\": (\"Belgium\", re.compile(r\"^BE0?\\d{9}$\")),\n",
    "    \"BG\": (\"Bulgaria\", re.compile(r\"^BG\\d{9,10}$\")),\n",
    "    \"HR\": (\"Croatia\", re.compile(r\"^HR\\d{11}$\")),\n",
    "    \"CY\": (\"Cyprus\", re.compile(r\"^CY\\d{8}[A-Z]$\")),\n",
    "    \"CZ\": (\"Czech Republic\", re.compile(r\"^CZ\\d{8,10}$\")),\n",
    "    \"DE\": (\"Germany\", re.compile(r\"^DE\\d{9}$\")),\n",
    "    \"DK\": (\"Denmark\", re.compile(r\"^DK\\d{8}$\"), dk_format),\n",
    "    \"EE\": (\"Estonia\", re.compile(r\"^EE\\d{9}$\")),\n",
    "    \"EL\": (\"Greece\", re.compile(r\"^EL\\d{9}$\")),\n",
    "    \"ES\": (\"Spain\", re.compile(r\"^ES[A-Z0-9]\\d{7}[A-Z0-9]$\")),\n",
    "    \"FI\": (\"Finland\", re.compile(r\"^FI\\d{8}$\")),\n",
    "    \"FR\": (\"France\", re.compile(r\"^FR[A-HJ-NP-Z0-9][A-HJ-NP-Z0-9]\\d{9}$\"), fr_format),\n",
    "    \"GB\": (\n",
    "        \"United Kingdom\",\n",
    "        re.compile(r\"^(GB(GD|HA)\\d{3}|GB\\d{9}|GB\\d{12})$\"),\n",
    "        gb_format,\n",
    "    ),\n",
    "    \"HU\": (\"Hungary\", re.compile(r\"^HU\\d{8}$\")),\n",
    "    \"IE\": (\"Ireland\", re.compile(r\"^IE\\d[A-Z0-9\\+\\*]\\d{5}[A-Z]{1,2}$\")),\n",
    "    \"IT\": (\"Italy\", re.compile(r\"^IT\\d{11}$\")),\n",
    "    \"LT\": (\"Lithuania\", re.compile(r\"^LT(\\d{9}|\\d{12})$\")),\n",
    "    \"LU\": (\"Luxembourg\", re.compile(r\"^LU\\d{8}$\")),\n",
    "    \"LV\": (\"Latvia\", re.compile(r\"^LV\\d{11}$\")),\n",
    "    \"MT\": (\"Malta\", re.compile(r\"^MT\\d{8}$\")),\n",
    "    \"NL\": (\"The Netherlands\", re.compile(r\"^NL\\d{9}B\\d{2}$\")),\n",
    "    \"PL\": (\"Poland\", re.compile(r\"^PL\\d{10}$\")),\n",
    "    \"PT\": (\"Portugal\", re.compile(r\"^PT\\d{9}$\")),\n",
    "    \"RO\": (\"Romania\", re.compile(r\"^RO\\d{2,10}$\")),\n",
    "    \"SE\": (\"Sweden\", re.compile(r\"^SE\\d{10}01$\")),\n",
    "    \"SI\": (\"Slovenia\", re.compile(r\"^SI\\d{8}$\")),\n",
    "    \"SK\": (\"Slovakia\", re.compile(r\"^SK\\d{10}$\")),\n",
    "}\n",
    "\n",
    "VIES_COUNTRY_CHOICES = sorted(\n",
    "    ((\"\", \"--\"),) + tuple((key, key) for key, value in VIES_OPTIONS.items())\n",
    ")\n",
    "\n",
    "MEMBER_COUNTRY_CODES = VIES_OPTIONS.keys()"
   ]
  },
  {
   "cell_type": "code",
   "execution_count": 114,
   "metadata": {},
   "outputs": [],
   "source": [
    "from werkzeug.exceptions import HTTPException\n",
    "from werkzeug.utils import cached_property\n",
    "from zeep import Client\n",
    "\n",
    "              \n",
    "\n",
    "class VATIN(object):\n",
    "    \"\"\"Object wrapper for the european VAT Identification Number.\"\"\"\n",
    "\n",
    "    def __init__(self, country_code, number):\n",
    "        self.country_code = country_code\n",
    "        self.number = number\n",
    "\n",
    "    def __str__(self):\n",
    "        unformated_number = \"{country_code}{number}\".format(\n",
    "            country_code=self.country_code, number=self.number,\n",
    "        )\n",
    "\n",
    "        country = VIES_OPTIONS.get(self.country_code, {})\n",
    "        if len(country) == 3:\n",
    "            return country[2](unformated_number)\n",
    "        return unformated_number\n",
    "\n",
    "    def __repr__(self):\n",
    "        return \"<VATIN {}>\".format(self.__str__())\n",
    "\n",
    "    @property\n",
    "    def country_code(self):\n",
    "        return self._country_code\n",
    "\n",
    "    @country_code.setter\n",
    "    def country_code(self, value):\n",
    "        self._country_code = value.upper()\n",
    "\n",
    "    @property\n",
    "    def number(self):\n",
    "        return self._number\n",
    "\n",
    "    @number.setter\n",
    "    def number(self, value):\n",
    "        self._number = value.upper().replace(\" \", \"\")\n",
    "\n",
    "\n",
    "    @cached_property\n",
    "    def data(self):\n",
    "        \"\"\"VIES API response data.\"\"\"\n",
    "        client = Client(VIES_WSDL_URL)\n",
    "        try:\n",
    "            return client.service.checkVat(self.country_code, self.number)\n",
    "        except Exception as e:\n",
    "            logger.exception(e)\n",
    "            raise\n",
    "\n",
    "    def is_valid(self):\n",
    "        try:\n",
    "            self.verify()\n",
    "            self.validate()\n",
    "        except HTTPException:\n",
    "            return False\n",
    "        else:\n",
    "            return True\n",
    "\n",
    "    def verify_country_code(self):\n",
    "        if not re.match(r\"^[a-zA-Z]\", self.country_code):\n",
    "            msg =\"{} is not a valid ISO_3166-1 country code.\".format(self.country_code)\n",
    "            raise HTTPException(msg)\n",
    "            return msg\n",
    "        elif self.country_code not in MEMBER_COUNTRY_CODES:\n",
    "            msg =\"{} is not a European member state.\".format(self.country_code)\n",
    "            raise HTTPException(msg)\n",
    "            #return msg\n",
    "\n",
    "    def verify_regex(self):\n",
    "        country = dict(\n",
    "            map(\n",
    "                lambda x, y: (x, y),\n",
    "                (\"country\", \"validator\", \"formatter\"),\n",
    "                VIES_OPTIONS[self.country_code],\n",
    "            )\n",
    "        )\n",
    "        if not country[\"validator\"].match(\"{}{}\".format(self.country_code, self.number)):\n",
    "            msg =\"{} does not match the country's VAT ID specifications.\".format(self.country_code)\n",
    "            raise HTTPException(msg)\n",
    "            #return msg\n",
    "\n",
    "    def verify(self):\n",
    "        self.verify_country_code()\n",
    "        self.verify_regex()\n",
    "\n",
    "    def validate(self):\n",
    "        if not self.data.valid:\n",
    "            msg =\"{} is not a valid VATIN.\".format(self.country_code)\n",
    "            raise HTTPException(msg)\n",
    "            #return msg\n",
    "\n",
    "    @classmethod\n",
    "    def from_str(cls, value):\n",
    "        \"\"\"Return a VATIN object by given string.\"\"\"\n",
    "        return cls(value[:2].strip(), value[2:].strip())\n"
   ]
  },
  {
   "cell_type": "code",
   "execution_count": 257,
   "metadata": {},
   "outputs": [
    {
     "name": "stdout",
     "output_type": "stream",
     "text": [
      "['DE', 'DE190200766']\n",
      "vat country code: DE\n",
      "vat number: 190200766\n",
      "\n",
      "['DE', '190200766']\n",
      "vat country code: DE\n",
      "vat number: 190200766\n",
      "\n",
      "DE190200766\n",
      "vat country code: DE\n",
      "vat number: 190200766\n",
      "\n",
      "['DE', 'IT190200766']\n"
     ]
    },
    {
     "ename": "Exception",
     "evalue": "country codes dont match",
     "output_type": "error",
     "traceback": [
      "\u001b[0;31m---------------------------------------------------------------------------\u001b[0m",
      "\u001b[0;31mException\u001b[0m                                 Traceback (most recent call last)",
      "\u001b[0;32m<ipython-input-257-10c996563ea1>\u001b[0m in \u001b[0;36m<module>\u001b[0;34m\u001b[0m\n\u001b[1;32m     30\u001b[0m \u001b[0;32mfor\u001b[0m \u001b[0mvalue\u001b[0m \u001b[0;32min\u001b[0m \u001b[0mvalues\u001b[0m\u001b[0;34m:\u001b[0m\u001b[0;34m\u001b[0m\u001b[0;34m\u001b[0m\u001b[0m\n\u001b[1;32m     31\u001b[0m     \u001b[0mprint\u001b[0m\u001b[0;34m(\u001b[0m\u001b[0mvalue\u001b[0m\u001b[0;34m)\u001b[0m\u001b[0;34m\u001b[0m\u001b[0;34m\u001b[0m\u001b[0m\n\u001b[0;32m---> 32\u001b[0;31m     \u001b[0mvat\u001b[0m \u001b[0;34m=\u001b[0m \u001b[0mvat_precheck\u001b[0m\u001b[0;34m(\u001b[0m\u001b[0mvalue\u001b[0m\u001b[0;34m)\u001b[0m\u001b[0;34m\u001b[0m\u001b[0;34m\u001b[0m\u001b[0m\n\u001b[0m\u001b[1;32m     33\u001b[0m     \u001b[0mprint\u001b[0m\u001b[0;34m(\u001b[0m\u001b[0;34m\"vat country code: {}\"\u001b[0m\u001b[0;34m.\u001b[0m\u001b[0mformat\u001b[0m\u001b[0;34m(\u001b[0m\u001b[0mvat\u001b[0m\u001b[0;34m.\u001b[0m\u001b[0mcountry_code\u001b[0m\u001b[0;34m)\u001b[0m\u001b[0;34m)\u001b[0m\u001b[0;34m\u001b[0m\u001b[0;34m\u001b[0m\u001b[0m\n\u001b[1;32m     34\u001b[0m     \u001b[0mprint\u001b[0m\u001b[0;34m(\u001b[0m\u001b[0;34m\"vat number: {}\"\u001b[0m\u001b[0;34m.\u001b[0m\u001b[0mformat\u001b[0m\u001b[0;34m(\u001b[0m\u001b[0mvat\u001b[0m\u001b[0;34m.\u001b[0m\u001b[0mnumber\u001b[0m\u001b[0;34m)\u001b[0m\u001b[0;34m)\u001b[0m\u001b[0;34m\u001b[0m\u001b[0;34m\u001b[0m\u001b[0m\n",
      "\u001b[0;32m<ipython-input-257-10c996563ea1>\u001b[0m in \u001b[0;36mvat_precheck\u001b[0;34m(vat_data)\u001b[0m\n\u001b[1;32m     23\u001b[0m \u001b[0;34m\u001b[0m\u001b[0m\n\u001b[1;32m     24\u001b[0m         \u001b[0;32melse\u001b[0m\u001b[0;34m:\u001b[0m\u001b[0;34m\u001b[0m\u001b[0;34m\u001b[0m\u001b[0m\n\u001b[0;32m---> 25\u001b[0;31m             \u001b[0;32mraise\u001b[0m \u001b[0mException\u001b[0m\u001b[0;34m(\u001b[0m\u001b[0;34m\"country codes dont match\"\u001b[0m\u001b[0;34m)\u001b[0m\u001b[0;34m\u001b[0m\u001b[0;34m\u001b[0m\u001b[0m\n\u001b[0m\u001b[1;32m     26\u001b[0m \u001b[0;34m\u001b[0m\u001b[0m\n\u001b[1;32m     27\u001b[0m     \u001b[0;32mreturn\u001b[0m \u001b[0mvat\u001b[0m\u001b[0;34m\u001b[0m\u001b[0;34m\u001b[0m\u001b[0m\n",
      "\u001b[0;31mException\u001b[0m: country codes dont match"
     ]
    }
   ],
   "source": [
    "value1 = ['DE', 'DE190200766']\n",
    "value2 = ['DE', '190200766']\n",
    "value3 = 'DE190200766'\n",
    "value4 = ['DE', 'IT190200766']\n",
    "\n",
    "\n",
    "values = [value1, value2, value3,value4]\n",
    "#values = [value1, value2, value3]\n",
    "\n",
    "\n",
    "def vat_precheck(vat_data):\n",
    "    \n",
    "    if isinstance(vat_data, str):\n",
    "        vat = VATIN.from_str(vat_data)\n",
    "                \n",
    "    elif isinstance(vat_data, list):\n",
    "        \n",
    "        if not re.match(r\"^[a-zA-Z]\", vat_data[1]):\n",
    "            vat = VATIN(vat_data[0], vat_data[1])\n",
    "            \n",
    "        elif VATIN.from_str(vat_data[1]).country_code == VATIN(vat_data[0], vat_data[1]).country_code:\n",
    "            vat = VATIN.from_str(vat_data[1])\n",
    "            \n",
    "        else: \n",
    "            raise Exception(\"country codes dont match\")\n",
    "    \n",
    "    return vat\n",
    "\n",
    "                \n",
    "for value in values:\n",
    "    print(value)\n",
    "    vat = vat_precheck(value)\n",
    "    print(\"vat country code: {}\".format(vat.country_code))\n",
    "    print(\"vat number: {}\".format(vat.number))\n",
    "    print(\"\")\n",
    "\n",
    "    "
   ]
  },
  {
   "cell_type": "code",
   "execution_count": 116,
   "metadata": {},
   "outputs": [
    {
     "name": "stderr",
     "output_type": "stream",
     "text": [
      "Forcing soap:address location to HTTPS\n"
     ]
    },
    {
     "data": {
      "text/plain": [
       "True"
      ]
     },
     "execution_count": 116,
     "metadata": {},
     "output_type": "execute_result"
    }
   ],
   "source": []
  },
  {
   "cell_type": "code",
   "execution_count": 117,
   "metadata": {},
   "outputs": [
    {
     "data": {
      "text/plain": [
       "{\n",
       "    'countryCode': 'DE',\n",
       "    'vatNumber': '190200766',\n",
       "    'requestDate': datetime.date(2020, 4, 15),\n",
       "    'valid': True,\n",
       "    'name': '---',\n",
       "    'address': '---'\n",
       "}"
      ]
     },
     "execution_count": 117,
     "metadata": {},
     "output_type": "execute_result"
    }
   ],
   "source": [
    "vat.data"
   ]
  },
  {
   "cell_type": "code",
   "execution_count": 119,
   "metadata": {},
   "outputs": [
    {
     "name": "stdout",
     "output_type": "stream",
     "text": [
      "DE\n",
      "190200766\n"
     ]
    }
   ],
   "source": [
    "print(vat.country_code)\n",
    "print(vat.number)"
   ]
  },
  {
   "cell_type": "code",
   "execution_count": 120,
   "metadata": {},
   "outputs": [],
   "source": [
    "vat.verify_regex()"
   ]
  },
  {
   "cell_type": "code",
   "execution_count": 100,
   "metadata": {},
   "outputs": [],
   "source": [
    "country = dict(\n",
    "            map(\n",
    "                lambda x, y: (x, y),\n",
    "                (\"country\", \"validator\", \"formatter\"),\n",
    "                VIES_OPTIONS[vat.country_code],\n",
    "            )\n",
    "        )"
   ]
  },
  {
   "cell_type": "code",
   "execution_count": 121,
   "metadata": {},
   "outputs": [
    {
     "data": {
      "text/plain": [
       "{'country': 'Spain',\n",
       " 'validator': re.compile(r'^ES[A-Z0-9]\\d{7}[A-Z0-9]$', re.UNICODE)}"
      ]
     },
     "execution_count": 121,
     "metadata": {},
     "output_type": "execute_result"
    }
   ],
   "source": [
    "country"
   ]
  },
  {
   "cell_type": "code",
   "execution_count": 122,
   "metadata": {},
   "outputs": [],
   "source": [
    "def verify_country_code(self):\n",
    "    if not re.match(r\"^[a-zA-Z]\", self.country_code):\n",
    "        msg =\"{} is not a valid ISO_3166-1 country code.\".format(self.country_code)\n",
    "        raise HTTPException(msg)\n",
    "    elif self.country_code not in MEMBER_COUNTRY_CODES:\n",
    "        msg =\"{} is not a european member state.\".format(self.country_code)\n",
    "        raise HTTPException(msg)"
   ]
  },
  {
   "cell_type": "code",
   "execution_count": 125,
   "metadata": {},
   "outputs": [],
   "source": [
    "vat.verify_country_code()"
   ]
  },
  {
   "cell_type": "code",
   "execution_count": 126,
   "metadata": {},
   "outputs": [],
   "source": [
    "def from_str(value):\n",
    "        \"\"\"Return a VATIN object by given string.\"\"\"\n",
    "        return (value[:2].strip(), value[2:].strip())"
   ]
  },
  {
   "cell_type": "code",
   "execution_count": 127,
   "metadata": {},
   "outputs": [
    {
     "data": {
      "text/plain": [
       "('DE', '190200766')"
      ]
     },
     "execution_count": 127,
     "metadata": {},
     "output_type": "execute_result"
    }
   ],
   "source": [
    "from_str('DE190200766')"
   ]
  },
  {
   "cell_type": "code",
   "execution_count": 258,
   "metadata": {},
   "outputs": [],
   "source": [
    "import datetime\n",
    "\n",
    "today = datetime.date.today()"
   ]
  },
  {
   "cell_type": "code",
   "execution_count": 259,
   "metadata": {},
   "outputs": [
    {
     "data": {
      "text/plain": [
       "datetime.date(2020, 4, 16)"
      ]
     },
     "execution_count": 259,
     "metadata": {},
     "output_type": "execute_result"
    }
   ],
   "source": [
    "today"
   ]
  },
  {
   "cell_type": "code",
   "execution_count": 268,
   "metadata": {},
   "outputs": [],
   "source": [
    "# Retrieve daily exchange rate and add to csv file\n",
    "def daily_ecb_exchange_rate():\n",
    "    #df = pd.read_csv(filepath, sep=',')\n",
    "    daily_rate_dict = {}\n",
    "\n",
    "    #get exchange rate data\n",
    "    import requests\n",
    "    r = requests.get(\n",
    "        'http://www.ecb.europa.eu/stats/eurofxref/eurofxref-daily.xml', stream=True)\n",
    "    from xml.etree import ElementTree as ET\n",
    "    tree = ET.parse(r.raw)\n",
    "    root = tree.getroot()\n",
    "    namespaces = {'ex': 'http://www.ecb.int/vocabulary/2002-08-01/eurofxref'}\n",
    "    for cube in root.findall('.//ex:Cube[@currency]', namespaces=namespaces):\n",
    "        # data is added to dict\n",
    "        daily_rate_dict[str(cube.attrib['currency'])] = cube.attrib['rate']\n",
    "    #daily_rate_dict['Date'] = datetime.date.today().strftime(\"%d.%m.%y\")\n",
    "    return daily_rate_dict\n",
    "    \n",
    "    #dict is used for new df row\n",
    "    #new_row = pd.DataFrame(data=daily_rate_dict, index=[0])\n",
    "\n",
    "    #append row to the dataframe\n",
    "    #df = pd.concat([new_row, df], sort=False).reset_index(drop=True)\n",
    "\n",
    "    #move 'Date' column to front\n",
    "    #cols = list(df)\n",
    "    #cols.insert(0, cols.pop(cols.index('Date')))\n",
    "    #df = df.loc[:, cols]\n",
    "\n",
    "    #write new df into csv_file\n",
    "    #df.to_csv(filepath, index=False)"
   ]
  },
  {
   "cell_type": "code",
   "execution_count": 269,
   "metadata": {},
   "outputs": [],
   "source": [
    "daily_rate_dict = daily_ecb_exchange_rate()"
   ]
  },
  {
   "cell_type": "code",
   "execution_count": 282,
   "metadata": {},
   "outputs": [
    {
     "data": {
      "text/plain": [
       "'26.991'"
      ]
     },
     "execution_count": 282,
     "metadata": {},
     "output_type": "execute_result"
    }
   ],
   "source": [
    "daily_rate_dict['CZK']"
   ]
  },
  {
   "cell_type": "code",
   "execution_count": 285,
   "metadata": {},
   "outputs": [],
   "source": [
    "db.create_all()"
   ]
  },
  {
   "cell_type": "code",
   "execution_count": 300,
   "metadata": {},
   "outputs": [],
   "source": [
    "import datetime\n",
    "\n",
    "\n",
    "class ExchangeRateCollection(db.Model):\n",
    "    \"\"\" ExchangeRates parent_model \"\"\"\n",
    "    __tablename__ = \"exchange_rate_collection\"\n",
    "    id = db.Column(db.Integer, primary_key=True)\n",
    "    date = db.Column(db.DateTime, default=datetime.date.today)\n",
    "    created_on = db.Column(db.DateTime, default=datetime.datetime.utcnow)\n",
    "    exchange_rates_eur = db.relationship(\n",
    "        'ExchangeRatesEUR', backref='exchange_rate_collection', lazy='joined')\n",
    "    exchange_rates_gbp = db.relationship(\n",
    "        'ExchangeRatesGBP', backref='exchange_rate_collection', lazy='joined')\n",
    "    exchange_rates_czk = db.relationship(\n",
    "        'ExchangeRatesPLN', backref='exchange_rate_collection', lazy='joined')\n",
    "    exchange_rates_czk = db.relationship(\n",
    "        'ExchangeRatesPLN', backref='exchange_rate_collection', lazy='joined')\n",
    "\n",
    "\n",
    "    def __init__(self, **kwargs):\n",
    "        super(ExchangeRateCollection, self).__init__(**kwargs)\n",
    "\n",
    "    def __repr__(self):\n",
    "        return '<ExchangeRates: %r>' % self.date\n",
    "\n",
    "\n",
    "\n",
    "    discriminator = db.Column('type', db.String(50))\n",
    "    __mapper_args__ = {'polymorphic_on': discriminator}\n",
    "\n",
    "class ExchangeRatesCURRENCY(db.Model):\n",
    "    \"\"\" ExchangeRates BASE model \"\"\"\n",
    "    __tablename__ = \"exchange_rates\"\n",
    "    id = db.Column(db.Integer, primary_key=True)\n",
    "    source = db.Column(db.String(32), default=\"ECB\")\n",
    "    created_on = db.Column(db.DateTime, default=datetime.datetime.utcnow)\n",
    "    exchange_rate_collection_id = db.Column(db.Integer, db.ForeignKey('exchange_rate_collection.id'),\n",
    "                                            nullable=False)\n",
    "    eur = db.Column(db.Numeric(scale=8))\n",
    "    gbp = db.Column(db.Numeric(scale=8))\n",
    "    czk = db.Column(db.Numeric(scale=8))\n",
    "    pln = db.Column(db.Numeric(scale=8))\n",
    "\n",
    "    discriminator = db.Column('exchange_rates_base', db.String(32))\n",
    "    __mapper_args__ = {'polymorphic_on': discriminator}\n",
    "\n",
    "    def __init__(ExchangeRatesCURRENCY, **kwargs):\n",
    "        super(ExchangeRatesCURRENCY, self).__init__(**kwargs)\n",
    "\n",
    "    def __repr__(self):\n",
    "        return '<ExchangeRatesCURRENCY: %r>' % self.exchange_rate_collection.date\n",
    "\n",
    "\n",
    "class ExchangeRatesEUR(ExchangeRatesCURRENCY):\n",
    "    \"\"\" ExchangeRates EUR model \"\"\"\n",
    "    __tablename__ = \"exchange_rates_eur\"\n",
    "    __mapper_args__ = {'polymorphic_identity': 'exchange_rates_eur'}\n",
    "\n",
    "    exchange_rates_eur_id = db.Column('id', db.Integer, db.ForeignKey('exchange_rates.id'),\n",
    "                         primary_key=True)\n",
    "\n",
    "    def __init__(ExchangeRatesCURRENCY, **kwargs):\n",
    "        super(ExchangeRatesCURRENCY, self).__init__(**kwargs)\n",
    "\n",
    "    def __repr__(self):\n",
    "        return '<ExchangeRatesCURRENCY: %r>' % self.exchange_rate_collection.date\n",
    "\n",
    "\n",
    "class ExchangeRatesGBP(ExchangeRatesCURRENCY):\n",
    "    \"\"\" ExchangeRates GPB model \"\"\"\n",
    "    __tablename__ = \"exchange_rates_gbp\"\n",
    "    __mapper_args__ = {'polymorphic_identity': 'exchange_rates_gbp'}\n",
    "\n",
    "    exchange_rates_gbp_id = db.Column('id', db.Integer, db.ForeignKey('exchange_rates.id'),\n",
    "                                      primary_key=True)\n",
    "\n",
    "    def __init__(ExchangeRatesGBP, **kwargs):\n",
    "        super(ExchangeRatesGBP, self).__init__(**kwargs)\n",
    "\n",
    "    def __repr__(self):\n",
    "        return '<ExchangeRatesGBP: %r>' % self.exchange_rate_collection.date\n",
    "\n",
    "\n",
    "class ExchangeRatesCZK(ExchangeRatesCURRENCY):\n",
    "    \"\"\" ExchangeRates CZK model \"\"\"\n",
    "    __tablename__ = \"exchange_rates_czk\"\n",
    "    __mapper_args__ = {'polymorphic_identity': 'exchange_rates_czk'}\n",
    "\n",
    "    exchange_rates_czk_id = db.Column('id', db.Integer, db.ForeignKey('exchange_rates.id'),\n",
    "                                      primary_key=True)\n",
    "\n",
    "    def __init__(ExchangeRatesCZK, **kwargs):\n",
    "        super(ExchangeRatesCZK, self).__init__(**kwargs)\n",
    "\n",
    "    def __repr__(self):\n",
    "        return '<ExchangeRatesCZK: %r>' % self.exchange_rate_collection.date\n",
    "\n",
    "\n",
    "class ExchangeRatesPLN(ExchangeRatesCURRENCY):\n",
    "    \"\"\" ExchangeRates PLN model \"\"\"\n",
    "    __tablename__ = \"exchange_rates_pln\"\n",
    "    __mapper_args__ = {'polymorphic_identity': 'exchange_rates_pln'}\n",
    "\n",
    "    exchange_rates_pln_id = db.Column('id', db.Integer, db.ForeignKey('exchange_rates.id'),\n",
    "                                      primary_key=True)\n",
    "\n",
    "    def __init__(ExchangeRatesPLN, **kwargs):\n",
    "        super(ExchangeRatesPLN, self).__init__(**kwargs)\n",
    "\n",
    "    def __repr__(self):\n",
    "        return '<ExchangeRatesPLN: %r>' % self.exchange_rate_collection.date\n"
   ]
  },
  {
   "cell_type": "code",
   "execution_count": 305,
   "metadata": {},
   "outputs": [],
   "source": [
    "from werkzeug.exceptions import InternalServerError\n",
    "\n",
    "class ExchangeRatesService:\n",
    "\n",
    "    @staticmethod\n",
    "    def retrieve_ecb_exchange_rates():\n",
    "        #df = pd.read_csv(filepath, sep=',')\n",
    "        exchange_rate_dict = {}\n",
    "\n",
    "        #get exchange rate data\n",
    "        import requests\n",
    "        r = requests.get(\n",
    "            'http://www.ecb.europa.eu/stats/eurofxref/eurofxref-daily.xml', stream=True)\n",
    "        from xml.etree import ElementTree as ET\n",
    "        tree = ET.parse(r.raw)\n",
    "        root = tree.getroot()\n",
    "        namespaces = {\n",
    "            'ex': 'http://www.ecb.int/vocabulary/2002-08-01/eurofxref'}\n",
    "        for cube in root.findall('.//ex:Cube[@currency]', namespaces=namespaces):\n",
    "            # data is added to dict\n",
    "            exchange_rate_dict[str(cube.attrib['currency'])] = cube.attrib['rate']\n",
    "        #daily_rate_dict['Date'] = datetime.date.today().strftime(\"%d.%m.%y\")\n",
    "        return exchange_rate_dict\n",
    "\n",
    "\n",
    "    def create_exchange_rate_collection(date) -> ExchangeRateCollection:\n",
    "        exchange_rate_collection = ExchangeRateCollection.query.filter_by(date=date).first()\n",
    "\n",
    "        if not exchange_rate_collection:\n",
    "            #create new exchange_rate_collection based on TaxAuditor model\n",
    "            new_exchange_rate_collection = ExchangeRateCollection(\n",
    "                date=datetime.date.today(),\n",
    "                created_on=datetime.datetime.utcnow()\n",
    "            )\n",
    "\n",
    "            #add exchange_rate_collection to db\n",
    "            db.session.add(new_exchange_rate_collection)\n",
    "            db.session.commit()\n",
    "\n",
    "            return new_exchange_rate_collection\n",
    "\n",
    "\n",
    "    def create_exchange_rates_EUR(date) -> ExchangeRatesEUR:\n",
    "        exchange_rate_collection = ExchangeRateCollection.query.filter_by(\n",
    "            date=date).first()\n",
    "\n",
    "        if exchange_rate_collection:\n",
    "\n",
    "            #api call to ECB\n",
    "            exchange_rate_dict = ExchangeRatesService.retrieve_ecb_exchange_rates()\n",
    "\n",
    "            new_exchange_rates_EUR = ExchangeRatesEUR(\n",
    "                source='ECB',\n",
    "                created_on=datetime.datetime.utcnow(),\n",
    "                exchange_rate_collection_id=exchange_rate_collection.id,\n",
    "                eur=1.0000,\n",
    "                gbp=exchange_rate_collection['GBP'],\n",
    "                czk=exchange_rate_collection['CZK'],\n",
    "                pln=exchange_rate_collection['PLN']\n",
    "            )\n",
    "\n",
    "            #add exchange_rate_collection to db\n",
    "            db.session.add(new_exchange_rates_EUR)\n",
    "            db.session.commit()\n",
    "\n",
    "            return new_exchange_rates_EUR\n",
    "\n",
    "        else:\n",
    "            response_object = {\n",
    "                'status' : 'error',\n",
    "                'message': 'The corresponding exchange rate collection can not be found.'\n",
    "            }\n",
    "            raise InternalServerError(response_object)\n",
    "\n",
    "\n",
    "    def create_exchange_rates_GBP(date) -> ExchangeRatesGBP:\n",
    "        exchange_rate_collection = ExchangeRateCollection.query.filter_by(\n",
    "                date=date).first()\n",
    "\n",
    "        exchange_rates_EUR = ExchangeRatesEUR.query.filter_by(\n",
    "                exchange_rate_collection_id=exchange_rate_collection.id)\n",
    "\n",
    "        if exchange_rate_collection and exchange_rates_EUR:\n",
    "\n",
    "            new_exchange_rates_EUR = ExchangeRatesEUR(\n",
    "                source='ECB',\n",
    "                created_on=datetime.datetime.utcnow(),\n",
    "                exchange_rate_collection_id=exchange_rate_collection.id,\n",
    "                eur=1/exchange_rates_EUR.gbp,\n",
    "                gbp=1.0000,\n",
    "                czk=self.eur * exchange_rates_EUR.czk,\n",
    "                pln=self.eur * exchange_rates_EUR.pln\n",
    "            )\n",
    "\n",
    "            #add exchange_rate_collection to db\n",
    "            db.session.add(new_exchange_rates_GBP)\n",
    "            db.session.commit()\n",
    "\n",
    "            return new_exchange_rates_GBP\n",
    "\n",
    "        else:\n",
    "            response_object = {\n",
    "                'status': 'error',\n",
    "                'message': 'An error occured.'\n",
    "            }\n",
    "            raise InternalServerError(response_object)\n",
    "\n",
    "\n",
    "    def create_exchange_rates_CZK(date) -> ExchangeRatesCZK:\n",
    "        exchange_rate_collection = ExchangeRateCollection.query.filter_by(\n",
    "            date=date).first()\n",
    "\n",
    "        exchange_rates_EUR = ExchangeRatesEUR.query.filter_by(\n",
    "            exchange_rate_collection_id=exchange_rate_collection.id)\n",
    "\n",
    "        if exchange_rate_collection and exchange_rates_EUR:\n",
    "\n",
    "            new_exchange_rates_EUR = ExchangeRatesEUR(\n",
    "                source='ECB',\n",
    "                created_on=datetime.datetime.utcnow(),\n",
    "                exchange_rate_collection_id=exchange_rate_collection.id,\n",
    "                eur=1/exchange_rates_EUR.czk,\n",
    "                gbp=self.eur * exchange_rates_EUR.gbp,\n",
    "                czk=1.0000,\n",
    "                pln=self.eur * exchange_rates_EUR.pln\n",
    "            )\n",
    "\n",
    "            #add exchange_rate_collection to db\n",
    "            db.session.add(new_exchange_rates_CZK)\n",
    "            db.session.commit()\n",
    "\n",
    "            return new_exchange_rates_CZK\n",
    "\n",
    "        else:\n",
    "            response_object = {\n",
    "                'status': 'error',\n",
    "                'message': 'An error occured.'\n",
    "            }\n",
    "            raise InternalServerError(response_object)\n",
    "\n",
    "    def create_exchange_rates_PLN(date) -> ExchangeRatesPLN:\n",
    "        exchange_rate_collection = ExchangeRateCollection.query.filter_by(\n",
    "            date=date).first()\n",
    "\n",
    "        exchange_rates_EUR = ExchangeRatesEUR.query.filter_by(\n",
    "            exchange_rate_collection_id=exchange_rate_collection.id)\n",
    "\n",
    "        if exchange_rate_collection and exchange_rates_EUR:\n",
    "\n",
    "            new_exchange_rates_EUR = ExchangeRatesEUR(\n",
    "                source='ECB',\n",
    "                created_on=datetime.datetime.utcnow(),\n",
    "                exchange_rate_collection_id=exchange_rate_collection.id,\n",
    "                eur=1/exchange_rates_EUR.pln,\n",
    "                gbp=self.eur * exchange_rates_EUR.gbp,\n",
    "                czk=self.eur * exchange_rates_EUR.czk,\n",
    "                pln=1.0000\n",
    "            )\n",
    "\n",
    "            #add exchange_rate_collection to db\n",
    "            db.session.add(new_exchange_rates_PLN)\n",
    "            db.session.commit()\n",
    "\n",
    "            return new_exchange_rates_PLN\n",
    "\n",
    "        else:\n",
    "            response_object = {\n",
    "                'status': 'error',\n",
    "                'message': 'An error occured.'\n",
    "            }\n",
    "            raise InternalServerError(response_object)\n"
   ]
  },
  {
   "cell_type": "code",
   "execution_count": 307,
   "metadata": {},
   "outputs": [
    {
     "ename": "InvalidRequestError",
     "evalue": "When initializing mapper mapped class User->user, expression 'Action' failed to locate a name (\"name 'Action' is not defined\"). If this is a class name, consider adding this relationship() to the <class '__main__.User'> class after both dependent classes have been defined.",
     "output_type": "error",
     "traceback": [
      "\u001b[0;31m---------------------------------------------------------------------------\u001b[0m",
      "\u001b[0;31mNameError\u001b[0m                                 Traceback (most recent call last)",
      "\u001b[0;32m/usr/local/lib/python3.7/site-packages/sqlalchemy/ext/declarative/clsregistry.py\u001b[0m in \u001b[0;36m__call__\u001b[0;34m(self)\u001b[0m\n\u001b[1;32m    293\u001b[0m         \u001b[0;32mtry\u001b[0m\u001b[0;34m:\u001b[0m\u001b[0;34m\u001b[0m\u001b[0;34m\u001b[0m\u001b[0m\n\u001b[0;32m--> 294\u001b[0;31m             \u001b[0mx\u001b[0m \u001b[0;34m=\u001b[0m \u001b[0meval\u001b[0m\u001b[0;34m(\u001b[0m\u001b[0mself\u001b[0m\u001b[0;34m.\u001b[0m\u001b[0marg\u001b[0m\u001b[0;34m,\u001b[0m \u001b[0mglobals\u001b[0m\u001b[0;34m(\u001b[0m\u001b[0;34m)\u001b[0m\u001b[0;34m,\u001b[0m \u001b[0mself\u001b[0m\u001b[0;34m.\u001b[0m\u001b[0m_dict\u001b[0m\u001b[0;34m)\u001b[0m\u001b[0;34m\u001b[0m\u001b[0;34m\u001b[0m\u001b[0m\n\u001b[0m\u001b[1;32m    295\u001b[0m \u001b[0;34m\u001b[0m\u001b[0m\n",
      "\u001b[0;32m/usr/local/lib/python3.7/site-packages/sqlalchemy/ext/declarative/clsregistry.py\u001b[0m in \u001b[0;36m<module>\u001b[0;34m\u001b[0m\n",
      "\u001b[0;31mNameError\u001b[0m: name 'Action' is not defined",
      "\nThe above exception was the direct cause of the following exception:\n",
      "\u001b[0;31mInvalidRequestError\u001b[0m                       Traceback (most recent call last)",
      "\u001b[0;32m<ipython-input-307-f5664fdb56dc>\u001b[0m in \u001b[0;36m<module>\u001b[0;34m\u001b[0m\n\u001b[1;32m      1\u001b[0m \u001b[0mdate\u001b[0m \u001b[0;34m=\u001b[0m \u001b[0mdatetime\u001b[0m\u001b[0;34m.\u001b[0m\u001b[0mdate\u001b[0m\u001b[0;34m.\u001b[0m\u001b[0mtoday\u001b[0m\u001b[0;34m(\u001b[0m\u001b[0;34m)\u001b[0m\u001b[0;34m\u001b[0m\u001b[0;34m\u001b[0m\u001b[0m\n\u001b[0;32m----> 2\u001b[0;31m \u001b[0mExchangeRatesService\u001b[0m\u001b[0;34m.\u001b[0m\u001b[0mcreate_exchange_rate_collection\u001b[0m\u001b[0;34m(\u001b[0m\u001b[0mdate\u001b[0m\u001b[0;34m)\u001b[0m\u001b[0;34m\u001b[0m\u001b[0;34m\u001b[0m\u001b[0m\n\u001b[0m\u001b[1;32m      3\u001b[0m \u001b[0mExchangeRatesService\u001b[0m\u001b[0;34m.\u001b[0m\u001b[0mcreate_exchange_rates_EUR\u001b[0m\u001b[0;34m(\u001b[0m\u001b[0mdate\u001b[0m\u001b[0;34m)\u001b[0m\u001b[0;34m\u001b[0m\u001b[0;34m\u001b[0m\u001b[0m\n\u001b[1;32m      4\u001b[0m \u001b[0mExchangeRatesService\u001b[0m\u001b[0;34m.\u001b[0m\u001b[0mcreate_exchange_rates_GBP\u001b[0m\u001b[0;34m(\u001b[0m\u001b[0mdate\u001b[0m\u001b[0;34m)\u001b[0m\u001b[0;34m\u001b[0m\u001b[0;34m\u001b[0m\u001b[0m\n\u001b[1;32m      5\u001b[0m \u001b[0mExchangeRatesService\u001b[0m\u001b[0;34m.\u001b[0m\u001b[0mcreate_exchange_rates_CZK\u001b[0m\u001b[0;34m(\u001b[0m\u001b[0mdate\u001b[0m\u001b[0;34m)\u001b[0m\u001b[0;34m\u001b[0m\u001b[0;34m\u001b[0m\u001b[0m\n",
      "\u001b[0;32m<ipython-input-305-240124ef471b>\u001b[0m in \u001b[0;36mcreate_exchange_rate_collection\u001b[0;34m(date)\u001b[0m\n\u001b[1;32m     25\u001b[0m \u001b[0;34m\u001b[0m\u001b[0m\n\u001b[1;32m     26\u001b[0m     \u001b[0;32mdef\u001b[0m \u001b[0mcreate_exchange_rate_collection\u001b[0m\u001b[0;34m(\u001b[0m\u001b[0mdate\u001b[0m\u001b[0;34m)\u001b[0m \u001b[0;34m->\u001b[0m \u001b[0mExchangeRateCollection\u001b[0m\u001b[0;34m:\u001b[0m\u001b[0;34m\u001b[0m\u001b[0;34m\u001b[0m\u001b[0m\n\u001b[0;32m---> 27\u001b[0;31m         \u001b[0mexchange_rate_collection\u001b[0m \u001b[0;34m=\u001b[0m \u001b[0mExchangeRateCollection\u001b[0m\u001b[0;34m.\u001b[0m\u001b[0mquery\u001b[0m\u001b[0;34m.\u001b[0m\u001b[0mfilter_by\u001b[0m\u001b[0;34m(\u001b[0m\u001b[0mdate\u001b[0m\u001b[0;34m=\u001b[0m\u001b[0mdate\u001b[0m\u001b[0;34m)\u001b[0m\u001b[0;34m.\u001b[0m\u001b[0mfirst\u001b[0m\u001b[0;34m(\u001b[0m\u001b[0;34m)\u001b[0m\u001b[0;34m\u001b[0m\u001b[0;34m\u001b[0m\u001b[0m\n\u001b[0m\u001b[1;32m     28\u001b[0m \u001b[0;34m\u001b[0m\u001b[0m\n\u001b[1;32m     29\u001b[0m         \u001b[0;32mif\u001b[0m \u001b[0;32mnot\u001b[0m \u001b[0mexchange_rate_collection\u001b[0m\u001b[0;34m:\u001b[0m\u001b[0;34m\u001b[0m\u001b[0;34m\u001b[0m\u001b[0m\n",
      "\u001b[0;32m/usr/local/lib/python3.7/site-packages/flask_sqlalchemy/__init__.py\u001b[0m in \u001b[0;36m__get__\u001b[0;34m(self, obj, type)\u001b[0m\n\u001b[1;32m    515\u001b[0m     \u001b[0;32mdef\u001b[0m \u001b[0m__get__\u001b[0m\u001b[0;34m(\u001b[0m\u001b[0mself\u001b[0m\u001b[0;34m,\u001b[0m \u001b[0mobj\u001b[0m\u001b[0;34m,\u001b[0m \u001b[0mtype\u001b[0m\u001b[0;34m)\u001b[0m\u001b[0;34m:\u001b[0m\u001b[0;34m\u001b[0m\u001b[0;34m\u001b[0m\u001b[0m\n\u001b[1;32m    516\u001b[0m         \u001b[0;32mtry\u001b[0m\u001b[0;34m:\u001b[0m\u001b[0;34m\u001b[0m\u001b[0;34m\u001b[0m\u001b[0m\n\u001b[0;32m--> 517\u001b[0;31m             \u001b[0mmapper\u001b[0m \u001b[0;34m=\u001b[0m \u001b[0morm\u001b[0m\u001b[0;34m.\u001b[0m\u001b[0mclass_mapper\u001b[0m\u001b[0;34m(\u001b[0m\u001b[0mtype\u001b[0m\u001b[0;34m)\u001b[0m\u001b[0;34m\u001b[0m\u001b[0;34m\u001b[0m\u001b[0m\n\u001b[0m\u001b[1;32m    518\u001b[0m             \u001b[0;32mif\u001b[0m \u001b[0mmapper\u001b[0m\u001b[0;34m:\u001b[0m\u001b[0;34m\u001b[0m\u001b[0;34m\u001b[0m\u001b[0m\n\u001b[1;32m    519\u001b[0m                 \u001b[0;32mreturn\u001b[0m \u001b[0mtype\u001b[0m\u001b[0;34m.\u001b[0m\u001b[0mquery_class\u001b[0m\u001b[0;34m(\u001b[0m\u001b[0mmapper\u001b[0m\u001b[0;34m,\u001b[0m \u001b[0msession\u001b[0m\u001b[0;34m=\u001b[0m\u001b[0mself\u001b[0m\u001b[0;34m.\u001b[0m\u001b[0msa\u001b[0m\u001b[0;34m.\u001b[0m\u001b[0msession\u001b[0m\u001b[0;34m(\u001b[0m\u001b[0;34m)\u001b[0m\u001b[0;34m)\u001b[0m\u001b[0;34m\u001b[0m\u001b[0;34m\u001b[0m\u001b[0m\n",
      "\u001b[0;32m/usr/local/lib/python3.7/site-packages/sqlalchemy/orm/base.py\u001b[0m in \u001b[0;36mclass_mapper\u001b[0;34m(class_, configure)\u001b[0m\n\u001b[1;32m    442\u001b[0m \u001b[0;34m\u001b[0m\u001b[0m\n\u001b[1;32m    443\u001b[0m     \"\"\"\n\u001b[0;32m--> 444\u001b[0;31m     \u001b[0mmapper\u001b[0m \u001b[0;34m=\u001b[0m \u001b[0m_inspect_mapped_class\u001b[0m\u001b[0;34m(\u001b[0m\u001b[0mclass_\u001b[0m\u001b[0;34m,\u001b[0m \u001b[0mconfigure\u001b[0m\u001b[0;34m=\u001b[0m\u001b[0mconfigure\u001b[0m\u001b[0;34m)\u001b[0m\u001b[0;34m\u001b[0m\u001b[0;34m\u001b[0m\u001b[0m\n\u001b[0m\u001b[1;32m    445\u001b[0m     \u001b[0;32mif\u001b[0m \u001b[0mmapper\u001b[0m \u001b[0;32mis\u001b[0m \u001b[0;32mNone\u001b[0m\u001b[0;34m:\u001b[0m\u001b[0;34m\u001b[0m\u001b[0;34m\u001b[0m\u001b[0m\n\u001b[1;32m    446\u001b[0m         \u001b[0;32mif\u001b[0m \u001b[0;32mnot\u001b[0m \u001b[0misinstance\u001b[0m\u001b[0;34m(\u001b[0m\u001b[0mclass_\u001b[0m\u001b[0;34m,\u001b[0m \u001b[0mtype\u001b[0m\u001b[0;34m)\u001b[0m\u001b[0;34m:\u001b[0m\u001b[0;34m\u001b[0m\u001b[0;34m\u001b[0m\u001b[0m\n",
      "\u001b[0;32m/usr/local/lib/python3.7/site-packages/sqlalchemy/orm/base.py\u001b[0m in \u001b[0;36m_inspect_mapped_class\u001b[0;34m(class_, configure)\u001b[0m\n\u001b[1;32m    421\u001b[0m     \u001b[0;32melse\u001b[0m\u001b[0;34m:\u001b[0m\u001b[0;34m\u001b[0m\u001b[0;34m\u001b[0m\u001b[0m\n\u001b[1;32m    422\u001b[0m         \u001b[0;32mif\u001b[0m \u001b[0mconfigure\u001b[0m \u001b[0;32mand\u001b[0m \u001b[0mmapper\u001b[0m\u001b[0;34m.\u001b[0m\u001b[0m_new_mappers\u001b[0m\u001b[0;34m:\u001b[0m\u001b[0;34m\u001b[0m\u001b[0;34m\u001b[0m\u001b[0m\n\u001b[0;32m--> 423\u001b[0;31m             \u001b[0mmapper\u001b[0m\u001b[0;34m.\u001b[0m\u001b[0m_configure_all\u001b[0m\u001b[0;34m(\u001b[0m\u001b[0;34m)\u001b[0m\u001b[0;34m\u001b[0m\u001b[0;34m\u001b[0m\u001b[0m\n\u001b[0m\u001b[1;32m    424\u001b[0m         \u001b[0;32mreturn\u001b[0m \u001b[0mmapper\u001b[0m\u001b[0;34m\u001b[0m\u001b[0;34m\u001b[0m\u001b[0m\n\u001b[1;32m    425\u001b[0m \u001b[0;34m\u001b[0m\u001b[0m\n",
      "\u001b[0;32m/usr/local/lib/python3.7/site-packages/sqlalchemy/orm/mapper.py\u001b[0m in \u001b[0;36m_configure_all\u001b[0;34m(cls)\u001b[0m\n\u001b[1;32m   1335\u001b[0m         \"\"\"Class-level path to the :func:`.configure_mappers` call.\n\u001b[1;32m   1336\u001b[0m         \"\"\"\n\u001b[0;32m-> 1337\u001b[0;31m         \u001b[0mconfigure_mappers\u001b[0m\u001b[0;34m(\u001b[0m\u001b[0;34m)\u001b[0m\u001b[0;34m\u001b[0m\u001b[0;34m\u001b[0m\u001b[0m\n\u001b[0m\u001b[1;32m   1338\u001b[0m \u001b[0;34m\u001b[0m\u001b[0m\n\u001b[1;32m   1339\u001b[0m     \u001b[0;32mdef\u001b[0m \u001b[0mdispose\u001b[0m\u001b[0;34m(\u001b[0m\u001b[0mself\u001b[0m\u001b[0;34m)\u001b[0m\u001b[0;34m:\u001b[0m\u001b[0;34m\u001b[0m\u001b[0;34m\u001b[0m\u001b[0m\n",
      "\u001b[0;32m/usr/local/lib/python3.7/site-packages/sqlalchemy/orm/mapper.py\u001b[0m in \u001b[0;36mconfigure_mappers\u001b[0;34m()\u001b[0m\n\u001b[1;32m   3253\u001b[0m                 \u001b[0;32mif\u001b[0m \u001b[0;32mnot\u001b[0m \u001b[0mmapper\u001b[0m\u001b[0;34m.\u001b[0m\u001b[0mconfigured\u001b[0m\u001b[0;34m:\u001b[0m\u001b[0;34m\u001b[0m\u001b[0;34m\u001b[0m\u001b[0m\n\u001b[1;32m   3254\u001b[0m                     \u001b[0;32mtry\u001b[0m\u001b[0;34m:\u001b[0m\u001b[0;34m\u001b[0m\u001b[0;34m\u001b[0m\u001b[0m\n\u001b[0;32m-> 3255\u001b[0;31m                         \u001b[0mmapper\u001b[0m\u001b[0;34m.\u001b[0m\u001b[0m_post_configure_properties\u001b[0m\u001b[0;34m(\u001b[0m\u001b[0;34m)\u001b[0m\u001b[0;34m\u001b[0m\u001b[0;34m\u001b[0m\u001b[0m\n\u001b[0m\u001b[1;32m   3256\u001b[0m                         \u001b[0mmapper\u001b[0m\u001b[0;34m.\u001b[0m\u001b[0m_expire_memoizations\u001b[0m\u001b[0;34m(\u001b[0m\u001b[0;34m)\u001b[0m\u001b[0;34m\u001b[0m\u001b[0;34m\u001b[0m\u001b[0m\n\u001b[1;32m   3257\u001b[0m                         mapper.dispatch.mapper_configured(\n",
      "\u001b[0;32m/usr/local/lib/python3.7/site-packages/sqlalchemy/orm/mapper.py\u001b[0m in \u001b[0;36m_post_configure_properties\u001b[0;34m(self)\u001b[0m\n\u001b[1;32m   1948\u001b[0m \u001b[0;34m\u001b[0m\u001b[0m\n\u001b[1;32m   1949\u001b[0m             \u001b[0;32mif\u001b[0m \u001b[0mprop\u001b[0m\u001b[0;34m.\u001b[0m\u001b[0mparent\u001b[0m \u001b[0;32mis\u001b[0m \u001b[0mself\u001b[0m \u001b[0;32mand\u001b[0m \u001b[0;32mnot\u001b[0m \u001b[0mprop\u001b[0m\u001b[0;34m.\u001b[0m\u001b[0m_configure_started\u001b[0m\u001b[0;34m:\u001b[0m\u001b[0;34m\u001b[0m\u001b[0;34m\u001b[0m\u001b[0m\n\u001b[0;32m-> 1950\u001b[0;31m                 \u001b[0mprop\u001b[0m\u001b[0;34m.\u001b[0m\u001b[0minit\u001b[0m\u001b[0;34m(\u001b[0m\u001b[0;34m)\u001b[0m\u001b[0;34m\u001b[0m\u001b[0;34m\u001b[0m\u001b[0m\n\u001b[0m\u001b[1;32m   1951\u001b[0m \u001b[0;34m\u001b[0m\u001b[0m\n\u001b[1;32m   1952\u001b[0m             \u001b[0;32mif\u001b[0m \u001b[0mprop\u001b[0m\u001b[0;34m.\u001b[0m\u001b[0m_configure_finished\u001b[0m\u001b[0;34m:\u001b[0m\u001b[0;34m\u001b[0m\u001b[0;34m\u001b[0m\u001b[0m\n",
      "\u001b[0;32m/usr/local/lib/python3.7/site-packages/sqlalchemy/orm/interfaces.py\u001b[0m in \u001b[0;36minit\u001b[0;34m(self)\u001b[0m\n\u001b[1;32m    194\u001b[0m         \"\"\"\n\u001b[1;32m    195\u001b[0m         \u001b[0mself\u001b[0m\u001b[0;34m.\u001b[0m\u001b[0m_configure_started\u001b[0m \u001b[0;34m=\u001b[0m \u001b[0;32mTrue\u001b[0m\u001b[0;34m\u001b[0m\u001b[0;34m\u001b[0m\u001b[0m\n\u001b[0;32m--> 196\u001b[0;31m         \u001b[0mself\u001b[0m\u001b[0;34m.\u001b[0m\u001b[0mdo_init\u001b[0m\u001b[0;34m(\u001b[0m\u001b[0;34m)\u001b[0m\u001b[0;34m\u001b[0m\u001b[0;34m\u001b[0m\u001b[0m\n\u001b[0m\u001b[1;32m    197\u001b[0m         \u001b[0mself\u001b[0m\u001b[0;34m.\u001b[0m\u001b[0m_configure_finished\u001b[0m \u001b[0;34m=\u001b[0m \u001b[0;32mTrue\u001b[0m\u001b[0;34m\u001b[0m\u001b[0;34m\u001b[0m\u001b[0m\n\u001b[1;32m    198\u001b[0m \u001b[0;34m\u001b[0m\u001b[0m\n",
      "\u001b[0;32m/usr/local/lib/python3.7/site-packages/sqlalchemy/orm/relationships.py\u001b[0m in \u001b[0;36mdo_init\u001b[0;34m(self)\u001b[0m\n\u001b[1;32m   1933\u001b[0m     \u001b[0;32mdef\u001b[0m \u001b[0mdo_init\u001b[0m\u001b[0;34m(\u001b[0m\u001b[0mself\u001b[0m\u001b[0;34m)\u001b[0m\u001b[0;34m:\u001b[0m\u001b[0;34m\u001b[0m\u001b[0;34m\u001b[0m\u001b[0m\n\u001b[1;32m   1934\u001b[0m         \u001b[0mself\u001b[0m\u001b[0;34m.\u001b[0m\u001b[0m_check_conflicts\u001b[0m\u001b[0;34m(\u001b[0m\u001b[0;34m)\u001b[0m\u001b[0;34m\u001b[0m\u001b[0;34m\u001b[0m\u001b[0m\n\u001b[0;32m-> 1935\u001b[0;31m         \u001b[0mself\u001b[0m\u001b[0;34m.\u001b[0m\u001b[0m_process_dependent_arguments\u001b[0m\u001b[0;34m(\u001b[0m\u001b[0;34m)\u001b[0m\u001b[0;34m\u001b[0m\u001b[0;34m\u001b[0m\u001b[0m\n\u001b[0m\u001b[1;32m   1936\u001b[0m         \u001b[0mself\u001b[0m\u001b[0;34m.\u001b[0m\u001b[0m_setup_join_conditions\u001b[0m\u001b[0;34m(\u001b[0m\u001b[0;34m)\u001b[0m\u001b[0;34m\u001b[0m\u001b[0;34m\u001b[0m\u001b[0m\n\u001b[1;32m   1937\u001b[0m         \u001b[0mself\u001b[0m\u001b[0;34m.\u001b[0m\u001b[0m_check_cascade_settings\u001b[0m\u001b[0;34m(\u001b[0m\u001b[0mself\u001b[0m\u001b[0;34m.\u001b[0m\u001b[0m_cascade\u001b[0m\u001b[0;34m)\u001b[0m\u001b[0;34m\u001b[0m\u001b[0;34m\u001b[0m\u001b[0m\n",
      "\u001b[0;32m/usr/local/lib/python3.7/site-packages/sqlalchemy/orm/relationships.py\u001b[0m in \u001b[0;36m_process_dependent_arguments\u001b[0;34m(self)\u001b[0m\n\u001b[1;32m   1995\u001b[0m         )\n\u001b[1;32m   1996\u001b[0m \u001b[0;34m\u001b[0m\u001b[0m\n\u001b[0;32m-> 1997\u001b[0;31m         \u001b[0mself\u001b[0m\u001b[0;34m.\u001b[0m\u001b[0mtarget\u001b[0m \u001b[0;34m=\u001b[0m \u001b[0mself\u001b[0m\u001b[0;34m.\u001b[0m\u001b[0mentity\u001b[0m\u001b[0;34m.\u001b[0m\u001b[0mpersist_selectable\u001b[0m\u001b[0;34m\u001b[0m\u001b[0;34m\u001b[0m\u001b[0m\n\u001b[0m\u001b[1;32m   1998\u001b[0m \u001b[0;34m\u001b[0m\u001b[0m\n\u001b[1;32m   1999\u001b[0m     \u001b[0;32mdef\u001b[0m \u001b[0m_setup_join_conditions\u001b[0m\u001b[0;34m(\u001b[0m\u001b[0mself\u001b[0m\u001b[0;34m)\u001b[0m\u001b[0;34m:\u001b[0m\u001b[0;34m\u001b[0m\u001b[0;34m\u001b[0m\u001b[0m\n",
      "\u001b[0;32m/usr/local/lib/python3.7/site-packages/sqlalchemy/util/langhelpers.py\u001b[0m in \u001b[0;36m__get__\u001b[0;34m(self, obj, cls)\u001b[0m\n\u001b[1;32m    881\u001b[0m         \u001b[0;32mif\u001b[0m \u001b[0mobj\u001b[0m \u001b[0;32mis\u001b[0m \u001b[0;32mNone\u001b[0m\u001b[0;34m:\u001b[0m\u001b[0;34m\u001b[0m\u001b[0;34m\u001b[0m\u001b[0m\n\u001b[1;32m    882\u001b[0m             \u001b[0;32mreturn\u001b[0m \u001b[0mself\u001b[0m\u001b[0;34m\u001b[0m\u001b[0;34m\u001b[0m\u001b[0m\n\u001b[0;32m--> 883\u001b[0;31m         \u001b[0mobj\u001b[0m\u001b[0;34m.\u001b[0m\u001b[0m__dict__\u001b[0m\u001b[0;34m[\u001b[0m\u001b[0mself\u001b[0m\u001b[0;34m.\u001b[0m\u001b[0m__name__\u001b[0m\u001b[0;34m]\u001b[0m \u001b[0;34m=\u001b[0m \u001b[0mresult\u001b[0m \u001b[0;34m=\u001b[0m \u001b[0mself\u001b[0m\u001b[0;34m.\u001b[0m\u001b[0mfget\u001b[0m\u001b[0;34m(\u001b[0m\u001b[0mobj\u001b[0m\u001b[0;34m)\u001b[0m\u001b[0;34m\u001b[0m\u001b[0;34m\u001b[0m\u001b[0m\n\u001b[0m\u001b[1;32m    884\u001b[0m         \u001b[0;32mreturn\u001b[0m \u001b[0mresult\u001b[0m\u001b[0;34m\u001b[0m\u001b[0;34m\u001b[0m\u001b[0m\n\u001b[1;32m    885\u001b[0m \u001b[0;34m\u001b[0m\u001b[0m\n",
      "\u001b[0;32m/usr/local/lib/python3.7/site-packages/sqlalchemy/orm/relationships.py\u001b[0m in \u001b[0;36mentity\u001b[0;34m(self)\u001b[0m\n\u001b[1;32m   1900\u001b[0m             \u001b[0mself\u001b[0m\u001b[0;34m.\u001b[0m\u001b[0margument\u001b[0m\u001b[0;34m,\u001b[0m \u001b[0;34m(\u001b[0m\u001b[0mtype\u001b[0m\u001b[0;34m,\u001b[0m \u001b[0mmapperlib\u001b[0m\u001b[0;34m.\u001b[0m\u001b[0mMapper\u001b[0m\u001b[0;34m)\u001b[0m\u001b[0;34m\u001b[0m\u001b[0;34m\u001b[0m\u001b[0m\n\u001b[1;32m   1901\u001b[0m         ):\n\u001b[0;32m-> 1902\u001b[0;31m             \u001b[0margument\u001b[0m \u001b[0;34m=\u001b[0m \u001b[0mself\u001b[0m\u001b[0;34m.\u001b[0m\u001b[0margument\u001b[0m\u001b[0;34m(\u001b[0m\u001b[0;34m)\u001b[0m\u001b[0;34m\u001b[0m\u001b[0;34m\u001b[0m\u001b[0m\n\u001b[0m\u001b[1;32m   1903\u001b[0m         \u001b[0;32melse\u001b[0m\u001b[0;34m:\u001b[0m\u001b[0;34m\u001b[0m\u001b[0;34m\u001b[0m\u001b[0m\n\u001b[1;32m   1904\u001b[0m             \u001b[0margument\u001b[0m \u001b[0;34m=\u001b[0m \u001b[0mself\u001b[0m\u001b[0;34m.\u001b[0m\u001b[0margument\u001b[0m\u001b[0;34m\u001b[0m\u001b[0;34m\u001b[0m\u001b[0m\n",
      "\u001b[0;32m/usr/local/lib/python3.7/site-packages/sqlalchemy/ext/declarative/clsregistry.py\u001b[0m in \u001b[0;36m__call__\u001b[0;34m(self)\u001b[0m\n\u001b[1;32m    307\u001b[0m                     \u001b[0;34m%\u001b[0m \u001b[0;34m(\u001b[0m\u001b[0mself\u001b[0m\u001b[0;34m.\u001b[0m\u001b[0mprop\u001b[0m\u001b[0;34m.\u001b[0m\u001b[0mparent\u001b[0m\u001b[0;34m,\u001b[0m \u001b[0mself\u001b[0m\u001b[0;34m.\u001b[0m\u001b[0marg\u001b[0m\u001b[0;34m,\u001b[0m \u001b[0mn\u001b[0m\u001b[0;34m.\u001b[0m\u001b[0margs\u001b[0m\u001b[0;34m[\u001b[0m\u001b[0;36m0\u001b[0m\u001b[0;34m]\u001b[0m\u001b[0;34m,\u001b[0m \u001b[0mself\u001b[0m\u001b[0;34m.\u001b[0m\u001b[0mcls\u001b[0m\u001b[0;34m)\u001b[0m\u001b[0;34m\u001b[0m\u001b[0;34m\u001b[0m\u001b[0m\n\u001b[1;32m    308\u001b[0m                 ),\n\u001b[0;32m--> 309\u001b[0;31m                 \u001b[0mfrom_\u001b[0m\u001b[0;34m=\u001b[0m\u001b[0mn\u001b[0m\u001b[0;34m,\u001b[0m\u001b[0;34m\u001b[0m\u001b[0;34m\u001b[0m\u001b[0m\n\u001b[0m\u001b[1;32m    310\u001b[0m             )\n\u001b[1;32m    311\u001b[0m \u001b[0;34m\u001b[0m\u001b[0m\n",
      "\u001b[0;32m/usr/local/lib/python3.7/site-packages/sqlalchemy/util/compat.py\u001b[0m in \u001b[0;36mraise_\u001b[0;34m(***failed resolving arguments***)\u001b[0m\n\u001b[1;32m    176\u001b[0m \u001b[0;34m\u001b[0m\u001b[0m\n\u001b[1;32m    177\u001b[0m         \u001b[0;32mtry\u001b[0m\u001b[0;34m:\u001b[0m\u001b[0;34m\u001b[0m\u001b[0;34m\u001b[0m\u001b[0m\n\u001b[0;32m--> 178\u001b[0;31m             \u001b[0;32mraise\u001b[0m \u001b[0mexception\u001b[0m\u001b[0;34m\u001b[0m\u001b[0;34m\u001b[0m\u001b[0m\n\u001b[0m\u001b[1;32m    179\u001b[0m         \u001b[0;32mfinally\u001b[0m\u001b[0;34m:\u001b[0m\u001b[0;34m\u001b[0m\u001b[0;34m\u001b[0m\u001b[0m\n\u001b[1;32m    180\u001b[0m             \u001b[0;31m# credit to\u001b[0m\u001b[0;34m\u001b[0m\u001b[0;34m\u001b[0m\u001b[0;34m\u001b[0m\u001b[0m\n",
      "\u001b[0;31mInvalidRequestError\u001b[0m: When initializing mapper mapped class User->user, expression 'Action' failed to locate a name (\"name 'Action' is not defined\"). If this is a class name, consider adding this relationship() to the <class '__main__.User'> class after both dependent classes have been defined."
     ]
    }
   ],
   "source": [
    "date = datetime.date.today()\n",
    "ExchangeRatesService.create_exchange_rate_collection(date)\n",
    "ExchangeRatesService.create_exchange_rates_EUR(date)\n",
    "ExchangeRatesService.create_exchange_rates_GBP(date)\n",
    "ExchangeRatesService.create_exchange_rates_CZK(date)\n",
    "ExchangeRatesService.create_exchange_rates_PLN(date)"
   ]
  },
  {
   "cell_type": "code",
   "execution_count": null,
   "metadata": {},
   "outputs": [],
   "source": []
  }
 ],
 "metadata": {
  "kernelspec": {
   "display_name": "Python 3",
   "language": "python",
   "name": "python3"
  },
  "language_info": {
   "codemirror_mode": {
    "name": "ipython",
    "version": 3
   },
   "file_extension": ".py",
   "mimetype": "text/x-python",
   "name": "python",
   "nbconvert_exporter": "python",
   "pygments_lexer": "ipython3",
   "version": "3.7.6"
  }
 },
 "nbformat": 4,
 "nbformat_minor": 4
}
