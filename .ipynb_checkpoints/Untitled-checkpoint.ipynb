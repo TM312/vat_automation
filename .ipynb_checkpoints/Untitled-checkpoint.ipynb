{
 "cells": [
  {
   "cell_type": "code",
   "execution_count": 2,
   "metadata": {},
   "outputs": [],
   "source": [
    "from datetime import datetime, date, timedelta\n",
    "\n",
    "from flask import Flask, session\n",
    "from flask_sqlalchemy import SQLAlchemy\n",
    "\n",
    "app = Flask(__name__)\n",
    "app.config[\"SQLALCHEMY_DATABASE_URI\"] = \"sqlite://\"\n",
    "app.config[\"SQLALCHEMY_TRACK_MODIFICATIONS\"] = False\n",
    "\n",
    "db = SQLAlchemy(app)\n"
   ]
  },
  {
   "cell_type": "code",
   "execution_count": 2,
   "metadata": {},
   "outputs": [],
   "source": [
    "db.drop_all()"
   ]
  },
  {
   "cell_type": "code",
   "execution_count": 7,
   "metadata": {},
   "outputs": [],
   "source": [
    "#db.create_all()"
   ]
  },
  {
   "cell_type": "code",
   "execution_count": 9,
   "metadata": {},
   "outputs": [],
   "source": [
    "today = date.today().strftime('%Y%m%d')"
   ]
  },
  {
   "cell_type": "code",
   "execution_count": 10,
   "metadata": {},
   "outputs": [
    {
     "data": {
      "text/plain": [
       "'20200504'"
      ]
     },
     "execution_count": 10,
     "metadata": {},
     "output_type": "execute_result"
    }
   ],
   "source": [
    "today"
   ]
  },
  {
   "cell_type": "code",
   "execution_count": 5,
   "metadata": {},
   "outputs": [],
   "source": [
    "#db.session.commit()"
   ]
  },
  {
   "cell_type": "code",
   "execution_count": 23,
   "metadata": {},
   "outputs": [],
   "source": [
    "def get_transaction_input_identifier_from_amazon_df(df, i: int):\n",
    "    try:\n",
    "        account_public_id = TransactionInputService.get_str(df, i, column='UNIQUE_ACCOUNT_IDENTIFIER').upper()\n",
    "        print(account_public_id)\n",
    "        channel_code = TransactionInputService.get_str(df, i, column='SALES_CHANNEL').upper() # str #-->PlatformService.retrieve_account()\n",
    "        print(channel_code)\n",
    "        transaction_public_id = TransactionInputService.get_str(df, i, column='TRANSACTION_EVENT_ID') # str #-->transaction\n",
    "        print(transaction_public_id)\n",
    "        transaction_activity_id = TransactionInputService.get_str(df, i, column='ACTIVITY_TRANSACTION_ID')  # str #-->transaction --> becomes shipment_id/return_id , etc.\n",
    "        print(transaction_activity_id)\n",
    "        \n",
    "        return account_public_id, channel_code, transaction_public_id, transaction_activity_id\n",
    "\n",
    "    except:\n",
    "        return None \n",
    "    \n",
    "    \n",
    "class TransactionInputService:\n",
    "    @staticmethod\n",
    "    def get_str(df, i:int, column:str) -> str:\n",
    "        try:\n",
    "            string = str(df.iloc[i][column])\n",
    "        except:\n",
    "            raise UnsupportedMediaType('Can not read date format.')\n",
    "        return string"
   ]
  },
  {
   "cell_type": "code",
   "execution_count": 8,
   "metadata": {},
   "outputs": [],
   "source": [
    "import pandas as pd"
   ]
  },
  {
   "cell_type": "code",
   "execution_count": 9,
   "metadata": {},
   "outputs": [],
   "source": [
    "df = pd.read_csv('/Users/tm/Downloads/Dummy_csv.csv', encoding='latin-1')"
   ]
  },
  {
   "cell_type": "code",
   "execution_count": 101,
   "metadata": {},
   "outputs": [],
   "source": [
    "df = pd.read_csv('/Users/tm/Downloads/Dummy_txt.txt', delimiter='\\t')"
   ]
  },
  {
   "cell_type": "code",
   "execution_count": 3,
   "metadata": {},
   "outputs": [
    {
     "data": {
      "text/plain": [
       "datetime.datetime(2020, 5, 4, 9, 55, 34, 721865)"
      ]
     },
     "execution_count": 3,
     "metadata": {},
     "output_type": "execute_result"
    }
   ],
   "source": [
    "datetime.utcnow()"
   ]
  },
  {
   "cell_type": "code",
   "execution_count": 22,
   "metadata": {},
   "outputs": [
    {
     "data": {
      "text/plain": [
       "'4776207619'"
      ]
     },
     "execution_count": 22,
     "metadata": {},
     "output_type": "execute_result"
    }
   ],
   "source": [
    "str(df.iloc[1]['TRANSACTION_EVENT_ID'])"
   ]
  },
  {
   "cell_type": "code",
   "execution_count": 5,
   "metadata": {},
   "outputs": [
    {
     "data": {
      "text/html": [
       "<div>\n",
       "<style scoped>\n",
       "    .dataframe tbody tr th:only-of-type {\n",
       "        vertical-align: middle;\n",
       "    }\n",
       "\n",
       "    .dataframe tbody tr th {\n",
       "        vertical-align: top;\n",
       "    }\n",
       "\n",
       "    .dataframe thead th {\n",
       "        text-align: right;\n",
       "    }\n",
       "</style>\n",
       "<table border=\"1\" class=\"dataframe\">\n",
       "  <thead>\n",
       "    <tr style=\"text-align: right;\">\n",
       "      <th></th>\n",
       "      <th>UNIQUE_ACCOUNT_IDENTIFIER</th>\n",
       "      <th>ACTIVITY_PERIOD</th>\n",
       "      <th>SALES_CHANNEL</th>\n",
       "      <th>MARKETPLACE</th>\n",
       "      <th>TRANSACTION_TYPE</th>\n",
       "      <th>TRANSACTION_EVENT_ID</th>\n",
       "      <th>ACTIVITY_TRANSACTION_ID</th>\n",
       "      <th>TAX_CALCULATION_DATE</th>\n",
       "      <th>TRANSACTION_DEPART_DATE</th>\n",
       "      <th>TRANSACTION_ARRIVAL_DATE</th>\n",
       "      <th>...</th>\n",
       "      <th>VAT_INV_CONVERTED_AMT</th>\n",
       "      <th>VAT_INV_CURRENCY_CODE</th>\n",
       "      <th>VAT_INV_EXCHANGE_RATE</th>\n",
       "      <th>VAT_INV_EXCHANGE_RATE_DATE</th>\n",
       "      <th>EXPORT_OUTSIDE_EU</th>\n",
       "      <th>INVOICE_URL</th>\n",
       "      <th>BUYER_NAME</th>\n",
       "      <th>ARRIVAL_ADDRESS</th>\n",
       "      <th>SUPPLIER_NAME</th>\n",
       "      <th>SUPPLIER_VAT_NUMBER</th>\n",
       "    </tr>\n",
       "  </thead>\n",
       "  <tbody>\n",
       "    <tr>\n",
       "      <th>0</th>\n",
       "      <td>A2SC0NLSYTA68B</td>\n",
       "      <td>2020-MAR</td>\n",
       "      <td>AFN</td>\n",
       "      <td>NaN</td>\n",
       "      <td>FC_TRANSFER</td>\n",
       "      <td>4738902045</td>\n",
       "      <td>4738902045</td>\n",
       "      <td>NaN</td>\n",
       "      <td>31.03.20</td>\n",
       "      <td>31.03.20</td>\n",
       "      <td>...</td>\n",
       "      <td>NaN</td>\n",
       "      <td>NaN</td>\n",
       "      <td>NaN</td>\n",
       "      <td>NaN</td>\n",
       "      <td>NaN</td>\n",
       "      <td>NaN</td>\n",
       "      <td>NaN</td>\n",
       "      <td>NaN</td>\n",
       "      <td>NaN</td>\n",
       "      <td>NaN</td>\n",
       "    </tr>\n",
       "    <tr>\n",
       "      <th>1</th>\n",
       "      <td>A2SC0NLSYTA68B</td>\n",
       "      <td>2020-MAR</td>\n",
       "      <td>AFN</td>\n",
       "      <td>NaN</td>\n",
       "      <td>FC_TRANSFER</td>\n",
       "      <td>4776207619</td>\n",
       "      <td>4776207619</td>\n",
       "      <td>NaN</td>\n",
       "      <td>30.03.20</td>\n",
       "      <td>31.03.20</td>\n",
       "      <td>...</td>\n",
       "      <td>NaN</td>\n",
       "      <td>NaN</td>\n",
       "      <td>NaN</td>\n",
       "      <td>NaN</td>\n",
       "      <td>NaN</td>\n",
       "      <td>NaN</td>\n",
       "      <td>NaN</td>\n",
       "      <td>NaN</td>\n",
       "      <td>NaN</td>\n",
       "      <td>NaN</td>\n",
       "    </tr>\n",
       "    <tr>\n",
       "      <th>2</th>\n",
       "      <td>A2SC0NLSYTA68B</td>\n",
       "      <td>2020-MAR</td>\n",
       "      <td>AFN</td>\n",
       "      <td>NaN</td>\n",
       "      <td>FC_TRANSFER</td>\n",
       "      <td>4701102862</td>\n",
       "      <td>4701102862</td>\n",
       "      <td>NaN</td>\n",
       "      <td>30.03.20</td>\n",
       "      <td>31.03.20</td>\n",
       "      <td>...</td>\n",
       "      <td>NaN</td>\n",
       "      <td>NaN</td>\n",
       "      <td>NaN</td>\n",
       "      <td>NaN</td>\n",
       "      <td>NaN</td>\n",
       "      <td>NaN</td>\n",
       "      <td>NaN</td>\n",
       "      <td>NaN</td>\n",
       "      <td>NaN</td>\n",
       "      <td>NaN</td>\n",
       "    </tr>\n",
       "    <tr>\n",
       "      <th>3</th>\n",
       "      <td>A2SC0NLSYTA68B</td>\n",
       "      <td>2020-MAR</td>\n",
       "      <td>AFN</td>\n",
       "      <td>NaN</td>\n",
       "      <td>FC_TRANSFER</td>\n",
       "      <td>4701201862</td>\n",
       "      <td>4701201862</td>\n",
       "      <td>NaN</td>\n",
       "      <td>31.03.20</td>\n",
       "      <td>31.03.20</td>\n",
       "      <td>...</td>\n",
       "      <td>NaN</td>\n",
       "      <td>NaN</td>\n",
       "      <td>NaN</td>\n",
       "      <td>NaN</td>\n",
       "      <td>NaN</td>\n",
       "      <td>NaN</td>\n",
       "      <td>NaN</td>\n",
       "      <td>NaN</td>\n",
       "      <td>NaN</td>\n",
       "      <td>NaN</td>\n",
       "    </tr>\n",
       "    <tr>\n",
       "      <th>4</th>\n",
       "      <td>A2SC0NLSYTA68B</td>\n",
       "      <td>2020-MAR</td>\n",
       "      <td>AFN</td>\n",
       "      <td>NaN</td>\n",
       "      <td>FC_TRANSFER</td>\n",
       "      <td>4701201862</td>\n",
       "      <td>4701201862</td>\n",
       "      <td>NaN</td>\n",
       "      <td>31.03.20</td>\n",
       "      <td>31.03.20</td>\n",
       "      <td>...</td>\n",
       "      <td>NaN</td>\n",
       "      <td>NaN</td>\n",
       "      <td>NaN</td>\n",
       "      <td>NaN</td>\n",
       "      <td>NaN</td>\n",
       "      <td>NaN</td>\n",
       "      <td>NaN</td>\n",
       "      <td>NaN</td>\n",
       "      <td>NaN</td>\n",
       "      <td>NaN</td>\n",
       "    </tr>\n",
       "  </tbody>\n",
       "</table>\n",
       "<p>5 rows × 92 columns</p>\n",
       "</div>"
      ],
      "text/plain": [
       "  UNIQUE_ACCOUNT_IDENTIFIER ACTIVITY_PERIOD SALES_CHANNEL MARKETPLACE  \\\n",
       "0            A2SC0NLSYTA68B        2020-MAR           AFN         NaN   \n",
       "1            A2SC0NLSYTA68B        2020-MAR           AFN         NaN   \n",
       "2            A2SC0NLSYTA68B        2020-MAR           AFN         NaN   \n",
       "3            A2SC0NLSYTA68B        2020-MAR           AFN         NaN   \n",
       "4            A2SC0NLSYTA68B        2020-MAR           AFN         NaN   \n",
       "\n",
       "  TRANSACTION_TYPE TRANSACTION_EVENT_ID ACTIVITY_TRANSACTION_ID  \\\n",
       "0      FC_TRANSFER           4738902045              4738902045   \n",
       "1      FC_TRANSFER           4776207619              4776207619   \n",
       "2      FC_TRANSFER           4701102862              4701102862   \n",
       "3      FC_TRANSFER           4701201862              4701201862   \n",
       "4      FC_TRANSFER           4701201862              4701201862   \n",
       "\n",
       "  TAX_CALCULATION_DATE TRANSACTION_DEPART_DATE TRANSACTION_ARRIVAL_DATE  ...  \\\n",
       "0                  NaN                31.03.20                 31.03.20  ...   \n",
       "1                  NaN                30.03.20                 31.03.20  ...   \n",
       "2                  NaN                30.03.20                 31.03.20  ...   \n",
       "3                  NaN                31.03.20                 31.03.20  ...   \n",
       "4                  NaN                31.03.20                 31.03.20  ...   \n",
       "\n",
       "  VAT_INV_CONVERTED_AMT VAT_INV_CURRENCY_CODE VAT_INV_EXCHANGE_RATE  \\\n",
       "0                   NaN                   NaN                   NaN   \n",
       "1                   NaN                   NaN                   NaN   \n",
       "2                   NaN                   NaN                   NaN   \n",
       "3                   NaN                   NaN                   NaN   \n",
       "4                   NaN                   NaN                   NaN   \n",
       "\n",
       "  VAT_INV_EXCHANGE_RATE_DATE  EXPORT_OUTSIDE_EU  INVOICE_URL  BUYER_NAME  \\\n",
       "0                        NaN                NaN          NaN         NaN   \n",
       "1                        NaN                NaN          NaN         NaN   \n",
       "2                        NaN                NaN          NaN         NaN   \n",
       "3                        NaN                NaN          NaN         NaN   \n",
       "4                        NaN                NaN          NaN         NaN   \n",
       "\n",
       "   ARRIVAL_ADDRESS  SUPPLIER_NAME  SUPPLIER_VAT_NUMBER  \n",
       "0              NaN            NaN                  NaN  \n",
       "1              NaN            NaN                  NaN  \n",
       "2              NaN            NaN                  NaN  \n",
       "3              NaN            NaN                  NaN  \n",
       "4              NaN            NaN                  NaN  \n",
       "\n",
       "[5 rows x 92 columns]"
      ]
     },
     "execution_count": 5,
     "metadata": {},
     "output_type": "execute_result"
    }
   ],
   "source": [
    "df.head()"
   ]
  },
  {
   "cell_type": "code",
   "execution_count": 6,
   "metadata": {},
   "outputs": [],
   "source": [
    "def get_date_or_None(df, i:int, column:str):\n",
    "    #date = datetime.strptime(df.iloc[i]['TRANSACTION_DEPART_DATE'], '%d-%m-%Y').date() if not pd.isnull(df.iloc[i]['TRANSACTION_DEPART_DATE']) else None\n",
    "    if pd.isnull(df.iloc[i][column]):\n",
    "        return None\n",
    "    else:\n",
    "        try:\n",
    "            date = datetime.strptime(df.iloc[i][column], '%d-%m-%Y').date()\n",
    "        except:\n",
    "            try:\n",
    "                date = datetime.strptime(df.iloc[i][column], '%d.%m.%y').date()\n",
    "            except:\n",
    "                date = datetime.strptime(df.iloc[i][column], '%d.%m.%Y').date()\n",
    "    return date\n",
    "\n",
    "#to_datetime('13000101', format='%Y%m%d', errors='ignore')"
   ]
  },
  {
   "cell_type": "code",
   "execution_count": 7,
   "metadata": {},
   "outputs": [],
   "source": [
    "def get_str_or_None(df, i:int, column:str):\n",
    "    if pd.isnull(df.iloc[i][column]):\n",
    "        return None\n",
    "    else:\n",
    "        try:\n",
    "            string = str(df.iloc[i][column])\n",
    "        except:\n",
    "            raise UnsupportedMediaType('Can not read date format.')\n",
    "\n",
    "    return string"
   ]
  },
  {
   "cell_type": "code",
   "execution_count": 9,
   "metadata": {},
   "outputs": [
    {
     "name": "stdout",
     "output_type": "stream",
     "text": [
      "None\n",
      "AFN\n",
      "AFN\n",
      "None\n",
      "AFN\n",
      "AFN\n",
      "None\n",
      "AFN\n",
      "AFN\n"
     ]
    }
   ],
   "source": [
    "for i in range(3):\n",
    "    check_tax_calculation_date = get_date_or_None(df, i, column='TAX_CALCULATION_DATE')\n",
    "    channel_code_upper = get_str_or_None(df, i, column='SALES_CHANNEL').upper()\n",
    "    channel_code = get_str_or_None(df, i, column='SALES_CHANNEL')\n",
    "    print(check_tax_calculation_date)\n",
    "    print(channel_code_upper)\n",
    "    print(channel_code)"
   ]
  },
  {
   "cell_type": "code",
   "execution_count": 10,
   "metadata": {},
   "outputs": [],
   "source": [
    "class Input:\n",
    "    def __init__(self,df, i):\n",
    "        self.account_public_id = get_str_or_None(df, i, column='UNIQUE_ACCOUNT_IDENTIFIER').upper()\n",
    "        self.public_activity_period = get_str_or_None(df, i, column='ACTIVITY_PERIOD').upper() # --> OUTPUT\n",
    "        self.channel_code = get_str_or_None(df, i, column='SALES_CHANNEL').upper() # str #-->PlatformService.retrieve_account()\n",
    "        self.marketplace_name = get_str_or_None(df, i, column='MARKETPLACE') # str #-->transaction\n",
    "        self.transaction_type_public_code = get_str_or_None(df, i, column='TRANSACTION_TYPE') #-->TransactionService.retrieve_transaction_type()\n",
    "        self.transaction_public_id = str(df.iloc[i]['TRANSACTION_EVENT_ID']) # str #-->transaction\n",
    "        self.transaction_activity_id = str(df.iloc[i]['ACTIVITY_TRANSACTION_ID'])  # str #-->transaction --> becomes shipment_id/return_id , etc.\n",
    "\n",
    "        self.check_tax_calculation_date = get_date_or_None(df, i, column='TAX_CALCULATION_DATE')\n",
    "        self.shipment_date = get_date_or_None(df, i, column='TRANSACTION_DEPART_DATE')\n",
    "        self.arrival_date = get_date_or_None(df, i, column='TRANSACTION_ARRIVAL_DATE')\n",
    "        self.tax_date = get_date_or_None(df, i, column='TRANSACTION_COMPLETE_DATE')\n",
    "\n",
    "        self.item_sku = str(df.iloc[i]['SELLER_SKU']) # str --> ItemService.retrieve_item() --> transaction\n",
    "        self.item_name = str(df.iloc[i]['ITEM_DESCRIPTION']) #str\n",
    "        self.item_manufacture_country = get_str_or_None(df, i, column='ITEM_MANUFACTURE_COUNTRY') #str/NoneType\n",
    "        self.item_quantity = int(df.iloc[i]['QTY']) #-->transaction\n",
    "        self.item_weight_kg = float(df.iloc[i]['ITEM_WEIGHT']) if not pd.isnull(df.iloc[i]['ITEM_WEIGHT']) else None #float/NoneType\n",
    "        self.item_weight_kg_total = float(df.iloc[i]['TOTAL_ACTIVITY_WEIGHT']) if not pd.isnull(df.iloc[i]['TOTAL_ACTIVITY_WEIGHT']) else None\n",
    "\n",
    "        self.unit_cost_price_net = float(df.iloc[i]['COST_PRICE_OF_ITEMS']) if not pd.isnull(df.iloc[i]['COST_PRICE_OF_ITEMS']) else None\n",
    "\n",
    "        self.check_item_price_discount_net = float(df.iloc[i]['PROMO_PRICE_OF_ITEMS_AMT_VAT_EXCL']) if not pd.isnull(df.iloc[i]['PROMO_PRICE_OF_ITEMS_AMT_VAT_EXCL']) else None\n",
    "        self.check_item_price_discount_vat = float(df.iloc[i]['PROMO_PRICE_OF_ITEMS_VAT_AMT']) if not pd.isnull(df.iloc[i]['PROMO_PRICE_OF_ITEMS_VAT_AMT']) else None\n",
    "        self.item_price_discount_gross = float(df.iloc[i]['PROMO_PRICE_OF_ITEMS_AMT_VAT_INCL']) if not pd.isnull(df.iloc[i]['PROMO_PRICE_OF_ITEMS_AMT_VAT_INCL']) else None #-->transaction\n",
    "\n",
    "        self.check_item_price_net = float(df.iloc[i]['PRICE_OF_ITEMS_AMT_VAT_EXCL']) if not pd.isnull(df.iloc[i]['PRICE_OF_ITEMS_AMT_VAT_EXCL']) else None\n",
    "        self.check_item_price_vat = float(df.iloc[i]['PRICE_OF_ITEMS_VAT_AMT']) if not pd.isnull(df.iloc[i]['PRICE_OF_ITEMS_AMT_VAT_EXCL']) else None\n",
    "        self.item_price_gross = float(df.iloc[i]['PRICE_OF_ITEMS_AMT_VAT_INCL']) if not pd.isnull(df.iloc[i]['PRICE_OF_ITEMS_AMT_VAT_EXCL']) else None #-->transaction\n",
    "\n",
    "        self.check_item_price_total_net = float(df.iloc[i]['TOTAL_PRICE_OF_ITEMS_AMT_VAT_EXCL']) if not pd.isnull(df.iloc[i]['TOTAL_PRICE_OF_ITEMS_AMT_VAT_EXCL']) else None\n",
    "        self.check_item_price_total_vat = float(df.iloc[i]['TOTAL_PRICE_OF_ITEMS_VAT_AMT']) if not pd.isnull(df.iloc[i]['TOTAL_PRICE_OF_ITEMS_VAT_AMT']) else None\n",
    "        self.item_price_total_gross = float(df.iloc[i]['TOTAL_PRICE_OF_ITEMS_AMT_VAT_INCL']) if not pd.isnull(df.iloc[i]['TOTAL_PRICE_OF_ITEMS_AMT_VAT_INCL']) else None #-->transaction\n",
    "\n",
    "        self.check_item_price_tax_rate_rate = float(df.iloc[i]['PRICE_OF_ITEMS_VAT_RATE_PERCENT']) if not pd.isnull(df.iloc[i]['PRICE_OF_ITEMS_VAT_RATE_PERCENT']) else None\n",
    "\n",
    "        self.check_shipment_price_discount_net = float(df.iloc[i]['PROMO_SHIP_CHARGE_AMT_VAT_EXCL']) if not pd.isnull(df.iloc[i]['PROMO_GIFT_WRAP_AMT_VAT_EXCL']) else None\n",
    "        self.check_shipment_price_discount_vat = float(df.iloc[i]['PROMO_SHIP_CHARGE_VAT_AMT']) if not pd.isnull(df.iloc[i]['PROMO_GIFT_WRAP_AMT_VAT_EXCL']) else None\n",
    "        self.shipment_price_discount_gross = float(df.iloc[i]['PROMO_SHIP_CHARGE_AMT_VAT_INCL']) if not pd.isnull(df.iloc[i]['PROMO_GIFT_WRAP_AMT_VAT_EXCL']) else None #-->transaction\n",
    "\n",
    "        self.check_shipment_price_net = float(df.iloc[i]['SHIP_CHARGE_AMT_VAT_EXCL']) if not pd.isnull(df.iloc[i]['SHIP_CHARGE_AMT_VAT_EXCL']) else None\n",
    "        self.check_shipment_price_vat = float(df.iloc[i]['SHIP_CHARGE_VAT_AMT']) if not pd.isnull(df.iloc[i]['SHIP_CHARGE_VAT_AMT']) else None\n",
    "        self.shipment_price_gross = float(df.iloc[i]['SHIP_CHARGE_AMT_VAT_INCL']) if not pd.isnull(df.iloc[i]['SHIP_CHARGE_AMT_VAT_INCL']) else None #-->transaction\n",
    "\n",
    "        self.check_shipment_price_total_net = float(df.iloc[i]['TOTAL_SHIP_CHARGE_AMT_VAT_EXCL']) if not pd.isnull(df.iloc[i]['TOTAL_SHIP_CHARGE_AMT_VAT_EXCL']) else None\n",
    "        self.check_shipment_price_total_vat = float(df.iloc[i]['TOTAL_SHIP_CHARGE_VAT_AMT']) if not pd.isnull(df.iloc[i]['TOTAL_SHIP_CHARGE_VAT_AMT']) else None\n",
    "        self.shipment_price_total_gross = float(df.iloc[i]['TOTAL_SHIP_CHARGE_AMT_VAT_INCL']) if not pd.isnull(df.iloc[i]['TOTAL_SHIP_CHARGE_AMT_VAT_INCL']) else None #-->transaction\n",
    "\n",
    "        self.check_shipment_price_tax_rate_rate = float(df.iloc[i]['SHIP_CHARGE_VAT_RATE_PERCENT']) if not pd.isnull(df.iloc[i]['SHIP_CHARGE_VAT_RATE_PERCENT']) else None\n",
    "\n",
    "        self.check_sale_total_value_net = float(df.iloc[i]['TOTAL_ACTIVITY_VALUE_AMT_VAT_EXCL']) if not pd.isnull(df.iloc[i]['TOTAL_ACTIVITY_VALUE_AMT_VAT_EXCL']) else None\n",
    "        self.check_sale_total_value_vat = float(df.iloc[i]['TOTAL_ACTIVITY_VALUE_VAT_AMT']) if not pd.isnull(df.iloc[i]['TOTAL_ACTIVITY_VALUE_VAT_AMT']) else None\n",
    "        self.sale_total_value_gross = float(df.iloc[i]['TOTAL_ACTIVITY_VALUE_AMT_VAT_INCL']) if not pd.isnull(df.iloc[i]['TOTAL_ACTIVITY_VALUE_AMT_VAT_INCL']) else None #-->transaction\n",
    "\n",
    "        self.check_gift_wrap_price_discount_net = float(df.iloc[i]['PROMO_GIFT_WRAP_AMT_VAT_EXCL']) if not pd.isnull(df.iloc[i]['PROMO_GIFT_WRAP_AMT_VAT_EXCL']) else None\n",
    "        self.check_gift_wrap_price_discount_vat = float(df.iloc[i]['PROMO_GIFT_WRAP_VAT_AMT']) if not pd.isnull(df.iloc[i]['PROMO_GIFT_WRAP_VAT_AMT']) else None\n",
    "        self.gift_wrap_price_discount_gross = float(df.iloc[i]['PROMO_GIFT_WRAP_AMT_VAT_INCL']) if not pd.isnull(df.iloc[i]['PROMO_GIFT_WRAP_AMT_VAT_INCL']) else None #-->transaction\n",
    "\n",
    "        self.check_gift_wrap_price_net = float(df.iloc[i]['GIFT_WRAP_AMT_VAT_EXCL']) if not pd.isnull(df.iloc[i]['GIFT_WRAP_AMT_VAT_EXCL']) else None\n",
    "        self.check_gift_wrap_price_vat = float(df.iloc[i]['GIFT_WRAP_VAT_AMT']) if not pd.isnull(df.iloc[i]['GIFT_WRAP_VAT_AMT']) else None\n",
    "        self.gift_wrap_price_gross = float(df.iloc[i]['GIFT_WRAP_AMT_VAT_INCL']) if not pd.isnull(df.iloc[i]['GIFT_WRAP_AMT_VAT_INCL']) else None #-->transaction\n",
    "\n",
    "        self.check_gift_wrap_price_total_net = float(df.iloc[i]['TOTAL_GIFT_WRAP_AMT_VAT_EXCL']) if not pd.isnull(df.iloc[i]['TOTAL_GIFT_WRAP_AMT_VAT_EXCL']) else None\n",
    "        self.check_gift_wrap_price_total_vat = float(df.iloc[i]['TOTAL_GIFT_WRAP_VAT_AMT']) if not pd.isnull(df.iloc[i]['TOTAL_GIFT_WRAP_VAT_AMT']) else None\n",
    "        self.gift_wrap_price_total_gross = float(df.iloc[i]['TOTAL_GIFT_WRAP_AMT_VAT_INCL']) if not pd.isnull(df.iloc[i]['TOTAL_GIFT_WRAP_AMT_VAT_INCL']) else None #-->transaction\n",
    "\n",
    "        self.check_gift_wrap_price_tax_rate = float(df.iloc[i]['GIFT_WRAP_VAT_RATE_PERCENT']) if not pd.isnull(df.iloc[i]['GIFT_WRAP_VAT_RATE_PERCENT']) else None\n",
    "\n",
    "\n",
    "        self.currency_code = get_str_or_None(df, i, column='TRANSACTION_CURRENCY_CODE') #str/NoneType\n",
    "\n",
    "        self.check_item_tax_code_code = get_str_or_None(df, i, column='PRODUCT_TAX_CODE') #str/NoneType\n",
    "\n",
    "\n",
    "        self.departure_country_code = str(df.iloc[i]['DEPARTURE_COUNTRY']) #str\n",
    "        self.departure_postal_code = str(df.iloc[i]['DEPARTURE_POST_CODE']) #str\n",
    "        self.departure_city = str(df.iloc[i]['DEPATURE_CITY']) #str\n",
    "\n",
    "        self.arrival_country_code = str(df.iloc[i]['ARRIVAL_COUNTRY']) #str\n",
    "        self.arrival_postal_code = str(df.iloc[i]['ARRIVAL_POST_CODE']) #str\n",
    "        self.arrival_city = str(df.iloc[i]['ARRIVAL_CITY']) #str\n",
    "        self.arrival_address = str(df.iloc[i]['ARRIVAL_ADDRESS']) if not pd.isnull(df.iloc[i]['ARRIVAL_ADDRESS']) else None #str/NoneType\n",
    "\n",
    "        self.shipment_mode = str(df.iloc[i]['TRANSPORTATION_MODE']) if not pd.isnull(df.iloc[i]['TRANSPORTATION_MODE']) else None #str/NoneType\n",
    "        self.shipment_conditions = str(df.iloc[i]['DELIVERY_CONDITIONS']) if not pd.isnull(df.iloc[i]['DELIVERY_CONDITIONS']) else None #str/NoneType\n",
    "\n",
    "\n",
    "        self.check_departure_seller_vat_country_code = get_str_or_None(df, i, column='SELLER_DEPART_VAT_NUMBER_COUNTRY')\n",
    "        self.check_departure_seller_vat_number = get_str_or_None(df, i, column='SELLER_DEPART_COUNTRY_VAT_NUMBER')\n",
    "\n",
    "        self.check_arrival_seller_vat_country_code = get_str_or_None(df, i, column='SELLER_ARRIVAL_VAT_NUMBER_COUNTRY')\n",
    "        self.check_arrival_seller_vat_number = get_str_or_None(df, i, column='SELLER_ARRIVAL_COUNTRY_VAT_NUMBER')\n",
    "\n",
    "        self.check_seller_vat_country_code = get_str_or_None(df, i, column='TRANSACTION_SELLER_VAT_NUMBER_COUNTRY')\n",
    "        self.check_seller_vat_number = get_str_or_None(df, i, column='TRANSACTION_SELLER_VAT_NUMBER')\n",
    "\n",
    "\n",
    "        self.check_tax_calculation_imputation_country = get_str_or_None(df, i, column='VAT_CALCULATION_IMPUTATION_COUNTRY')\n",
    "        self.check_tax_jurisdiction = get_str_or_None(df, i, column='TAXABLE_JURISDICTION')\n",
    "        self.check_tax_jurisdiction_level = get_str_or_None(df, i, column='TAXABLE_JURISDICTION_LEVEL')\n",
    "\n",
    "        self.invoice_number = get_str_or_None(df, i, column='VAT_INV_NUMBER')\n",
    "        self.check_invoice_amount_vat = float(df.iloc[i]['VAT_INV_CONVERTED_AMT'])\n",
    "        self.check_invoice_currency_code = get_str_or_None(df, i, column='VAT_INV_CURRENCY_CODE')\n",
    "        self.check_invoice_exchange_rate = float(df.iloc[i]['VAT_INV_EXCHANGE_RATE']) if not pd.isnull(df.iloc[i]['VAT_INV_EXCHANGE_RATE']) else None\n",
    "        self.check_invoice_exchange_rate_date = get_date_or_None(df, i, column='VAT_INV_EXCHANGE_RATE_DATE')\n",
    "        self.invoice_url = str(df.iloc[i]['INVOICE_URL']) if not pd.isnull(df.iloc[i]['INVOICE_URL']) else None\n",
    "\n",
    "\n",
    "        self.check_export = get_str_or_None(df, i, column='EXPORT_OUTSIDE_EU')  #str #-->transaction\n",
    "\n",
    "        self.customer_name = get_str_or_None(df, i, column='BUYER_NAME')\n",
    "        self.customer_vat_number = get_str_or_None(df, i, column='BUYER_VAT_NUMBER')\n",
    "        self.customer_vat_number_country_code = get_str_or_None(df, i, column='BUYER_VAT_NUMBER_COUNTRY')\n",
    "\n",
    "        self.supplier_vat_number = get_str_or_None(df, i, column='SUPPLIER_VAT_NUMBER') # #NoneType/str object #-->transaction\n",
    "        self.supplier_name = get_str_or_None(df, i, column='SUPPLIER_NAME') #NoneType/str object #-->transaction\n",
    "\n"
   ]
  },
  {
   "cell_type": "code",
   "execution_count": 54,
   "metadata": {},
   "outputs": [
    {
     "name": "stderr",
     "output_type": "stream",
     "text": [
      "Forcing soap:address location to HTTPS\n"
     ]
    },
    {
     "name": "stdout",
     "output_type": "stream",
     "text": [
      "FR\n",
      "17850992868\n",
      "{\n",
      "    'countryCode': 'FR',\n",
      "    'vatNumber': '17850992868',\n",
      "    'requestDate': datetime.date(2020, 4, 30),\n",
      "    'valid': True,\n",
      "    'name': 'STE ON LINE DESK S.A.',\n",
      "    'address': 'RUE FERRAZ 28\\n99999 28008 MADRID'\n",
      "}\n",
      "\n"
     ]
    }
   ],
   "source": [
    "validity_dict_customer=[]\n",
    "\n",
    "customer_vat_number_country_code = 'FR'\n",
    "customer_vat_number = '17850992868' \n",
    "result = check_data(customer_vat_number_country_code, customer_vat_number)\n",
    "print(customer_vat_number_country_code)\n",
    "print(customer_vat_number)\n",
    "print(result)\n",
    "print(\"\")\n",
    "validity_dict_customer.append(None if None else bool(result.valid))\n",
    "\n",
    "    \n"
   ]
  },
  {
   "cell_type": "code",
   "execution_count": 45,
   "metadata": {},
   "outputs": [],
   "source": [
    "validity_dict_customer"
   ]
  },
  {
   "cell_type": "code",
   "execution_count": 68,
   "metadata": {},
   "outputs": [],
   "source": [
    "date = date.today()\n",
    "vobjects = VOBject.query.filter(VOBject.valid_from<=date + timedelta(days=200), VOBject.valid_to>=date + timedelta(days=500)).all()"
   ]
  },
  {
   "cell_type": "code",
   "execution_count": 103,
   "metadata": {},
   "outputs": [
    {
     "data": {
      "text/plain": [
       "'Hello, world.'"
      ]
     },
     "execution_count": 103,
     "metadata": {},
     "output_type": "execute_result"
    }
   ],
   "source": [
    "date= None\n",
    "check_date(date)"
   ]
  },
  {
   "cell_type": "code",
   "execution_count": 102,
   "metadata": {},
   "outputs": [],
   "source": []
  },
  {
   "cell_type": "code",
   "execution_count": 91,
   "metadata": {},
   "outputs": [
    {
     "data": {
      "text/plain": [
       "False"
      ]
     },
     "execution_count": 91,
     "metadata": {},
     "output_type": "execute_result"
    }
   ],
   "source": [
    "transaction_date = date.today() - timedelta(days=200) \n",
    "#print (transaction_date)\n",
    "\n",
    "check_scope = date.today() - timedelta(days=100)\n",
    "#print(check_until_here)\n",
    "check_scope <= transaction_date\n",
    "\n",
    "#date.today() + timedelta(days=1) < date.today() "
   ]
  },
  {
   "cell_type": "code",
   "execution_count": 2,
   "metadata": {},
   "outputs": [],
   "source": [
    "class VOBject(db.Model):\n",
    "    __tablename__ = 'v_object'\n",
    "    \n",
    "    id = db.Column(db.Integer, primary_key=True)\n",
    "    valid_from = db.Column(db.Date, nullable=True)\n",
    "    valid_to = db.Column(db.Date, nullable=False)\n",
    "    \n",
    "    def __init__(self, valid_from, valid_to):\n",
    "        self.valid_from=valid_from\n",
    "        self.valid_to = valid_to"
   ]
  },
  {
   "cell_type": "code",
   "execution_count": 5,
   "metadata": {},
   "outputs": [],
   "source": [
    "v1 = VOBject(valid_from=None, valid_to=date.today())\n",
    "\n",
    "db.session.add(v1)\n",
    "db.session.commit()"
   ]
  },
  {
   "cell_type": "code",
   "execution_count": 7,
   "metadata": {},
   "outputs": [
    {
     "data": {
      "text/plain": [
       "datetime.date(2020, 5, 1)"
      ]
     },
     "execution_count": 7,
     "metadata": {},
     "output_type": "execute_result"
    }
   ],
   "source": [
    "v1.valid_to"
   ]
  },
  {
   "cell_type": "code",
   "execution_count": 3,
   "metadata": {},
   "outputs": [],
   "source": [
    "db.create_all()"
   ]
  },
  {
   "cell_type": "code",
   "execution_count": 28,
   "metadata": {},
   "outputs": [],
   "source": [
    "test_dict = {\n",
    "    'a' : 1,\n",
    "    'b' : 2\n",
    "}"
   ]
  },
  {
   "cell_type": "code",
   "execution_count": 78,
   "metadata": {},
   "outputs": [
    {
     "data": {
      "text/plain": [
       "False"
      ]
     },
     "execution_count": 78,
     "metadata": {},
     "output_type": "execute_result"
    }
   ],
   "source": [
    "'a' not in test_dict"
   ]
  },
  {
   "cell_type": "code",
   "execution_count": 74,
   "metadata": {},
   "outputs": [
    {
     "name": "stdout",
     "output_type": "stream",
     "text": [
      "2020-05-01\n",
      "2020-05-21\n"
     ]
    },
    {
     "data": {
      "text/plain": [
       "datetime.date(2020, 5, 21)"
      ]
     },
     "execution_count": 74,
     "metadata": {},
     "output_type": "execute_result"
    }
   ],
   "source": [
    "date1 = date.today()\n",
    "date2 = date1 + timedelta(days=20)\n",
    "\n",
    "print(date1)\n",
    "print(date2)\n",
    "max(date1, date2)"
   ]
  },
  {
   "cell_type": "code",
   "execution_count": 62,
   "metadata": {},
   "outputs": [],
   "source": [
    "def create_vobject(date, **kwargs: date) -> VOBject:\n",
    "    if not 'valid_from' in kwargs:\n",
    "        valid_from = date\n",
    "    else:\n",
    "        valid_from=kwargs['valid_from']\n",
    "\n",
    "    if not 'valid_to' in kwargs:\n",
    "        valid_to = date.today() + timedelta(days=1)\n",
    "    else:\n",
    "        valid_to=kwargs['valid_to']\n",
    "\n",
    "    new_vobject = VOBject(\n",
    "        valid_from=valid_from,\n",
    "        valid_to=valid_to\n",
    "        )\n",
    "\n",
    "    db.session.add(new_vobject)\n",
    "    db.session.commit()"
   ]
  },
  {
   "cell_type": "code",
   "execution_count": 11,
   "metadata": {},
   "outputs": [],
   "source": [
    "vobject1 = VOBject(valid_from=date.today(), valid_to=date.today() + timedelta(days=1))\n",
    "vobject2 = VOBject( valid_from=date.today(), valid_to=date.today() + timedelta(days=2))\n",
    "vobject3 = VOBject(valid_from=date.today(), valid_to=date.today() + timedelta(days=2))"
   ]
  },
  {
   "cell_type": "code",
   "execution_count": 63,
   "metadata": {},
   "outputs": [],
   "source": [
    "#vobject4 = create_vobject(date)\n",
    "vobject5 = create_vobject(date, valid_from=date.today() + timedelta(400))"
   ]
  },
  {
   "cell_type": "code",
   "execution_count": 6,
   "metadata": {},
   "outputs": [],
   "source": [
    "db.session.add(vobject1)\n",
    "db.session.add(vobject2)\n",
    "db.session.add(vobject3)\n",
    "db.session.commit()"
   ]
  },
  {
   "cell_type": "code",
   "execution_count": 29,
   "metadata": {},
   "outputs": [],
   "source": [
    "class InputService:\n",
    "\n",
    "    @staticmethod\n",
    "    def get_date_or_None(df, i:int, column:str):\n",
    "        if pd.isnull(df.iloc[i][column]):\n",
    "            return None\n",
    "        else:\n",
    "            try:\n",
    "                date = datetime.strptime(df.iloc[i][column], '%d-%m-%Y').date()\n",
    "            except:\n",
    "                try:\n",
    "                    date = datetime.strptime(df.iloc[i][column], '%d.%m.%y').date()\n",
    "                except:\n",
    "                    raise UnsupportedMediaType('Can not read date format.')\n",
    "        return date\n",
    "\n",
    "    @staticmethod\n",
    "    def get_str_or_None(df, i:int, column:str):\n",
    "        if pd.isnull(df.iloc[i][column]):\n",
    "            return None\n",
    "        else:\n",
    "            try:\n",
    "                string = str(df.iloc[i][column])\n",
    "            except:\n",
    "                raise UnsupportedMediaType('Can not read date format.')\n",
    "\n",
    "        return string"
   ]
  },
  {
   "cell_type": "code",
   "execution_count": 32,
   "metadata": {},
   "outputs": [],
   "source": [
    "from zeep import Client\n",
    "def check_data(country_code, number):\n",
    "    \"\"\"VIES API response data.\"\"\"\n",
    "    client = Client(VIES_WSDL_URL)\n",
    "    try:\n",
    "        return client.service.checkVat(country_code, number)\n",
    "        time.sleep(0.2)\n",
    "    except Exception as e:\n",
    "        logger.exception(e)\n",
    "        return False\n"
   ]
  },
  {
   "cell_type": "code",
   "execution_count": 34,
   "metadata": {},
   "outputs": [],
   "source": [
    "import time\n",
    "\n",
    "\n",
    "def func(a,b):\n",
    "    print(a+b)\n",
    "    time.sleep(0.2)\n",
    "\n",
    "df.head()"
   ]
  },
  {
   "cell_type": "code",
   "execution_count": null,
   "metadata": {},
   "outputs": [],
   "source": [
    "def create_check_list_from_input(input: Input):\n",
    "    vat_data_customer = [input.customer_vat_number_country_code, input.customer_vat_number]\n",
    "    vat_data_departure_seller = [input.check_departure_seller_vat_country_code, input.check_departure_seller_vat_number]\n",
    "    vat_data_arrival_seller = [input.check_arrival_seller_vat_country_code, input.check_arrival_seller_vat_number]\n",
    "    vat_data_seller = [input.check_seller_vat_country_code, input.check_seller_vat_number]\n",
    "\n",
    "    vat_data_list = [vat_data_customer, vat_data_departure_seller, vat_data_arrival_seller, vat_data_seller]\n",
    "\n",
    "    return vat_data_list"
   ]
  },
  {
   "cell_type": "code",
   "execution_count": 35,
   "metadata": {},
   "outputs": [
    {
     "data": {
      "text/plain": [
       "{'a': 5, 'b': 6}"
      ]
     },
     "execution_count": 35,
     "metadata": {},
     "output_type": "execute_result"
    }
   ],
   "source": []
  },
  {
   "cell_type": "code",
   "execution_count": 16,
   "metadata": {},
   "outputs": [],
   "source": [
    "\n",
    "def check_valid(country_code, number, tax_date):\n",
    "    \n",
    "    vat = vat_precheck(country_code, number)\n",
    "    if vat:\n",
    "        vatin = VATIN.query.filter(VATIN.country_code==country_code, VATIN.number==number, VATIN.initial_transaction_date<=date, VATIN.valid_to>=date)\n",
    "        if vatin:\n",
    "            valid = vatin.valid\n",
    "        else:\n",
    "            valid = is_valid(country_code, number, date=tax_date)\n",
    "\n",
    "        return valid\n",
    "    else:\n",
    "        return False\n",
    "\n",
    "\n",
    "def vat_precheck(country_code, number):\n",
    "    \n",
    "    if not number:\n",
    "        return None\n",
    "    \n",
    "    elif not re.match(r\"^[a-zA-Z]\", number):\n",
    "        vat = [country_code, number]\n",
    "\n",
    "    elif country_code == number[:2].strip():\n",
    "        vat = [country_code, number]\n",
    "\n",
    "    else: \n",
    "        print(\"country codes dont match. Proceeding with country code from VAT Number.\")\n",
    "        country_code = number[:2].strip()\n",
    "        number = number[2:].strip()\n",
    "        vat = [country_code, number]\n",
    "            \n",
    "    return vat\n",
    "\n",
    "                \n"
   ]
  },
  {
   "cell_type": "code",
   "execution_count": 31,
   "metadata": {},
   "outputs": [],
   "source": [
    "import re\n",
    "def dk_format(v):\n",
    "    return \"{} {} {} {}\".format(v[:4], v[4:6], v[6:8], v[8:10])\n",
    "\n",
    "\n",
    "def gb_format(v):\n",
    "    if len(v) == 11:\n",
    "        return \"{} {} {}\".format(v[:5], v[5:9], v[9:11])\n",
    "    if len(v) == 14:\n",
    "        return \"{} {}\".format(gb_format(v[:11]), v[11:14])\n",
    "    return v\n",
    "\n",
    "\n",
    "def fr_format(v):\n",
    "    return \"{} {}\".format(v[:4], v[4:])\n",
    "\n",
    "VIES_WSDL_URL = (\n",
    "    \"https://ec.europa.eu/taxation_customs/vies/checkVatService.wsdl\"  # NoQA\n",
    ")\n",
    "VATIN_MAX_LENGTH = 14\n",
    "\n",
    "VIES_OPTIONS = {\n",
    "    \"AT\": (\"Austria\", re.compile(r\"^ATU\\d{8}$\")),\n",
    "    \"BE\": (\"Belgium\", re.compile(r\"^BE0?\\d{9}$\")),\n",
    "    \"BG\": (\"Bulgaria\", re.compile(r\"^BG\\d{9,10}$\")),\n",
    "    \"HR\": (\"Croatia\", re.compile(r\"^HR\\d{11}$\")),\n",
    "    \"CY\": (\"Cyprus\", re.compile(r\"^CY\\d{8}[A-Z]$\")),\n",
    "    \"CZ\": (\"Czech Republic\", re.compile(r\"^CZ\\d{8,10}$\")),\n",
    "    \"DE\": (\"Germany\", re.compile(r\"^DE\\d{9}$\")),\n",
    "    \"DK\": (\"Denmark\", re.compile(r\"^DK\\d{8}$\"), dk_format),\n",
    "    \"EE\": (\"Estonia\", re.compile(r\"^EE\\d{9}$\")),\n",
    "    \"EL\": (\"Greece\", re.compile(r\"^EL\\d{9}$\")),\n",
    "    \"ES\": (\"Spain\", re.compile(r\"^ES[A-Z0-9]\\d{7}[A-Z0-9]$\")),\n",
    "    \"FI\": (\"Finland\", re.compile(r\"^FI\\d{8}$\")),\n",
    "    \"FR\": (\"France\", re.compile(r\"^FR[A-HJ-NP-Z0-9][A-HJ-NP-Z0-9]\\d{9}$\"), fr_format),\n",
    "    \"GB\": (\n",
    "        \"United Kingdom\",\n",
    "        re.compile(r\"^(GB(GD|HA)\\d{3}|GB\\d{9}|GB\\d{12})$\"),\n",
    "        gb_format,\n",
    "    ),\n",
    "    \"HU\": (\"Hungary\", re.compile(r\"^HU\\d{8}$\")),\n",
    "    \"IE\": (\"Ireland\", re.compile(r\"^IE\\d[A-Z0-9\\+\\*]\\d{5}[A-Z]{1,2}$\")),\n",
    "    \"IT\": (\"Italy\", re.compile(r\"^IT\\d{11}$\")),\n",
    "    \"LT\": (\"Lithuania\", re.compile(r\"^LT(\\d{9}|\\d{12})$\")),\n",
    "    \"LU\": (\"Luxembourg\", re.compile(r\"^LU\\d{8}$\")),\n",
    "    \"LV\": (\"Latvia\", re.compile(r\"^LV\\d{11}$\")),\n",
    "    \"MT\": (\"Malta\", re.compile(r\"^MT\\d{8}$\")),\n",
    "    \"NL\": (\"The Netherlands\", re.compile(r\"^NL\\d{9}B\\d{2}$\")),\n",
    "    \"PL\": (\"Poland\", re.compile(r\"^PL\\d{10}$\")),\n",
    "    \"PT\": (\"Portugal\", re.compile(r\"^PT\\d{9}$\")),\n",
    "    \"RO\": (\"Romania\", re.compile(r\"^RO\\d{2,10}$\")),\n",
    "    \"SE\": (\"Sweden\", re.compile(r\"^SE\\d{10}01$\")),\n",
    "    \"SI\": (\"Slovenia\", re.compile(r\"^SI\\d{8}$\")),\n",
    "    \"SK\": (\"Slovakia\", re.compile(r\"^SK\\d{10}$\")),\n",
    "}\n",
    "\n",
    "VIES_COUNTRY_CHOICES = sorted(\n",
    "    ((\"\", \"--\"),) + tuple((key, key) for key, value in VIES_OPTIONS.items())\n",
    ")\n",
    "\n",
    "MEMBER_COUNTRY_CODES = VIES_OPTIONS.keys()"
   ]
  },
  {
   "cell_type": "code",
   "execution_count": 3,
   "metadata": {},
   "outputs": [],
   "source": [
    "from werkzeug.exceptions import HTTPException\n",
    "from werkzeug.utils import cached_property\n",
    "from zeep import Client\n",
    "\n",
    "              \n",
    "\n",
    "class VATIN(object):\n",
    "    \"\"\"Object wrapper for the european VAT Identification Number.\"\"\"\n",
    "\n",
    "    def __init__(self, country_code, number):\n",
    "        self.country_code = country_code\n",
    "        self.number = number\n",
    "\n",
    "    def __str__(self):\n",
    "        unformated_number = \"{country_code}{number}\".format(\n",
    "            country_code=self.country_code, number=self.number,\n",
    "        )\n",
    "\n",
    "        country = VIES_OPTIONS.get(self.country_code, {})\n",
    "        if len(country) == 3:\n",
    "            return country[2](unformated_number)\n",
    "        return unformated_number\n",
    "\n",
    "    def __repr__(self):\n",
    "        return \"<VATIN {}>\".format(self.__str__())\n",
    "\n",
    "    @property\n",
    "    def country_code(self):\n",
    "        return self._country_code\n",
    "\n",
    "    @country_code.setter\n",
    "    def country_code(self, value):\n",
    "        self._country_code = value.upper()\n",
    "\n",
    "    @property\n",
    "    def number(self):\n",
    "        return self._number\n",
    "\n",
    "    @number.setter\n",
    "    def number(self, value):\n",
    "        self._number = value.upper().replace(\" \", \"\")\n",
    "\n",
    "\n",
    "    @cached_property\n",
    "    def data(self):\n",
    "        \"\"\"VIES API response data.\"\"\"\n",
    "        client = Client(VIES_WSDL_URL)\n",
    "        try:\n",
    "            return client.service.checkVat(self.country_code, self.number)\n",
    "        except Exception as e:\n",
    "            logger.exception(e)\n",
    "            raise\n",
    "\n",
    "    def is_valid(self):\n",
    "        try:\n",
    "            self.verify()\n",
    "            self.validate()\n",
    "        except HTTPException:\n",
    "            return False\n",
    "        else:\n",
    "            return True\n",
    "\n",
    "    def verify_country_code(self):\n",
    "        if not re.match(r\"^[a-zA-Z]\", self.country_code):\n",
    "            msg =\"{} is not a valid ISO_3166-1 country code.\".format(self.country_code)\n",
    "            raise HTTPException(msg)\n",
    "            return msg\n",
    "        elif self.country_code not in MEMBER_COUNTRY_CODES:\n",
    "            msg =\"{} is not a European member state.\".format(self.country_code)\n",
    "            raise HTTPException(msg)\n",
    "            #return msg\n",
    "\n",
    "    def verify_regex(self):\n",
    "        country = dict(\n",
    "            map(\n",
    "                lambda x, y: (x, y),\n",
    "                (\"country\", \"validator\", \"formatter\"),\n",
    "                VIES_OPTIONS[self.country_code],\n",
    "            )\n",
    "        )\n",
    "        if not country[\"validator\"].match(\"{}{}\".format(self.country_code, self.number)):\n",
    "            msg =\"{} does not match the country's VAT ID specifications.\".format(self.country_code)\n",
    "            raise HTTPException(msg)\n",
    "            #return msg\n",
    "\n",
    "    def verify(self):\n",
    "        self.verify_country_code()\n",
    "        self.verify_regex()\n",
    "\n",
    "    def validate(self):\n",
    "        if not self.data.valid:\n",
    "            msg =\"{} is not a valid VATIN.\".format(self.country_code)\n",
    "            raise HTTPException(msg)\n",
    "            #return msg\n",
    "\n",
    "    @classmethod\n",
    "    def from_str(cls, value):\n",
    "        \"\"\"Return a VATIN object by given string.\"\"\"\n",
    "        return cls(value[:2].strip(), value[2:].strip())\n"
   ]
  },
  {
   "cell_type": "code",
   "execution_count": 14,
   "metadata": {},
   "outputs": [],
   "source": [
    "date = date.today()\n",
    "value = 'DE190200766'\n",
    "#value = 'IT190200766_false'\n",
    "country_code = value[:2].strip()\n",
    "number = value[2:].strip()"
   ]
  },
  {
   "cell_type": "code",
   "execution_count": 15,
   "metadata": {},
   "outputs": [
    {
     "ename": "NameError",
     "evalue": "name 'is_valid' is not defined",
     "output_type": "error",
     "traceback": [
      "\u001b[0;31m---------------------------------------------------------------------------\u001b[0m",
      "\u001b[0;31mNameError\u001b[0m                                 Traceback (most recent call last)",
      "\u001b[0;32m<ipython-input-15-5b68bacc7534>\u001b[0m in \u001b[0;36m<module>\u001b[0;34m\u001b[0m\n\u001b[0;32m----> 1\u001b[0;31m \u001b[0mcheck\u001b[0m \u001b[0;34m=\u001b[0m \u001b[0mis_valid\u001b[0m\u001b[0;34m(\u001b[0m\u001b[0mcountry_code\u001b[0m\u001b[0;34m,\u001b[0m \u001b[0mnumber\u001b[0m\u001b[0;34m)\u001b[0m\u001b[0;34m\u001b[0m\u001b[0;34m\u001b[0m\u001b[0m\n\u001b[0m",
      "\u001b[0;31mNameError\u001b[0m: name 'is_valid' is not defined"
     ]
    }
   ],
   "source": [
    "check = is_valid(country_code, number)"
   ]
  },
  {
   "cell_type": "code",
   "execution_count": 101,
   "metadata": {},
   "outputs": [
    {
     "data": {
      "text/plain": [
       "True"
      ]
     },
     "execution_count": 101,
     "metadata": {},
     "output_type": "execute_result"
    }
   ],
   "source": [
    "check"
   ]
  },
  {
   "cell_type": "code",
   "execution_count": null,
   "metadata": {},
   "outputs": [],
   "source": []
  },
  {
   "cell_type": "code",
   "execution_count": null,
   "metadata": {},
   "outputs": [],
   "source": [
    "def is_valid(country_code, number, date):\n",
    "    if vatin:\n",
    "        return vatin.valid\n",
    "    else:\n",
    "        try:\n",
    "            verify(country_code, number)\n",
    "            validate(country_code, number)\n",
    "        except HTTPException:\n",
    "            return False\n",
    "        else:\n",
    "            return True"
   ]
  },
  {
   "cell_type": "code",
   "execution_count": 13,
   "metadata": {},
   "outputs": [],
   "source": [
    "class VATIN(db.Model):\n",
    "    \"\"\" VATIN model \"\"\"\n",
    "    __tablename__ = \"vatin\"\n",
    "\n",
    "    id = db.Column(db.Integer, primary_key=True)\n",
    "    valid_from = db.Column(db.Date, nullable=False)\n",
    "    valid_to = db.Column(db.Date, default=date.today() + timedelta(days=3))\n",
    "    _country_code = db.Column(db.String(4), nullable=False)\n",
    "    _number = db.Column(db.String(4), nullable=False)\n",
    "    valid = db.Column(db.Boolean, nullable=False)\n",
    "\n",
    "    def __init__(self, **kwargs):\n",
    "        super(VATIN, self).__init__(**kwargs)\n",
    "        self.country_code = country_code\n",
    "        self.number = number\n",
    "        self.valid = valid\n",
    "\n",
    "\n",
    "    # https://www.python-course.eu/python3_properties.php\n",
    "    @property\n",
    "    def country_code(self):\n",
    "        return self._country_code\n",
    "\n",
    "    @country_code.setter\n",
    "    def country_code(self, value):\n",
    "        self._country_code = value.upper()\n",
    "\n",
    "    @property\n",
    "    def number(self):\n",
    "        return self._number\n",
    "\n",
    "    @number.setter\n",
    "    def number(self, value):\n",
    "        self._number = value.upper().replace(\" \", \"\")\n",
    "\n",
    "\n",
    "\n",
    "    def __str__(self):\n",
    "        unformated_number = \"{country_code}{number}\".format(\n",
    "            country_code=self.country_code, number=self.number,\n",
    "        )\n",
    "\n",
    "        country = VIES_OPTIONS.get(self.country_code, {})\n",
    "        if len(country) == 3:\n",
    "            return country[2](unformated_number)\n",
    "        return unformated_number\n",
    "\n",
    "    def __repr__(self):\n",
    "        return \"<VATIN {}>\".format(self.__str__())\n",
    "\n",
    "\n",
    "   "
   ]
  },
  {
   "cell_type": "code",
   "execution_count": 84,
   "metadata": {},
   "outputs": [],
   "source": [
    "\n",
    "\n",
    "def verify(country_code, number):\n",
    "    verify_country_code(country_code)\n",
    "    verify_regex(country_code, number)\n",
    "\n",
    "\n",
    "def validate(country_code, number):\n",
    "    valid = request_validity(country_code, number)\n",
    "    if not valid:\n",
    "        msg =\"{} is not a valid VATIN.\".format(country_code)\n",
    "        raise HTTPException(msg)\n",
    "        return msg\n"
   ]
  },
  {
   "cell_type": "code",
   "execution_count": 85,
   "metadata": {},
   "outputs": [],
   "source": [
    "def request_validity(country_code, number):\n",
    "        \"\"\"VIES API response data.\"\"\"\n",
    "        client = Client(VIES_WSDL_URL)\n",
    "        try:\n",
    "            return client.service.checkVat(country_code, number)\n",
    "        except Exception as e:\n",
    "            logger.exception(e)\n",
    "            return False\n",
    "            "
   ]
  },
  {
   "cell_type": "code",
   "execution_count": 86,
   "metadata": {},
   "outputs": [],
   "source": [
    "def verify_country_code(country_code):\n",
    "    if not re.match(r\"^[a-zA-Z]\", country_code):\n",
    "        msg =\"{} is not a valid ISO_3166-1 country code.\".format(country_code)\n",
    "        raise HTTPException(msg)\n",
    "        return msg\n",
    "    elif country_code not in MEMBER_COUNTRY_CODES:\n",
    "            msg =\"{} is not a European member state.\".format(country_code)\n",
    "            raise HTTPException(msg)\n",
    "            return msg\n",
    "\n",
    "def verify_regex(country_code, number):\n",
    "        country = dict(\n",
    "            map(\n",
    "                lambda x, y: (x, y),\n",
    "                (\"country\", \"validator\", \"formatter\"),\n",
    "                VIES_OPTIONS[country_code],\n",
    "            )\n",
    "        )\n",
    "        if not country[\"validator\"].match(\"{}{}\".format(country_code, number)):\n",
    "            msg =\"{} does not match the country's VAT ID specifications.\".format(country_code)\n",
    "            raise HTTPException(msg)\n",
    "            return msg"
   ]
  },
  {
   "cell_type": "code",
   "execution_count": 18,
   "metadata": {},
   "outputs": [
    {
     "data": {
      "text/plain": [
       "True"
      ]
     },
     "execution_count": 18,
     "metadata": {},
     "output_type": "execute_result"
    }
   ],
   "source": [
    "not re.match(r\"^[a-zA-Z]\", number)"
   ]
  },
  {
   "cell_type": "code",
   "execution_count": 61,
   "metadata": {},
   "outputs": [],
   "source": []
  },
  {
   "cell_type": "code",
   "execution_count": 60,
   "metadata": {},
   "outputs": [],
   "source": []
  },
  {
   "cell_type": "code",
   "execution_count": 62,
   "metadata": {},
   "outputs": [
    {
     "data": {
      "text/plain": [
       "<__main__.VATIN at 0x116ed2bd0>"
      ]
     },
     "execution_count": 62,
     "metadata": {},
     "output_type": "execute_result"
    }
   ],
   "source": []
  },
  {
   "cell_type": "code",
   "execution_count": 63,
   "metadata": {},
   "outputs": [
    {
     "data": {
      "text/plain": [
       "'190200766'"
      ]
     },
     "execution_count": 63,
     "metadata": {},
     "output_type": "execute_result"
    }
   ],
   "source": []
  },
  {
   "cell_type": "code",
   "execution_count": 64,
   "metadata": {},
   "outputs": [
    {
     "data": {
      "text/plain": [
       "'DE'"
      ]
     },
     "execution_count": 64,
     "metadata": {},
     "output_type": "execute_result"
    }
   ],
   "source": []
  },
  {
   "cell_type": "code",
   "execution_count": null,
   "metadata": {},
   "outputs": [],
   "source": []
  },
  {
   "cell_type": "code",
   "execution_count": null,
   "metadata": {},
   "outputs": [],
   "source": []
  },
  {
   "cell_type": "code",
   "execution_count": 117,
   "metadata": {},
   "outputs": [
    {
     "data": {
      "text/plain": [
       "{\n",
       "    'countryCode': 'DE',\n",
       "    'vatNumber': '190200766',\n",
       "    'requestDate': datetime.date(2020, 4, 15),\n",
       "    'valid': True,\n",
       "    'name': '---',\n",
       "    'address': '---'\n",
       "}"
      ]
     },
     "execution_count": 117,
     "metadata": {},
     "output_type": "execute_result"
    }
   ],
   "source": [
    "vat.data"
   ]
  },
  {
   "cell_type": "code",
   "execution_count": 119,
   "metadata": {},
   "outputs": [
    {
     "name": "stdout",
     "output_type": "stream",
     "text": [
      "DE\n",
      "190200766\n"
     ]
    }
   ],
   "source": [
    "print(vat.country_code)\n",
    "print(vat.number)"
   ]
  },
  {
   "cell_type": "code",
   "execution_count": 120,
   "metadata": {},
   "outputs": [],
   "source": [
    "vat.verify_regex()"
   ]
  },
  {
   "cell_type": "code",
   "execution_count": 100,
   "metadata": {},
   "outputs": [],
   "source": [
    "country = dict(\n",
    "            map(\n",
    "                lambda x, y: (x, y),\n",
    "                (\"country\", \"validator\", \"formatter\"),\n",
    "                VIES_OPTIONS[vat.country_code],\n",
    "            )\n",
    "        )"
   ]
  },
  {
   "cell_type": "code",
   "execution_count": 121,
   "metadata": {},
   "outputs": [
    {
     "data": {
      "text/plain": [
       "{'country': 'Spain',\n",
       " 'validator': re.compile(r'^ES[A-Z0-9]\\d{7}[A-Z0-9]$', re.UNICODE)}"
      ]
     },
     "execution_count": 121,
     "metadata": {},
     "output_type": "execute_result"
    }
   ],
   "source": [
    "country"
   ]
  },
  {
   "cell_type": "code",
   "execution_count": 122,
   "metadata": {},
   "outputs": [],
   "source": [
    "def verify_country_code(self):\n",
    "    if not re.match(r\"^[a-zA-Z]\", self.country_code):\n",
    "        msg =\"{} is not a valid ISO_3166-1 country code.\".format(self.country_code)\n",
    "        raise HTTPException(msg)\n",
    "    elif self.country_code not in MEMBER_COUNTRY_CODES:\n",
    "        msg =\"{} is not a european member state.\".format(self.country_code)\n",
    "        raise HTTPException(msg)"
   ]
  },
  {
   "cell_type": "code",
   "execution_count": 125,
   "metadata": {},
   "outputs": [],
   "source": [
    "vat.verify_country_code()"
   ]
  },
  {
   "cell_type": "code",
   "execution_count": 126,
   "metadata": {},
   "outputs": [],
   "source": [
    "def from_str(value):\n",
    "        \"\"\"Return a VATIN object by given string.\"\"\"\n",
    "        return (value[:2].strip(), value[2:].strip())"
   ]
  },
  {
   "cell_type": "code",
   "execution_count": 127,
   "metadata": {},
   "outputs": [
    {
     "data": {
      "text/plain": [
       "('DE', '190200766')"
      ]
     },
     "execution_count": 127,
     "metadata": {},
     "output_type": "execute_result"
    }
   ],
   "source": [
    "from_str('DE190200766')"
   ]
  },
  {
   "cell_type": "code",
   "execution_count": 258,
   "metadata": {},
   "outputs": [],
   "source": [
    "import datetime\n",
    "\n",
    "today = datetime.date.today()"
   ]
  },
  {
   "cell_type": "code",
   "execution_count": 259,
   "metadata": {},
   "outputs": [
    {
     "data": {
      "text/plain": [
       "datetime.date(2020, 4, 16)"
      ]
     },
     "execution_count": 259,
     "metadata": {},
     "output_type": "execute_result"
    }
   ],
   "source": [
    "today"
   ]
  },
  {
   "cell_type": "code",
   "execution_count": 268,
   "metadata": {},
   "outputs": [],
   "source": [
    "# Retrieve daily exchange rate and add to csv file\n",
    "def daily_ecb_exchange_rate():\n",
    "    #df = pd.read_csv(filepath, sep=',')\n",
    "    daily_rate_dict = {}\n",
    "\n",
    "    #get exchange rate data\n",
    "    import requests\n",
    "    r = requests.get(\n",
    "        'http://www.ecb.europa.eu/stats/eurofxref/eurofxref-daily.xml', stream=True)\n",
    "    from xml.etree import ElementTree as ET\n",
    "    tree = ET.parse(r.raw)\n",
    "    root = tree.getroot()\n",
    "    namespaces = {'ex': 'http://www.ecb.int/vocabulary/2002-08-01/eurofxref'}\n",
    "    for cube in root.findall('.//ex:Cube[@currency]', namespaces=namespaces):\n",
    "        # data is added to dict\n",
    "        daily_rate_dict[str(cube.attrib['currency'])] = cube.attrib['rate']\n",
    "    #daily_rate_dict['Date'] = datetime.date.today().strftime(\"%d.%m.%y\")\n",
    "    return daily_rate_dict\n",
    "    \n",
    "    #dict is used for new df row\n",
    "    #new_row = pd.DataFrame(data=daily_rate_dict, index=[0])\n",
    "\n",
    "    #append row to the dataframe\n",
    "    #df = pd.concat([new_row, df], sort=False).reset_index(drop=True)\n",
    "\n",
    "    #move 'Date' column to front\n",
    "    #cols = list(df)\n",
    "    #cols.insert(0, cols.pop(cols.index('Date')))\n",
    "    #df = df.loc[:, cols]\n",
    "\n",
    "    #write new df into csv_file\n",
    "    #df.to_csv(filepath, index=False)"
   ]
  },
  {
   "cell_type": "code",
   "execution_count": 269,
   "metadata": {},
   "outputs": [],
   "source": [
    "daily_rate_dict = daily_ecb_exchange_rate()"
   ]
  },
  {
   "cell_type": "code",
   "execution_count": 282,
   "metadata": {},
   "outputs": [
    {
     "data": {
      "text/plain": [
       "'26.991'"
      ]
     },
     "execution_count": 282,
     "metadata": {},
     "output_type": "execute_result"
    }
   ],
   "source": [
    "daily_rate_dict['CZK']"
   ]
  },
  {
   "cell_type": "code",
   "execution_count": 6,
   "metadata": {},
   "outputs": [],
   "source": [
    "db.drop_all()"
   ]
  },
  {
   "cell_type": "code",
   "execution_count": 51,
   "metadata": {},
   "outputs": [],
   "source": [
    "class ExchangeRateCollection(db.Model):\n",
    "    \"\"\" ExchangeRates parent_model \"\"\"\n",
    "    __tablename__ = \"exchange_rate_collection\"\n",
    "    id = db.Column(db.Integer, primary_key=True)\n",
    "    date = db.Column(db.Date, default=datetime.date.today)\n",
    "    created_on = db.Column(db.DateTime, default=datetime.datetime.utcnow)\n",
    "    exchange_rates_eur = db.relationship(\n",
    "        'ExchangeRatesEUR', backref='exchange_rate_collection', lazy=True)\n",
    "    exchange_rates_gbp = db.relationship(\n",
    "        'ExchangeRatesGBP', backref='exchange_rate_collection', lazy=True)\n",
    "    exchange_rates_czk = db.relationship(\n",
    "        'ExchangeRatesPLN', backref='exchange_rate_collection', lazy=True)\n",
    "    exchange_rates_czk = db.relationship(\n",
    "        'ExchangeRatesPLN', backref='exchange_rate_collection', lazy=True)\n",
    "\n",
    "\n",
    "    def __init__(self, **kwargs):\n",
    "        super(ExchangeRateCollection, self).__init__(**kwargs)\n",
    "\n",
    "    def __repr__(self):\n",
    "        return '<ExchangeRates: %r>' % self.date\n",
    "\n",
    "\n",
    "\n",
    "    discriminator = db.Column('exchange_rates_currency', db.String(50))\n",
    "    __mapper_args__ = {'polymorphic_on': discriminator}\n",
    "\n",
    "class ExchangeRatesCURRENCY(db.Model):\n",
    "    \"\"\" ExchangeRates BASE model \"\"\"\n",
    "    __tablename__ = \"exchange_rates\"\n",
    "    id = db.Column(db.Integer, primary_key=True)\n",
    "    source = db.Column(db.String(32), default=\"ECB\")\n",
    "    created_on = db.Column(db.DateTime, default=datetime.datetime.utcnow)\n",
    "    exchange_rate_collection_id = db.Column(db.Integer, db.ForeignKey('exchange_rate_collection.id'),\n",
    "                                            nullable=False)\n",
    "    eur = db.Column(db.Numeric(scale=8))\n",
    "    gbp = db.Column(db.Numeric(scale=8))\n",
    "    czk = db.Column(db.Numeric(scale=8))\n",
    "    pln = db.Column(db.Numeric(scale=8))\n",
    "\n",
    "    discriminator = db.Column('exchange_rates_base', db.String(32))\n",
    "    __mapper_args__ = {'polymorphic_on': discriminator}\n",
    "\n",
    "\n",
    "class ExchangeRatesEUR(ExchangeRatesCURRENCY):\n",
    "    \"\"\" ExchangeRates EUR model \"\"\"\n",
    "    __tablename__ = \"exchange_rates_eur\"\n",
    "    __mapper_args__ = {'polymorphic_identity': 'exchange_rates_eur'}\n",
    "\n",
    "    exchange_rates_eur_id = db.Column('id', db.Integer, db.ForeignKey('exchange_rates.id'),\n",
    "                         primary_key=True)\n",
    "\n",
    "    def __init__(ExchangeRatesEUR, **kwargs):\n",
    "        super(ExchangeRatesEUR, self).__init__(**kwargs)\n",
    "\n",
    "    def __repr__(self):\n",
    "        return '<ExchangeRatesEUR: %r>' % self.exchange_rate_collection.date\n",
    "\n",
    "\n",
    "class ExchangeRatesGBP(ExchangeRatesCURRENCY):\n",
    "    \"\"\" ExchangeRates GPB model \"\"\"\n",
    "    __tablename__ = \"exchange_rates_gbp\"\n",
    "    __mapper_args__ = {'polymorphic_identity': 'exchange_rates_gbp'}\n",
    "\n",
    "    exchange_rates_gbp_id = db.Column('id', db.Integer, db.ForeignKey('exchange_rates.id'),\n",
    "                                      primary_key=True)\n",
    "\n",
    "    def __init__(ExchangeRatesGBP, **kwargs):\n",
    "        super(ExchangeRatesGBP, self).__init__(**kwargs)\n",
    "\n",
    "    def __repr__(self):\n",
    "        return '<ExchangeRatesGBP: %r>' % self.exchange_rate_collection.date\n",
    "\n",
    "\n",
    "class ExchangeRatesCZK(ExchangeRatesCURRENCY):\n",
    "    \"\"\" ExchangeRates CZK model \"\"\"\n",
    "    __tablename__ = \"exchange_rates_czk\"\n",
    "    __mapper_args__ = {'polymorphic_identity': 'exchange_rates_czk'}\n",
    "\n",
    "    exchange_rates_czk_id = db.Column('id', db.Integer, db.ForeignKey('exchange_rates.id'),\n",
    "                                      primary_key=True)\n",
    "\n",
    "    def __init__(ExchangeRatesCZK, **kwargs):\n",
    "        super(ExchangeRatesCZK, self).__init__(**kwargs)\n",
    "\n",
    "    def __repr__(self):\n",
    "        return '<ExchangeRatesCZK: %r>' % self.exchange_rate_collection.date\n",
    "\n",
    "\n",
    "class ExchangeRatesPLN(ExchangeRatesCURRENCY):\n",
    "    \"\"\" ExchangeRates PLN model \"\"\"\n",
    "    __tablename__ = \"exchange_rates_pln\"\n",
    "    __mapper_args__ = {'polymorphic_identity': 'exchange_rates_pln'}\n",
    "\n",
    "    exchange_rates_pln_id = db.Column('id', db.Integer, db.ForeignKey('exchange_rates.id'),\n",
    "                                      primary_key=True)\n",
    "\n",
    "    def __init__(ExchangeRatesPLN, **kwargs):\n",
    "        super(ExchangeRatesPLN, self).__init__(**kwargs)\n",
    "\n",
    "    def __repr__(self):\n",
    "        return '<ExchangeRatesPLN: %r>' % self.exchange_rate_collection.date\n"
   ]
  },
  {
   "cell_type": "code",
   "execution_count": 52,
   "metadata": {},
   "outputs": [],
   "source": [
    "from werkzeug.exceptions import InternalServerError\n",
    "\n",
    "class ExchangeRatesService:\n",
    "\n",
    "    @staticmethod\n",
    "    def retrieve_ecb_exchange_rates():\n",
    "        #df = pd.read_csv(filepath, sep=',')\n",
    "        exchange_rate_dict = {}\n",
    "\n",
    "        #get exchange rate data\n",
    "        import requests\n",
    "        r = requests.get(\n",
    "            'http://www.ecb.europa.eu/stats/eurofxref/eurofxref-daily.xml', stream=True)\n",
    "        from xml.etree import ElementTree as ET\n",
    "        tree = ET.parse(r.raw)\n",
    "        root = tree.getroot()\n",
    "        namespaces = {\n",
    "            'ex': 'http://www.ecb.int/vocabulary/2002-08-01/eurofxref'}\n",
    "        for cube in root.findall('.//ex:Cube[@currency]', namespaces=namespaces):\n",
    "            # data is added to dict\n",
    "            exchange_rate_dict[str(cube.attrib['currency'])] = cube.attrib['rate']\n",
    "        #daily_rate_dict['Date'] = datetime.date.today().strftime(\"%d.%m.%y\")\n",
    "        return exchange_rate_dict\n",
    "\n",
    "\n",
    "    def create_exchange_rate_collection(date) -> ExchangeRateCollection:\n",
    "        exchange_rate_collection = ExchangeRateCollection.query.filter_by(date=date).first()\n",
    "\n",
    "        if not exchange_rate_collection:\n",
    "            #create new exchange_rate_collection based on TaxAuditor model\n",
    "            new_exchange_rate_collection = ExchangeRateCollection(\n",
    "                date=date,\n",
    "                created_on=datetime.datetime.utcnow()\n",
    "            )\n",
    "\n",
    "            #add exchange_rate_collection to db\n",
    "            db.session.add(new_exchange_rate_collection)\n",
    "            db.session.commit()\n",
    "\n",
    "            return new_exchange_rate_collection\n",
    "\n",
    "\n",
    "    def create_exchange_rates_EUR(date) -> ExchangeRatesEUR:\n",
    "        exchange_rate_collection = ExchangeRateCollection.query.filter_by(\n",
    "            date=date).first()\n",
    "\n",
    "        if exchange_rate_collection:\n",
    "\n",
    "            #api call to ECB\n",
    "            exchange_rate_dict = ExchangeRatesService.retrieve_ecb_exchange_rates()\n",
    "\n",
    "            new_exchange_rates_EUR = ExchangeRatesEUR(\n",
    "                source='ECB',\n",
    "                created_on=datetime.datetime.utcnow(),\n",
    "                exchange_rate_collection_id=exchange_rate_collection.id,\n",
    "                eur=1.0000,\n",
    "                gbp=exchange_rate_dict['GBP'],\n",
    "                czk=exchange_rate_dict['CZK'],\n",
    "                pln=exchange_rate_dict['PLN']\n",
    "            )\n",
    "\n",
    "            #add exchange_rate_collection to db\n",
    "            db.session.add(new_exchange_rates_EUR)\n",
    "            db.session.commit()\n",
    "\n",
    "            return new_exchange_rates_EUR\n",
    "\n",
    "        else:\n",
    "            response_object = {\n",
    "                'status' : 'error',\n",
    "                'message': 'The corresponding exchange rate collection can not be found.'\n",
    "            }\n",
    "            raise InternalServerError(response_object)\n",
    "\n",
    "\n",
    "    def create_exchange_rates_GBP(date) -> ExchangeRatesGBP:\n",
    "        exchange_rate_collection = ExchangeRateCollection.query.filter_by(\n",
    "                date=date).first()\n",
    "\n",
    "        exchange_rates_EUR = ExchangeRatesEUR.query.filter_by(\n",
    "                exchange_rate_collection_id=exchange_rate_collection.id)\n",
    "\n",
    "        if exchange_rate_collection and exchange_rates_EUR:\n",
    "\n",
    "            new_exchange_rates_EUR = ExchangeRatesEUR(\n",
    "                source='ECB',\n",
    "                created_on=datetime.datetime.utcnow(),\n",
    "                exchange_rate_collection_id=exchange_rate_collection.id,\n",
    "                eur=1/exchange_rates_EUR.gbp,\n",
    "                gbp=1.0000,\n",
    "                czk=eur * exchange_rates_EUR.czk,\n",
    "                pln=eur * exchange_rates_EUR.pln\n",
    "            )\n",
    "\n",
    "            #add exchange_rate_collection to db\n",
    "            db.session.add(new_exchange_rates_GBP)\n",
    "            db.session.commit()\n",
    "\n",
    "            return new_exchange_rates_GBP\n",
    "\n",
    "        else:\n",
    "            response_object = {\n",
    "                'status': 'error',\n",
    "                'message': 'An error occured.'\n",
    "            }\n",
    "            raise InternalServerError(response_object)\n",
    "\n",
    "\n",
    "    def create_exchange_rates_CZK(date) -> ExchangeRatesCZK:\n",
    "        exchange_rate_collection = ExchangeRateCollection.query.filter_by(\n",
    "            date=date).first()\n",
    "\n",
    "        exchange_rates_EUR = ExchangeRatesEUR.query.filter_by(\n",
    "            exchange_rate_collection_id=exchange_rate_collection.id)\n",
    "\n",
    "        if exchange_rate_collection and exchange_rates_EUR:\n",
    "\n",
    "            new_exchange_rates_EUR = ExchangeRatesEUR(\n",
    "                source='ECB',\n",
    "                created_on=datetime.datetime.utcnow(),\n",
    "                exchange_rate_collection_id=exchange_rate_collection.id,\n",
    "                eur=1/exchange_rates_EUR.czk,\n",
    "                gbp=eur * exchange_rates_EUR.gbp,\n",
    "                czk=1.0000,\n",
    "                pln=eur * exchange_rates_EUR.pln\n",
    "            )\n",
    "\n",
    "            #add exchange_rate_collection to db\n",
    "            db.session.add(new_exchange_rates_CZK)\n",
    "            db.session.commit()\n",
    "\n",
    "            return new_exchange_rates_CZK\n",
    "\n",
    "        else:\n",
    "            response_object = {\n",
    "                'status': 'error',\n",
    "                'message': 'An error occured.'\n",
    "            }\n",
    "            raise InternalServerError(response_object)\n",
    "\n",
    "    def create_exchange_rates_PLN(date) -> ExchangeRatesPLN:\n",
    "        exchange_rate_collection = ExchangeRateCollection.query.filter_by(\n",
    "            date=date).first()\n",
    "\n",
    "        exchange_rates_EUR = ExchangeRatesEUR.query.filter_by(\n",
    "            exchange_rate_collection_id=exchange_rate_collection.id)\n",
    "\n",
    "        if exchange_rate_collection and exchange_rates_EUR:\n",
    "\n",
    "            new_exchange_rates_EUR = ExchangeRatesEUR(\n",
    "                source='ECB',\n",
    "                created_on=datetime.datetime.utcnow(),\n",
    "                exchange_rate_collection_id=exchange_rate_collection.id,\n",
    "                eur=1/exchange_rates_EUR.pln,\n",
    "                gbp=eur * exchange_rates_EUR.gbp,\n",
    "                czk=eur * exchange_rates_EUR.czk,\n",
    "                pln=1.0000\n",
    "            )\n",
    "\n",
    "            #add exchange_rate_collection to db\n",
    "            db.session.add(new_exchange_rates_PLN)\n",
    "            db.session.commit()\n",
    "\n",
    "            return new_exchange_rates_PLN\n",
    "\n",
    "        else:\n",
    "            response_object = {\n",
    "                'status': 'error',\n",
    "                'message': 'An error occured.'\n",
    "            }\n",
    "            raise InternalServerError(response_object)\n"
   ]
  },
  {
   "cell_type": "code",
   "execution_count": 53,
   "metadata": {},
   "outputs": [
    {
     "ename": "NameError",
     "evalue": "name 'self' is not defined",
     "output_type": "error",
     "traceback": [
      "\u001b[0;31m---------------------------------------------------------------------------\u001b[0m",
      "\u001b[0;31mNameError\u001b[0m                                 Traceback (most recent call last)",
      "\u001b[0;32m<ipython-input-53-994b04013202>\u001b[0m in \u001b[0;36m<module>\u001b[0;34m\u001b[0m\n\u001b[1;32m      2\u001b[0m \u001b[0mdate\u001b[0m \u001b[0;34m=\u001b[0m \u001b[0mdatetime\u001b[0m\u001b[0;34m.\u001b[0m\u001b[0mdate\u001b[0m\u001b[0;34m.\u001b[0m\u001b[0mtoday\u001b[0m\u001b[0;34m(\u001b[0m\u001b[0;34m)\u001b[0m\u001b[0;34m\u001b[0m\u001b[0;34m\u001b[0m\u001b[0m\n\u001b[1;32m      3\u001b[0m \u001b[0mexchange_rate_collection\u001b[0m \u001b[0;34m=\u001b[0m \u001b[0mExchangeRatesService\u001b[0m\u001b[0;34m.\u001b[0m\u001b[0mcreate_exchange_rate_collection\u001b[0m\u001b[0;34m(\u001b[0m\u001b[0mdate\u001b[0m\u001b[0;34m)\u001b[0m\u001b[0;34m\u001b[0m\u001b[0;34m\u001b[0m\u001b[0m\n\u001b[0;32m----> 4\u001b[0;31m \u001b[0mExchangeRatesService\u001b[0m\u001b[0;34m.\u001b[0m\u001b[0mcreate_exchange_rates_EUR\u001b[0m\u001b[0;34m(\u001b[0m\u001b[0mdate\u001b[0m\u001b[0;34m)\u001b[0m\u001b[0;34m\u001b[0m\u001b[0;34m\u001b[0m\u001b[0m\n\u001b[0m\u001b[1;32m      5\u001b[0m \u001b[0mExchangeRatesService\u001b[0m\u001b[0;34m.\u001b[0m\u001b[0mcreate_exchange_rates_GBP\u001b[0m\u001b[0;34m(\u001b[0m\u001b[0mdate\u001b[0m\u001b[0;34m)\u001b[0m\u001b[0;34m\u001b[0m\u001b[0;34m\u001b[0m\u001b[0m\n\u001b[1;32m      6\u001b[0m \u001b[0mExchangeRatesService\u001b[0m\u001b[0;34m.\u001b[0m\u001b[0mcreate_exchange_rates_CZK\u001b[0m\u001b[0;34m(\u001b[0m\u001b[0mdate\u001b[0m\u001b[0;34m)\u001b[0m\u001b[0;34m\u001b[0m\u001b[0;34m\u001b[0m\u001b[0m\n",
      "\u001b[0;32m<ipython-input-52-7249d4b82ce6>\u001b[0m in \u001b[0;36mcreate_exchange_rates_EUR\u001b[0;34m(date)\u001b[0m\n\u001b[1;32m     57\u001b[0m                 \u001b[0mgbp\u001b[0m\u001b[0;34m=\u001b[0m\u001b[0mexchange_rate_dict\u001b[0m\u001b[0;34m[\u001b[0m\u001b[0;34m'GBP'\u001b[0m\u001b[0;34m]\u001b[0m\u001b[0;34m,\u001b[0m\u001b[0;34m\u001b[0m\u001b[0;34m\u001b[0m\u001b[0m\n\u001b[1;32m     58\u001b[0m                 \u001b[0mczk\u001b[0m\u001b[0;34m=\u001b[0m\u001b[0mexchange_rate_dict\u001b[0m\u001b[0;34m[\u001b[0m\u001b[0;34m'CZK'\u001b[0m\u001b[0;34m]\u001b[0m\u001b[0;34m,\u001b[0m\u001b[0;34m\u001b[0m\u001b[0;34m\u001b[0m\u001b[0m\n\u001b[0;32m---> 59\u001b[0;31m                 \u001b[0mpln\u001b[0m\u001b[0;34m=\u001b[0m\u001b[0mexchange_rate_dict\u001b[0m\u001b[0;34m[\u001b[0m\u001b[0;34m'PLN'\u001b[0m\u001b[0;34m]\u001b[0m\u001b[0;34m\u001b[0m\u001b[0;34m\u001b[0m\u001b[0m\n\u001b[0m\u001b[1;32m     60\u001b[0m             )\n\u001b[1;32m     61\u001b[0m \u001b[0;34m\u001b[0m\u001b[0m\n",
      "\u001b[0;32m<string>\u001b[0m in \u001b[0;36m__init__\u001b[0;34m(ExchangeRatesEUR, **kwargs)\u001b[0m\n",
      "\u001b[0;32m/usr/local/lib/python3.7/site-packages/sqlalchemy/orm/state.py\u001b[0m in \u001b[0;36m_initialize_instance\u001b[0;34m(*mixed, **kwargs)\u001b[0m\n\u001b[1;32m    431\u001b[0m         \u001b[0;32mexcept\u001b[0m\u001b[0;34m:\u001b[0m\u001b[0;34m\u001b[0m\u001b[0;34m\u001b[0m\u001b[0m\n\u001b[1;32m    432\u001b[0m             \u001b[0;32mwith\u001b[0m \u001b[0mutil\u001b[0m\u001b[0;34m.\u001b[0m\u001b[0msafe_reraise\u001b[0m\u001b[0;34m(\u001b[0m\u001b[0;34m)\u001b[0m\u001b[0;34m:\u001b[0m\u001b[0;34m\u001b[0m\u001b[0;34m\u001b[0m\u001b[0m\n\u001b[0;32m--> 433\u001b[0;31m                 \u001b[0mmanager\u001b[0m\u001b[0;34m.\u001b[0m\u001b[0mdispatch\u001b[0m\u001b[0;34m.\u001b[0m\u001b[0minit_failure\u001b[0m\u001b[0;34m(\u001b[0m\u001b[0mself\u001b[0m\u001b[0;34m,\u001b[0m \u001b[0margs\u001b[0m\u001b[0;34m,\u001b[0m \u001b[0mkwargs\u001b[0m\u001b[0;34m)\u001b[0m\u001b[0;34m\u001b[0m\u001b[0;34m\u001b[0m\u001b[0m\n\u001b[0m\u001b[1;32m    434\u001b[0m \u001b[0;34m\u001b[0m\u001b[0m\n\u001b[1;32m    435\u001b[0m     \u001b[0;32mdef\u001b[0m \u001b[0mget_history\u001b[0m\u001b[0;34m(\u001b[0m\u001b[0mself\u001b[0m\u001b[0;34m,\u001b[0m \u001b[0mkey\u001b[0m\u001b[0;34m,\u001b[0m \u001b[0mpassive\u001b[0m\u001b[0;34m)\u001b[0m\u001b[0;34m:\u001b[0m\u001b[0;34m\u001b[0m\u001b[0;34m\u001b[0m\u001b[0m\n",
      "\u001b[0;32m/usr/local/lib/python3.7/site-packages/sqlalchemy/util/langhelpers.py\u001b[0m in \u001b[0;36m__exit__\u001b[0;34m(self, type_, value, traceback)\u001b[0m\n\u001b[1;32m     67\u001b[0m             \u001b[0;32mif\u001b[0m \u001b[0;32mnot\u001b[0m \u001b[0mself\u001b[0m\u001b[0;34m.\u001b[0m\u001b[0mwarn_only\u001b[0m\u001b[0;34m:\u001b[0m\u001b[0;34m\u001b[0m\u001b[0;34m\u001b[0m\u001b[0m\n\u001b[1;32m     68\u001b[0m                 compat.raise_(\n\u001b[0;32m---> 69\u001b[0;31m                     \u001b[0mexc_value\u001b[0m\u001b[0;34m,\u001b[0m \u001b[0mwith_traceback\u001b[0m\u001b[0;34m=\u001b[0m\u001b[0mexc_tb\u001b[0m\u001b[0;34m,\u001b[0m\u001b[0;34m\u001b[0m\u001b[0;34m\u001b[0m\u001b[0m\n\u001b[0m\u001b[1;32m     70\u001b[0m                 )\n\u001b[1;32m     71\u001b[0m         \u001b[0;32melse\u001b[0m\u001b[0;34m:\u001b[0m\u001b[0;34m\u001b[0m\u001b[0;34m\u001b[0m\u001b[0m\n",
      "\u001b[0;32m/usr/local/lib/python3.7/site-packages/sqlalchemy/util/compat.py\u001b[0m in \u001b[0;36mraise_\u001b[0;34m(***failed resolving arguments***)\u001b[0m\n\u001b[1;32m    176\u001b[0m \u001b[0;34m\u001b[0m\u001b[0m\n\u001b[1;32m    177\u001b[0m         \u001b[0;32mtry\u001b[0m\u001b[0;34m:\u001b[0m\u001b[0;34m\u001b[0m\u001b[0;34m\u001b[0m\u001b[0m\n\u001b[0;32m--> 178\u001b[0;31m             \u001b[0;32mraise\u001b[0m \u001b[0mexception\u001b[0m\u001b[0;34m\u001b[0m\u001b[0;34m\u001b[0m\u001b[0m\n\u001b[0m\u001b[1;32m    179\u001b[0m         \u001b[0;32mfinally\u001b[0m\u001b[0;34m:\u001b[0m\u001b[0;34m\u001b[0m\u001b[0;34m\u001b[0m\u001b[0m\n\u001b[1;32m    180\u001b[0m             \u001b[0;31m# credit to\u001b[0m\u001b[0;34m\u001b[0m\u001b[0;34m\u001b[0m\u001b[0;34m\u001b[0m\u001b[0m\n",
      "\u001b[0;32m/usr/local/lib/python3.7/site-packages/sqlalchemy/orm/state.py\u001b[0m in \u001b[0;36m_initialize_instance\u001b[0;34m(*mixed, **kwargs)\u001b[0m\n\u001b[1;32m    428\u001b[0m \u001b[0;34m\u001b[0m\u001b[0m\n\u001b[1;32m    429\u001b[0m         \u001b[0;32mtry\u001b[0m\u001b[0;34m:\u001b[0m\u001b[0;34m\u001b[0m\u001b[0;34m\u001b[0m\u001b[0m\n\u001b[0;32m--> 430\u001b[0;31m             \u001b[0;32mreturn\u001b[0m \u001b[0mmanager\u001b[0m\u001b[0;34m.\u001b[0m\u001b[0moriginal_init\u001b[0m\u001b[0;34m(\u001b[0m\u001b[0;34m*\u001b[0m\u001b[0mmixed\u001b[0m\u001b[0;34m[\u001b[0m\u001b[0;36m1\u001b[0m\u001b[0;34m:\u001b[0m\u001b[0;34m]\u001b[0m\u001b[0;34m,\u001b[0m \u001b[0;34m**\u001b[0m\u001b[0mkwargs\u001b[0m\u001b[0;34m)\u001b[0m\u001b[0;34m\u001b[0m\u001b[0;34m\u001b[0m\u001b[0m\n\u001b[0m\u001b[1;32m    431\u001b[0m         \u001b[0;32mexcept\u001b[0m\u001b[0;34m:\u001b[0m\u001b[0;34m\u001b[0m\u001b[0;34m\u001b[0m\u001b[0m\n\u001b[1;32m    432\u001b[0m             \u001b[0;32mwith\u001b[0m \u001b[0mutil\u001b[0m\u001b[0;34m.\u001b[0m\u001b[0msafe_reraise\u001b[0m\u001b[0;34m(\u001b[0m\u001b[0;34m)\u001b[0m\u001b[0;34m:\u001b[0m\u001b[0;34m\u001b[0m\u001b[0;34m\u001b[0m\u001b[0m\n",
      "\u001b[0;32m<ipython-input-51-19afddc57cbd>\u001b[0m in \u001b[0;36m__init__\u001b[0;34m(ExchangeRatesEUR, **kwargs)\u001b[0m\n\u001b[1;32m     52\u001b[0m \u001b[0;34m\u001b[0m\u001b[0m\n\u001b[1;32m     53\u001b[0m     \u001b[0;32mdef\u001b[0m \u001b[0m__init__\u001b[0m\u001b[0;34m(\u001b[0m\u001b[0mExchangeRatesEUR\u001b[0m\u001b[0;34m,\u001b[0m \u001b[0;34m**\u001b[0m\u001b[0mkwargs\u001b[0m\u001b[0;34m)\u001b[0m\u001b[0;34m:\u001b[0m\u001b[0;34m\u001b[0m\u001b[0;34m\u001b[0m\u001b[0m\n\u001b[0;32m---> 54\u001b[0;31m         \u001b[0msuper\u001b[0m\u001b[0;34m(\u001b[0m\u001b[0mExchangeRatesEUR\u001b[0m\u001b[0;34m,\u001b[0m \u001b[0mself\u001b[0m\u001b[0;34m)\u001b[0m\u001b[0;34m.\u001b[0m\u001b[0m__init__\u001b[0m\u001b[0;34m(\u001b[0m\u001b[0;34m**\u001b[0m\u001b[0mkwargs\u001b[0m\u001b[0;34m)\u001b[0m\u001b[0;34m\u001b[0m\u001b[0;34m\u001b[0m\u001b[0m\n\u001b[0m\u001b[1;32m     55\u001b[0m \u001b[0;34m\u001b[0m\u001b[0m\n\u001b[1;32m     56\u001b[0m     \u001b[0;32mdef\u001b[0m \u001b[0m__repr__\u001b[0m\u001b[0;34m(\u001b[0m\u001b[0mself\u001b[0m\u001b[0;34m)\u001b[0m\u001b[0;34m:\u001b[0m\u001b[0;34m\u001b[0m\u001b[0;34m\u001b[0m\u001b[0m\n",
      "\u001b[0;31mNameError\u001b[0m: name 'self' is not defined"
     ]
    }
   ],
   "source": [
    "db.create_all()\n",
    "date = datetime.date.today()\n",
    "exchange_rate_collection = ExchangeRatesService.create_exchange_rate_collection(date)\n",
    "ExchangeRatesService.create_exchange_rates_EUR(date)\n",
    "ExchangeRatesService.create_exchange_rates_GBP(date)\n",
    "ExchangeRatesService.create_exchange_rates_CZK(date)\n",
    "ExchangeRatesService.create_exchange_rates_PLN(date)"
   ]
  },
  {
   "cell_type": "code",
   "execution_count": 59,
   "metadata": {},
   "outputs": [
    {
     "data": {
      "text/plain": [
       "datetime.date(2020, 4, 16)"
      ]
     },
     "execution_count": 59,
     "metadata": {},
     "output_type": "execute_result"
    }
   ],
   "source": [
    "exchange_rate_collection.date"
   ]
  },
  {
   "cell_type": "code",
   "execution_count": 60,
   "metadata": {},
   "outputs": [],
   "source": [
    "exchange_rate_collection = ExchangeRateCollection.query.filter_by(date=date).first()"
   ]
  },
  {
   "cell_type": "code",
   "execution_count": 61,
   "metadata": {},
   "outputs": [
    {
     "data": {
      "text/plain": [
       "1"
      ]
     },
     "execution_count": 61,
     "metadata": {},
     "output_type": "execute_result"
    }
   ],
   "source": [
    "exchange_rate_collection.id"
   ]
  },
  {
   "cell_type": "code",
   "execution_count": 110,
   "metadata": {},
   "outputs": [
    {
     "ename": "ValueError",
     "evalue": "The truth value of a DataFrame is ambiguous. Use a.empty, a.bool(), a.item(), a.any() or a.all().",
     "output_type": "error",
     "traceback": [
      "\u001b[0;31m---------------------------------------------------------------------------\u001b[0m",
      "\u001b[0;31mValueError\u001b[0m                                Traceback (most recent call last)",
      "\u001b[0;32m<ipython-input-110-fbd55f77ab7c>\u001b[0m in \u001b[0;36m<module>\u001b[0;34m\u001b[0m\n\u001b[0;32m----> 1\u001b[0;31m \u001b[0mtest\u001b[0m\u001b[0;34m(\u001b[0m\u001b[0;34m)\u001b[0m\u001b[0;34m\u001b[0m\u001b[0;34m\u001b[0m\u001b[0m\n\u001b[0m",
      "\u001b[0;32m<ipython-input-109-475e22a639a0>\u001b[0m in \u001b[0;36mtest\u001b[0;34m()\u001b[0m\n\u001b[1;32m      1\u001b[0m \u001b[0;32mdef\u001b[0m \u001b[0mtest\u001b[0m\u001b[0;34m(\u001b[0m\u001b[0;34m)\u001b[0m\u001b[0;34m:\u001b[0m\u001b[0;34m\u001b[0m\u001b[0;34m\u001b[0m\u001b[0m\n\u001b[0;32m----> 2\u001b[0;31m     \u001b[0;32mif\u001b[0m \u001b[0;34m(\u001b[0m\u001b[0mdf1\u001b[0m \u001b[0;34m==\u001b[0m \u001b[0mdf2\u001b[0m\u001b[0;34m)\u001b[0m\u001b[0;34m:\u001b[0m\u001b[0;34m\u001b[0m\u001b[0;34m\u001b[0m\u001b[0m\n\u001b[0m\u001b[1;32m      3\u001b[0m         \u001b[0;32mreturn\u001b[0m \u001b[0;32mTrue\u001b[0m\u001b[0;34m\u001b[0m\u001b[0;34m\u001b[0m\u001b[0m\n\u001b[1;32m      4\u001b[0m     \u001b[0;32melse\u001b[0m\u001b[0;34m:\u001b[0m\u001b[0;34m\u001b[0m\u001b[0;34m\u001b[0m\u001b[0m\n\u001b[1;32m      5\u001b[0m         \u001b[0;32mreturn\u001b[0m \u001b[0;32mFalse\u001b[0m\u001b[0;34m\u001b[0m\u001b[0;34m\u001b[0m\u001b[0m\n",
      "\u001b[0;32m/usr/local/lib/python3.7/site-packages/pandas/core/generic.py\u001b[0m in \u001b[0;36m__nonzero__\u001b[0;34m(self)\u001b[0m\n\u001b[1;32m   1477\u001b[0m     \u001b[0;32mdef\u001b[0m \u001b[0m__nonzero__\u001b[0m\u001b[0;34m(\u001b[0m\u001b[0mself\u001b[0m\u001b[0;34m)\u001b[0m\u001b[0;34m:\u001b[0m\u001b[0;34m\u001b[0m\u001b[0;34m\u001b[0m\u001b[0m\n\u001b[1;32m   1478\u001b[0m         raise ValueError(\n\u001b[0;32m-> 1479\u001b[0;31m             \u001b[0;34mf\"The truth value of a {type(self).__name__} is ambiguous. \"\u001b[0m\u001b[0;34m\u001b[0m\u001b[0;34m\u001b[0m\u001b[0m\n\u001b[0m\u001b[1;32m   1480\u001b[0m             \u001b[0;34m\"Use a.empty, a.bool(), a.item(), a.any() or a.all().\"\u001b[0m\u001b[0;34m\u001b[0m\u001b[0;34m\u001b[0m\u001b[0m\n\u001b[1;32m   1481\u001b[0m         )\n",
      "\u001b[0;31mValueError\u001b[0m: The truth value of a DataFrame is ambiguous. Use a.empty, a.bool(), a.item(), a.any() or a.all()."
     ]
    }
   ],
   "source": [
    "test()"
   ]
  },
  {
   "cell_type": "code",
   "execution_count": 99,
   "metadata": {},
   "outputs": [
    {
     "data": {
      "text/html": [
       "<div>\n",
       "<style scoped>\n",
       "    .dataframe tbody tr th:only-of-type {\n",
       "        vertical-align: middle;\n",
       "    }\n",
       "\n",
       "    .dataframe tbody tr th {\n",
       "        vertical-align: top;\n",
       "    }\n",
       "\n",
       "    .dataframe thead th {\n",
       "        text-align: right;\n",
       "    }\n",
       "</style>\n",
       "<table border=\"1\" class=\"dataframe\">\n",
       "  <thead>\n",
       "    <tr style=\"text-align: right;\">\n",
       "      <th></th>\n",
       "      <th>UNIQUE_ACCOUNT_IDENTIFIER</th>\n",
       "      <th>ACTIVITY_PERIOD</th>\n",
       "      <th>SALES_CHANNEL</th>\n",
       "      <th>MARKETPLACE</th>\n",
       "      <th>TRANSACTION_TYPE</th>\n",
       "      <th>TRANSACTION_EVENT_ID</th>\n",
       "      <th>ACTIVITY_TRANSACTION_ID</th>\n",
       "      <th>TAX_CALCULATION_DATE</th>\n",
       "      <th>TRANSACTION_DEPART_DATE</th>\n",
       "      <th>TRANSACTION_ARRIVAL_DATE</th>\n",
       "      <th>...</th>\n",
       "      <th>VAT_INV_CONVERTED_AMT</th>\n",
       "      <th>VAT_INV_CURRENCY_CODE</th>\n",
       "      <th>VAT_INV_EXCHANGE_RATE</th>\n",
       "      <th>VAT_INV_EXCHANGE_RATE_DATE</th>\n",
       "      <th>EXPORT_OUTSIDE_EU</th>\n",
       "      <th>INVOICE_URL</th>\n",
       "      <th>BUYER_NAME</th>\n",
       "      <th>ARRIVAL_ADDRESS</th>\n",
       "      <th>SUPPLIER_NAME</th>\n",
       "      <th>SUPPLIER_VAT_NUMBER</th>\n",
       "    </tr>\n",
       "  </thead>\n",
       "  <tbody>\n",
       "    <tr>\n",
       "      <th>0</th>\n",
       "      <td>A2SC0NLSYTA68B</td>\n",
       "      <td>2020-MAR</td>\n",
       "      <td>AFN</td>\n",
       "      <td>NaN</td>\n",
       "      <td>FC_TRANSFER</td>\n",
       "      <td>4738902045</td>\n",
       "      <td>4738902045</td>\n",
       "      <td>NaN</td>\n",
       "      <td>31-03-2020</td>\n",
       "      <td>31-03-2020</td>\n",
       "      <td>...</td>\n",
       "      <td>NaN</td>\n",
       "      <td>NaN</td>\n",
       "      <td>NaN</td>\n",
       "      <td>NaN</td>\n",
       "      <td>NaN</td>\n",
       "      <td>NaN</td>\n",
       "      <td>NaN</td>\n",
       "      <td>NaN</td>\n",
       "      <td>NaN</td>\n",
       "      <td>NaN</td>\n",
       "    </tr>\n",
       "    <tr>\n",
       "      <th>1</th>\n",
       "      <td>A2SC0NLSYTA68B</td>\n",
       "      <td>2020-MAR</td>\n",
       "      <td>AFN</td>\n",
       "      <td>NaN</td>\n",
       "      <td>FC_TRANSFER</td>\n",
       "      <td>4776207619</td>\n",
       "      <td>4776207619</td>\n",
       "      <td>NaN</td>\n",
       "      <td>30-03-2020</td>\n",
       "      <td>31-03-2020</td>\n",
       "      <td>...</td>\n",
       "      <td>NaN</td>\n",
       "      <td>NaN</td>\n",
       "      <td>NaN</td>\n",
       "      <td>NaN</td>\n",
       "      <td>NaN</td>\n",
       "      <td>NaN</td>\n",
       "      <td>NaN</td>\n",
       "      <td>NaN</td>\n",
       "      <td>NaN</td>\n",
       "      <td>NaN</td>\n",
       "    </tr>\n",
       "    <tr>\n",
       "      <th>2</th>\n",
       "      <td>A2SC0NLSYTA68B</td>\n",
       "      <td>2020-MAR</td>\n",
       "      <td>AFN</td>\n",
       "      <td>NaN</td>\n",
       "      <td>FC_TRANSFER</td>\n",
       "      <td>4701102862</td>\n",
       "      <td>4701102862</td>\n",
       "      <td>NaN</td>\n",
       "      <td>30-03-2020</td>\n",
       "      <td>31-03-2020</td>\n",
       "      <td>...</td>\n",
       "      <td>NaN</td>\n",
       "      <td>NaN</td>\n",
       "      <td>NaN</td>\n",
       "      <td>NaN</td>\n",
       "      <td>NaN</td>\n",
       "      <td>NaN</td>\n",
       "      <td>NaN</td>\n",
       "      <td>NaN</td>\n",
       "      <td>NaN</td>\n",
       "      <td>NaN</td>\n",
       "    </tr>\n",
       "    <tr>\n",
       "      <th>3</th>\n",
       "      <td>A2SC0NLSYTA68B</td>\n",
       "      <td>2020-MAR</td>\n",
       "      <td>AFN</td>\n",
       "      <td>NaN</td>\n",
       "      <td>FC_TRANSFER</td>\n",
       "      <td>4701201862</td>\n",
       "      <td>4701201862</td>\n",
       "      <td>NaN</td>\n",
       "      <td>31-03-2020</td>\n",
       "      <td>31-03-2020</td>\n",
       "      <td>...</td>\n",
       "      <td>NaN</td>\n",
       "      <td>NaN</td>\n",
       "      <td>NaN</td>\n",
       "      <td>NaN</td>\n",
       "      <td>NaN</td>\n",
       "      <td>NaN</td>\n",
       "      <td>NaN</td>\n",
       "      <td>NaN</td>\n",
       "      <td>NaN</td>\n",
       "      <td>NaN</td>\n",
       "    </tr>\n",
       "    <tr>\n",
       "      <th>4</th>\n",
       "      <td>A2SC0NLSYTA68B</td>\n",
       "      <td>2020-MAR</td>\n",
       "      <td>AFN</td>\n",
       "      <td>NaN</td>\n",
       "      <td>FC_TRANSFER</td>\n",
       "      <td>4701201862</td>\n",
       "      <td>4701201862</td>\n",
       "      <td>NaN</td>\n",
       "      <td>31-03-2020</td>\n",
       "      <td>31-03-2020</td>\n",
       "      <td>...</td>\n",
       "      <td>NaN</td>\n",
       "      <td>NaN</td>\n",
       "      <td>NaN</td>\n",
       "      <td>NaN</td>\n",
       "      <td>NaN</td>\n",
       "      <td>NaN</td>\n",
       "      <td>NaN</td>\n",
       "      <td>NaN</td>\n",
       "      <td>NaN</td>\n",
       "      <td>NaN</td>\n",
       "    </tr>\n",
       "  </tbody>\n",
       "</table>\n",
       "<p>5 rows × 92 columns</p>\n",
       "</div>"
      ],
      "text/plain": [
       "  UNIQUE_ACCOUNT_IDENTIFIER ACTIVITY_PERIOD SALES_CHANNEL MARKETPLACE  \\\n",
       "0            A2SC0NLSYTA68B        2020-MAR           AFN         NaN   \n",
       "1            A2SC0NLSYTA68B        2020-MAR           AFN         NaN   \n",
       "2            A2SC0NLSYTA68B        2020-MAR           AFN         NaN   \n",
       "3            A2SC0NLSYTA68B        2020-MAR           AFN         NaN   \n",
       "4            A2SC0NLSYTA68B        2020-MAR           AFN         NaN   \n",
       "\n",
       "  TRANSACTION_TYPE TRANSACTION_EVENT_ID ACTIVITY_TRANSACTION_ID  \\\n",
       "0      FC_TRANSFER           4738902045              4738902045   \n",
       "1      FC_TRANSFER           4776207619              4776207619   \n",
       "2      FC_TRANSFER           4701102862              4701102862   \n",
       "3      FC_TRANSFER           4701201862              4701201862   \n",
       "4      FC_TRANSFER           4701201862              4701201862   \n",
       "\n",
       "  TAX_CALCULATION_DATE TRANSACTION_DEPART_DATE TRANSACTION_ARRIVAL_DATE  ...  \\\n",
       "0                  NaN              31-03-2020               31-03-2020  ...   \n",
       "1                  NaN              30-03-2020               31-03-2020  ...   \n",
       "2                  NaN              30-03-2020               31-03-2020  ...   \n",
       "3                  NaN              31-03-2020               31-03-2020  ...   \n",
       "4                  NaN              31-03-2020               31-03-2020  ...   \n",
       "\n",
       "  VAT_INV_CONVERTED_AMT VAT_INV_CURRENCY_CODE VAT_INV_EXCHANGE_RATE  \\\n",
       "0                   NaN                   NaN                   NaN   \n",
       "1                   NaN                   NaN                   NaN   \n",
       "2                   NaN                   NaN                   NaN   \n",
       "3                   NaN                   NaN                   NaN   \n",
       "4                   NaN                   NaN                   NaN   \n",
       "\n",
       "  VAT_INV_EXCHANGE_RATE_DATE  EXPORT_OUTSIDE_EU  INVOICE_URL  BUYER_NAME  \\\n",
       "0                        NaN                NaN          NaN         NaN   \n",
       "1                        NaN                NaN          NaN         NaN   \n",
       "2                        NaN                NaN          NaN         NaN   \n",
       "3                        NaN                NaN          NaN         NaN   \n",
       "4                        NaN                NaN          NaN         NaN   \n",
       "\n",
       "   ARRIVAL_ADDRESS  SUPPLIER_NAME  SUPPLIER_VAT_NUMBER  \n",
       "0              NaN            NaN                  NaN  \n",
       "1              NaN            NaN                  NaN  \n",
       "2              NaN            NaN                  NaN  \n",
       "3              NaN            NaN                  NaN  \n",
       "4              NaN            NaN                  NaN  \n",
       "\n",
       "[5 rows x 92 columns]"
      ]
     },
     "execution_count": 99,
     "metadata": {},
     "output_type": "execute_result"
    }
   ],
   "source": [
    "df.head()"
   ]
  },
  {
   "cell_type": "code",
   "execution_count": null,
   "metadata": {},
   "outputs": [],
   "source": []
  },
  {
   "cell_type": "code",
   "execution_count": null,
   "metadata": {},
   "outputs": [],
   "source": []
  },
  {
   "cell_type": "code",
   "execution_count": 7,
   "metadata": {},
   "outputs": [],
   "source": [
    "from datetime import datetime"
   ]
  },
  {
   "cell_type": "code",
   "execution_count": 100,
   "metadata": {},
   "outputs": [],
   "source": [
    "date_str = df.iloc[5]['TRANSACTION_DEPART_DATE']\n",
    "\n",
    "date_object = datetime.strptime(date_str, '%d-%m-%Y').date()"
   ]
  },
  {
   "cell_type": "code",
   "execution_count": 101,
   "metadata": {},
   "outputs": [
    {
     "data": {
      "text/plain": [
       "datetime.date(2018, 8, 30)"
      ]
     },
     "execution_count": 101,
     "metadata": {},
     "output_type": "execute_result"
    }
   ],
   "source": [
    "date_object"
   ]
  },
  {
   "cell_type": "code",
   "execution_count": 111,
   "metadata": {},
   "outputs": [],
   "source": [
    "export = not bool(pd.isnull(df.iloc[5]['EXPORT_OUTSIDE_EU']))"
   ]
  },
  {
   "cell_type": "code",
   "execution_count": 139,
   "metadata": {},
   "outputs": [],
   "source": [
    "channel_code = str(df.iloc[5]['TRANSACTION_EVENT_ID']).upper()"
   ]
  },
  {
   "cell_type": "code",
   "execution_count": 176,
   "metadata": {},
   "outputs": [],
   "source": [
    "for i in range(100):\n",
    "    #tax_calculation_date = datetime.strptime(df.iloc[i]['TAX_CALCULATION_DATE'], '%d-%m-%Y').date() if type(df.iloc[i]['TAX_CALCULATION_DATE']) == str else None\n",
    "    #if not type(df.iloc[i]['TAX_CALCULATION_DATE']) == str or not type(type(df.iloc[i]['TAX_CALCULATION_DATE']) == float):\n",
    "     #   print(df.iloc[i]['TAX_CALCULATION_DATE'])\n",
    "        #print(type(df.iloc[i]['TAX_CALCULATION_DATE']))\n",
    "    if not type(df.iloc[i]['TAX_CALCULATION_DATE']) == str and not type(df.iloc[i]['TAX_CALCULATION_DATE']) == float:\n",
    "        print(df.iloc[i]['TAX_CALCULATION_DATE'])\n",
    "        print(type(df.iloc[i]['TAX_CALCULATION_DATE']))\n"
   ]
  },
  {
   "cell_type": "code",
   "execution_count": 214,
   "metadata": {},
   "outputs": [],
   "source": [
    "#for i in range(10,25):\n",
    "    #departure_seller_vat_number = str(df.iloc[i]['SELLER_DEPART_VAT_NUMBER']) if not pd.isnull(df.iloc[i]['SELLER_DEPART_VAT_NUMBER']) else None\n",
    "    #arrival_date = datetime.strptime(str(df.iloc[i]['TRANSACTION_ARRIVAL_DATE']), '%d-%m-%Y').date() if type(df.iloc[i]['TRANSACTION_ARRIVAL_DATE']) == str else None #datetime.date object #-->transaction\n",
    " #   print(df.iloc[i]['SELLER_DEPART_VAT_NUMBER'])\n",
    "  #  print(type(df.iloc[i]['SELLER_DEPART_VAT_NUMBER']))\n",
    "   # print(\"\")"
   ]
  },
  {
   "cell_type": "code",
   "execution_count": 5,
   "metadata": {},
   "outputs": [],
   "source": []
  },
  {
   "cell_type": "code",
   "execution_count": 8,
   "metadata": {},
   "outputs": [],
   "source": []
  },
  {
   "cell_type": "code",
   "execution_count": 46,
   "metadata": {},
   "outputs": [
    {
     "name": "stdout",
     "output_type": "stream",
     "text": [
      "None\n",
      "None\n",
      "None\n",
      "None\n",
      "None\n",
      "None\n",
      "0.19\n",
      "None\n",
      "0.19\n",
      "0.19\n",
      "0.19\n",
      "0.19\n",
      "0.19\n",
      "0.19\n",
      "0.19\n",
      "0.23\n",
      "None\n",
      "None\n",
      "0.19\n",
      "0.19\n",
      "0.19\n",
      "0.19\n",
      "0.19\n",
      "0.19\n",
      "0.2\n"
     ]
    }
   ],
   "source": [
    "df = pd.read_csv('/Users/tm/Downloads/Dummy_txt.txt', encoding='latin-1', delimiter='\\t')\n",
    "#df = pd.read_csv('/Users/tm/Downloads/THOMAS/02_Monthly_Data/Sales_Tax_Transaction_Reports/Sales_Tax_Transaction_Report_M-2019-06.txt', encoding='latin-1', delimiter='\\t') \n",
    "for i in range(25):\n",
    "    print(float(df.iloc[i]['PRICE_OF_ITEMS_VAT_RATE_PERCENT']) if not pd.isnull(df.iloc[i]['PRICE_OF_ITEMS_VAT_RATE_PERCENT']) else None)"
   ]
  },
  {
   "cell_type": "code",
   "execution_count": 42,
   "metadata": {},
   "outputs": [],
   "source": []
  },
  {
   "cell_type": "code",
   "execution_count": 43,
   "metadata": {},
   "outputs": [
    {
     "name": "stdout",
     "output_type": "stream",
     "text": [
      "Does not exist\n"
     ]
    }
   ],
   "source": []
  },
  {
   "cell_type": "code",
   "execution_count": 30,
   "metadata": {},
   "outputs": [],
   "source": []
  },
  {
   "cell_type": "code",
   "execution_count": 35,
   "metadata": {},
   "outputs": [],
   "source": []
  },
  {
   "cell_type": "code",
   "execution_count": 38,
   "metadata": {},
   "outputs": [
    {
     "data": {
      "text/plain": [
       "'None is a and 5 is b'"
      ]
     },
     "execution_count": 38,
     "metadata": {},
     "output_type": "execute_result"
    }
   ],
   "source": []
  },
  {
   "cell_type": "code",
   "execution_count": 71,
   "metadata": {},
   "outputs": [
    {
     "data": {
      "text/plain": [
       "5"
      ]
     },
     "execution_count": 71,
     "metadata": {},
     "output_type": "execute_result"
    }
   ],
   "source": [
    "a = 5\n",
    "b = 1\n",
    "5 or 1\n",
    "#True if ( b==1 and a == (2 or 3 or 5)) else False"
   ]
  },
  {
   "cell_type": "code",
   "execution_count": 65,
   "metadata": {},
   "outputs": [],
   "source": [
    "default=datetime.date.today()"
   ]
  },
  {
   "cell_type": "code",
   "execution_count": 56,
   "metadata": {},
   "outputs": [],
   "source": [
    "exchange_rate_date = default - datetime.timedelta(days=1)"
   ]
  },
  {
   "cell_type": "code",
   "execution_count": 57,
   "metadata": {},
   "outputs": [
    {
     "data": {
      "text/plain": [
       "datetime.date(2020, 4, 27)"
      ]
     },
     "execution_count": 57,
     "metadata": {},
     "output_type": "execute_result"
    }
   ],
   "source": [
    "exchange_rate_date"
   ]
  },
  {
   "cell_type": "code",
   "execution_count": 61,
   "metadata": {},
   "outputs": [
    {
     "data": {
      "text/plain": [
       "datetime.date(2020, 4, 27)"
      ]
     },
     "execution_count": 61,
     "metadata": {},
     "output_type": "execute_result"
    }
   ],
   "source": []
  },
  {
   "cell_type": "code",
   "execution_count": 3,
   "metadata": {},
   "outputs": [],
   "source": [
    "class Currency(db.Model):  # type: ignore\n",
    "    \"\"\" Currency model \"\"\"\n",
    "    __tablename__ = \"currency\"\n",
    "\n",
    "    code = db.Column(db.String(4), primary_key=True)\n",
    "    country_codes = db.relationship('Country', backref='currency', lazy=True)\n",
    "    \n",
    "\n",
    "    def __init__(self, **kwargs):\n",
    "        super(Currency, self).__init__(**kwargs)\n",
    "\n",
    "    def __repr__(self):\n",
    "        return '<Currency: {}>'.format(self.code)\n",
    "\n",
    "\n",
    "class TaxRateType(db.Model):  # type: ignore\n",
    "    \"\"\" TaxRateType model, e.g. R, R2, Z, S \"\"\"\n",
    "    __tablename__ = \"tax_rate_type\"\n",
    "\n",
    "    code = db.Column(db.String(8), primary_key=True)\n",
    "    description = db.Column(db.String(256), default=None)\n",
    "    tax_rates = db.relationship('TaxRate', backref='tax_rate_type', lazy=True)\n",
    "\n",
    "\n",
    "    def __init__(self, **kwargs):\n",
    "        super(TaxRateType, self).__init__(**kwargs)\n",
    "\n",
    "    def __repr__(self):\n",
    "        return '<TaxRateType: {}'.format(self.code)\n",
    "\n",
    "\n",
    "class Country(db.Model):  # type: ignore\n",
    "    \"\"\" Country model \"\"\"\n",
    "    __tablename__ = \"country\"\n",
    "\n",
    "    code = db.Column(db.String(4), primary_key=True)\n",
    "    id = db.Column(db.Integer, autoincrement=True)\n",
    "    country_name = db.Column(db.String(40), nullable=False)\n",
    "    \n",
    "    \n",
    "    currency_code = db.Column(db.String(8), db.ForeignKey('currency.code'))\n",
    "    tax_rates = db.relationship('TaxRate', backref='country')\n",
    "\n",
    "\n",
    "    def __init__(self, **kwargs):\n",
    "        super(Country, self).__init__(**kwargs)\n",
    "\n",
    "    def __repr__(self):\n",
    "        return '<Country: {}>'.format(self.code)\n",
    "\n",
    "\n",
    "class TaxCode(db.Model):  # type: ignore\n",
    "    \"\"\" Item tax_code, e.g. A_GEN_STANDARD \"\"\"\n",
    "    __tablename__ = \"tax_code\"\n",
    "\n",
    "    code = db.Column(db.String(8), primary_key=True)\n",
    "    description = db.Column(db.String(64))\n",
    "    tax_rates = db.relationship('TaxRate', backref='tax_code')\n",
    "\n",
    "    \n",
    "    def __init__(self, **kwargs):\n",
    "        super(TaxCode, self).__init__(**kwargs)\n",
    "\n",
    "    def __repr__(self):\n",
    "        return '<TaxCode:{} valid from:{}>'.format(self.code, self.description)\n",
    "\n",
    "    \n",
    "class TaxRate(db.Model):  # type: ignore\n",
    "    \"\"\" TaxRate model, e.g. rate: 0.2 \"\"\"\n",
    "    __tablename__ = \"tax_rate\"\n",
    "\n",
    "    id = db.Column(db.Integer, primary_key=True)\n",
    "    \n",
    "    valid_from = db.Column(db.DateTime, nullable=False)\n",
    "    valid_to = db.Column(db.DateTime)\n",
    "    \n",
    "    rate = db.Column(db.Numeric(precision=8, scale=4))\n",
    "    \n",
    "    tax_rate_type_code = db.Column(db.String(4), db.ForeignKey('tax_rate_type.code'))\n",
    "    country_code = db.Column(db.String(4), db.ForeignKey('country.code'))\n",
    "    tax_code_code = db.Column(db.String(8), db.ForeignKey('tax_code.code'))\n",
    "\n",
    "\n",
    "    def __init__(self, **kwargs):\n",
    "         super(TaxRate, self).__init__(**kwargs)\n",
    "\n",
    "    def __repr__(self):\n",
    "        return '<TaxRate: valid: {}-{} – country_code: {} – rate {}>'.format(self.valid_from, self.valid_to, self.country_code, self.rate)\n",
    "\n",
    "#mapped class TaxCode->tax_code' has no property 'country'"
   ]
  },
  {
   "cell_type": "code",
   "execution_count": 4,
   "metadata": {},
   "outputs": [],
   "source": [
    "db.create_all()"
   ]
  },
  {
   "cell_type": "code",
   "execution_count": 5,
   "metadata": {},
   "outputs": [],
   "source": [
    "germany, poland, great_britain, netherlands = Country(code=\"DE\", country_name=\"Germany\", currency_code = \"EUR\"), Country(code=\"PL\", country_name=\"Poland\", currency_code = \"PLN\"), Country(code=\"GB\", country_name=\"Great Britain\", currency_code = \"GBP\"), Country(code=\"NL\", country_name=\"Netherlands\", currency_code = \"EUR\")\n",
    "\n",
    "db.session.add(germany)\n",
    "db.session.add(poland)\n",
    "db.session.add(great_britain)\n",
    "db.session.add(netherlands)\n",
    "\n",
    "\n",
    "eur, gbp, pln, czs = Currency(code=\"EUR\"), Currency(code=\"GBP\"), Currency(code=\"PLN\"), Currency(code=\"CZS\")\n",
    "\n",
    "db.session.add(eur)\n",
    "db.session.add(gbp)\n",
    "db.session.add(pln)\n",
    "db.session.add(czs)\n",
    "\n",
    "\n",
    "s = TaxRateType(code=\"S\", description=\"Standard Rate\")\n",
    "r = TaxRateType(code=\"R\", description=\"Reduced Rate\")\n",
    "r2 = TaxRateType(code=\"R2\", description=\"Reduced Rate 2\")\n",
    "z = TaxRateType(code=\"Z\", description=\"Zero Rate\")\n",
    "\n",
    "db.session.add(s)\n",
    "db.session.add(r)\n",
    "db.session.add(r2)\n",
    "db.session.add(z)\n",
    "\n",
    "A_GEN_STANDARD = TaxCode(code=\"A_GEN_STANDARD\", description=\"Standard Rate\")\n",
    "A_BOOK_AUDIOBOOK = TaxCode(code=\"A_BOOK_AUDIOBOOK\", description=\"Audiobooks in the physical format\")\n",
    "A_BOOKS_GEN = TaxCode(code=\"A_BOOKS_GEN\", description=\"Printed Books\")\n",
    "\n",
    "db.session.add(A_GEN_STANDARD)\n",
    "db.session.add(A_BOOK_AUDIOBOOK)\n",
    "db.session.add(A_BOOKS_GEN)\n",
    "\n",
    "db.session.commit()\n",
    "\n",
    "\n",
    "    \n",
    "t1 = TaxRate(valid_from=datetime.datetime.utcnow(), rate=0.19, tax_rate_type_code=\"S\", country_code=\"DE\", tax_code_code=\"A_GEN_STANDARD\")\n",
    "t2 = TaxRate(valid_from=datetime.datetime.utcnow(), rate=0.19, tax_rate_type_code=\"S\", country_code=\"FR\", tax_code_code=\"A_GEN_STANDARD\")\n",
    "t3 = TaxRate(valid_from=datetime.datetime.utcnow(), rate=0.19, tax_rate_type_code=\"S\", country_code=\"DE\", tax_code_code=\"A_BOOK_AUDIOBOOK\")\n",
    "t4 = TaxRate(valid_from=datetime.datetime.utcnow(), rate=0.0, tax_rate_type_code=\"Z\", country_code=\"DE\", tax_code_code=\"A_BOOKS_GEN\")\n",
    "\n",
    "db.session.add(t1)\n",
    "db.session.add(t2)\n",
    "db.session.add(t3)\n",
    "db.session.add(t4)\n",
    "\n",
    "db.session.commit()"
   ]
  },
  {
   "cell_type": "code",
   "execution_count": 45,
   "metadata": {},
   "outputs": [
    {
     "data": {
      "text/plain": [
       "[<TaxCode:A_GEN_STANDARD valid from:Standard Rate>,\n",
       " <TaxCode:A_BOOK_AUDIOBOOK valid from:Audiobooks in the physical format>,\n",
       " <TaxCode:A_BOOKS_GEN valid from:Printed Books>]"
      ]
     },
     "execution_count": 45,
     "metadata": {},
     "output_type": "execute_result"
    }
   ],
   "source": [
    "TaxCode.query.all()"
   ]
  },
  {
   "cell_type": "code",
   "execution_count": 11,
   "metadata": {},
   "outputs": [],
   "source": [
    "tax_rate = TaxRate.query.filter(TaxRate.valid_from<datetime.datetime.utcnow(), TaxRate.country_code=='DE').all()"
   ]
  },
  {
   "cell_type": "code",
   "execution_count": 14,
   "metadata": {},
   "outputs": [
    {
     "data": {
      "text/plain": [
       "[<TaxRate: valid: 2020-04-29 07:41:43.661656-None – country_code: DE – rate 0.1900>,\n",
       " <TaxRate: valid: 2020-04-29 07:41:43.662270-None – country_code: DE – rate 0.1900>,\n",
       " <TaxRate: valid: 2020-04-29 07:41:43.662407-None – country_code: DE – rate 0.0000>]"
      ]
     },
     "execution_count": 14,
     "metadata": {},
     "output_type": "execute_result"
    }
   ],
   "source": [
    "germany.tax_rates"
   ]
  },
  {
   "cell_type": "code",
   "execution_count": 89,
   "metadata": {},
   "outputs": [],
   "source": [
    "def check_refund_case(item_price_total_gross, shipment_price_total_gross, gift_wrap_price_total_gross):\n",
    "        sale_transaction = True\n",
    "        if sale_transaction:\n",
    "            print(\"check1\")\n",
    "            if not item_price_total_gross or not shipment_price_total_gross or not gift_wrap_price_total_gross:\n",
    "                return print(\"check none\")\n",
    "            else:\n",
    "                print('all here')\n",
    "        else:\n",
    "            return False"
   ]
  },
  {
   "cell_type": "code",
   "execution_count": 90,
   "metadata": {},
   "outputs": [],
   "source": [
    "item_price_total_gross = 1\n",
    "shipment_price_total_gross = None\n",
    "gift_wrap_price_total_gross =3"
   ]
  },
  {
   "cell_type": "code",
   "execution_count": 91,
   "metadata": {},
   "outputs": [
    {
     "name": "stdout",
     "output_type": "stream",
     "text": [
      "check1\n",
      "check none\n"
     ]
    }
   ],
   "source": [
    "check_refund_case(item_price_total_gross, shipment_price_total_gross, gift_wrap_price_total_gross)"
   ]
  },
  {
   "cell_type": "code",
   "execution_count": 124,
   "metadata": {},
   "outputs": [],
   "source": [
    "i = 1\n",
    "from datetime import datetime"
   ]
  },
  {
   "cell_type": "code",
   "execution_count": 125,
   "metadata": {},
   "outputs": [],
   "source": []
  },
  {
   "cell_type": "code",
   "execution_count": 157,
   "metadata": {},
   "outputs": [],
   "source": [
    "class Calculation:\n",
    "    def __init__(self):\n",
    "        self.amazon_vat_calculation_service: bool = TransactionService.check_amazon_vat_calculation_service(input.check_tax_calculation_date)\n",
    "\n",
    "        self.account: Account = PlatformService.get_by_public_id_channel_code(input.account_public_id, input.channel_code)\n",
    "        self.item: Item = ItemService.get_by_sku_account_date(input.item_sku, account, input.tax_date)\n",
    "        self.bundle: Bundle = TransactionService.get_bundle_by_account_item__date(account, item, input.transaction_public_id)\n",
    "        self.transaction_type: TransactionType = get_transaction_type_by_public_code_account(input.transaction_type_public_code, account)\n",
    "\n",
    "        !!!!! #customer_type = CustomerService.get_type_by_vatin_date(vat_number=input.customer_vat_number, date=input.tax_date, !!!!! )\n",
    "\n",
    "        self.arrival_country: Country = CountryService.get_by_code(input.arrival_country_code)\n",
    "        self.departure_country: Country = CountryService.get_by_code(input.departure_country_code)\n",
    "        self.eu: EU = CountryService.get_eu_by_date(input.tax_date) #EU\n",
    "\n",
    "        self.tax_treatment_code: str = TaxRateService.define_tax_treatment_code(account, input.check_export, eu, customer_type, departure_country, arrival_country, amazon_vat_calculation_service, input.check_item_price_tax_rate_rate)\n",
    "\n",
    "        self.tax_juristdiction: Country = TransactionService.define_tax_jurisdiction(tax_treatment_code, departure_country, arrival_country)\n",
    "        self.item_tax_code_code: str = TransactionService.get_item_tax_code_code(item, input.check_item_tax_code_code)\n",
    "\n",
    "        self.item_price_tax_rate_rate, gift_wrap_tax_rate_rate, shipment_price_tax_rate_rate = TransactionService.get_tax_rate_rates(tax_jurisdiction, tax_treatment_code, item_tax_code_code, input.tax_date)\n",
    "\n",
    "        self.item_price_net: float = TransactionService.get_price_net(input.item_price_gross, item_price_tax_rate_rate)\n",
    "        self.item_price_discount_net: float = TransactionService.get_price_net(input.item_price_discount_gross, item_price_tax_rate_rate)\n",
    "        self.item_price_total_net: float = TransactionService.get_price_net(input.item_price_total_gross, item_price_tax_rate_rate)\n",
    "\n",
    "        self.shipment_price_net: float = TransactionService.get_price_net(input.shipment_price_gross, shipment_price_tax_rate_rate)\n",
    "        self.shipment_price_discount_net: float = TransactionService.get_price_net(input.shipment_price_discount_gross, shipment_price_tax_rate_rate)\n",
    "        self.shipment_price_total_net: float = TransactionService.get_price_net(input.shipment_price_total_gross, shipment_price_tax_rate_rate)\n",
    "\n",
    "        self.gift_wrap_price_net: float = TransactionService.get_price_net(input.gift_wrap_price_gross, gift_wrap_price_tax_rate_rate)\n",
    "        self.gift_wrap_price_discount_net: float = TransactionService.get_price_net(input.gift_wrap_price_discount_gross, gift_wrap_price_tax_rate_rate)\n",
    "        self.gift_wrap_price_total_net: float = TransactionService.get_price_net(input.gift_wrap_price_total_gross, gift_wrap_price_tax_rate_rate)\n",
    "\n",
    "        self.item_price_vat: float = TransactionService.get_price_vat(input.item_price_gross, item_price_tax_rate_rate)\n",
    "        self.item_price_discount_vat: float = TransactionService.get_price_vat(input.item_price_discount_gross, item_price_tax_rate_rate)\n",
    "        self.item_price_total_vat: float = TransactionService.get_price_vat(input.item_price_total_gross, item_price_tax_rate_rate)\n",
    "\n",
    "        self.shipment_price_vat: float = TransactionService.get_price_vat(input.shipment_price_gross, shipment_price_tax_rate_rate)\n",
    "        self.shipment_price_discount_vat: float = TransactionService.get_price_vat(input.shipment_price_discount_gross, shipment_price_tax_rate_rate)\n",
    "        self.shipment_price_total_vat: float = TransactionService.get_price_vat(input.shipment_price_total_gross, shipment_price_tax_rate_rate)\n",
    "\n",
    "        self.gift_wrap_price_vat: float = TransactionService.get_price_vat(input.gift_wrap_price_gross, gift_wrap_price_tax_rate_rate)\n",
    "        self.gift_wrap_price_discount_vat: float = TransactionService.get_price_vat(input.gift_wrap_price_discount_gross, gift_wrap_price_tax_rate_rate)\n",
    "        self.gift_wrap_price_total_vat: float = TransactionService.get_price_vat(input.gift_wrap_price_total_gross, gift_wrap_price_tax_rate_rate)\n",
    "\n",
    "        self.total_value_net: float = TransactionService.get_total_value(item_price_total_net, shipment_price_total_net, gift_wrap_price_total_net)\n",
    "        self.total_value_vat: float = TransactionService.get_total_value(item_price_total_vat, shipment_price_total_vat, gift_wrap_price_total_vat)\n",
    "        self.total_value_gross: float = TransactionService.get_total_value(input.item_price_total_gross, input.shipment_price_total_gross, input.gift_wrap_price_total_gross)\n",
    "\n",
    "        self.invoice_currency_code: str = tax_juristdiction.currency_code\n",
    "\n",
    "        self.invoice_exchange_rate: float = get_invoice_exchange_rate(input.currency_code, invoice_currency_code, input.tax_date)\n",
    "\n",
    "        self.invoice_amount_net: float = TransactionService.get_invoice_amount(total_value_net, invoice_exchange_rate)\n",
    "        self.invoice_amount_vat: float = TransactionService.get_invoice_amount(total_value_vat, invoice_exchange_rate)\n",
    "        self.invoice_amount_gross: float = TransactionService.get_invoice_amount(total_value_gross, invoice_exchange_rate)\n",
    "\n",
    "        self.arrival_seller_vat_country_code: str = arrival_country.vat_country_code\n",
    "        self.departure_seller_vat_country_code: str = departure_country.vat_country_code\n",
    "        self.seller_vat_country_code: str = tax_juristdiction.vat_country_code"
   ]
  },
  {
   "cell_type": "code",
   "execution_count": 152,
   "metadata": {},
   "outputs": [],
   "source": [
    "inputs = []\n",
    "for i in range(len(df.index)):\n",
    "    inputs.append(Input(df, i))\n",
    "    "
   ]
  },
  {
   "cell_type": "code",
   "execution_count": 140,
   "metadata": {},
   "outputs": [
    {
     "data": {
      "text/plain": [
       "'A2SC0NLSYTA68B'"
      ]
     },
     "execution_count": 140,
     "metadata": {},
     "output_type": "execute_result"
    }
   ],
   "source": [
    "new_input.account_public_id"
   ]
  },
  {
   "cell_type": "code",
   "execution_count": 158,
   "metadata": {},
   "outputs": [],
   "source": [
    "input = Input(df, 210)"
   ]
  },
  {
   "cell_type": "code",
   "execution_count": 159,
   "metadata": {},
   "outputs": [
    {
     "data": {
      "text/plain": [
       "'GERMANY'"
      ]
     },
     "execution_count": 159,
     "metadata": {},
     "output_type": "execute_result"
    }
   ],
   "source": [
    "input.check_tax_jurisdiction"
   ]
  },
  {
   "cell_type": "code",
   "execution_count": 162,
   "metadata": {},
   "outputs": [
    {
     "name": "stdout",
     "output_type": "stream",
     "text": [
      "A2SC0NLSYTA68B\n",
      "A2SC0NLSYTA68B\n",
      "A2SC0NLSYTA68B\n",
      "A2SC0NLSYTA68B\n",
      "A2SC0NLSYTA68B\n",
      "A2SC0NLSYTA68B\n",
      "A2SC0NLSYTA68B\n",
      "A2SC0NLSYTA68B\n",
      "A2SC0NLSYTA68B\n",
      "A2SC0NLSYTA68B\n",
      "A2SC0NLSYTA68B\n",
      "A2SC0NLSYTA68B\n",
      "A2SC0NLSYTA68B\n",
      "A2SC0NLSYTA68B\n",
      "A2SC0NLSYTA68B\n",
      "A2SC0NLSYTA68B\n",
      "A2SC0NLSYTA68B\n",
      "A2SC0NLSYTA68B\n",
      "A2SC0NLSYTA68B\n",
      "A2SC0NLSYTA68B\n",
      "A2SC0NLSYTA68B\n",
      "A2SC0NLSYTA68B\n",
      "A2SC0NLSYTA68B\n",
      "A2SC0NLSYTA68B\n",
      "A2SC0NLSYTA68B\n",
      "A2SC0NLSYTA68B\n",
      "A2SC0NLSYTA68B\n",
      "A2SC0NLSYTA68B\n",
      "A2SC0NLSYTA68B\n"
     ]
    }
   ],
   "source": [
    "for i in range(190,219):\n",
    "    print(inputs[i].account_public_id)"
   ]
  },
  {
   "cell_type": "code",
   "execution_count": null,
   "metadata": {},
   "outputs": [],
   "source": []
  }
 ],
 "metadata": {
  "kernelspec": {
   "display_name": "Python 3",
   "language": "python",
   "name": "python3"
  },
  "language_info": {
   "codemirror_mode": {
    "name": "ipython",
    "version": 3
   },
   "file_extension": ".py",
   "mimetype": "text/x-python",
   "name": "python",
   "nbconvert_exporter": "python",
   "pygments_lexer": "ipython3",
   "version": "3.7.6"
  }
 },
 "nbformat": 4,
 "nbformat_minor": 4
}
