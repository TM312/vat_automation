{
 "cells": [
  {
   "cell_type": "code",
   "execution_count": 1,
   "metadata": {},
   "outputs": [],
   "source": [
    "from datetime import datetime, date, timedelta\n",
    "from uuid import UUID\n",
    "import os\n",
    "import more_itertools as mit\n",
    "from time import time\n",
    "\n",
    "from flask import Flask, session\n",
    "from flask_sqlalchemy import SQLAlchemy\n",
    "\n",
    "app = Flask(__name__)\n",
    "app.config[\"SQLALCHEMY_DATABASE_URI\"] = \"sqlite://\"\n",
    "app.config[\"SQLALCHEMY_TRACK_MODIFICATIONS\"] = False\n",
    "\n",
    "db = SQLAlchemy(app)\n"
   ]
  },
  {
   "cell_type": "code",
   "execution_count": 25,
   "metadata": {},
   "outputs": [],
   "source": [
    "import pandas as pd\n",
    "def read_file_path_into_df(file_path: str, df_encoding: str, delimiter: str) -> pd.DataFrame:\n",
    "    if os.path.isfile(file_path):\n",
    "        file_name = os.path.basename(file_path)\n",
    "        try:\n",
    "            if file_name.lower().endswith('.csv'):\n",
    "                df_raw = pd.read_csv(file_path, encoding=df_encoding, delimiter=delimiter)\n",
    "                df = df_raw.dropna(how='all')\n",
    "            else:\n",
    "                raise UnsupportedMediaType(\n",
    "                    'File extension invalid (file: {}).'.format(file_name))\n",
    "            return df\n",
    "        except:\n",
    "            print('Case \"Read File Path: Cannot read file\"', flush=True)\n",
    "\n",
    "            raise UnsupportedMediaType(\n",
    "                'Cannot read file {}.'.format(file_name))\n",
    "\n",
    "    else:\n",
    "        raise  # !!! (not a file)\n"
   ]
  },
  {
   "cell_type": "code",
   "execution_count": 57,
   "metadata": {},
   "outputs": [
    {
     "name": "stdout",
     "output_type": "stream",
     "text": [
      "\n",
      "  seller_firm_public_id  valid_from  valid_to                  SKU  \\\n",
      "0                   NaN  01.06.2018       NaN  xtra-500 6 estuches   \n",
      "1                   NaN  01.06.2018       NaN             36010 x1   \n",
      "2                   NaN  01.06.2018       NaN            1-10003-3   \n",
      "3                   NaN  01.06.2018       NaN            36010 x 2   \n",
      "4                   NaN  01.06.2018       NaN   130014 clipper gas   \n",
      "\n",
      "   brand_name  name  ean        asin  fnksu  weight_kg        tax_code  \\\n",
      "0         NaN   NaN  NaN  B00JFWG2T2    NaN        NaN  A_GEN_STANDARD   \n",
      "1         NaN   NaN  NaN  B0015QEIOM    NaN        NaN  A_GEN_STANDARD   \n",
      "2         NaN   NaN  NaN  B07L17FJVZ    NaN        NaN  A_GEN_STANDARD   \n",
      "3         NaN   NaN  NaN  B003YUZ6G6    NaN        NaN  A_GEN_STANDARD   \n",
      "4         NaN   NaN  NaN  B006YPVYGE    NaN        NaN  A_GEN_STANDARD   \n",
      "\n",
      "  unit_cost_price_currency_code unit_cost_price_net_  \n",
      "0                           EUR                12.5,  \n",
      "1                           EUR                 3.5,  \n",
      "2                           EUR                 3.8,  \n",
      "3                           EUR                   7,  \n",
      "4                           EUR                1.35,  \n"
     ]
    }
   ],
   "source": [
    "file_path_in = '/Users/tm/Projects/NTAMAZON/webapp/api/data/test/GOLDEN FIRE/item_information_filled.csv'\n",
    "df = read_file_path_into_df(file_path_in, df_encoding='utf-8', delimiter=';')\n",
    "df.columns = df.columns.str.strip()\n",
    "#df.columns = df.columns.str.strip(',')\n",
    "df.columns = df.columns.str.replace('(,$)|(^,)', '_', regex=True) \n",
    "#column_name_list = df.columns.tolist()\n",
    "\n",
    "#print('column_name_list:', column_name_list)\n",
    "print(\"\")\n",
    "print(df.head())"
   ]
  },
  {
   "cell_type": "code",
   "execution_count": 30,
   "metadata": {},
   "outputs": [
    {
     "name": "stdout",
     "output_type": "stream",
     "text": [
      "['seller_firm_public_id', 'valid_from', 'valid_to', 'SKU', 'brand_name', 'name', 'ean', 'asin', 'fnksu', 'weight_kg', 'tax_code', 'unit_cost_price_currency_code', 'unit_cost_price_net']\n"
     ]
    }
   ],
   "source": [
    "print(column_name_list)"
   ]
  },
  {
   "cell_type": "code",
   "execution_count": null,
   "metadata": {},
   "outputs": [],
   "source": []
  },
  {
   "cell_type": "code",
   "execution_count": null,
   "metadata": {},
   "outputs": [],
   "source": []
  },
  {
   "cell_type": "code",
   "execution_count": null,
   "metadata": {},
   "outputs": [],
   "source": []
  },
  {
   "cell_type": "code",
   "execution_count": null,
   "metadata": {},
   "outputs": [],
   "source": []
  },
  {
   "cell_type": "code",
   "execution_count": 2,
   "metadata": {},
   "outputs": [],
   "source": [
    "#https://stackoverflow.com/questions/18503096/python-integer-partitioning-with-given-k-partitions\n",
    "def part(n, k):\n",
    "    def memoize(f):\n",
    "        cache = [[[None] * n for j in range(k)] for i in range(n)]\n",
    "        def wrapper(n, k, pre):\n",
    "            if cache[n-1][k-1][pre-1] is None:\n",
    "                cache[n-1][k-1][pre-1] = f(n, k, pre)\n",
    "            return cache[n-1][k-1][pre-1]\n",
    "        return wrapper\n",
    "\n",
    "    @memoize\n",
    "    def _part(n, k, pre):\n",
    "        if n <= 0:\n",
    "            return []\n",
    "        if k == 1:\n",
    "            if n <= pre:\n",
    "                return [(n,)]\n",
    "            return []\n",
    "        ret = []\n",
    "        for i in range(min(pre, n), 0, -1):\n",
    "            ret += [(i,) + sub for sub in _part(n-i, k-1, i)]\n",
    "        return ret\n",
    "    return _part(n, k, n)"
   ]
  },
  {
   "cell_type": "code",
   "execution_count": 12,
   "metadata": {},
   "outputs": [],
   "source": [
    "liste1 = [0, 1, 2, 3, 4]\n",
    "liste2 = []\n",
    "for i in range(5):\n",
    "    if i>3:\n",
    "        liste2.append(i)\n",
    "    \n",
    "def add(i): \n",
    "    return i+i\n",
    "    \n",
    "liste3 = [add(i) for i in range(5)]\n"
   ]
  },
  {
   "cell_type": "code",
   "execution_count": 5,
   "metadata": {},
   "outputs": [
    {
     "name": "stdout",
     "output_type": "stream",
     "text": [
      "TM\n"
     ]
    }
   ],
   "source": [
    "full_name=\"Thomas moellers\"\n",
    "\n",
    "initials = ''.join(name[0].upper() for name in full_name.split())\n",
    "print(initials)"
   ]
  },
  {
   "cell_type": "code",
   "execution_count": 13,
   "metadata": {},
   "outputs": [
    {
     "name": "stdout",
     "output_type": "stream",
     "text": [
      "liste1:  [0, 1, 2, 3, 4]\n",
      "liste2:  [0, 1, 2, 3, 4]\n",
      "liste3:  [0, 2, 4, 6, 8]\n"
     ]
    }
   ],
   "source": [
    "print('liste1: ', liste1)\n",
    "print('liste2: ', liste2)\n",
    "print('liste3: ', liste3)\n"
   ]
  },
  {
   "cell_type": "code",
   "execution_count": null,
   "metadata": {},
   "outputs": [],
   "source": []
  },
  {
   "cell_type": "code",
   "execution_count": 3,
   "metadata": {},
   "outputs": [],
   "source": [
    "filtered = [i for i  in part(150, 6) if (min(i) >= 22 and max(i) <= 29)]\n"
   ]
  },
  {
   "cell_type": "code",
   "execution_count": 4,
   "metadata": {},
   "outputs": [
    {
     "name": "stdout",
     "output_type": "stream",
     "text": [
      "88\n",
      "(29, 29, 24, 23, 23, 22)\n"
     ]
    }
   ],
   "source": [
    "lower = 22\n",
    "upper = 29\n",
    "filtered = [i for i  in part(150, 6) if (min(i) >= lower and max(i) <= upper)]\n",
    "print(len(filtered))\n",
    "\n",
    "print(filtered[3])\n",
    "#print(len(list(mit.distinct_combinations(pupil_ids, 22))))"
   ]
  },
  {
   "cell_type": "code",
   "execution_count": 71,
   "metadata": {},
   "outputs": [],
   "source": [
    "from random import choice\n",
    "\n",
    "pupil_ids = [i for i in range(150)]\n",
    "\n",
    "def generate_set_partition(pupil_ids):\n",
    "    set_partition = []\n",
    "    partition_set_sizes = choice(filtered)\n",
    "    for r in partition_set_sizes:\n",
    "        group = mit.random_combination(pupil_ids, r)\n",
    "        set_partition.append(group)\n",
    "        pupil_ids = [p for p in pupil_ids if p not in group]\n",
    "    return set_partition\n",
    "    "
   ]
  },
  {
   "cell_type": "code",
   "execution_count": 6,
   "metadata": {},
   "outputs": [
    {
     "name": "stdout",
     "output_type": "stream",
     "text": [
      "[(2, 4, 23, 42, 43, 55, 64, 76, 78, 82, 85, 87, 91, 92, 95, 99, 103, 105, 107, 109, 117, 119, 122, 124, 125, 128), (6, 15, 19, 21, 28, 29, 30, 33, 38, 44, 49, 56, 66, 70, 80, 83, 89, 102, 108, 113, 116, 121, 127, 135, 139, 149), (0, 11, 12, 20, 31, 34, 35, 40, 47, 50, 62, 68, 69, 74, 75, 77, 84, 93, 104, 112, 131, 137, 141, 144, 148), (1, 3, 5, 10, 13, 14, 16, 17, 26, 32, 57, 58, 71, 79, 81, 94, 101, 106, 111, 114, 115, 123, 130, 136, 145), (7, 8, 22, 25, 27, 36, 39, 41, 48, 51, 52, 59, 60, 61, 65, 67, 72, 73, 96, 98, 118, 133, 134, 143, 146), (9, 18, 24, 37, 45, 46, 53, 54, 63, 86, 88, 90, 97, 100, 110, 120, 126, 129, 132, 138, 140, 142, 147)]\n"
     ]
    }
   ],
   "source": [
    "#set_partitions = [list(generate_set_partition(pupil_ids)) for i in range(10)]\n",
    "#print(len(set_partitions))\n",
    "#print(len(set_partitions[0]))\n",
    "#print(len(set_partitions[0][0]))\n",
    "#print(set_partitions[0][0])\n",
    "\n",
    "set_partition = generate_set_partition(pupil_ids)\n",
    "print(set_partition)\n"
   ]
  },
  {
   "cell_type": "code",
   "execution_count": null,
   "metadata": {},
   "outputs": [],
   "source": []
  },
  {
   "cell_type": "code",
   "execution_count": 91,
   "metadata": {},
   "outputs": [
    {
     "name": "stdout",
     "output_type": "stream",
     "text": [
      "50000\n",
      "0:00:18.954481\n"
     ]
    }
   ],
   "source": [
    "set_partitions = []\n",
    "start = datetime.utcnow()\n",
    "for i in range(50_000):\n",
    "    liste = generate_set_partition(pupil_ids)\n",
    "    set_partitions.append(liste)\n",
    "end=datetime.utcnow()\n",
    "print(len(set_partitions))\n",
    "duration = end - start\n",
    "print(duration)"
   ]
  },
  {
   "cell_type": "code",
   "execution_count": 92,
   "metadata": {},
   "outputs": [
    {
     "name": "stdout",
     "output_type": "stream",
     "text": [
      "50000\n",
      "Execution Time: 18.69187s\n"
     ]
    }
   ],
   "source": [
    "start = time()\n",
    "\n",
    "set_partitions = [generate_set_partition(pupil_ids) for i in range(50_000)]\n",
    "print(len(set_partitions))\n",
    "end = time()\n",
    "\n",
    "print(\"Execution Time: {:.5f}s\".format(end-start))"
   ]
  },
  {
   "cell_type": "code",
   "execution_count": 93,
   "metadata": {},
   "outputs": [],
   "source": [
    "from functools import partial\n",
    "from multiprocessing import Pool\n",
    "ROUNDS = list(range(50_000))\n",
    "#[i for i in range(50_000)]\n",
    "pupil_ids = [i for i in range(150)]\n",
    "\n",
    "\n",
    "def generate_set_partitions(ROUNDS, pupil_ids):\n",
    "    set_partitions_ind = []\n",
    "    for r in ROUNDS:\n",
    "        set_partitions_ind.append(generate_set_partition(pupil_ids))\n",
    "    return set_partitions_ind\n",
    "\n"
   ]
  },
  {
   "cell_type": "code",
   "execution_count": 96,
   "metadata": {},
   "outputs": [],
   "source": [
    "def main(i):\n",
    "    start = time()\n",
    "    with Pool(processes=i) as pool:\n",
    "        set_partitions = pool.map(partial(generate_set_partitions, pupil_ids=pupil_ids), (ROUNDS, )) # Returns a list of lists\n",
    "    # Flatten the list of lists\n",
    "    set_partitions = [set_partition for set_partitions_ind in set_partitions for set_partition in set_partitions_ind]\n",
    "    end = time()\n",
    "    print(\"processes: \", i, flush=True)\n",
    "    print(\"Execution Time: {:.5f}s\".format(end-start), flush=True)\n",
    "    print(\"\")\n"
   ]
  },
  {
   "cell_type": "code",
   "execution_count": 97,
   "metadata": {},
   "outputs": [
    {
     "data": {
      "text/plain": [
       "list"
      ]
     },
     "execution_count": 97,
     "metadata": {},
     "output_type": "execute_result"
    }
   ],
   "source": [
    "type(list(range(10)))"
   ]
  },
  {
   "cell_type": "code",
   "execution_count": null,
   "metadata": {},
   "outputs": [],
   "source": []
  },
  {
   "cell_type": "code",
   "execution_count": 98,
   "metadata": {},
   "outputs": [
    {
     "name": "stdout",
     "output_type": "stream",
     "text": [
      "processes:  5\n",
      "Execution Time: 19.73997s\n",
      "\n",
      "processes:  6\n",
      "Execution Time: 19.32955s\n",
      "\n",
      "processes:  7\n",
      "Execution Time: 19.41235s\n",
      "\n",
      "processes:  8\n",
      "Execution Time: 19.37404s\n",
      "\n"
     ]
    }
   ],
   "source": [
    "for i in [5, 6, 7, 8]:\n",
    "    main(i)"
   ]
  },
  {
   "cell_type": "code",
   "execution_count": null,
   "metadata": {},
   "outputs": [],
   "source": []
  },
  {
   "cell_type": "code",
   "execution_count": 41,
   "metadata": {},
   "outputs": [
    {
     "ename": "ValueError",
     "evalue": "Pool not running",
     "output_type": "error",
     "traceback": [
      "\u001b[0;31m---------------------------------------------------------------------------\u001b[0m",
      "\u001b[0;31mValueError\u001b[0m                                Traceback (most recent call last)",
      "\u001b[0;32m<ipython-input-41-64841c9bc085>\u001b[0m in \u001b[0;36m<module>\u001b[0;34m\u001b[0m\n\u001b[1;32m      1\u001b[0m \u001b[0mstart\u001b[0m \u001b[0;34m=\u001b[0m \u001b[0mtime\u001b[0m\u001b[0;34m(\u001b[0m\u001b[0;34m)\u001b[0m\u001b[0;34m\u001b[0m\u001b[0;34m\u001b[0m\u001b[0m\n\u001b[1;32m      2\u001b[0m \u001b[0;32mwith\u001b[0m \u001b[0mpool\u001b[0m\u001b[0;34m:\u001b[0m\u001b[0;34m\u001b[0m\u001b[0;34m\u001b[0m\u001b[0m\n\u001b[0;32m----> 3\u001b[0;31m     \u001b[0mset_partitions\u001b[0m \u001b[0;34m=\u001b[0m \u001b[0mpool\u001b[0m\u001b[0;34m.\u001b[0m\u001b[0mmap\u001b[0m\u001b[0;34m(\u001b[0m\u001b[0mgenerate_set_partitions\u001b[0m\u001b[0;34m,\u001b[0m \u001b[0;34m(\u001b[0m\u001b[0mROUNDS\u001b[0m\u001b[0;34m,\u001b[0m \u001b[0;34m)\u001b[0m\u001b[0;34m)\u001b[0m\u001b[0;34m\u001b[0m\u001b[0;34m\u001b[0m\u001b[0m\n\u001b[0m\u001b[1;32m      4\u001b[0m \u001b[0mprint\u001b[0m\u001b[0;34m(\u001b[0m\u001b[0mlen\u001b[0m\u001b[0;34m(\u001b[0m\u001b[0mset_partitions\u001b[0m\u001b[0;34m)\u001b[0m\u001b[0;34m)\u001b[0m\u001b[0;34m\u001b[0m\u001b[0;34m\u001b[0m\u001b[0m\n\u001b[1;32m      5\u001b[0m \u001b[0mend\u001b[0m \u001b[0;34m=\u001b[0m \u001b[0mtime\u001b[0m\u001b[0;34m(\u001b[0m\u001b[0;34m)\u001b[0m\u001b[0;34m\u001b[0m\u001b[0;34m\u001b[0m\u001b[0m\n",
      "\u001b[0;32m/usr/local/Cellar/python/3.7.6_1/Frameworks/Python.framework/Versions/3.7/lib/python3.7/multiprocessing/pool.py\u001b[0m in \u001b[0;36mmap\u001b[0;34m(self, func, iterable, chunksize)\u001b[0m\n\u001b[1;32m    266\u001b[0m         \u001b[0;32min\u001b[0m \u001b[0ma\u001b[0m \u001b[0mlist\u001b[0m \u001b[0mthat\u001b[0m \u001b[0;32mis\u001b[0m \u001b[0mreturned\u001b[0m\u001b[0;34m.\u001b[0m\u001b[0;34m\u001b[0m\u001b[0;34m\u001b[0m\u001b[0m\n\u001b[1;32m    267\u001b[0m         '''\n\u001b[0;32m--> 268\u001b[0;31m         \u001b[0;32mreturn\u001b[0m \u001b[0mself\u001b[0m\u001b[0;34m.\u001b[0m\u001b[0m_map_async\u001b[0m\u001b[0;34m(\u001b[0m\u001b[0mfunc\u001b[0m\u001b[0;34m,\u001b[0m \u001b[0miterable\u001b[0m\u001b[0;34m,\u001b[0m \u001b[0mmapstar\u001b[0m\u001b[0;34m,\u001b[0m \u001b[0mchunksize\u001b[0m\u001b[0;34m)\u001b[0m\u001b[0;34m.\u001b[0m\u001b[0mget\u001b[0m\u001b[0;34m(\u001b[0m\u001b[0;34m)\u001b[0m\u001b[0;34m\u001b[0m\u001b[0;34m\u001b[0m\u001b[0m\n\u001b[0m\u001b[1;32m    269\u001b[0m \u001b[0;34m\u001b[0m\u001b[0m\n\u001b[1;32m    270\u001b[0m     \u001b[0;32mdef\u001b[0m \u001b[0mstarmap\u001b[0m\u001b[0;34m(\u001b[0m\u001b[0mself\u001b[0m\u001b[0;34m,\u001b[0m \u001b[0mfunc\u001b[0m\u001b[0;34m,\u001b[0m \u001b[0miterable\u001b[0m\u001b[0;34m,\u001b[0m \u001b[0mchunksize\u001b[0m\u001b[0;34m=\u001b[0m\u001b[0;32mNone\u001b[0m\u001b[0;34m)\u001b[0m\u001b[0;34m:\u001b[0m\u001b[0;34m\u001b[0m\u001b[0;34m\u001b[0m\u001b[0m\n",
      "\u001b[0;32m/usr/local/Cellar/python/3.7.6_1/Frameworks/Python.framework/Versions/3.7/lib/python3.7/multiprocessing/pool.py\u001b[0m in \u001b[0;36m_map_async\u001b[0;34m(self, func, iterable, mapper, chunksize, callback, error_callback)\u001b[0m\n\u001b[1;32m    379\u001b[0m         '''\n\u001b[1;32m    380\u001b[0m         \u001b[0;32mif\u001b[0m \u001b[0mself\u001b[0m\u001b[0;34m.\u001b[0m\u001b[0m_state\u001b[0m \u001b[0;34m!=\u001b[0m \u001b[0mRUN\u001b[0m\u001b[0;34m:\u001b[0m\u001b[0;34m\u001b[0m\u001b[0;34m\u001b[0m\u001b[0m\n\u001b[0;32m--> 381\u001b[0;31m             \u001b[0;32mraise\u001b[0m \u001b[0mValueError\u001b[0m\u001b[0;34m(\u001b[0m\u001b[0;34m\"Pool not running\"\u001b[0m\u001b[0;34m)\u001b[0m\u001b[0;34m\u001b[0m\u001b[0;34m\u001b[0m\u001b[0m\n\u001b[0m\u001b[1;32m    382\u001b[0m         \u001b[0;32mif\u001b[0m \u001b[0;32mnot\u001b[0m \u001b[0mhasattr\u001b[0m\u001b[0;34m(\u001b[0m\u001b[0miterable\u001b[0m\u001b[0;34m,\u001b[0m \u001b[0;34m'__len__'\u001b[0m\u001b[0;34m)\u001b[0m\u001b[0;34m:\u001b[0m\u001b[0;34m\u001b[0m\u001b[0;34m\u001b[0m\u001b[0m\n\u001b[1;32m    383\u001b[0m             \u001b[0miterable\u001b[0m \u001b[0;34m=\u001b[0m \u001b[0mlist\u001b[0m\u001b[0;34m(\u001b[0m\u001b[0miterable\u001b[0m\u001b[0;34m)\u001b[0m\u001b[0;34m\u001b[0m\u001b[0;34m\u001b[0m\u001b[0m\n",
      "\u001b[0;31mValueError\u001b[0m: Pool not running"
     ]
    }
   ],
   "source": []
  },
  {
   "cell_type": "code",
   "execution_count": null,
   "metadata": {},
   "outputs": [],
   "source": []
  },
  {
   "cell_type": "code",
   "execution_count": 323,
   "metadata": {},
   "outputs": [],
   "source": [
    "#next(generate_set_partition(pupil_ids))"
   ]
  },
  {
   "cell_type": "code",
   "execution_count": 131,
   "metadata": {},
   "outputs": [
    {
     "name": "stdout",
     "output_type": "stream",
     "text": [
      "[0, 2, 3, 4, 5, 6, 7, 8, 10, 11, 12, 15, 16, 17, 18, 19]\n"
     ]
    }
   ],
   "source": [
    "pupil_ids =[e for e in pupil_ids if e not in combination]\n",
    "print(pupil_ids)"
   ]
  },
  {
   "cell_type": "code",
   "execution_count": null,
   "metadata": {},
   "outputs": [],
   "source": [
    "x = list(partition_min_max(20, 3, 3, 10 ))\n",
    "print(x)"
   ]
  },
  {
   "cell_type": "code",
   "execution_count": 60,
   "metadata": {},
   "outputs": [
    {
     "ename": "KeyboardInterrupt",
     "evalue": "",
     "output_type": "error",
     "traceback": [
      "\u001b[0;31m---------------------------------------------------------------------------\u001b[0m",
      "\u001b[0;31mKeyboardInterrupt\u001b[0m                         Traceback (most recent call last)",
      "\u001b[0;32m<ipython-input-60-ca1ccc36ecbc>\u001b[0m in \u001b[0;36m<module>\u001b[0;34m\u001b[0m\n\u001b[1;32m     10\u001b[0m \u001b[0;34m\u001b[0m\u001b[0m\n\u001b[1;32m     11\u001b[0m \u001b[0;32mfor\u001b[0m \u001b[0mi\u001b[0m\u001b[0;34m,\u001b[0m \u001b[0mset_partition\u001b[0m \u001b[0;32min\u001b[0m \u001b[0menumerate\u001b[0m\u001b[0;34m(\u001b[0m\u001b[0mmit\u001b[0m\u001b[0;34m.\u001b[0m\u001b[0mset_partitions\u001b[0m\u001b[0;34m(\u001b[0m\u001b[0mpupil_ids\u001b[0m\u001b[0;34m,\u001b[0m \u001b[0;36m6\u001b[0m\u001b[0;34m)\u001b[0m\u001b[0;34m)\u001b[0m\u001b[0;34m:\u001b[0m\u001b[0;34m\u001b[0m\u001b[0;34m\u001b[0m\u001b[0m\n\u001b[0;32m---> 12\u001b[0;31m     \u001b[0;32mif\u001b[0m \u001b[0;34m[\u001b[0m\u001b[0mlen\u001b[0m\u001b[0;34m(\u001b[0m\u001b[0mgroup\u001b[0m\u001b[0;34m)\u001b[0m \u001b[0;32mfor\u001b[0m \u001b[0mgroup\u001b[0m \u001b[0;32min\u001b[0m \u001b[0mset_partition\u001b[0m\u001b[0;34m]\u001b[0m \u001b[0;32min\u001b[0m \u001b[0mfiltered\u001b[0m\u001b[0;34m:\u001b[0m\u001b[0;34m\u001b[0m\u001b[0;34m\u001b[0m\u001b[0m\n\u001b[0m\u001b[1;32m     13\u001b[0m         \u001b[0mfiltered_list\u001b[0m\u001b[0;34m.\u001b[0m\u001b[0mappend\u001b[0m\u001b[0;34m(\u001b[0m\u001b[0mset_partition\u001b[0m\u001b[0;34m)\u001b[0m\u001b[0;34m\u001b[0m\u001b[0;34m\u001b[0m\u001b[0m\n\u001b[1;32m     14\u001b[0m \u001b[0;34m\u001b[0m\u001b[0m\n",
      "\u001b[0;32m<ipython-input-60-ca1ccc36ecbc>\u001b[0m in \u001b[0;36m<listcomp>\u001b[0;34m(.0)\u001b[0m\n\u001b[1;32m     10\u001b[0m \u001b[0;34m\u001b[0m\u001b[0m\n\u001b[1;32m     11\u001b[0m \u001b[0;32mfor\u001b[0m \u001b[0mi\u001b[0m\u001b[0;34m,\u001b[0m \u001b[0mset_partition\u001b[0m \u001b[0;32min\u001b[0m \u001b[0menumerate\u001b[0m\u001b[0;34m(\u001b[0m\u001b[0mmit\u001b[0m\u001b[0;34m.\u001b[0m\u001b[0mset_partitions\u001b[0m\u001b[0;34m(\u001b[0m\u001b[0mpupil_ids\u001b[0m\u001b[0;34m,\u001b[0m \u001b[0;36m6\u001b[0m\u001b[0;34m)\u001b[0m\u001b[0;34m)\u001b[0m\u001b[0;34m:\u001b[0m\u001b[0;34m\u001b[0m\u001b[0;34m\u001b[0m\u001b[0m\n\u001b[0;32m---> 12\u001b[0;31m     \u001b[0;32mif\u001b[0m \u001b[0;34m[\u001b[0m\u001b[0mlen\u001b[0m\u001b[0;34m(\u001b[0m\u001b[0mgroup\u001b[0m\u001b[0;34m)\u001b[0m \u001b[0;32mfor\u001b[0m \u001b[0mgroup\u001b[0m \u001b[0;32min\u001b[0m \u001b[0mset_partition\u001b[0m\u001b[0;34m]\u001b[0m \u001b[0;32min\u001b[0m \u001b[0mfiltered\u001b[0m\u001b[0;34m:\u001b[0m\u001b[0;34m\u001b[0m\u001b[0;34m\u001b[0m\u001b[0m\n\u001b[0m\u001b[1;32m     13\u001b[0m         \u001b[0mfiltered_list\u001b[0m\u001b[0;34m.\u001b[0m\u001b[0mappend\u001b[0m\u001b[0;34m(\u001b[0m\u001b[0mset_partition\u001b[0m\u001b[0;34m)\u001b[0m\u001b[0;34m\u001b[0m\u001b[0;34m\u001b[0m\u001b[0m\n\u001b[1;32m     14\u001b[0m \u001b[0;34m\u001b[0m\u001b[0m\n",
      "\u001b[0;31mKeyboardInterrupt\u001b[0m: "
     ]
    }
   ],
   "source": [
    "import more_itertools as mit\n",
    "\n",
    "supported_currencies = ['GBP', 'CZK', 'PLN', 'EUR']\n",
    "\n",
    "pupil_ids = [i for i in range(150)]\n",
    "\n",
    "filtered_list = []\n",
    "lower_bound = 22\n",
    "upper_bound = 29\n",
    "\n",
    "for i, set_partition in enumerate(mit.set_partitions(pupil_ids, 6)):\n",
    "    if [len(group) for group in set_partition] in filtered:\n",
    "        filtered_list.append(set_partition)\n",
    "\n",
    "    if len(filtered_list) == 4: break\n",
    "\n",
    "for i, setp in enumerate(filtered_list):\n",
    "    print(i, filtered_list)\n",
    "    print(\"\")"
   ]
  },
  {
   "cell_type": "code",
   "execution_count": 16,
   "metadata": {},
   "outputs": [
    {
     "data": {
      "text/plain": [
       "1"
      ]
     },
     "execution_count": 16,
     "metadata": {},
     "output_type": "execute_result"
    }
   ],
   "source": [
    "def memoize(func):\n",
    "    S = {}\n",
    "    def wrappingfunction(*args):\n",
    "        if args not in S:\n",
    "            S[args] = func(*args)\n",
    "        return S[args]\n",
    "    return wrappingfunction\n",
    "\n",
    "\n",
    "@memoize\n",
    "def stirling(n,k):\n",
    "    n1=n\n",
    "    k1=k\n",
    "    if n<=0:\n",
    "        return 1\n",
    "     \n",
    "    elif k<=0:\n",
    "        return 0\n",
    "     \n",
    "    elif (n==0 and k==0):\n",
    "        return -1\n",
    "     \n",
    "    elif n!=0 and n==k:\n",
    "        return 1\n",
    "     \n",
    "    elif n<k:\n",
    "        return 0\n",
    " \n",
    "    else:\n",
    "        temp1=stirling(n1-1,k1)\n",
    "        temp1=k1*temp1\n",
    "        return (k1*(stirling(n1-1,k1)))+stirling(n1-1,k1-1)\n",
    " \n",
    "S = stirling(4,2)\n",
    "\n",
    "len(str(S))"
   ]
  },
  {
   "cell_type": "code",
   "execution_count": 23,
   "metadata": {},
   "outputs": [
    {
     "name": "stdout",
     "output_type": "stream",
     "text": [
      "{'Name': 'Zara', 'Age': 7}\n",
      "{'Sex': 'female'}\n",
      "Value : {'Name': 'Zara', 'Age': 7, 'Sex': 'female'}\n",
      "{'name': 'Afghanistan', 'code': 'AF'}\n",
      "{'valid_from': datetime.date(2018, 6, 1), 'valid_to': datetime.date(2099, 12, 31)}\n",
      "Value : {'name': 'Afghanistan', 'code': 'AF', 'valid_from': datetime.date(2018, 6, 1), 'valid_to': datetime.date(2099, 12, 31)}\n"
     ]
    }
   ],
   "source": [
    "dicts = {'Name': 'Zara', 'Age': 7}\n",
    "dict2 = {'Sex': 'female' }\n",
    "\n",
    "print(dicts)\n",
    "print(dict2)\n",
    "dicts.update(dict2)\n",
    "print(\"Value : %s\" %  dicts)\n",
    "\n",
    "file = '/Users/tm/Projects/NTAMAZON/webapp_data/seeds/countries.csv'\n",
    "TAX_DEFAULT_VALIDITY = datetime.strptime('31-12-2099', '%d-%m-%Y').date()\n",
    "SERVICE_START_DATE = datetime.strptime('01-06-2018', '%d-%m-%Y').date()\n",
    "df = pd.read_csv(file)\n",
    "countries_pre = [ {k:v for k,v in m.items() if pd.notnull(v)} for m in df.to_dict(orient='rows')]\n",
    "\n",
    "\n",
    "dict1 = countries_pre[0]\n",
    "dict3 = { 'valid_from': SERVICE_START_DATE, 'valid_to': TAX_DEFAULT_VALIDITY }\n",
    "print(dict1)\n",
    "print(dict3)\n",
    "dict1.update(dict3)\n",
    "print(\"Value : %s\" %  dict1)\n",
    "\n"
   ]
  },
  {
   "cell_type": "code",
   "execution_count": 27,
   "metadata": {},
   "outputs": [],
   "source": [
    "import pandas as pd\n",
    "from datetime import datetime, date\n",
    "def seed_countries():\n",
    "        file = '/Users/tm/Projects/NTAMAZON/webapp_data/seeds/countries.csv'\n",
    "\n",
    "        TAX_DEFAULT_VALIDITY = datetime.strptime('31-12-2099', '%d-%m-%Y').date()\n",
    "\n",
    "        SERVICE_START_DATE = datetime.strptime('01-06-2018', '%d-%m-%Y').date()\n",
    "\n",
    "        df = pd.read_csv(file)\n",
    "        # https://stackoverflow.com/questions/26033301/make-pandas-dataframe-to-a-dict-and-dropna\n",
    "        countries = []\n",
    "        countries_pre = [ {k:v for k,v in m.items() if pd.notnull(v)} for m in df.to_dict(orient='rows')]\n",
    "        countries_validity = { 'valid_from': SERVICE_START_DATE, 'valid_to': TAX_DEFAULT_VALIDITY }\n",
    "        for country in countries_pre:\n",
    "            country.update(countries_validity)\n",
    "            countries.append(country)\n",
    "        return countries\n",
    "\n"
   ]
  },
  {
   "cell_type": "code",
   "execution_count": 2,
   "metadata": {},
   "outputs": [],
   "source": [
    "class Money(db.Model):\n",
    "    id = db.Column(db.Integer, primary_key=True)\n",
    "    value = db.Column(db.Numeric(scale=2))\n",
    "    \n",
    "db.create_all() \n",
    "\n",
    "m1 = Money(value=3.30)\n",
    "m2 = Money(value=3.35)\n",
    "m3 = Money(value=1.20)\n",
    "m4 = Money(value=15.3035)\n",
    "\n",
    "db.session.add(m1)\n",
    "db.session.add(m2)\n",
    "db.session.add(m3)\n",
    "db.session.add(m4)\n",
    "\n",
    "db.session.commit()"
   ]
  },
  {
   "cell_type": "code",
   "execution_count": 37,
   "metadata": {},
   "outputs": [
    {
     "name": "stdout",
     "output_type": "stream",
     "text": [
      "[0, 1, 2, 3, 4, 5, 6, 7, 8, 9, 10, 11, 12, 13, 14, 15, 16, 17, 18, 19]\n"
     ]
    }
   ],
   "source": [
    "integer  = 1\n",
    "floats = 1.1\n",
    "string = ' Hallo '\n",
    "liste = [0, 1, 2, 3, 4, 5, 6, 7,8, 9, 10, 11, 12, 13, 14, 15, 16, 17, 18, 19]\n",
    "print(liste)"
   ]
  },
  {
   "cell_type": "code",
   "execution_count": 43,
   "metadata": {},
   "outputs": [
    {
     "name": "stdout",
     "output_type": "stream",
     "text": [
      "[0, 1, 2, 3, 4, 5, 6, 7, 8, 9, 10, 11, 12, 13, 14, 15, 16, 17, 18, 19]\n"
     ]
    }
   ],
   "source": [
    "liste = []\n",
    "for counter in range(20):\n",
    "    liste.append(counter)\n",
    "print(liste)"
   ]
  },
  {
   "cell_type": "code",
   "execution_count": 42,
   "metadata": {},
   "outputs": [
    {
     "name": "stdout",
     "output_type": "stream",
     "text": [
      "[0, 1, 2, 3, 4, 5, 6, 7, 8, 9, 10, 11, 12, 13, 14, 15, 16, 17, 18, 19]\n"
     ]
    }
   ],
   "source": [
    "liste = [counter for counter in range(20)]\n",
    "print(liste)"
   ]
  },
  {
   "cell_type": "code",
   "execution_count": 3,
   "metadata": {},
   "outputs": [
    {
     "name": "stderr",
     "output_type": "stream",
     "text": [
      "/usr/local/lib/python3.7/site-packages/sqlalchemy/sql/sqltypes.py:666: SAWarning: Dialect sqlite+pysqlite does *not* support Decimal objects natively, and SQLAlchemy must convert from floating point - rounding errors and other issues may occur. Please consider storing Decimal numbers as strings or integers on this platform for lossless storage.\n",
      "  \"storage.\" % (dialect.name, dialect.driver)\n"
     ]
    },
    {
     "data": {
      "text/plain": [
       "Decimal('3.30')"
      ]
     },
     "execution_count": 3,
     "metadata": {},
     "output_type": "execute_result"
    }
   ],
   "source": [
    "Money.query.filter_by(id=1).first().value"
   ]
  },
  {
   "cell_type": "code",
   "execution_count": 8,
   "metadata": {},
   "outputs": [
    {
     "data": {
      "text/plain": [
       "<generator object <genexpr> at 0x1104e67d0>"
      ]
     },
     "execution_count": 8,
     "metadata": {},
     "output_type": "execute_result"
    }
   ],
   "source": [
    "(i for i in range(20))"
   ]
  },
  {
   "cell_type": "code",
   "execution_count": 32,
   "metadata": {},
   "outputs": [
    {
     "name": "stdout",
     "output_type": "stream",
     "text": [
      "False\n",
      "203.016231\n",
      "23.1535\n"
     ]
    }
   ],
   "source": [
    "v1 = Money.query.filter_by(id=1).first().value\n",
    "v2 = Money.query.filter_by(id=2).first().value\n",
    "v3 = Money.query.filter_by(id=3).first().value\n",
    "v4 = Money.query.filter_by(id=4).first().value\n",
    "\n",
    "total = v1 * v2 * v3 * v4\n",
    "total2 = v1 + v2+ v3 +v4\n",
    "print(db.session.query(Money.query.filter_by(id=5).exists()).scalar())\n",
    "#print(Money.query.filter_by(id=1).exists().scalar())\n",
    "print(total)\n",
    "print(total2)"
   ]
  },
  {
   "cell_type": "code",
   "execution_count": 24,
   "metadata": {},
   "outputs": [
    {
     "ename": "IndexError",
     "evalue": "list index out of range",
     "output_type": "error",
     "traceback": [
      "\u001b[0;31m---------------------------------------------------------------------------\u001b[0m",
      "\u001b[0;31mIndexError\u001b[0m                                Traceback (most recent call last)",
      "\u001b[0;32m<ipython-input-24-dfa06a40f465>\u001b[0m in \u001b[0;36m<module>\u001b[0;34m\u001b[0m\n\u001b[1;32m     11\u001b[0m     \u001b[0mduration\u001b[0m \u001b[0;34m=\u001b[0m \u001b[0mtime_stop\u001b[0m \u001b[0;34m-\u001b[0m \u001b[0mtime_start\u001b[0m\u001b[0;34m\u001b[0m\u001b[0;34m\u001b[0m\u001b[0m\n\u001b[1;32m     12\u001b[0m     \u001b[0mrandom_integer\u001b[0m \u001b[0;34m=\u001b[0m \u001b[0mrandint\u001b[0m\u001b[0;34m(\u001b[0m\u001b[0;36m1\u001b[0m\u001b[0;34m,\u001b[0m \u001b[0mmax\u001b[0m\u001b[0;34m(\u001b[0m\u001b[0mint\u001b[0m\u001b[0;34m(\u001b[0m\u001b[0mlength\u001b[0m\u001b[0;34m*\u001b[0m\u001b[0;36m1000\u001b[0m\u001b[0;34m)\u001b[0m\u001b[0;34m-\u001b[0m\u001b[0;36m2\u001b[0m\u001b[0;34m,\u001b[0m \u001b[0;36m2\u001b[0m\u001b[0;34m)\u001b[0m\u001b[0;34m)\u001b[0m\u001b[0;34m\u001b[0m\u001b[0;34m\u001b[0m\u001b[0m\n\u001b[0;32m---> 13\u001b[0;31m     \u001b[0mprint\u001b[0m\u001b[0;34m(\u001b[0m\u001b[0;34m'i: {} - len_distinct_combinations: {} (in 1000) - duration: {} – examplary combination {}: {}'\u001b[0m\u001b[0;34m.\u001b[0m\u001b[0mformat\u001b[0m\u001b[0;34m(\u001b[0m\u001b[0mj\u001b[0m\u001b[0;34m,\u001b[0m \u001b[0mlength\u001b[0m\u001b[0;34m,\u001b[0m \u001b[0mstr\u001b[0m\u001b[0;34m(\u001b[0m\u001b[0mduration\u001b[0m\u001b[0;34m)\u001b[0m\u001b[0;34m,\u001b[0m \u001b[0mrandom_integer\u001b[0m\u001b[0;34m,\u001b[0m \u001b[0mdistinct_combinations\u001b[0m\u001b[0;34m[\u001b[0m\u001b[0mrandom_integer\u001b[0m\u001b[0;34m]\u001b[0m\u001b[0;34m)\u001b[0m\u001b[0;34m)\u001b[0m\u001b[0;34m\u001b[0m\u001b[0;34m\u001b[0m\u001b[0m\n\u001b[0m\u001b[1;32m     14\u001b[0m \u001b[0;34m\u001b[0m\u001b[0m\n\u001b[1;32m     15\u001b[0m \u001b[0;34m\u001b[0m\u001b[0m\n",
      "\u001b[0;31mIndexError\u001b[0m: list index out of range"
     ]
    }
   ],
   "source": [
    "from datetime import datetime\n",
    "import more_itertools as mit\n",
    "from random import randint \n",
    "\n",
    "for j in range(1, 5):\n",
    "    time_start = datetime.utcnow()\n",
    "    pupils = [i for i in range(j)]\n",
    "    distinct_combinations = list(mit.distinct_combinations(pupils, 2))\n",
    "    length = len(distinct_combinations)/1000\n",
    "    time_stop = datetime.utcnow()\n",
    "    duration = time_stop - time_start\n",
    "    random_integer = randint(1, max(int(length*1000)-2, 2))\n",
    "    print('i: {} - len_distinct_combinations: {} (in 1000) - duration: {} – examplary combination {}: {}'.format(j, length, str(duration), random_integer, distinct_combinations[random_integer]))\n",
    "\n",
    "\n",
    "\n",
    "\n"
   ]
  },
  {
   "cell_type": "code",
   "execution_count": 2,
   "metadata": {},
   "outputs": [],
   "source": [
    "class User(db.Model):\n",
    "    id = db.Column(db.Integer, primary_key=True)\n",
    "    name = db.Column(db.String(24))\n",
    "    \n",
    "db.create_all()"
   ]
  },
  {
   "cell_type": "code",
   "execution_count": 3,
   "metadata": {},
   "outputs": [],
   "source": [
    "u1 = User(name='Thomas')\n",
    "u2 = User(name='Caro')\n",
    "db.session.add(u1)\n",
    "db.session.add(u2)\n",
    "db.session.commit()"
   ]
  },
  {
   "cell_type": "code",
   "execution_count": 19,
   "metadata": {},
   "outputs": [
    {
     "name": "stdout",
     "output_type": "stream",
     "text": [
      "<class 'list'>\n"
     ]
    },
    {
     "data": {
      "text/plain": [
       "True"
      ]
     },
     "execution_count": 19,
     "metadata": {},
     "output_type": "execute_result"
    }
   ],
   "source": [
    "a = User.query.filter_by(id=3).all()\n",
    "print(type(a))\n",
    "len(a) == 0"
   ]
  },
  {
   "cell_type": "code",
   "execution_count": 8,
   "metadata": {},
   "outputs": [],
   "source": [
    "User.query.filter_by(id=3).first()"
   ]
  },
  {
   "cell_type": "code",
   "execution_count": 9,
   "metadata": {},
   "outputs": [],
   "source": []
  },
  {
   "cell_type": "code",
   "execution_count": null,
   "metadata": {},
   "outputs": [],
   "source": []
  },
  {
   "cell_type": "code",
   "execution_count": 4,
   "metadata": {},
   "outputs": [],
   "source": [
    "db.drop_all()\n",
    "db.create_all()"
   ]
  },
  {
   "cell_type": "code",
   "execution_count": 2,
   "metadata": {},
   "outputs": [],
   "source": [
    "class Num(db.Model):\n",
    "    id = db.Column(db.Integer, primary_key=True)\n",
    "    price = db.Column(db.Numeric(scale=2))\n",
    "    \n",
    "    def __init__(self, **kwargs):\n",
    "        super().__init__(**kwargs)"
   ]
  },
  {
   "cell_type": "code",
   "execution_count": 4,
   "metadata": {},
   "outputs": [],
   "source": [
    "a = 1\n",
    "b = 0.1\n",
    "c = 0.12\n",
    "d = 0.129\n",
    "\n",
    "\n",
    "p1 = Num(price=a)\n",
    "p2 = Num(price=b)\n",
    "p3 = Num(price=c)\n",
    "p4 = Num(price=d)\n",
    "\n",
    "db.session.add(p1)\n",
    "db.session.add(p2)\n",
    "db.session.add(p3)\n",
    "db.session.add(p4)\n",
    "db.session.commit()"
   ]
  },
  {
   "cell_type": "code",
   "execution_count": 3,
   "metadata": {},
   "outputs": [
    {
     "ename": "TypeError",
     "evalue": "'<' not supported between instances of 'NoneType' and 'datetime.date'",
     "output_type": "error",
     "traceback": [
      "\u001b[0;31m---------------------------------------------------------------------------\u001b[0m",
      "\u001b[0;31mTypeError\u001b[0m                                 Traceback (most recent call last)",
      "\u001b[0;32m<ipython-input-3-7c0bae0eb247>\u001b[0m in \u001b[0;36m<module>\u001b[0;34m\u001b[0m\n\u001b[0;32m----> 1\u001b[0;31m \u001b[0mmin\u001b[0m\u001b[0;34m(\u001b[0m\u001b[0mdate\u001b[0m\u001b[0;34m.\u001b[0m\u001b[0mtoday\u001b[0m\u001b[0;34m(\u001b[0m\u001b[0;34m)\u001b[0m\u001b[0;34m,\u001b[0m \u001b[0;32mNone\u001b[0m\u001b[0;34m)\u001b[0m\u001b[0;34m\u001b[0m\u001b[0;34m\u001b[0m\u001b[0m\n\u001b[0m",
      "\u001b[0;31mTypeError\u001b[0m: '<' not supported between instances of 'NoneType' and 'datetime.date'"
     ]
    }
   ],
   "source": [
    "min(date.today(), None)"
   ]
  },
  {
   "cell_type": "code",
   "execution_count": 12,
   "metadata": {},
   "outputs": [
    {
     "name": "stdout",
     "output_type": "stream",
     "text": [
      "True\n",
      "Fail\n",
      "Fail\n",
      "1\n",
      "Fail\n"
     ]
    }
   ],
   "source": [
    "def f(**kwargs):\n",
    "    if isinstance(kwargs.get('a'), float):\n",
    "        return a\n",
    "    else:\n",
    "        return 'Fail'\n",
    "\n",
    "\n",
    "print(1.0 == 1.00)\n",
    "    \n",
    "print(f(a=1))\n",
    "print(f(b=1))\n",
    "print(f(a=1.1))\n",
    "print(f(a='hi'))"
   ]
  },
  {
   "cell_type": "code",
   "execution_count": 12,
   "metadata": {},
   "outputs": [
    {
     "name": "stdout",
     "output_type": "stream",
     "text": [
      "template.csv\n",
      "template.csv\n",
      "template.csv\n"
     ]
    }
   ],
   "source": [
    "filenames = ['template', 'template.csv', 'template.']\n",
    "\n",
    "for endpoint in filenames: \n",
    "\n",
    "    filename = endpoint.split('.')[0] + '.csv'\n",
    "   \n",
    "    print(filename)\n",
    "\n"
   ]
  },
  {
   "cell_type": "code",
   "execution_count": 20,
   "metadata": {},
   "outputs": [],
   "source": [
    "def func(**kwargs):\n",
    "    return add(**kwargs)\n",
    "\n",
    "def add(**kwargs):\n",
    "    if 'a' in kwargs:\n",
    "        result = kwargs['a']\n",
    "    else:\n",
    "        result = 'b'\n",
    "    return result"
   ]
  },
  {
   "cell_type": "code",
   "execution_count": 16,
   "metadata": {},
   "outputs": [
    {
     "name": "stdout",
     "output_type": "stream",
     "text": [
      "[]\n"
     ]
    }
   ],
   "source": []
  },
  {
   "cell_type": "code",
   "execution_count": 5,
   "metadata": {},
   "outputs": [],
   "source": [
    "def read_item_list_upload_into_df(file):\n",
    "    try:\n",
    "        if file.is_file() and file.lower().endswith('.csv'):\n",
    "            df = pd.read_csv(file, encoding='latin-1')\n",
    "        else:\n",
    "            raise UnsupportedMediaType('File extension invalid (file: {}).'.format(file.name))\n",
    "        return df\n",
    "       \n",
    "    except:\n",
    "        if file.is_file():\n",
    "            raise UnsupportedMediaType('Cannot read file {}.'.format(file.names))\n",
    "        else:\n",
    "            raise UnsupportedMediaType('Cannot read file.')\n"
   ]
  },
  {
   "cell_type": "code",
   "execution_count": 6,
   "metadata": {},
   "outputs": [
    {
     "ename": "AttributeError",
     "evalue": "'str' object has no attribute 'is_file'",
     "output_type": "error",
     "traceback": [
      "\u001b[0;31m---------------------------------------------------------------------------\u001b[0m",
      "\u001b[0;31mAttributeError\u001b[0m                            Traceback (most recent call last)",
      "\u001b[0;32m<ipython-input-5-7435b927c16e>\u001b[0m in \u001b[0;36mread_item_list_upload_into_df\u001b[0;34m(file)\u001b[0m\n\u001b[1;32m      2\u001b[0m     \u001b[0;32mtry\u001b[0m\u001b[0;34m:\u001b[0m\u001b[0;34m\u001b[0m\u001b[0;34m\u001b[0m\u001b[0m\n\u001b[0;32m----> 3\u001b[0;31m         \u001b[0;32mif\u001b[0m \u001b[0mfile\u001b[0m\u001b[0;34m.\u001b[0m\u001b[0mis_file\u001b[0m\u001b[0;34m(\u001b[0m\u001b[0;34m)\u001b[0m \u001b[0;32mand\u001b[0m \u001b[0mfile\u001b[0m\u001b[0;34m.\u001b[0m\u001b[0mlower\u001b[0m\u001b[0;34m(\u001b[0m\u001b[0;34m)\u001b[0m\u001b[0;34m.\u001b[0m\u001b[0mendswith\u001b[0m\u001b[0;34m(\u001b[0m\u001b[0;34m'.csv'\u001b[0m\u001b[0;34m)\u001b[0m\u001b[0;34m:\u001b[0m\u001b[0;34m\u001b[0m\u001b[0;34m\u001b[0m\u001b[0m\n\u001b[0m\u001b[1;32m      4\u001b[0m             \u001b[0mdf\u001b[0m \u001b[0;34m=\u001b[0m \u001b[0mpd\u001b[0m\u001b[0;34m.\u001b[0m\u001b[0mread_csv\u001b[0m\u001b[0;34m(\u001b[0m\u001b[0mfile\u001b[0m\u001b[0;34m,\u001b[0m \u001b[0mencoding\u001b[0m\u001b[0;34m=\u001b[0m\u001b[0;34m'latin-1'\u001b[0m\u001b[0;34m)\u001b[0m\u001b[0;34m\u001b[0m\u001b[0;34m\u001b[0m\u001b[0m\n",
      "\u001b[0;31mAttributeError\u001b[0m: 'str' object has no attribute 'is_file'",
      "\nDuring handling of the above exception, another exception occurred:\n",
      "\u001b[0;31mAttributeError\u001b[0m                            Traceback (most recent call last)",
      "\u001b[0;32m<ipython-input-6-b3b8b2c49fb7>\u001b[0m in \u001b[0;36m<module>\u001b[0;34m\u001b[0m\n\u001b[0;32m----> 1\u001b[0;31m \u001b[0mdf\u001b[0m \u001b[0;34m=\u001b[0m \u001b[0mread_item_list_upload_into_df\u001b[0m\u001b[0;34m(\u001b[0m\u001b[0mfile\u001b[0m\u001b[0;34m)\u001b[0m\u001b[0;34m\u001b[0m\u001b[0;34m\u001b[0m\u001b[0m\n\u001b[0m",
      "\u001b[0;32m<ipython-input-5-7435b927c16e>\u001b[0m in \u001b[0;36mread_item_list_upload_into_df\u001b[0;34m(file)\u001b[0m\n\u001b[1;32m      8\u001b[0m \u001b[0;34m\u001b[0m\u001b[0m\n\u001b[1;32m      9\u001b[0m     \u001b[0;32mexcept\u001b[0m\u001b[0;34m:\u001b[0m\u001b[0;34m\u001b[0m\u001b[0;34m\u001b[0m\u001b[0m\n\u001b[0;32m---> 10\u001b[0;31m         \u001b[0;32mif\u001b[0m \u001b[0mfile\u001b[0m\u001b[0;34m.\u001b[0m\u001b[0mis_file\u001b[0m\u001b[0;34m(\u001b[0m\u001b[0;34m)\u001b[0m\u001b[0;34m:\u001b[0m\u001b[0;34m\u001b[0m\u001b[0;34m\u001b[0m\u001b[0m\n\u001b[0m\u001b[1;32m     11\u001b[0m             \u001b[0;32mraise\u001b[0m \u001b[0mUnsupportedMediaType\u001b[0m\u001b[0;34m(\u001b[0m\u001b[0;34m'Cannot read file {}.'\u001b[0m\u001b[0;34m.\u001b[0m\u001b[0mformat\u001b[0m\u001b[0;34m(\u001b[0m\u001b[0mfile\u001b[0m\u001b[0;34m.\u001b[0m\u001b[0mnames\u001b[0m\u001b[0;34m)\u001b[0m\u001b[0;34m)\u001b[0m\u001b[0;34m\u001b[0m\u001b[0;34m\u001b[0m\u001b[0m\n\u001b[1;32m     12\u001b[0m         \u001b[0;32melse\u001b[0m\u001b[0;34m:\u001b[0m\u001b[0;34m\u001b[0m\u001b[0;34m\u001b[0m\u001b[0m\n",
      "\u001b[0;31mAttributeError\u001b[0m: 'str' object has no attribute 'is_file'"
     ]
    }
   ],
   "source": [
    "df = read_item_list_upload_into_df(file)"
   ]
  },
  {
   "cell_type": "code",
   "execution_count": null,
   "metadata": {},
   "outputs": [],
   "source": [
    "df.head()"
   ]
  },
  {
   "cell_type": "code",
   "execution_count": 25,
   "metadata": {},
   "outputs": [
    {
     "data": {
      "text/plain": [
       "True"
      ]
     },
     "execution_count": 25,
     "metadata": {},
     "output_type": "execute_result"
    }
   ],
   "source": [
    "file_path = '/Users/tm/Projects/NTAMAZON/webapp_data/seller_firm/transaction_data/in/55462838340018328.csv'\n",
    "#os.path.isfile(file_path)\n",
    "file = os.path.basename(file_path)\n",
    "file.lower().endswith('.csv')"
   ]
  },
  {
   "cell_type": "code",
   "execution_count": 11,
   "metadata": {},
   "outputs": [
    {
     "name": "stdout",
     "output_type": "stream",
     "text": [
      ".DS_Store\n",
      "fake.py\n",
      "__init__.py\n",
      "__pycache__\n",
      "initial.py\n",
      "seeds\n",
      "seed_command.py\n"
     ]
    }
   ],
   "source": [
    "basepath_in = '/Users/tm/Projects/NTAMAZON/webapp/api/commands/'\n",
    "with os.scandir(basepath_in) as entries:\n",
    "    for entry in entries:\n",
    "        print(entry.name)\n"
   ]
  },
  {
   "cell_type": "code",
   "execution_count": 1,
   "metadata": {},
   "outputs": [
    {
     "data": {
      "text/plain": [
       "44"
      ]
     },
     "execution_count": 1,
     "metadata": {},
     "output_type": "execute_result"
    }
   ],
   "source": [
    "len('South Georgia and the South Sandwich Islands')"
   ]
  },
  {
   "cell_type": "code",
   "execution_count": 22,
   "metadata": {},
   "outputs": [
    {
     "name": "stdout",
     "output_type": "stream",
     "text": [
      "20200516_1349d829-30a8-4be6-b025-b3ff51cdb4c7_EXPORT_Thomas_M\n"
     ]
    }
   ],
   "source": [
    "today = date.today().strftime('%Y%m%d')\n",
    "import uuid\n",
    "str(today)\n",
    "\n",
    "today_as_str= str(date.today().strftime('%Y%m%d'))\n",
    "fullname = 'Thomas_M'\n",
    "seller_firm_public_id = uuid.uuid4()\n",
    "file_name = '{}_{}_EXPORT_{}'.format(today_as_str, seller_firm_public_id,fullname)\n",
    "print(file_name)"
   ]
  },
  {
   "cell_type": "code",
   "execution_count": 6,
   "metadata": {},
   "outputs": [
    {
     "name": "stderr",
     "output_type": "stream",
     "text": [
      "/usr/local/lib/python3.7/site-packages/sqlalchemy/orm/session.py:561: SAWarning: Session's state has been changed on a non-active transaction - this state will be discarded.\n",
      "  \"Session's state has been changed on \"\n"
     ]
    }
   ],
   "source": [
    "db.drop_all()\n",
    "db.session.rollback()"
   ]
  },
  {
   "cell_type": "code",
   "execution_count": 7,
   "metadata": {},
   "outputs": [],
   "source": [
    "db.create_all()"
   ]
  },
  {
   "cell_type": "code",
   "execution_count": 2,
   "metadata": {},
   "outputs": [],
   "source": [
    "tax_record_user_AT = db.Table(\n",
    "    'tax_record_user_AT',\n",
    "    db.Column('tax_record_id', db.Integer, db.ForeignKey('tax_record.id'), primary_key=True),\n",
    "    db.Column('user_name', db.String(32), db.ForeignKey('user.name'), primary_key=True)\n",
    "    )\n",
    "\n",
    "\n",
    "class TaxRecord(db.Model):\n",
    "    \"\"\" Tax Record model \"\"\"\n",
    "    __tablename__ = 'tax_record'\n",
    "\n",
    "    id = db.Column(db.Integer, primary_key=True)\n",
    "    created_by = db.Column(db.String(32), db.ForeignKey('user.name'), nullable=False)\n",
    "    downloaded_by_users = db.relationship('User', secondary=tax_record_user_AT, back_populates='downloaded_tax_records')\n",
    "\n",
    "    \n",
    "class User(db.Model):  # type: ignore\n",
    "    \"\"\" User model \"\"\"\n",
    "    __tablename__ = \"user\"\n",
    "\n",
    "    name = db.Column(db.String(32), primary_key=True)\n",
    "\n",
    "    created_tax_records = db.relationship('TaxRecord', backref='creator', lazy=True)\n",
    "    downloaded_tax_records = db.relationship('TaxRecord', secondary=tax_record_user_AT, back_populates=\"downloaded_by_users\")\n"
   ]
  },
  {
   "cell_type": "code",
   "execution_count": 8,
   "metadata": {},
   "outputs": [],
   "source": [
    "u1 = User(name = \"Thomas\")\n",
    "u2 = User(name = \"Caro\")\n",
    "u3 = User(name = \"Michi\")\n",
    "u4 = User(name = \"Mama\")\n",
    "\n",
    "tr1 = TaxRecord(created_by='Thomas')\n",
    "tr2 = TaxRecord(created_by='Caro')\n",
    "tr3 = TaxRecord(created_by='Caro')\n",
    "tr4 = TaxRecord(created_by='Michi')\n",
    "\n",
    "db.session.add(u1)\n",
    "db.session.add(u2)\n",
    "db.session.add(u3)\n",
    "db.session.add(u4)\n",
    "\n",
    "db.session.add(tr1)\n",
    "db.session.add(tr2)\n",
    "db.session.add(tr3)\n",
    "db.session.add(tr4)\n",
    "\n",
    "db.session.commit()\n",
    "\n",
    "tr1.downloaded_by_users.append(u1)\n",
    "tr1.downloaded_by_users.append(u2)\n",
    "tr1.downloaded_by_users.append(u3)\n",
    "tr1.downloaded_by_users.append(u4)\n",
    "\n",
    "db.session.commit()"
   ]
  },
  {
   "cell_type": "code",
   "execution_count": 9,
   "metadata": {},
   "outputs": [
    {
     "data": {
      "text/plain": [
       "[<TaxRecord 1>]"
      ]
     },
     "execution_count": 9,
     "metadata": {},
     "output_type": "execute_result"
    }
   ],
   "source": [
    "u1.downloaded_tax_records"
   ]
  },
  {
   "cell_type": "code",
   "execution_count": 11,
   "metadata": {},
   "outputs": [
    {
     "data": {
      "text/plain": [
       "<flask_sqlalchemy.BaseQuery at 0x106850150>"
      ]
     },
     "execution_count": 11,
     "metadata": {},
     "output_type": "execute_result"
    }
   ],
   "source": [
    "tax_records = TaxRecord.query.join(User.created_tax_records, aliased=True).filter_by(id=1).all()\n",
    "tax_records"
   ]
  },
  {
   "cell_type": "code",
   "execution_count": 16,
   "metadata": {},
   "outputs": [
    {
     "data": {
      "text/plain": [
       "[<TaxRecord 1>, <TaxRecord 2>]"
      ]
     },
     "execution_count": 16,
     "metadata": {},
     "output_type": "execute_result"
    }
   ],
   "source": [
    "tax_records = TaxRecord.query.filter_by(created_by=1).all()\n",
    "tax_records"
   ]
  },
  {
   "cell_type": "code",
   "execution_count": 21,
   "metadata": {},
   "outputs": [],
   "source": [
    "def get_all_by_user_id(u_id: int):\n",
    "        tax_records = TaxRecord.query.filter_by(created_by=u_id).all()\n",
    "        #tax_records = TaxRecord.query.filter(TaxRecord.created_by.has(User.id==u_id)).all()\n",
    "\n",
    "        \n",
    "        tax_record_list = [\n",
    "            {\n",
    "                'ID': str(tax_record.id),\n",
    "                'Created By': str(tax_record.creator.username)\n",
    "            }\n",
    "            for tax_record in tax_records\n",
    "        ]\n",
    "        return tax_records, tax_record_list"
   ]
  },
  {
   "cell_type": "code",
   "execution_count": 22,
   "metadata": {},
   "outputs": [],
   "source": [
    "tax_records, tax_record_list = get_all_by_user_id(1)"
   ]
  },
  {
   "cell_type": "code",
   "execution_count": 23,
   "metadata": {},
   "outputs": [
    {
     "data": {
      "text/plain": [
       "[<TaxRecord 1>, <TaxRecord 2>]"
      ]
     },
     "execution_count": 23,
     "metadata": {},
     "output_type": "execute_result"
    }
   ],
   "source": [
    "tax_records"
   ]
  },
  {
   "cell_type": "code",
   "execution_count": 24,
   "metadata": {},
   "outputs": [
    {
     "data": {
      "text/plain": [
       "[{'ID': '1', 'Created By': 'Thomas'}, {'ID': '2', 'Created By': 'Thomas'}]"
      ]
     },
     "execution_count": 24,
     "metadata": {},
     "output_type": "execute_result"
    }
   ],
   "source": [
    "tax_record_list"
   ]
  },
  {
   "cell_type": "code",
   "execution_count": null,
   "metadata": {},
   "outputs": [],
   "source": []
  },
  {
   "cell_type": "code",
   "execution_count": 3,
   "metadata": {},
   "outputs": [],
   "source": [
    "# for testing of many to many relationships\n",
    "association_table = db.Table(\n",
    "    'association_table',\n",
    "    db.Column('parent_code', db.Integer, db.ForeignKey('parent.code'), primary_key=True),\n",
    "    db.Column('child_code', db.Integer, db.ForeignKey('child.code'), primary_key=True)\n",
    "    )\n",
    "\n",
    "class Parent(db.Model):\n",
    "    __tablename__ = 'parent'\n",
    "    code = db.Column(db.String(4), primary_key=True)\n",
    "    children = db.relationship(\"Child\",\n",
    "                    secondary=association_table,\n",
    "                    back_populates=\"parents\")\n",
    "\n",
    "    \n",
    "class Child(db.Model):\n",
    "    __tablename__ = 'child'\n",
    "    code = db.Column(db.String(4), primary_key=True)\n",
    "    parents = db.relationship(\"Parent\",\n",
    "                    secondary=association_table,\n",
    "                    back_populates=\"children\")"
   ]
  },
  {
   "cell_type": "code",
   "execution_count": 5,
   "metadata": {},
   "outputs": [],
   "source": [
    "p1 = Parent(code=\"A\")\n",
    "p2 = Parent(code=\"B\")\n",
    "c1 = Child(code=\"A\")\n",
    "c2 = Child(code=\"B\")"
   ]
  },
  {
   "cell_type": "code",
   "execution_count": 6,
   "metadata": {},
   "outputs": [],
   "source": [
    "db.session.add(p1)\n",
    "db.session.add(p2)\n",
    "db.session.add(c1)\n",
    "db.session.add(c1)\n",
    "db.session.commit()"
   ]
  },
  {
   "cell_type": "code",
   "execution_count": 7,
   "metadata": {},
   "outputs": [],
   "source": [
    "p1.children.append(c1)\n",
    "p1.children.append(c2)\n",
    "c1.parents.append(p2)\n",
    "db.session.commit()"
   ]
  },
  {
   "cell_type": "code",
   "execution_count": 11,
   "metadata": {},
   "outputs": [
    {
     "data": {
      "text/plain": [
       "True"
      ]
     },
     "execution_count": 11,
     "metadata": {},
     "output_type": "execute_result"
    }
   ],
   "source": [
    "c1 in p1.children"
   ]
  },
  {
   "cell_type": "code",
   "execution_count": 8,
   "metadata": {},
   "outputs": [
    {
     "name": "stdout",
     "output_type": "stream",
     "text": [
      "i: 0 | item: list_b1\n",
      "i: 1 | item: list_b2\n",
      "i: 2 | item: list_b3\n"
     ]
    }
   ],
   "source": [
    "lista = ['list_b1', 'list_b2', 'list_b3']\n",
    "for i, item in enumerate(lista):\n",
    "    print('i: {} | item: {}'.format(i, item) )"
   ]
  },
  {
   "cell_type": "code",
   "execution_count": 12,
   "metadata": {},
   "outputs": [
    {
     "name": "stdout",
     "output_type": "stream",
     "text": [
      "[[{'status': 'success', 'message': 'validity has been added to the database.'}, {'status': 'fail', 'message': 'validity has not been added to the database.'}], [{'status': 'error', 'message': 'validity has been added to the database.'}, {'status': 'cool', 'message': 'validity has not been added to the database.'}]]\n",
      "\n",
      "[{'status': 'success', 'message': 'validity has been added to the database.'}, {'status': 'fail', 'message': 'validity has not been added to the database.'}, {'status': 'error', 'message': 'validity has been added to the database.'}, {'status': 'cool', 'message': 'validity has not been added to the database.'}]\n"
     ]
    }
   ],
   "source": [
    "response_objects_cum = []\n",
    "response_objects1 = []\n",
    "\n",
    "response_object11 = {\n",
    "    'status':'success',\n",
    "    'message': 'validity has been added to the database.'\n",
    "    }\n",
    "response_object12 = {\n",
    "    'status':'fail',\n",
    "    'message': 'validity has not been added to the database.'\n",
    "    }\n",
    "\n",
    "response_objects1.append(response_object11)\n",
    "response_objects1.append(response_object12)\n",
    "\n",
    "response_objects2 = []\n",
    "response_object21 = {\n",
    "    'status':'error',\n",
    "    'message': 'validity has been added to the database.'\n",
    "    }\n",
    "response_object22 = {\n",
    "    'status':'cool',\n",
    "    'message': 'validity has not been added to the database.'\n",
    "    }\n",
    "\n",
    "response_objects2.append(response_object21)\n",
    "response_objects2.append(response_object22)\n",
    "\n",
    "response_objects_cum.append(response_objects1)\n",
    "response_objects_cum.append(response_objects2)\n",
    "\n",
    "flat_response_objects = [response_object for response_objects in response_objects_cum for response_object in response_objects]\n",
    "\n",
    "print(response_objects_cum)\n",
    "print(\"\")\n",
    "print(flat_response_objects)\n"
   ]
  },
  {
   "cell_type": "code",
   "execution_count": null,
   "metadata": {},
   "outputs": [],
   "source": [
    "response_object1 = {\n",
    "    'status':'success',\n",
    "    'message': 'validity has been added to the database.'\n",
    "    }\n",
    "response_object2 = {\n",
    "    'status':'fail',\n",
    "    'message': 'validity has not been added to the database.'\n",
    "    }"
   ]
  },
  {
   "cell_type": "code",
   "execution_count": null,
   "metadata": {},
   "outputs": [],
   "source": []
  },
  {
   "cell_type": "code",
   "execution_count": null,
   "metadata": {},
   "outputs": [],
   "source": []
  },
  {
   "cell_type": "code",
   "execution_count": 13,
   "metadata": {},
   "outputs": [],
   "source": [
    "import pandas as pd\n",
    "#file = '/Users/tm/Projects/NTAMAZON/webapp/api/commands/tax_rates.csv'\n",
    "#file = '/Users/tm/Projects/NTAMAZON/webapp_data/templates/distance_sales.csv'\n",
    "transaction_report = '/Users/tm/Projects/NTAMAZON/webapp_data/seller_firm_data/transaction/in/55462838340018328.csv'\n",
    "df = pd.read_csv(transaction_report, encoding='utf-8')"
   ]
  },
  {
   "cell_type": "code",
   "execution_count": 14,
   "metadata": {},
   "outputs": [
    {
     "data": {
      "text/html": [
       "<div>\n",
       "<style scoped>\n",
       "    .dataframe tbody tr th:only-of-type {\n",
       "        vertical-align: middle;\n",
       "    }\n",
       "\n",
       "    .dataframe tbody tr th {\n",
       "        vertical-align: top;\n",
       "    }\n",
       "\n",
       "    .dataframe thead th {\n",
       "        text-align: right;\n",
       "    }\n",
       "</style>\n",
       "<table border=\"1\" class=\"dataframe\">\n",
       "  <thead>\n",
       "    <tr style=\"text-align: right;\">\n",
       "      <th></th>\n",
       "      <th>UNIQUE_ACCOUNT_IDENTIFIER</th>\n",
       "      <th>ACTIVITY_PERIOD</th>\n",
       "      <th>SALES_CHANNEL</th>\n",
       "      <th>MARKETPLACE</th>\n",
       "      <th>TRANSACTION_TYPE</th>\n",
       "      <th>TRANSACTION_EVENT_ID</th>\n",
       "      <th>ACTIVITY_TRANSACTION_ID</th>\n",
       "      <th>TAX_CALCULATION_DATE</th>\n",
       "      <th>TRANSACTION_DEPART_DATE</th>\n",
       "      <th>TRANSACTION_ARRIVAL_DATE</th>\n",
       "      <th>...</th>\n",
       "      <th>VAT_INV_CONVERTED_AMT</th>\n",
       "      <th>VAT_INV_CURRENCY_CODE</th>\n",
       "      <th>VAT_INV_EXCHANGE_RATE</th>\n",
       "      <th>VAT_INV_EXCHANGE_RATE_DATE</th>\n",
       "      <th>EXPORT_OUTSIDE_EU</th>\n",
       "      <th>INVOICE_URL</th>\n",
       "      <th>BUYER_NAME</th>\n",
       "      <th>ARRIVAL_ADDRESS</th>\n",
       "      <th>SUPPLIER_NAME</th>\n",
       "      <th>SUPPLIER_VAT_NUMBER</th>\n",
       "    </tr>\n",
       "  </thead>\n",
       "  <tbody>\n",
       "    <tr>\n",
       "      <th>0</th>\n",
       "      <td>A2UTOJEVH3PSRA</td>\n",
       "      <td>2020-FEB</td>\n",
       "      <td>AFN</td>\n",
       "      <td>amazon.es</td>\n",
       "      <td>SALE</td>\n",
       "      <td>406-4519657-8433903</td>\n",
       "      <td>DNZrvv3ss</td>\n",
       "      <td>29.02.20</td>\n",
       "      <td>29.02.20</td>\n",
       "      <td>NaN</td>\n",
       "      <td>...</td>\n",
       "      <td>NaN</td>\n",
       "      <td>NaN</td>\n",
       "      <td>NaN</td>\n",
       "      <td>NaN</td>\n",
       "      <td>NO</td>\n",
       "      <td>https://www.Amazon.es/gp/invoice/download.html...</td>\n",
       "      <td>NaN</td>\n",
       "      <td>NaN</td>\n",
       "      <td>NaN</td>\n",
       "      <td>NaN</td>\n",
       "    </tr>\n",
       "    <tr>\n",
       "      <th>1</th>\n",
       "      <td>A2UTOJEVH3PSRA</td>\n",
       "      <td>2020-FEB</td>\n",
       "      <td>AFN</td>\n",
       "      <td>amazon.es</td>\n",
       "      <td>SALE</td>\n",
       "      <td>408-2349041-7668310</td>\n",
       "      <td>DwtBQ03ms</td>\n",
       "      <td>29.02.20</td>\n",
       "      <td>29.02.20</td>\n",
       "      <td>NaN</td>\n",
       "      <td>...</td>\n",
       "      <td>NaN</td>\n",
       "      <td>NaN</td>\n",
       "      <td>NaN</td>\n",
       "      <td>NaN</td>\n",
       "      <td>NO</td>\n",
       "      <td>https://www.Amazon.es/gp/invoice/download.html...</td>\n",
       "      <td>NaN</td>\n",
       "      <td>NaN</td>\n",
       "      <td>NaN</td>\n",
       "      <td>NaN</td>\n",
       "    </tr>\n",
       "    <tr>\n",
       "      <th>2</th>\n",
       "      <td>A2UTOJEVH3PSRA</td>\n",
       "      <td>2020-FEB</td>\n",
       "      <td>AFN</td>\n",
       "      <td>amazon.es</td>\n",
       "      <td>SALE</td>\n",
       "      <td>408-1170503-4433923</td>\n",
       "      <td>DGfJcs3Zs</td>\n",
       "      <td>29.02.20</td>\n",
       "      <td>29.02.20</td>\n",
       "      <td>NaN</td>\n",
       "      <td>...</td>\n",
       "      <td>NaN</td>\n",
       "      <td>NaN</td>\n",
       "      <td>NaN</td>\n",
       "      <td>NaN</td>\n",
       "      <td>NO</td>\n",
       "      <td>https://www.Amazon.es/gp/invoice/download.html...</td>\n",
       "      <td>NaN</td>\n",
       "      <td>NaN</td>\n",
       "      <td>NaN</td>\n",
       "      <td>NaN</td>\n",
       "    </tr>\n",
       "    <tr>\n",
       "      <th>3</th>\n",
       "      <td>A2UTOJEVH3PSRA</td>\n",
       "      <td>2020-FEB</td>\n",
       "      <td>AFN</td>\n",
       "      <td>amazon.es</td>\n",
       "      <td>SALE</td>\n",
       "      <td>406-9580196-3347538</td>\n",
       "      <td>D1W9BjhMF</td>\n",
       "      <td>29.02.20</td>\n",
       "      <td>29.02.20</td>\n",
       "      <td>NaN</td>\n",
       "      <td>...</td>\n",
       "      <td>NaN</td>\n",
       "      <td>NaN</td>\n",
       "      <td>NaN</td>\n",
       "      <td>NaN</td>\n",
       "      <td>NO</td>\n",
       "      <td>https://www.Amazon.es/gp/invoice/download.html...</td>\n",
       "      <td>NaN</td>\n",
       "      <td>NaN</td>\n",
       "      <td>NaN</td>\n",
       "      <td>NaN</td>\n",
       "    </tr>\n",
       "    <tr>\n",
       "      <th>4</th>\n",
       "      <td>A2UTOJEVH3PSRA</td>\n",
       "      <td>2020-FEB</td>\n",
       "      <td>AFN</td>\n",
       "      <td>amazon.es</td>\n",
       "      <td>SALE</td>\n",
       "      <td>408-7155543-8767533</td>\n",
       "      <td>DXlTc1lFM</td>\n",
       "      <td>29.02.20</td>\n",
       "      <td>29.02.20</td>\n",
       "      <td>NaN</td>\n",
       "      <td>...</td>\n",
       "      <td>NaN</td>\n",
       "      <td>NaN</td>\n",
       "      <td>NaN</td>\n",
       "      <td>NaN</td>\n",
       "      <td>NO</td>\n",
       "      <td>https://www.Amazon.es/gp/invoice/download.html...</td>\n",
       "      <td>NaN</td>\n",
       "      <td>NaN</td>\n",
       "      <td>NaN</td>\n",
       "      <td>NaN</td>\n",
       "    </tr>\n",
       "  </tbody>\n",
       "</table>\n",
       "<p>5 rows × 92 columns</p>\n",
       "</div>"
      ],
      "text/plain": [
       "  UNIQUE_ACCOUNT_IDENTIFIER ACTIVITY_PERIOD SALES_CHANNEL MARKETPLACE  \\\n",
       "0            A2UTOJEVH3PSRA        2020-FEB           AFN   amazon.es   \n",
       "1            A2UTOJEVH3PSRA        2020-FEB           AFN   amazon.es   \n",
       "2            A2UTOJEVH3PSRA        2020-FEB           AFN   amazon.es   \n",
       "3            A2UTOJEVH3PSRA        2020-FEB           AFN   amazon.es   \n",
       "4            A2UTOJEVH3PSRA        2020-FEB           AFN   amazon.es   \n",
       "\n",
       "  TRANSACTION_TYPE TRANSACTION_EVENT_ID ACTIVITY_TRANSACTION_ID  \\\n",
       "0             SALE  406-4519657-8433903               DNZrvv3ss   \n",
       "1             SALE  408-2349041-7668310               DwtBQ03ms   \n",
       "2             SALE  408-1170503-4433923               DGfJcs3Zs   \n",
       "3             SALE  406-9580196-3347538               D1W9BjhMF   \n",
       "4             SALE  408-7155543-8767533               DXlTc1lFM   \n",
       "\n",
       "  TAX_CALCULATION_DATE TRANSACTION_DEPART_DATE TRANSACTION_ARRIVAL_DATE  ...  \\\n",
       "0             29.02.20                29.02.20                      NaN  ...   \n",
       "1             29.02.20                29.02.20                      NaN  ...   \n",
       "2             29.02.20                29.02.20                      NaN  ...   \n",
       "3             29.02.20                29.02.20                      NaN  ...   \n",
       "4             29.02.20                29.02.20                      NaN  ...   \n",
       "\n",
       "  VAT_INV_CONVERTED_AMT VAT_INV_CURRENCY_CODE VAT_INV_EXCHANGE_RATE  \\\n",
       "0                   NaN                   NaN                   NaN   \n",
       "1                   NaN                   NaN                   NaN   \n",
       "2                   NaN                   NaN                   NaN   \n",
       "3                   NaN                   NaN                   NaN   \n",
       "4                   NaN                   NaN                   NaN   \n",
       "\n",
       "  VAT_INV_EXCHANGE_RATE_DATE  EXPORT_OUTSIDE_EU  \\\n",
       "0                        NaN                 NO   \n",
       "1                        NaN                 NO   \n",
       "2                        NaN                 NO   \n",
       "3                        NaN                 NO   \n",
       "4                        NaN                 NO   \n",
       "\n",
       "                                         INVOICE_URL  BUYER_NAME  \\\n",
       "0  https://www.Amazon.es/gp/invoice/download.html...         NaN   \n",
       "1  https://www.Amazon.es/gp/invoice/download.html...         NaN   \n",
       "2  https://www.Amazon.es/gp/invoice/download.html...         NaN   \n",
       "3  https://www.Amazon.es/gp/invoice/download.html...         NaN   \n",
       "4  https://www.Amazon.es/gp/invoice/download.html...         NaN   \n",
       "\n",
       "   ARRIVAL_ADDRESS  SUPPLIER_NAME  SUPPLIER_VAT_NUMBER  \n",
       "0              NaN            NaN                  NaN  \n",
       "1              NaN            NaN                  NaN  \n",
       "2              NaN            NaN                  NaN  \n",
       "3              NaN            NaN                  NaN  \n",
       "4              NaN            NaN                  NaN  \n",
       "\n",
       "[5 rows x 92 columns]"
      ]
     },
     "execution_count": 14,
     "metadata": {},
     "output_type": "execute_result"
    }
   ],
   "source": [
    "df.head()"
   ]
  },
  {
   "cell_type": "code",
   "execution_count": 30,
   "metadata": {},
   "outputs": [],
   "source": [
    "\n",
    "from werkzeug.exceptions import UnsupportedMediaType\n",
    "\n",
    "class ExchangeRateCollection(db.Model):\n",
    "    \"\"\" ExchangeRates parent_model \"\"\"\n",
    "    __tablename__ = \"exchange_rate_collection\"\n",
    "    id = db.Column(db.Integer, primary_key=True)\n",
    "    date = db.Column(db.Date, default=date.today)\n",
    "    created_on = db.Column(db.DateTime, default=datetime.utcnow)\n",
    "    exchange_rates_eur = db.relationship(\n",
    "        'ExchangeRatesEUR', backref='exchange_rate_collection', lazy=True)\n",
    "    exchange_rates_gbp = db.relationship(\n",
    "        'ExchangeRatesGBP', backref='exchange_rate_collection', lazy=True)\n",
    "    exchange_rates_czk = db.relationship(\n",
    "        'ExchangeRatesPLN', backref='exchange_rate_collection', lazy=True)\n",
    "    exchange_rates_pln = db.relationship(\n",
    "        'ExchangeRatesPLN', backref='exchange_rate_collection', lazy=True)\n",
    "\n",
    "\n",
    "    def __init__(self, **kwargs):\n",
    "        super(ExchangeRateCollection, self).__init__(**kwargs)\n",
    "\n",
    "    def __repr__(self):\n",
    "        return '<ExchangeRates: %r>' % self.date\n",
    "\n",
    "def get_date_or_None_incl_format(df, i: int, column: str, dstr_format:str, alternative_dstr_format) -> date or None:\n",
    "    if pd.isnull(df.iloc[i][column]):\n",
    "        return None\n",
    "    else:\n",
    "        try:\n",
    "            date = datetime.strptime(df.iloc[i][column], dstr_format).date()\n",
    "        except:\n",
    "            try:\n",
    "                date = datetime.strptime(\n",
    "                    df.iloc[i][column], alternative_dstr_format).date()\n",
    "            except:\n",
    "                raise UnsupportedMediaType('Can not read date format.')\n",
    "    return date\n",
    "\n",
    "\n",
    "def create_exchange_rate_collection(date: date) -> ExchangeRateCollection:\n",
    "    exchange_rate_collection = ExchangeRateCollection.query.filter_by(date=date).first()\n",
    "\n",
    "    if not exchange_rate_collection:\n",
    "        #create new exchange_rate_collection based on TaxAuditor model\n",
    "        new_exchange_rate_collection = ExchangeRateCollection(\n",
    "            date=date,\n",
    "            created_on=datetime.utcnow()\n",
    "        )\n",
    "\n",
    "        #add exchange_rate_collection to db\n",
    "        db.session.add(new_exchange_rate_collection)\n",
    "        db.session.commit()\n",
    "\n",
    "        return new_exchange_rate_collection"
   ]
  },
  {
   "cell_type": "code",
   "execution_count": 45,
   "metadata": {},
   "outputs": [
    {
     "name": "stdout",
     "output_type": "stream",
     "text": [
      "2020-05-04 1.0 0.8789799999999999 27.119 4.5668\n",
      "\n",
      "2020-04-30 1.0 0.86905 27.096999999999998 4.5336\n",
      "\n",
      "2020-04-29 1.0 0.8737799999999999 27.125 4.5442\n",
      "\n"
     ]
    }
   ],
   "source": [
    "for row in range(3):\n",
    "    date = get_date_or_None_incl_format(df, i=row, column='Date', dstr_format='%Y-%m-%d', alternative_dstr_format='%Y.%m.%d')\n",
    "    if not date:\n",
    "        print(error)\n",
    "    else:      \n",
    "        source='ECB'\n",
    "        created_on=datetime.utcnow()\n",
    "        date=date\n",
    "        #exchange_rate_collection_id=exchange_rate_collection.id,\n",
    "        eur=1.0000\n",
    "        gbp=float(df.iloc[row]['GBP'])\n",
    "        czk=float(df.iloc[row]['CZK'])\n",
    "        pln=float(df.iloc[row]['PLN'])\n",
    "        \n",
    "        print(date, eur, gbp, czk, pln)\n",
    "        #print(type(date), type(eur), type(gbp), type(czk), type(pln))\n",
    "        print(\"\")"
   ]
  },
  {
   "cell_type": "code",
   "execution_count": 73,
   "metadata": {},
   "outputs": [],
   "source": [
    "from os import path\n",
    "BASE_PATH_SEEDS = '/Users/tm/Projects/NTAMAZON/webapp/api/commands/seeds/static_data/'\n",
    "file = 'countries.csv'\n",
    "\n",
    "dirpath = path.join(\n",
    "    BASE_PATH_SEEDS,\n",
    "    file)\n",
    "\n",
    "\n",
    "df = pd.read_csv(dirpath)\n",
    "countries = df.to_dict('records')"
   ]
  },
  {
   "cell_type": "code",
   "execution_count": null,
   "metadata": {},
   "outputs": [],
   "source": []
  },
  {
   "cell_type": "code",
   "execution_count": 33,
   "metadata": {},
   "outputs": [
    {
     "data": {
      "text/plain": [
       "datetime.date(2020, 5, 6)"
      ]
     },
     "execution_count": 33,
     "metadata": {},
     "output_type": "execute_result"
    }
   ],
   "source": [
    "date.today()"
   ]
  },
  {
   "cell_type": "code",
   "execution_count": null,
   "metadata": {},
   "outputs": [],
   "source": []
  },
  {
   "cell_type": "code",
   "execution_count": null,
   "metadata": {},
   "outputs": [],
   "source": []
  },
  {
   "cell_type": "code",
   "execution_count": 1,
   "metadata": {},
   "outputs": [
    {
     "name": "stdout",
     "output_type": "stream",
     "text": [
      "6\n"
     ]
    }
   ],
   "source": [
    "things_list = {\n",
    "    'currencies': [0, 1],\n",
    "    'countries': [0, 2],\n",
    "    'tax_codes': [0, 3],\n",
    "    'tax_rate_types': [0, 4],\n",
    "    'tax_rates': [0, 5],\n",
    "    'transaction_types': [0, 6],\n",
    "}\n",
    "print(len(things_list.items()))"
   ]
  },
  {
   "cell_type": "code",
   "execution_count": 191,
   "metadata": {},
   "outputs": [
    {
     "name": "stdout",
     "output_type": "stream",
     "text": [
      "<class 'str'> 0 1\n",
      "<class 'str'> 0 2\n",
      "<class 'str'> 0 3\n",
      "<class 'str'> 0 4\n",
      "<class 'str'> 0 5\n",
      "<class 'str'> 0 6\n"
     ]
    }
   ],
   "source": [
    "for key, val in things_list.items():\n",
    "    print(type(key), val[0], val[1])"
   ]
  },
  {
   "cell_type": "code",
   "execution_count": 56,
   "metadata": {},
   "outputs": [],
   "source": [
    "df1 = df.loc[df['country_code'] == 'AT'].loc[df['tax_rate_type_code'] == 'S'].iloc[0]['rate']"
   ]
  },
  {
   "cell_type": "code",
   "execution_count": 59,
   "metadata": {},
   "outputs": [
    {
     "data": {
      "text/plain": [
       "0.2"
      ]
     },
     "execution_count": 59,
     "metadata": {},
     "output_type": "execute_result"
    }
   ],
   "source": [
    "float(df1)"
   ]
  },
  {
   "cell_type": "code",
   "execution_count": 150,
   "metadata": {},
   "outputs": [
    {
     "data": {
      "text/html": [
       "<div>\n",
       "<style scoped>\n",
       "    .dataframe tbody tr th:only-of-type {\n",
       "        vertical-align: middle;\n",
       "    }\n",
       "\n",
       "    .dataframe tbody tr th {\n",
       "        vertical-align: top;\n",
       "    }\n",
       "\n",
       "    .dataframe thead th {\n",
       "        text-align: right;\n",
       "    }\n",
       "</style>\n",
       "<table border=\"1\" class=\"dataframe\">\n",
       "  <thead>\n",
       "    <tr style=\"text-align: right;\">\n",
       "      <th></th>\n",
       "      <th>tax_code</th>\n",
       "      <th>AT</th>\n",
       "      <th>BE</th>\n",
       "      <th>BG</th>\n",
       "      <th>HR</th>\n",
       "      <th>CY</th>\n",
       "      <th>CZ</th>\n",
       "      <th>DK</th>\n",
       "      <th>EE</th>\n",
       "      <th>FI</th>\n",
       "      <th>...</th>\n",
       "      <th>MT</th>\n",
       "      <th>NL</th>\n",
       "      <th>PL</th>\n",
       "      <th>PT</th>\n",
       "      <th>RO</th>\n",
       "      <th>SK</th>\n",
       "      <th>SI</th>\n",
       "      <th>ES</th>\n",
       "      <th>SE</th>\n",
       "      <th>GB</th>\n",
       "    </tr>\n",
       "  </thead>\n",
       "  <tbody>\n",
       "    <tr>\n",
       "      <th>0</th>\n",
       "      <td>A_GEN_STANDARD</td>\n",
       "      <td>S</td>\n",
       "      <td>S</td>\n",
       "      <td>S</td>\n",
       "      <td>S</td>\n",
       "      <td>S</td>\n",
       "      <td>S</td>\n",
       "      <td>S</td>\n",
       "      <td>S</td>\n",
       "      <td>S</td>\n",
       "      <td>...</td>\n",
       "      <td>S</td>\n",
       "      <td>S</td>\n",
       "      <td>S</td>\n",
       "      <td>S</td>\n",
       "      <td>S</td>\n",
       "      <td>S</td>\n",
       "      <td>S</td>\n",
       "      <td>S</td>\n",
       "      <td>S</td>\n",
       "      <td>S</td>\n",
       "    </tr>\n",
       "  </tbody>\n",
       "</table>\n",
       "<p>1 rows × 29 columns</p>\n",
       "</div>"
      ],
      "text/plain": [
       "         tax_code AT BE BG HR CY CZ DK EE FI  ... MT NL PL PT RO SK SI ES SE  \\\n",
       "0  A_GEN_STANDARD  S  S  S  S  S  S  S  S  S  ...  S  S  S  S  S  S  S  S  S   \n",
       "\n",
       "  GB  \n",
       "0  S  \n",
       "\n",
       "[1 rows x 29 columns]"
      ]
     },
     "execution_count": 150,
     "metadata": {},
     "output_type": "execute_result"
    }
   ],
   "source": [
    "df_rates = pd.read_csv(file_rates)\n",
    "df_types = pd.read_csv(file_types)\n",
    "\n",
    "\n",
    "df_types.loc[df_types['tax_code']=='A_GEN_STANDARD']"
   ]
  },
  {
   "cell_type": "code",
   "execution_count": 151,
   "metadata": {},
   "outputs": [
    {
     "data": {
      "text/plain": [
       "'A_GEN_STANDARD'"
      ]
     },
     "execution_count": 151,
     "metadata": {},
     "output_type": "execute_result"
    }
   ],
   "source": [
    "df_types.iloc[0]['tax_code']"
   ]
  },
  {
   "cell_type": "code",
   "execution_count": 179,
   "metadata": {},
   "outputs": [],
   "source": []
  },
  {
   "cell_type": "code",
   "execution_count": null,
   "metadata": {},
   "outputs": [],
   "source": []
  },
  {
   "cell_type": "code",
   "execution_count": 21,
   "metadata": {},
   "outputs": [
    {
     "name": "stdout",
     "output_type": "stream",
     "text": [
      "AT\n",
      "BE\n",
      "BG\n",
      "HR\n",
      "CY\n",
      "CZ\n",
      "DK\n",
      "EE\n",
      "FI\n",
      "FR\n",
      "DE\n",
      "GR\n",
      "HU\n",
      "IE\n",
      "IT\n",
      "LV\n",
      "LT\n",
      "LU\n",
      "MT\n",
      "NL\n",
      "PL\n",
      "PT\n",
      "RO\n",
      "SK\n",
      "SI\n",
      "ES\n",
      "SE\n",
      "GB\n"
     ]
    }
   ],
   "source": [
    "file_rates = '/Users/tm/Projects/NTAMAZON/webapp/api/commands/tax_rates.csv'\n",
    "file_types = '/Users/tm/Projects/NTAMAZON/webapp/api/commands/tax_rate_types.csv'\n",
    "\n",
    "df_rates = pd.read_csv(file_rates)\n",
    "df_types = pd.read_csv(file_types)\n",
    "\n",
    "\n",
    "\n",
    "def get_tax_rates(df_rates, df_types):\n",
    "    tax_rates = []\n",
    "\n",
    "    countries = ['AT', 'BE', 'BG', 'HR', 'CY', 'CZ', 'DK', 'EE', 'FI', 'FR', 'DE', 'GR', 'HU',\n",
    "                'IE', 'IT', 'LV', 'LT', 'LU', 'MT', 'NL', 'PL', 'PT', 'RO', 'SK', 'SI', 'ES', 'SE', 'GB']\n",
    "\n",
    "    for country in countries:\n",
    "        print(country)\n",
    "        for tax_code_row in range(len(df_types.index)):\n",
    "            tax_code = df_types.iloc[tax_code_row]['tax_code']\n",
    "            tax_rate_type_code = df_types.loc[df_types['tax_code'] == tax_code][country].iloc[0]\n",
    "            rate = df_rates.loc[df_rates['country_code'] == country].loc[df_rates['tax_rate_type_code'] == tax_rate_type_code].iloc[0]['rate']\n",
    "            \n",
    "            #print(country)\n",
    "            #print(tax_code)\n",
    "            #print(tax_rate_type)\n",
    "            #print(rate)\n",
    "\n",
    "            tax_rate = {\n",
    "                'valid_from': datetime.strptime('01-06-2018', '%d-%m-%Y').date(),\n",
    "                'country_code': country,\n",
    "                'tax_rate_type_code': tax_rate_type_code,\n",
    "                'rate': rate\n",
    "            }\n",
    "            tax_rates.append(tax_rate)\n",
    "\n",
    "    return tax_rates\n",
    "\n",
    "\n",
    "tax_rates = get_tax_rates(df_rates, df_types)\n",
    "\n"
   ]
  },
  {
   "cell_type": "code",
   "execution_count": 26,
   "metadata": {},
   "outputs": [
    {
     "ename": "NameError",
     "evalue": "name 'tax_rates' is not defined",
     "output_type": "error",
     "traceback": [
      "\u001b[0;31m---------------------------------------------------------------------------\u001b[0m",
      "\u001b[0;31mNameError\u001b[0m                                 Traceback (most recent call last)",
      "\u001b[0;32m<ipython-input-26-4a459cc6179a>\u001b[0m in \u001b[0;36m<module>\u001b[0;34m\u001b[0m\n\u001b[1;32m      1\u001b[0m \u001b[0;32mfor\u001b[0m \u001b[0mi\u001b[0m \u001b[0;32min\u001b[0m \u001b[0mrange\u001b[0m\u001b[0;34m(\u001b[0m\u001b[0;36m5\u001b[0m\u001b[0;34m)\u001b[0m\u001b[0;34m:\u001b[0m\u001b[0;34m\u001b[0m\u001b[0;34m\u001b[0m\u001b[0m\n\u001b[0;32m----> 2\u001b[0;31m     \u001b[0ma\u001b[0m \u001b[0;34m=\u001b[0m \u001b[0mtax_rates\u001b[0m\u001b[0;34m[\u001b[0m\u001b[0mi\u001b[0m\u001b[0;34m]\u001b[0m\u001b[0;34m\u001b[0m\u001b[0;34m\u001b[0m\u001b[0m\n\u001b[0m\u001b[1;32m      3\u001b[0m     \u001b[0mprint\u001b[0m\u001b[0;34m(\u001b[0m\u001b[0ma\u001b[0m\u001b[0;34m)\u001b[0m\u001b[0;34m\u001b[0m\u001b[0;34m\u001b[0m\u001b[0m\n\u001b[1;32m      4\u001b[0m \u001b[0;34m\u001b[0m\u001b[0m\n",
      "\u001b[0;31mNameError\u001b[0m: name 'tax_rates' is not defined"
     ]
    }
   ],
   "source": [
    "for i in range(5):\n",
    "    a = tax_rates[i]\n",
    "    print(a)\n",
    "    "
   ]
  },
  {
   "cell_type": "code",
   "execution_count": 104,
   "metadata": {},
   "outputs": [
    {
     "name": "stdout",
     "output_type": "stream",
     "text": [
      "['country_code' 'tax_rate_type_code' 'rate']\n",
      "['tax_code' 'AT' 'BE' 'BG' 'HR' 'CY' 'CZ' 'DK' 'EE' 'FI' 'FR' 'DE' 'GR'\n",
      " 'HU' 'IE' 'IT' 'LV' 'LT' 'LU' 'MT' 'NL' 'PL' 'PT' 'RO' 'SK' 'SI' 'ES'\n",
      " 'SE' 'GB']\n",
      "AT\n",
      "BE\n",
      "BG\n",
      "HR\n",
      "CY\n",
      "CZ\n",
      "DK\n",
      "EE\n",
      "FI\n",
      "FR\n",
      "DE\n",
      "GR\n",
      "HU\n",
      "IE\n",
      " IT\n",
      "LV\n",
      "LT\n",
      "LU\n",
      "MT\n",
      "NL\n",
      "PL\n",
      "PT\n",
      "RO\n",
      "SK\n",
      "SI\n",
      "ES\n",
      "SE\n",
      "GB\n"
     ]
    }
   ],
   "source": [
    "from datetime import datetime\n",
    "\n",
    "file_rates = '/Users/tm/Projects/NTAMAZON/webapp/api/commands/tax_rates.csv'\n",
    "df_rates = pd.read_csv(file_rates)\n",
    "print(df_rates.columns.values)\n",
    "file_types = '/Users/tm/Projects/NTAMAZON/webapp/api/commands/tax_rate_types.csv'\n",
    "df_types = pd.read_csv(file_types)\n",
    "print(df_types.columns.values)\n",
    "\n",
    "tax_rates = []\n",
    "\n",
    "countries = ['AT', 'BE', 'BG', 'HR', 'CY', 'CZ', 'DK', 'EE', 'FI', 'FR', 'DE', 'GR', 'HU', 'IE',' IT', 'LV', 'LT', 'LU', 'MT', 'NL', 'PL', 'PT', 'RO', 'SK', 'SI', 'ES', 'SE', 'GB']\n",
    "\n",
    "for country in countries:\n",
    "    print(country)\n",
    "    for tax_rate_code in range(len(df_types.index)):\n",
    "        tax_rate_type_code = df_types.iloc[tax_rate_code]['tax_code']\n",
    "        rate = df_rates.loc[df_rates['country_code'] == 'AT'].loc[df_rates['tax_rate_type_code'] == 'S'].iloc[0]['rate']\n",
    "\n",
    "        tax_rate = {\n",
    "            'valid_from': datetime.strptime('01-06-2018', '%d-%m-%Y').date(),\n",
    "            'country_code' : country,\n",
    "            'tax_rate_type_code': tax_rate_type_code,\n",
    "            'rate': rate\n",
    "        }\n",
    "        tax_rates.append(tax_rate)\n",
    "        \n",
    "\n"
   ]
  },
  {
   "cell_type": "code",
   "execution_count": 27,
   "metadata": {},
   "outputs": [],
   "source": [
    "#tax_rates"
   ]
  },
  {
   "cell_type": "code",
   "execution_count": 20,
   "metadata": {},
   "outputs": [
    {
     "name": "stderr",
     "output_type": "stream",
     "text": [
      "/usr/local/lib/python3.7/site-packages/sqlalchemy/orm/session.py:561: SAWarning: Session's state has been changed on a non-active transaction - this state will be discarded.\n",
      "  \"Session's state has been changed on \"\n"
     ]
    }
   ],
   "source": [
    "#df.to_dict('records')\n",
    "db.session.rollback()"
   ]
  },
  {
   "cell_type": "code",
   "execution_count": 16,
   "metadata": {},
   "outputs": [],
   "source": [
    "class Parent(db.Model):\n",
    "    id = db.Column(db.Integer, primary_key=True)\n",
    "    children = db.relationship('Child', backref='parent', lazy=True)\n",
    "    \n",
    "class Child(db.Model):\n",
    "    id = db.Column(db.Integer, primary_key=True)\n",
    "    parent_id = db.Column(db.String(4), db.ForeignKey('parent.id'), default=None)"
   ]
  },
  {
   "cell_type": "code",
   "execution_count": 21,
   "metadata": {},
   "outputs": [],
   "source": [
    "p1 = Parent()\n",
    "c1 = Child(parent_id=1)\n",
    "\n",
    "db.session.add(p1)\n",
    "db.session.add(c1)\n",
    "db.session.commit()"
   ]
  },
  {
   "cell_type": "code",
   "execution_count": 32,
   "metadata": {},
   "outputs": [
    {
     "data": {
      "text/plain": [
       "[{'code': 'A_GEN_STANDARD', 'description': 'Standard Rate'},\n",
       " {'code': 'A_BOOKS_GEN', 'description': 'Printed Books'},\n",
       " {'code': 'A_BOOK_ATLAS', 'description': 'Book of Maps or Charts'},\n",
       " {'code': 'A_BOOK_AUDIOBOOK',\n",
       "  'description': 'Audiobooks in the physical format'},\n",
       " {'code': 'A_BOOK_GLOBE', 'description': 'Spherical Map or Chart'},\n",
       " {'code': 'A_BOOK_MAGAZINE', 'description': 'Periodical Publication'},\n",
       " {'code': 'A_BOOK_MAP', 'description': 'Diagrammatic Area of Land or Sea'},\n",
       " {'code': 'A_BOOK_ADULT', 'description': 'Adult Coloring or Activity Book'},\n",
       " {'code': 'A_CLTH_BABY', 'description': 'General Baby Clothing'},\n",
       " {'code': 'A_CLTH_CHILD', 'description': \"General Children's Clothing\"},\n",
       " {'code': 'A_CLTH_PROTECTIVE',\n",
       "  'description': 'Protective Sport or Work Clothing'},\n",
       " {'code': 'A_FOOD_GEN', 'description': 'General Food Products'},\n",
       " {'code': 'A_FOOD_CAKEDECOR', 'description': 'Cake Decorating Foods'},\n",
       " {'code': 'A_FOOD_CANFRUIT', 'description': 'Canned Fruit and Vegetables'},\n",
       " {'code': 'A_FOOD_CEREALBARS', 'description': 'Cereal Bars'},\n",
       " {'code': 'A_FOOD_CEREALCHOCBARS', 'description': 'Chocolate Cereal Bars'},\n",
       " {'code': 'A_FOOD_CHOCEREAL', 'description': 'Chocolate Cereal'},\n",
       " {'code': 'A_FOOD_CNDY', 'description': 'Candy'},\n",
       " {'code': 'A_FOOD_COFFEE', 'description': 'Coffee'},\n",
       " {'code': 'A_FOOD_DAIRY', 'description': 'Milk and other Dairy Foods'},\n",
       " {'code': 'A_FOOD_DESSERT', 'description': 'Desserts Without Chocolate'},\n",
       " {'code': 'A_FOOD_DRIEDFRUIT', 'description': 'Dried Fruits and Vegetables'},\n",
       " {'code': 'A_FOOD_FLOUR', 'description': 'Flour'},\n",
       " {'code': 'A_FOOD_MEATCHICKEN', 'description': 'Chicken or Other Meats'},\n",
       " {'code': 'A_FOOD_MISCBEVERAGE',\n",
       "  'description': 'Carbonated Water or Other Non-Soda / Juice Drinks'},\n",
       " {'code': 'A_FOOD_NAAN', 'description': 'Naan'},\n",
       " {'code': 'A_FOOD_NCARBWTR', 'description': 'Non-Carbonated Water'},\n",
       " {'code': 'A_FOOD_OIL', 'description': 'Oils'},\n",
       " {'code': 'A_FOOD_PASTANOODLE', 'description': 'Pasta and Noodles'},\n",
       " {'code': 'A_FOOD_PASTRYCASE', 'description': 'Pastry'},\n",
       " {'code': 'A_FOOD_PLAINBISCUIT', 'description': 'Plain Biscuits'},\n",
       " {'code': 'A_FOOD_PLAINCRACKER', 'description': 'Plain Crackers'},\n",
       " {'code': 'A_FOOD_PLAINNUT', 'description': 'Plain Nuts'},\n",
       " {'code': 'A_FOOD_RICE', 'description': 'Rice'},\n",
       " {'code': 'A_FOOD_SEASONINGS',\n",
       "  'description': 'Salt, Pepper, and other Seasonings'},\n",
       " {'code': 'A_FOOD_SNACK', 'description': 'Non-chocolate Snacks and Treats'},\n",
       " {'code': 'A_FOOD_SODAJUICE', 'description': 'Sodas and Juices'},\n",
       " {'code': 'A_FOOD_SPREAD', 'description': 'Spreadable Food'},\n",
       " {'code': 'A_FOOD_SWEETNER', 'description': 'Sugar and other Sweeteners'},\n",
       " {'code': 'A_FOOD_TEA', 'description': 'Tea'},\n",
       " {'code': 'A_FOOD_VEGETABLE',\n",
       "  'description': 'Fresh or Frozen Fruits and Vegetables'},\n",
       " {'code': 'A_FOOD_PETFOOD', 'description': 'Food for Pets'},\n",
       " {'code': 'A_FOOD_ANIMALFOOD', 'description': 'Food for Farm Animals'},\n",
       " {'code': 'A_FOOD_ANIMALMED', 'description': 'Medicine for Farm Animals'},\n",
       " {'code': 'A_FOOD_ANIMALVITAMINS', 'description': 'Vitamins for Farm Animals'},\n",
       " {'code': 'A_HLTH_NUTRITIONBAR', 'description': 'Nutrition Bar'},\n",
       " {'code': 'A_HLTH_NUTRITIONDRINK', 'description': 'Nutrition Drink'},\n",
       " {'code': 'A_HLTH_PILLCAPSULETABLET', 'description': 'Pills and Capsules'},\n",
       " {'code': 'A_HLTH_SMOKINGCESSATION', 'description': 'Smoking Cessation Aids'},\n",
       " {'code': 'A_HLTH_SMOKINGGUM', 'description': 'Smoke Cessation Gum'},\n",
       " {'code': 'A_HLTH_VITAMINS', 'description': 'Vitamins and Minerals'},\n",
       " {'code': 'A_HPC_CONTRACEPTIVE',\n",
       "  'description': 'Condoms and other Contraceptive Aids'},\n",
       " {'code': 'A_HPC_DIETARYSUPPL', 'description': 'Dietary Supplements'},\n",
       " {'code': 'A_HPC_INCONTINENCE',\n",
       "  'description': 'Adult Diapers and Incontinence Aids'},\n",
       " {'code': 'A_HPC_MEDICINE', 'description': 'Other Medicines'},\n",
       " {'code': 'A_HPC_SANITARYPRODUCTS',\n",
       "  'description': 'Female Hygienic and Other Sanitary Products'},\n",
       " {'code': 'A_HPC_WALKINGSTICK',\n",
       "  'description': 'Walking Sticks and other Mobility Aids'},\n",
       " {'code': 'A_OUTDOOR_FERTILIZER', 'description': 'Plant Fertilizers'},\n",
       " {'code': 'A_OUTDOOR_LAWNCONTROL',\n",
       "  'description': 'Insecticides, Herbicides, and Fungicides'},\n",
       " {'code': 'A_OUTDOOR_PLANTFOOD', 'description': 'Plant Food'},\n",
       " {'code': 'A_OUTDOOR_PLANTS', 'description': 'Plants'},\n",
       " {'code': 'A_OUTDOOR_SEEDS', 'description': 'Plant seeds'},\n",
       " {'code': 'A_BABY_BIBCLOTH', 'description': 'Baby Bib Cloth'},\n",
       " {'code': 'A_BABY_CARSEAT', 'description': 'Car Seats for Baby and Children'},\n",
       " {'code': 'A_BABY_NAPPIES',\n",
       "  'description': \"Baby or Children's Nappy or Diaper\"},\n",
       " {'code': 'A_GEN_NOTAX', 'description': 'Outside the scope of VAT'}]"
      ]
     },
     "execution_count": 32,
     "metadata": {},
     "output_type": "execute_result"
    }
   ],
   "source": [
    "    file = '/Users/tm/Projects/NTAMAZON/webapp/api/commands/tax_codes.csv'\n",
    "    df = pd.read_csv(file)\n",
    "    df.to_dict('records')"
   ]
  },
  {
   "cell_type": "code",
   "execution_count": 25,
   "metadata": {},
   "outputs": [
    {
     "data": {
      "text/plain": [
       "'1'"
      ]
     },
     "execution_count": 25,
     "metadata": {},
     "output_type": "execute_result"
    }
   ],
   "source": [
    "p1.children"
   ]
  },
  {
   "cell_type": "code",
   "execution_count": 26,
   "metadata": {},
   "outputs": [],
   "source": [
    "import pandas as pd\n",
    "file = '/Users/tm/Projects/NTAMAZON/webapp/api/commands/eu.csv'\n",
    "\n",
    "df = pd.read_csv(file)\n",
    "\n",
    "eu = EU.query.filter_by(id=1).first()\n",
    "\n",
    "for row in range(len(df.index)):\n",
    "    if bool(df.iloc[row]['eu_1']):\n",
    "        country = Country.query.filter_by(code=df.iloc[row]['code']).first()\n",
    "        eu.append(country)"
   ]
  },
  {
   "cell_type": "code",
   "execution_count": 5,
   "metadata": {},
   "outputs": [],
   "source": [
    "#db.session.commit()"
   ]
  },
  {
   "cell_type": "code",
   "execution_count": 23,
   "metadata": {},
   "outputs": [],
   "source": [
    "def get_transaction_input_identifier_from_amazon_df(df, i: int):\n",
    "    try:\n",
    "        account_public_id = TransactionInputService.get_str(df, i, column='UNIQUE_ACCOUNT_IDENTIFIER').upper()\n",
    "        print(account_public_id)\n",
    "        channel_code = TransactionInputService.get_str(df, i, column='SALES_CHANNEL').upper() # str #-->PlatformService.retrieve_account()\n",
    "        print(channel_code)\n",
    "        transaction_public_id = TransactionInputService.get_str(df, i, column='TRANSACTION_EVENT_ID') # str #-->transaction\n",
    "        print(transaction_public_id)\n",
    "        transaction_activity_id = TransactionInputService.get_str(df, i, column='ACTIVITY_TRANSACTION_ID')  # str #-->transaction --> becomes shipment_id/return_id , etc.\n",
    "        print(transaction_activity_id)\n",
    "        \n",
    "        return account_public_id, channel_code, transaction_public_id, transaction_activity_id\n",
    "\n",
    "    except:\n",
    "        return None \n",
    "    \n",
    "    \n",
    "class TransactionInputService:\n",
    "    @staticmethod\n",
    "    def get_str(df, i:int, column:str) -> str:\n",
    "        try:\n",
    "            string = str(df.iloc[i][column])\n",
    "        except:\n",
    "            raise UnsupportedMediaType('Can not read date format.')\n",
    "        return string"
   ]
  },
  {
   "cell_type": "code",
   "execution_count": 8,
   "metadata": {},
   "outputs": [],
   "source": [
    "import pandas as pd"
   ]
  },
  {
   "cell_type": "code",
   "execution_count": 9,
   "metadata": {},
   "outputs": [],
   "source": [
    "df = pd.read_csv('/Users/tm/Downloads/Dummy_csv.csv', encoding='latin-1')"
   ]
  },
  {
   "cell_type": "code",
   "execution_count": 101,
   "metadata": {},
   "outputs": [],
   "source": [
    "df = pd.read_csv('/Users/tm/Downloads/Dummy_txt.txt', delimiter='\\t')"
   ]
  },
  {
   "cell_type": "code",
   "execution_count": 3,
   "metadata": {},
   "outputs": [
    {
     "data": {
      "text/plain": [
       "datetime.datetime(2020, 5, 4, 9, 55, 34, 721865)"
      ]
     },
     "execution_count": 3,
     "metadata": {},
     "output_type": "execute_result"
    }
   ],
   "source": [
    "datetime.utcnow()"
   ]
  },
  {
   "cell_type": "code",
   "execution_count": 22,
   "metadata": {},
   "outputs": [
    {
     "data": {
      "text/plain": [
       "'4776207619'"
      ]
     },
     "execution_count": 22,
     "metadata": {},
     "output_type": "execute_result"
    }
   ],
   "source": [
    "str(df.iloc[1]['TRANSACTION_EVENT_ID'])"
   ]
  },
  {
   "cell_type": "code",
   "execution_count": 5,
   "metadata": {},
   "outputs": [
    {
     "data": {
      "text/html": [
       "<div>\n",
       "<style scoped>\n",
       "    .dataframe tbody tr th:only-of-type {\n",
       "        vertical-align: middle;\n",
       "    }\n",
       "\n",
       "    .dataframe tbody tr th {\n",
       "        vertical-align: top;\n",
       "    }\n",
       "\n",
       "    .dataframe thead th {\n",
       "        text-align: right;\n",
       "    }\n",
       "</style>\n",
       "<table border=\"1\" class=\"dataframe\">\n",
       "  <thead>\n",
       "    <tr style=\"text-align: right;\">\n",
       "      <th></th>\n",
       "      <th>UNIQUE_ACCOUNT_IDENTIFIER</th>\n",
       "      <th>ACTIVITY_PERIOD</th>\n",
       "      <th>SALES_CHANNEL</th>\n",
       "      <th>MARKETPLACE</th>\n",
       "      <th>TRANSACTION_TYPE</th>\n",
       "      <th>TRANSACTION_EVENT_ID</th>\n",
       "      <th>ACTIVITY_TRANSACTION_ID</th>\n",
       "      <th>TAX_CALCULATION_DATE</th>\n",
       "      <th>TRANSACTION_DEPART_DATE</th>\n",
       "      <th>TRANSACTION_ARRIVAL_DATE</th>\n",
       "      <th>...</th>\n",
       "      <th>VAT_INV_CONVERTED_AMT</th>\n",
       "      <th>VAT_INV_CURRENCY_CODE</th>\n",
       "      <th>VAT_INV_EXCHANGE_RATE</th>\n",
       "      <th>VAT_INV_EXCHANGE_RATE_DATE</th>\n",
       "      <th>EXPORT_OUTSIDE_EU</th>\n",
       "      <th>INVOICE_URL</th>\n",
       "      <th>BUYER_NAME</th>\n",
       "      <th>ARRIVAL_ADDRESS</th>\n",
       "      <th>SUPPLIER_NAME</th>\n",
       "      <th>SUPPLIER_VAT_NUMBER</th>\n",
       "    </tr>\n",
       "  </thead>\n",
       "  <tbody>\n",
       "    <tr>\n",
       "      <th>0</th>\n",
       "      <td>A2SC0NLSYTA68B</td>\n",
       "      <td>2020-MAR</td>\n",
       "      <td>AFN</td>\n",
       "      <td>NaN</td>\n",
       "      <td>FC_TRANSFER</td>\n",
       "      <td>4738902045</td>\n",
       "      <td>4738902045</td>\n",
       "      <td>NaN</td>\n",
       "      <td>31.03.20</td>\n",
       "      <td>31.03.20</td>\n",
       "      <td>...</td>\n",
       "      <td>NaN</td>\n",
       "      <td>NaN</td>\n",
       "      <td>NaN</td>\n",
       "      <td>NaN</td>\n",
       "      <td>NaN</td>\n",
       "      <td>NaN</td>\n",
       "      <td>NaN</td>\n",
       "      <td>NaN</td>\n",
       "      <td>NaN</td>\n",
       "      <td>NaN</td>\n",
       "    </tr>\n",
       "    <tr>\n",
       "      <th>1</th>\n",
       "      <td>A2SC0NLSYTA68B</td>\n",
       "      <td>2020-MAR</td>\n",
       "      <td>AFN</td>\n",
       "      <td>NaN</td>\n",
       "      <td>FC_TRANSFER</td>\n",
       "      <td>4776207619</td>\n",
       "      <td>4776207619</td>\n",
       "      <td>NaN</td>\n",
       "      <td>30.03.20</td>\n",
       "      <td>31.03.20</td>\n",
       "      <td>...</td>\n",
       "      <td>NaN</td>\n",
       "      <td>NaN</td>\n",
       "      <td>NaN</td>\n",
       "      <td>NaN</td>\n",
       "      <td>NaN</td>\n",
       "      <td>NaN</td>\n",
       "      <td>NaN</td>\n",
       "      <td>NaN</td>\n",
       "      <td>NaN</td>\n",
       "      <td>NaN</td>\n",
       "    </tr>\n",
       "    <tr>\n",
       "      <th>2</th>\n",
       "      <td>A2SC0NLSYTA68B</td>\n",
       "      <td>2020-MAR</td>\n",
       "      <td>AFN</td>\n",
       "      <td>NaN</td>\n",
       "      <td>FC_TRANSFER</td>\n",
       "      <td>4701102862</td>\n",
       "      <td>4701102862</td>\n",
       "      <td>NaN</td>\n",
       "      <td>30.03.20</td>\n",
       "      <td>31.03.20</td>\n",
       "      <td>...</td>\n",
       "      <td>NaN</td>\n",
       "      <td>NaN</td>\n",
       "      <td>NaN</td>\n",
       "      <td>NaN</td>\n",
       "      <td>NaN</td>\n",
       "      <td>NaN</td>\n",
       "      <td>NaN</td>\n",
       "      <td>NaN</td>\n",
       "      <td>NaN</td>\n",
       "      <td>NaN</td>\n",
       "    </tr>\n",
       "    <tr>\n",
       "      <th>3</th>\n",
       "      <td>A2SC0NLSYTA68B</td>\n",
       "      <td>2020-MAR</td>\n",
       "      <td>AFN</td>\n",
       "      <td>NaN</td>\n",
       "      <td>FC_TRANSFER</td>\n",
       "      <td>4701201862</td>\n",
       "      <td>4701201862</td>\n",
       "      <td>NaN</td>\n",
       "      <td>31.03.20</td>\n",
       "      <td>31.03.20</td>\n",
       "      <td>...</td>\n",
       "      <td>NaN</td>\n",
       "      <td>NaN</td>\n",
       "      <td>NaN</td>\n",
       "      <td>NaN</td>\n",
       "      <td>NaN</td>\n",
       "      <td>NaN</td>\n",
       "      <td>NaN</td>\n",
       "      <td>NaN</td>\n",
       "      <td>NaN</td>\n",
       "      <td>NaN</td>\n",
       "    </tr>\n",
       "    <tr>\n",
       "      <th>4</th>\n",
       "      <td>A2SC0NLSYTA68B</td>\n",
       "      <td>2020-MAR</td>\n",
       "      <td>AFN</td>\n",
       "      <td>NaN</td>\n",
       "      <td>FC_TRANSFER</td>\n",
       "      <td>4701201862</td>\n",
       "      <td>4701201862</td>\n",
       "      <td>NaN</td>\n",
       "      <td>31.03.20</td>\n",
       "      <td>31.03.20</td>\n",
       "      <td>...</td>\n",
       "      <td>NaN</td>\n",
       "      <td>NaN</td>\n",
       "      <td>NaN</td>\n",
       "      <td>NaN</td>\n",
       "      <td>NaN</td>\n",
       "      <td>NaN</td>\n",
       "      <td>NaN</td>\n",
       "      <td>NaN</td>\n",
       "      <td>NaN</td>\n",
       "      <td>NaN</td>\n",
       "    </tr>\n",
       "  </tbody>\n",
       "</table>\n",
       "<p>5 rows × 92 columns</p>\n",
       "</div>"
      ],
      "text/plain": [
       "  UNIQUE_ACCOUNT_IDENTIFIER ACTIVITY_PERIOD SALES_CHANNEL MARKETPLACE  \\\n",
       "0            A2SC0NLSYTA68B        2020-MAR           AFN         NaN   \n",
       "1            A2SC0NLSYTA68B        2020-MAR           AFN         NaN   \n",
       "2            A2SC0NLSYTA68B        2020-MAR           AFN         NaN   \n",
       "3            A2SC0NLSYTA68B        2020-MAR           AFN         NaN   \n",
       "4            A2SC0NLSYTA68B        2020-MAR           AFN         NaN   \n",
       "\n",
       "  TRANSACTION_TYPE TRANSACTION_EVENT_ID ACTIVITY_TRANSACTION_ID  \\\n",
       "0      FC_TRANSFER           4738902045              4738902045   \n",
       "1      FC_TRANSFER           4776207619              4776207619   \n",
       "2      FC_TRANSFER           4701102862              4701102862   \n",
       "3      FC_TRANSFER           4701201862              4701201862   \n",
       "4      FC_TRANSFER           4701201862              4701201862   \n",
       "\n",
       "  TAX_CALCULATION_DATE TRANSACTION_DEPART_DATE TRANSACTION_ARRIVAL_DATE  ...  \\\n",
       "0                  NaN                31.03.20                 31.03.20  ...   \n",
       "1                  NaN                30.03.20                 31.03.20  ...   \n",
       "2                  NaN                30.03.20                 31.03.20  ...   \n",
       "3                  NaN                31.03.20                 31.03.20  ...   \n",
       "4                  NaN                31.03.20                 31.03.20  ...   \n",
       "\n",
       "  VAT_INV_CONVERTED_AMT VAT_INV_CURRENCY_CODE VAT_INV_EXCHANGE_RATE  \\\n",
       "0                   NaN                   NaN                   NaN   \n",
       "1                   NaN                   NaN                   NaN   \n",
       "2                   NaN                   NaN                   NaN   \n",
       "3                   NaN                   NaN                   NaN   \n",
       "4                   NaN                   NaN                   NaN   \n",
       "\n",
       "  VAT_INV_EXCHANGE_RATE_DATE  EXPORT_OUTSIDE_EU  INVOICE_URL  BUYER_NAME  \\\n",
       "0                        NaN                NaN          NaN         NaN   \n",
       "1                        NaN                NaN          NaN         NaN   \n",
       "2                        NaN                NaN          NaN         NaN   \n",
       "3                        NaN                NaN          NaN         NaN   \n",
       "4                        NaN                NaN          NaN         NaN   \n",
       "\n",
       "   ARRIVAL_ADDRESS  SUPPLIER_NAME  SUPPLIER_VAT_NUMBER  \n",
       "0              NaN            NaN                  NaN  \n",
       "1              NaN            NaN                  NaN  \n",
       "2              NaN            NaN                  NaN  \n",
       "3              NaN            NaN                  NaN  \n",
       "4              NaN            NaN                  NaN  \n",
       "\n",
       "[5 rows x 92 columns]"
      ]
     },
     "execution_count": 5,
     "metadata": {},
     "output_type": "execute_result"
    }
   ],
   "source": [
    "df.head()"
   ]
  },
  {
   "cell_type": "code",
   "execution_count": 6,
   "metadata": {},
   "outputs": [],
   "source": [
    "def get_date_or_None(df, i:int, column:str):\n",
    "    #date = datetime.strptime(df.iloc[i]['TRANSACTION_DEPART_DATE'], '%d-%m-%Y').date() if not pd.isnull(df.iloc[i]['TRANSACTION_DEPART_DATE']) else None\n",
    "    if pd.isnull(df.iloc[i][column]):\n",
    "        return None\n",
    "    else:\n",
    "        try:\n",
    "            date = datetime.strptime(df.iloc[i][column], '%d-%m-%Y').date()\n",
    "        except:\n",
    "            try:\n",
    "                date = datetime.strptime(df.iloc[i][column], '%d.%m.%y').date()\n",
    "            except:\n",
    "                date = datetime.strptime(df.iloc[i][column], '%d.%m.%Y').date()\n",
    "    return date\n",
    "\n",
    "#to_datetime('13000101', format='%Y%m%d', errors='ignore')"
   ]
  },
  {
   "cell_type": "code",
   "execution_count": 7,
   "metadata": {},
   "outputs": [],
   "source": [
    "def get_str_or_None(df, i:int, column:str):\n",
    "    if pd.isnull(df.iloc[i][column]):\n",
    "        return None\n",
    "    else:\n",
    "        try:\n",
    "            string = str(df.iloc[i][column])\n",
    "        except:\n",
    "            raise UnsupportedMediaType('Can not read date format.')\n",
    "\n",
    "    return string"
   ]
  },
  {
   "cell_type": "code",
   "execution_count": 9,
   "metadata": {},
   "outputs": [
    {
     "name": "stdout",
     "output_type": "stream",
     "text": [
      "None\n",
      "AFN\n",
      "AFN\n",
      "None\n",
      "AFN\n",
      "AFN\n",
      "None\n",
      "AFN\n",
      "AFN\n"
     ]
    }
   ],
   "source": [
    "for i in range(3):\n",
    "    check_tax_calculation_date = get_date_or_None(df, i, column='TAX_CALCULATION_DATE')\n",
    "    channel_code_upper = get_str_or_None(df, i, column='SALES_CHANNEL').upper()\n",
    "    channel_code = get_str_or_None(df, i, column='SALES_CHANNEL')\n",
    "    print(check_tax_calculation_date)\n",
    "    print(channel_code_upper)\n",
    "    print(channel_code)"
   ]
  },
  {
   "cell_type": "code",
   "execution_count": 10,
   "metadata": {},
   "outputs": [],
   "source": [
    "class Input:\n",
    "    def __init__(self,df, i):\n",
    "        self.account_public_id = get_str_or_None(df, i, column='UNIQUE_ACCOUNT_IDENTIFIER').upper()\n",
    "        self.public_activity_period = get_str_or_None(df, i, column='ACTIVITY_PERIOD').upper() # --> OUTPUT\n",
    "        self.channel_code = get_str_or_None(df, i, column='SALES_CHANNEL').upper() # str #-->PlatformService.retrieve_account()\n",
    "        self.marketplace_name = get_str_or_None(df, i, column='MARKETPLACE') # str #-->transaction\n",
    "        self.transaction_type_public_code = get_str_or_None(df, i, column='TRANSACTION_TYPE') #-->TransactionService.retrieve_transaction_type()\n",
    "        self.transaction_public_id = str(df.iloc[i]['TRANSACTION_EVENT_ID']) # str #-->transaction\n",
    "        self.transaction_activity_id = str(df.iloc[i]['ACTIVITY_TRANSACTION_ID'])  # str #-->transaction --> becomes shipment_id/return_id , etc.\n",
    "\n",
    "        self.check_tax_calculation_date = get_date_or_None(df, i, column='TAX_CALCULATION_DATE')\n",
    "        self.shipment_date = get_date_or_None(df, i, column='TRANSACTION_DEPART_DATE')\n",
    "        self.arrival_date = get_date_or_None(df, i, column='TRANSACTION_ARRIVAL_DATE')\n",
    "        self.tax_date = get_date_or_None(df, i, column='TRANSACTION_COMPLETE_DATE')\n",
    "\n",
    "        self.item_sku = str(df.iloc[i]['SELLER_SKU']) # str --> ItemService.retrieve_item() --> transaction\n",
    "        self.item_name = str(df.iloc[i]['ITEM_DESCRIPTION']) #str\n",
    "        self.item_manufacture_country = get_str_or_None(df, i, column='ITEM_MANUFACTURE_COUNTRY') #str/NoneType\n",
    "        self.item_quantity = int(df.iloc[i]['QTY']) #-->transaction\n",
    "        self.item_weight_kg = float(df.iloc[i]['ITEM_WEIGHT']) if not pd.isnull(df.iloc[i]['ITEM_WEIGHT']) else None #float/NoneType\n",
    "        self.item_weight_kg_total = float(df.iloc[i]['TOTAL_ACTIVITY_WEIGHT']) if not pd.isnull(df.iloc[i]['TOTAL_ACTIVITY_WEIGHT']) else None\n",
    "\n",
    "        self.unit_cost_price_net = float(df.iloc[i]['COST_PRICE_OF_ITEMS']) if not pd.isnull(df.iloc[i]['COST_PRICE_OF_ITEMS']) else None\n",
    "\n",
    "        self.check_item_price_discount_net = float(df.iloc[i]['PROMO_PRICE_OF_ITEMS_AMT_VAT_EXCL']) if not pd.isnull(df.iloc[i]['PROMO_PRICE_OF_ITEMS_AMT_VAT_EXCL']) else None\n",
    "        self.check_item_price_discount_vat = float(df.iloc[i]['PROMO_PRICE_OF_ITEMS_VAT_AMT']) if not pd.isnull(df.iloc[i]['PROMO_PRICE_OF_ITEMS_VAT_AMT']) else None\n",
    "        self.item_price_discount_gross = float(df.iloc[i]['PROMO_PRICE_OF_ITEMS_AMT_VAT_INCL']) if not pd.isnull(df.iloc[i]['PROMO_PRICE_OF_ITEMS_AMT_VAT_INCL']) else None #-->transaction\n",
    "\n",
    "        self.check_item_price_net = float(df.iloc[i]['PRICE_OF_ITEMS_AMT_VAT_EXCL']) if not pd.isnull(df.iloc[i]['PRICE_OF_ITEMS_AMT_VAT_EXCL']) else None\n",
    "        self.check_item_price_vat = float(df.iloc[i]['PRICE_OF_ITEMS_VAT_AMT']) if not pd.isnull(df.iloc[i]['PRICE_OF_ITEMS_AMT_VAT_EXCL']) else None\n",
    "        self.item_price_gross = float(df.iloc[i]['PRICE_OF_ITEMS_AMT_VAT_INCL']) if not pd.isnull(df.iloc[i]['PRICE_OF_ITEMS_AMT_VAT_EXCL']) else None #-->transaction\n",
    "\n",
    "        self.check_item_price_total_net = float(df.iloc[i]['TOTAL_PRICE_OF_ITEMS_AMT_VAT_EXCL']) if not pd.isnull(df.iloc[i]['TOTAL_PRICE_OF_ITEMS_AMT_VAT_EXCL']) else None\n",
    "        self.check_item_price_total_vat = float(df.iloc[i]['TOTAL_PRICE_OF_ITEMS_VAT_AMT']) if not pd.isnull(df.iloc[i]['TOTAL_PRICE_OF_ITEMS_VAT_AMT']) else None\n",
    "        self.item_price_total_gross = float(df.iloc[i]['TOTAL_PRICE_OF_ITEMS_AMT_VAT_INCL']) if not pd.isnull(df.iloc[i]['TOTAL_PRICE_OF_ITEMS_AMT_VAT_INCL']) else None #-->transaction\n",
    "\n",
    "        self.check_item_price_tax_rate_rate = float(df.iloc[i]['PRICE_OF_ITEMS_VAT_RATE_PERCENT']) if not pd.isnull(df.iloc[i]['PRICE_OF_ITEMS_VAT_RATE_PERCENT']) else None\n",
    "\n",
    "        self.check_shipment_price_discount_net = float(df.iloc[i]['PROMO_SHIP_CHARGE_AMT_VAT_EXCL']) if not pd.isnull(df.iloc[i]['PROMO_GIFT_WRAP_AMT_VAT_EXCL']) else None\n",
    "        self.check_shipment_price_discount_vat = float(df.iloc[i]['PROMO_SHIP_CHARGE_VAT_AMT']) if not pd.isnull(df.iloc[i]['PROMO_GIFT_WRAP_AMT_VAT_EXCL']) else None\n",
    "        self.shipment_price_discount_gross = float(df.iloc[i]['PROMO_SHIP_CHARGE_AMT_VAT_INCL']) if not pd.isnull(df.iloc[i]['PROMO_GIFT_WRAP_AMT_VAT_EXCL']) else None #-->transaction\n",
    "\n",
    "        self.check_shipment_price_net = float(df.iloc[i]['SHIP_CHARGE_AMT_VAT_EXCL']) if not pd.isnull(df.iloc[i]['SHIP_CHARGE_AMT_VAT_EXCL']) else None\n",
    "        self.check_shipment_price_vat = float(df.iloc[i]['SHIP_CHARGE_VAT_AMT']) if not pd.isnull(df.iloc[i]['SHIP_CHARGE_VAT_AMT']) else None\n",
    "        self.shipment_price_gross = float(df.iloc[i]['SHIP_CHARGE_AMT_VAT_INCL']) if not pd.isnull(df.iloc[i]['SHIP_CHARGE_AMT_VAT_INCL']) else None #-->transaction\n",
    "\n",
    "        self.check_shipment_price_total_net = float(df.iloc[i]['TOTAL_SHIP_CHARGE_AMT_VAT_EXCL']) if not pd.isnull(df.iloc[i]['TOTAL_SHIP_CHARGE_AMT_VAT_EXCL']) else None\n",
    "        self.check_shipment_price_total_vat = float(df.iloc[i]['TOTAL_SHIP_CHARGE_VAT_AMT']) if not pd.isnull(df.iloc[i]['TOTAL_SHIP_CHARGE_VAT_AMT']) else None\n",
    "        self.shipment_price_total_gross = float(df.iloc[i]['TOTAL_SHIP_CHARGE_AMT_VAT_INCL']) if not pd.isnull(df.iloc[i]['TOTAL_SHIP_CHARGE_AMT_VAT_INCL']) else None #-->transaction\n",
    "\n",
    "        self.check_shipment_price_tax_rate_rate = float(df.iloc[i]['SHIP_CHARGE_VAT_RATE_PERCENT']) if not pd.isnull(df.iloc[i]['SHIP_CHARGE_VAT_RATE_PERCENT']) else None\n",
    "\n",
    "        self.check_sale_total_value_net = float(df.iloc[i]['TOTAL_ACTIVITY_VALUE_AMT_VAT_EXCL']) if not pd.isnull(df.iloc[i]['TOTAL_ACTIVITY_VALUE_AMT_VAT_EXCL']) else None\n",
    "        self.check_sale_total_value_vat = float(df.iloc[i]['TOTAL_ACTIVITY_VALUE_VAT_AMT']) if not pd.isnull(df.iloc[i]['TOTAL_ACTIVITY_VALUE_VAT_AMT']) else None\n",
    "        self.sale_total_value_gross = float(df.iloc[i]['TOTAL_ACTIVITY_VALUE_AMT_VAT_INCL']) if not pd.isnull(df.iloc[i]['TOTAL_ACTIVITY_VALUE_AMT_VAT_INCL']) else None #-->transaction\n",
    "\n",
    "        self.check_gift_wrap_price_discount_net = float(df.iloc[i]['PROMO_GIFT_WRAP_AMT_VAT_EXCL']) if not pd.isnull(df.iloc[i]['PROMO_GIFT_WRAP_AMT_VAT_EXCL']) else None\n",
    "        self.check_gift_wrap_price_discount_vat = float(df.iloc[i]['PROMO_GIFT_WRAP_VAT_AMT']) if not pd.isnull(df.iloc[i]['PROMO_GIFT_WRAP_VAT_AMT']) else None\n",
    "        self.gift_wrap_price_discount_gross = float(df.iloc[i]['PROMO_GIFT_WRAP_AMT_VAT_INCL']) if not pd.isnull(df.iloc[i]['PROMO_GIFT_WRAP_AMT_VAT_INCL']) else None #-->transaction\n",
    "\n",
    "        self.check_gift_wrap_price_net = float(df.iloc[i]['GIFT_WRAP_AMT_VAT_EXCL']) if not pd.isnull(df.iloc[i]['GIFT_WRAP_AMT_VAT_EXCL']) else None\n",
    "        self.check_gift_wrap_price_vat = float(df.iloc[i]['GIFT_WRAP_VAT_AMT']) if not pd.isnull(df.iloc[i]['GIFT_WRAP_VAT_AMT']) else None\n",
    "        self.gift_wrap_price_gross = float(df.iloc[i]['GIFT_WRAP_AMT_VAT_INCL']) if not pd.isnull(df.iloc[i]['GIFT_WRAP_AMT_VAT_INCL']) else None #-->transaction\n",
    "\n",
    "        self.check_gift_wrap_price_total_net = float(df.iloc[i]['TOTAL_GIFT_WRAP_AMT_VAT_EXCL']) if not pd.isnull(df.iloc[i]['TOTAL_GIFT_WRAP_AMT_VAT_EXCL']) else None\n",
    "        self.check_gift_wrap_price_total_vat = float(df.iloc[i]['TOTAL_GIFT_WRAP_VAT_AMT']) if not pd.isnull(df.iloc[i]['TOTAL_GIFT_WRAP_VAT_AMT']) else None\n",
    "        self.gift_wrap_price_total_gross = float(df.iloc[i]['TOTAL_GIFT_WRAP_AMT_VAT_INCL']) if not pd.isnull(df.iloc[i]['TOTAL_GIFT_WRAP_AMT_VAT_INCL']) else None #-->transaction\n",
    "\n",
    "        self.check_gift_wrap_price_tax_rate = float(df.iloc[i]['GIFT_WRAP_VAT_RATE_PERCENT']) if not pd.isnull(df.iloc[i]['GIFT_WRAP_VAT_RATE_PERCENT']) else None\n",
    "\n",
    "\n",
    "        self.currency_code = get_str_or_None(df, i, column='TRANSACTION_CURRENCY_CODE') #str/NoneType\n",
    "\n",
    "        self.check_item_tax_code_code = get_str_or_None(df, i, column='PRODUCT_TAX_CODE') #str/NoneType\n",
    "\n",
    "\n",
    "        self.departure_country_code = str(df.iloc[i]['DEPARTURE_COUNTRY']) #str\n",
    "        self.departure_postal_code = str(df.iloc[i]['DEPARTURE_POST_CODE']) #str\n",
    "        self.departure_city = str(df.iloc[i]['DEPATURE_CITY']) #str\n",
    "\n",
    "        self.arrival_country_code = str(df.iloc[i]['ARRIVAL_COUNTRY']) #str\n",
    "        self.arrival_postal_code = str(df.iloc[i]['ARRIVAL_POST_CODE']) #str\n",
    "        self.arrival_city = str(df.iloc[i]['ARRIVAL_CITY']) #str\n",
    "        self.arrival_address = str(df.iloc[i]['ARRIVAL_ADDRESS']) if not pd.isnull(df.iloc[i]['ARRIVAL_ADDRESS']) else None #str/NoneType\n",
    "\n",
    "        self.shipment_mode = str(df.iloc[i]['TRANSPORTATION_MODE']) if not pd.isnull(df.iloc[i]['TRANSPORTATION_MODE']) else None #str/NoneType\n",
    "        self.shipment_conditions = str(df.iloc[i]['DELIVERY_CONDITIONS']) if not pd.isnull(df.iloc[i]['DELIVERY_CONDITIONS']) else None #str/NoneType\n",
    "\n",
    "\n",
    "        self.check_departure_seller_vat_country_code = get_str_or_None(df, i, column='SELLER_DEPART_VAT_NUMBER_COUNTRY')\n",
    "        self.check_departure_seller_vat_number = get_str_or_None(df, i, column='SELLER_DEPART_COUNTRY_VAT_NUMBER')\n",
    "\n",
    "        self.check_arrival_seller_vat_country_code = get_str_or_None(df, i, column='SELLER_ARRIVAL_VAT_NUMBER_COUNTRY')\n",
    "        self.check_arrival_seller_vat_number = get_str_or_None(df, i, column='SELLER_ARRIVAL_COUNTRY_VAT_NUMBER')\n",
    "\n",
    "        self.check_seller_vat_country_code = get_str_or_None(df, i, column='TRANSACTION_SELLER_VAT_NUMBER_COUNTRY')\n",
    "        self.check_seller_vat_number = get_str_or_None(df, i, column='TRANSACTION_SELLER_VAT_NUMBER')\n",
    "\n",
    "\n",
    "        self.check_tax_calculation_imputation_country = get_str_or_None(df, i, column='VAT_CALCULATION_IMPUTATION_COUNTRY')\n",
    "        self.check_tax_jurisdiction = get_str_or_None(df, i, column='TAXABLE_JURISDICTION')\n",
    "        self.check_tax_jurisdiction_level = get_str_or_None(df, i, column='TAXABLE_JURISDICTION_LEVEL')\n",
    "\n",
    "        self.invoice_number = get_str_or_None(df, i, column='VAT_INV_NUMBER')\n",
    "        self.check_invoice_amount_vat = float(df.iloc[i]['VAT_INV_CONVERTED_AMT'])\n",
    "        self.check_invoice_currency_code = get_str_or_None(df, i, column='VAT_INV_CURRENCY_CODE')\n",
    "        self.check_invoice_exchange_rate = float(df.iloc[i]['VAT_INV_EXCHANGE_RATE']) if not pd.isnull(df.iloc[i]['VAT_INV_EXCHANGE_RATE']) else None\n",
    "        self.check_invoice_exchange_rate_date = get_date_or_None(df, i, column='VAT_INV_EXCHANGE_RATE_DATE')\n",
    "        self.invoice_url = str(df.iloc[i]['INVOICE_URL']) if not pd.isnull(df.iloc[i]['INVOICE_URL']) else None\n",
    "\n",
    "\n",
    "        self.check_export = get_str_or_None(df, i, column='EXPORT_OUTSIDE_EU')  #str #-->transaction\n",
    "\n",
    "        self.customer_name = get_str_or_None(df, i, column='BUYER_NAME')\n",
    "        self.customer_vat_number = get_str_or_None(df, i, column='BUYER_VAT_NUMBER')\n",
    "        self.customer_vat_number_country_code = get_str_or_None(df, i, column='BUYER_VAT_NUMBER_COUNTRY')\n",
    "\n",
    "        self.supplier_vat_number = get_str_or_None(df, i, column='SUPPLIER_VAT_NUMBER') # #NoneType/str object #-->transaction\n",
    "        self.supplier_name = get_str_or_None(df, i, column='SUPPLIER_NAME') #NoneType/str object #-->transaction\n",
    "\n"
   ]
  },
  {
   "cell_type": "code",
   "execution_count": 54,
   "metadata": {},
   "outputs": [
    {
     "name": "stderr",
     "output_type": "stream",
     "text": [
      "Forcing soap:address location to HTTPS\n"
     ]
    },
    {
     "name": "stdout",
     "output_type": "stream",
     "text": [
      "FR\n",
      "17850992868\n",
      "{\n",
      "    'countryCode': 'FR',\n",
      "    'vatNumber': '17850992868',\n",
      "    'requestDate': datetime.date(2020, 4, 30),\n",
      "    'valid': True,\n",
      "    'name': 'STE ON LINE DESK S.A.',\n",
      "    'address': 'RUE FERRAZ 28\\n99999 28008 MADRID'\n",
      "}\n",
      "\n"
     ]
    }
   ],
   "source": [
    "validity_dict_customer=[]\n",
    "\n",
    "customer_vat_number_country_code = 'FR'\n",
    "customer_vat_number = '17850992868' \n",
    "result = check_data(customer_vat_number_country_code, customer_vat_number)\n",
    "print(customer_vat_number_country_code)\n",
    "print(customer_vat_number)\n",
    "print(result)\n",
    "print(\"\")\n",
    "validity_dict_customer.append(None if None else bool(result.valid))\n",
    "\n",
    "    \n"
   ]
  },
  {
   "cell_type": "code",
   "execution_count": 45,
   "metadata": {},
   "outputs": [],
   "source": [
    "validity_dict_customer"
   ]
  },
  {
   "cell_type": "code",
   "execution_count": 68,
   "metadata": {},
   "outputs": [],
   "source": [
    "date = date.today()\n",
    "vobjects = VOBject.query.filter(VOBject.valid_from<=date + timedelta(days=200), VOBject.valid_to>=date + timedelta(days=500)).all()"
   ]
  },
  {
   "cell_type": "code",
   "execution_count": 103,
   "metadata": {},
   "outputs": [
    {
     "data": {
      "text/plain": [
       "'Hello, world.'"
      ]
     },
     "execution_count": 103,
     "metadata": {},
     "output_type": "execute_result"
    }
   ],
   "source": [
    "date= None\n",
    "check_date(date)"
   ]
  },
  {
   "cell_type": "code",
   "execution_count": 102,
   "metadata": {},
   "outputs": [],
   "source": []
  },
  {
   "cell_type": "code",
   "execution_count": 91,
   "metadata": {},
   "outputs": [
    {
     "data": {
      "text/plain": [
       "False"
      ]
     },
     "execution_count": 91,
     "metadata": {},
     "output_type": "execute_result"
    }
   ],
   "source": [
    "transaction_date = date.today() - timedelta(days=200) \n",
    "#print (transaction_date)\n",
    "\n",
    "check_scope = date.today() - timedelta(days=100)\n",
    "#print(check_until_here)\n",
    "check_scope <= transaction_date\n",
    "\n",
    "#date.today() + timedelta(days=1) < date.today() "
   ]
  },
  {
   "cell_type": "code",
   "execution_count": 2,
   "metadata": {},
   "outputs": [],
   "source": [
    "class VOBject(db.Model):\n",
    "    __tablename__ = 'v_object'\n",
    "    \n",
    "    id = db.Column(db.Integer, primary_key=True)\n",
    "    valid_from = db.Column(db.Date, nullable=True)\n",
    "    valid_to = db.Column(db.Date, nullable=False)\n",
    "    \n",
    "    def __init__(self, valid_from, valid_to):\n",
    "        self.valid_from=valid_from\n",
    "        self.valid_to = valid_to"
   ]
  },
  {
   "cell_type": "code",
   "execution_count": 5,
   "metadata": {},
   "outputs": [],
   "source": [
    "v1 = VOBject(valid_from=None, valid_to=date.today())\n",
    "\n",
    "db.session.add(v1)\n",
    "db.session.commit()"
   ]
  },
  {
   "cell_type": "code",
   "execution_count": 7,
   "metadata": {},
   "outputs": [
    {
     "data": {
      "text/plain": [
       "datetime.date(2020, 5, 1)"
      ]
     },
     "execution_count": 7,
     "metadata": {},
     "output_type": "execute_result"
    }
   ],
   "source": [
    "v1.valid_to"
   ]
  },
  {
   "cell_type": "code",
   "execution_count": 3,
   "metadata": {},
   "outputs": [],
   "source": [
    "db.create_all()"
   ]
  },
  {
   "cell_type": "code",
   "execution_count": 28,
   "metadata": {},
   "outputs": [],
   "source": [
    "test_dict = {\n",
    "    'a' : 1,\n",
    "    'b' : 2\n",
    "}"
   ]
  },
  {
   "cell_type": "code",
   "execution_count": 78,
   "metadata": {},
   "outputs": [
    {
     "data": {
      "text/plain": [
       "False"
      ]
     },
     "execution_count": 78,
     "metadata": {},
     "output_type": "execute_result"
    }
   ],
   "source": [
    "'a' not in test_dict"
   ]
  },
  {
   "cell_type": "code",
   "execution_count": 74,
   "metadata": {},
   "outputs": [
    {
     "name": "stdout",
     "output_type": "stream",
     "text": [
      "2020-05-01\n",
      "2020-05-21\n"
     ]
    },
    {
     "data": {
      "text/plain": [
       "datetime.date(2020, 5, 21)"
      ]
     },
     "execution_count": 74,
     "metadata": {},
     "output_type": "execute_result"
    }
   ],
   "source": [
    "date1 = date.today()\n",
    "date2 = date1 + timedelta(days=20)\n",
    "\n",
    "print(date1)\n",
    "print(date2)\n",
    "max(date1, date2)"
   ]
  },
  {
   "cell_type": "code",
   "execution_count": 62,
   "metadata": {},
   "outputs": [],
   "source": [
    "def create_vobject(date, **kwargs: date) -> VOBject:\n",
    "    if not 'valid_from' in kwargs:\n",
    "        valid_from = date\n",
    "    else:\n",
    "        valid_from=kwargs['valid_from']\n",
    "\n",
    "    if not 'valid_to' in kwargs:\n",
    "        valid_to = date.today() + timedelta(days=1)\n",
    "    else:\n",
    "        valid_to=kwargs['valid_to']\n",
    "\n",
    "    new_vobject = VOBject(\n",
    "        valid_from=valid_from,\n",
    "        valid_to=valid_to\n",
    "        )\n",
    "\n",
    "    db.session.add(new_vobject)\n",
    "    db.session.commit()"
   ]
  },
  {
   "cell_type": "code",
   "execution_count": 11,
   "metadata": {},
   "outputs": [],
   "source": [
    "vobject1 = VOBject(valid_from=date.today(), valid_to=date.today() + timedelta(days=1))\n",
    "vobject2 = VOBject( valid_from=date.today(), valid_to=date.today() + timedelta(days=2))\n",
    "vobject3 = VOBject(valid_from=date.today(), valid_to=date.today() + timedelta(days=2))"
   ]
  },
  {
   "cell_type": "code",
   "execution_count": 63,
   "metadata": {},
   "outputs": [],
   "source": [
    "#vobject4 = create_vobject(date)\n",
    "vobject5 = create_vobject(date, valid_from=date.today() + timedelta(400))"
   ]
  },
  {
   "cell_type": "code",
   "execution_count": 6,
   "metadata": {},
   "outputs": [],
   "source": [
    "db.session.add(vobject1)\n",
    "db.session.add(vobject2)\n",
    "db.session.add(vobject3)\n",
    "db.session.commit()"
   ]
  },
  {
   "cell_type": "code",
   "execution_count": 29,
   "metadata": {},
   "outputs": [],
   "source": [
    "class InputService:\n",
    "\n",
    "    @staticmethod\n",
    "    def get_date_or_None(df, i:int, column:str):\n",
    "        if pd.isnull(df.iloc[i][column]):\n",
    "            return None\n",
    "        else:\n",
    "            try:\n",
    "                date = datetime.strptime(df.iloc[i][column], '%d-%m-%Y').date()\n",
    "            except:\n",
    "                try:\n",
    "                    date = datetime.strptime(df.iloc[i][column], '%d.%m.%y').date()\n",
    "                except:\n",
    "                    raise UnsupportedMediaType('Can not read date format.')\n",
    "        return date\n",
    "\n",
    "    @staticmethod\n",
    "    def get_str_or_None(df, i:int, column:str):\n",
    "        if pd.isnull(df.iloc[i][column]):\n",
    "            return None\n",
    "        else:\n",
    "            try:\n",
    "                string = str(df.iloc[i][column])\n",
    "            except:\n",
    "                raise UnsupportedMediaType('Can not read date format.')\n",
    "\n",
    "        return string"
   ]
  },
  {
   "cell_type": "code",
   "execution_count": 32,
   "metadata": {},
   "outputs": [],
   "source": [
    "from zeep import Client\n",
    "def check_data(country_code, number):\n",
    "    \"\"\"VIES API response data.\"\"\"\n",
    "    client = Client(VIES_WSDL_URL)\n",
    "    try:\n",
    "        return client.service.checkVat(country_code, number)\n",
    "        time.sleep(0.2)\n",
    "    except Exception as e:\n",
    "        logger.exception(e)\n",
    "        return False\n"
   ]
  },
  {
   "cell_type": "code",
   "execution_count": 34,
   "metadata": {},
   "outputs": [],
   "source": [
    "import time\n",
    "\n",
    "\n",
    "def func(a,b):\n",
    "    print(a+b)\n",
    "    time.sleep(0.2)\n",
    "\n",
    "df.head()"
   ]
  },
  {
   "cell_type": "code",
   "execution_count": null,
   "metadata": {},
   "outputs": [],
   "source": [
    "def create_check_list_from_input(input: Input):\n",
    "    vat_data_customer = [input.customer_vat_number_country_code, input.customer_vat_number]\n",
    "    vat_data_departure_seller = [input.check_departure_seller_vat_country_code, input.check_departure_seller_vat_number]\n",
    "    vat_data_arrival_seller = [input.check_arrival_seller_vat_country_code, input.check_arrival_seller_vat_number]\n",
    "    vat_data_seller = [input.check_seller_vat_country_code, input.check_seller_vat_number]\n",
    "\n",
    "    vat_data_list = [vat_data_customer, vat_data_departure_seller, vat_data_arrival_seller, vat_data_seller]\n",
    "\n",
    "    return vat_data_list"
   ]
  },
  {
   "cell_type": "code",
   "execution_count": 35,
   "metadata": {},
   "outputs": [
    {
     "data": {
      "text/plain": [
       "{'a': 5, 'b': 6}"
      ]
     },
     "execution_count": 35,
     "metadata": {},
     "output_type": "execute_result"
    }
   ],
   "source": []
  },
  {
   "cell_type": "code",
   "execution_count": 16,
   "metadata": {},
   "outputs": [],
   "source": [
    "\n",
    "def check_valid(country_code, number, tax_date):\n",
    "    \n",
    "    vat = vat_precheck(country_code, number)\n",
    "    if vat:\n",
    "        vatin = VATIN.query.filter(VATIN.country_code==country_code, VATIN.number==number, VATIN.initial_transaction_date<=date, VATIN.valid_to>=date)\n",
    "        if vatin:\n",
    "            valid = vatin.valid\n",
    "        else:\n",
    "            valid = is_valid(country_code, number, date=tax_date)\n",
    "\n",
    "        return valid\n",
    "    else:\n",
    "        return False\n",
    "\n",
    "\n",
    "def vat_precheck(country_code, number):\n",
    "    \n",
    "    if not number:\n",
    "        return None\n",
    "    \n",
    "    elif not re.match(r\"^[a-zA-Z]\", number):\n",
    "        vat = [country_code, number]\n",
    "\n",
    "    elif country_code == number[:2].strip():\n",
    "        vat = [country_code, number]\n",
    "\n",
    "    else: \n",
    "        print(\"country codes dont match. Proceeding with country code from VAT Number.\")\n",
    "        country_code = number[:2].strip()\n",
    "        number = number[2:].strip()\n",
    "        vat = [country_code, number]\n",
    "            \n",
    "    return vat\n",
    "\n",
    "                \n"
   ]
  },
  {
   "cell_type": "code",
   "execution_count": 12,
   "metadata": {},
   "outputs": [],
   "source": [
    "import re\n",
    "def dk_format(v):\n",
    "    return \"{} {} {} {}\".format(v[:4], v[4:6], v[6:8], v[8:10])\n",
    "\n",
    "\n",
    "def gb_format(v):\n",
    "    if len(v) == 11:\n",
    "        return \"{} {} {}\".format(v[:5], v[5:9], v[9:11])\n",
    "    if len(v) == 14:\n",
    "        return \"{} {}\".format(gb_format(v[:11]), v[11:14])\n",
    "    return v\n",
    "\n",
    "\n",
    "def fr_format(v):\n",
    "    return \"{} {}\".format(v[:4], v[4:])\n",
    "\n",
    "VIES_WSDL_URL = (\n",
    "    \"https://ec.europa.eu/taxation_customs/vies/checkVatService.wsdl\"  # NoQA\n",
    ")\n",
    "VATIN_MAX_LENGTH = 14\n",
    "\n",
    "VIES_OPTIONS = {\n",
    "    \"AT\": (\"Austria\", re.compile(r\"^ATU\\d{8}$\")),\n",
    "    \"BE\": (\"Belgium\", re.compile(r\"^BE0?\\d{9}$\")),\n",
    "    \"BG\": (\"Bulgaria\", re.compile(r\"^BG\\d{9,10}$\")),\n",
    "    \"HR\": (\"Croatia\", re.compile(r\"^HR\\d{11}$\")),\n",
    "    \"CY\": (\"Cyprus\", re.compile(r\"^CY\\d{8}[A-Z]$\")),\n",
    "    \"CZ\": (\"Czech Republic\", re.compile(r\"^CZ\\d{8,10}$\")),\n",
    "    \"DE\": (\"Germany\", re.compile(r\"^DE\\d{9}$\")),\n",
    "    \"DK\": (\"Denmark\", re.compile(r\"^DK\\d{8}$\"), dk_format),\n",
    "    \"EE\": (\"Estonia\", re.compile(r\"^EE\\d{9}$\")),\n",
    "    \"EL\": (\"Greece\", re.compile(r\"^EL\\d{9}$\")),\n",
    "    \"ES\": (\"Spain\", re.compile(r\"^ES[A-Z0-9]\\d{7}[A-Z0-9]$\")),\n",
    "    \"FI\": (\"Finland\", re.compile(r\"^FI\\d{8}$\")),\n",
    "    \"FR\": (\"France\", re.compile(r\"^FR[A-HJ-NP-Z0-9][A-HJ-NP-Z0-9]\\d{9}$\"), fr_format),\n",
    "    \"GB\": (\n",
    "        \"United Kingdom\",\n",
    "        re.compile(r\"^(GB(GD|HA)\\d{3}|GB\\d{9}|GB\\d{12})$\"),\n",
    "        gb_format,\n",
    "    ),\n",
    "    \"HU\": (\"Hungary\", re.compile(r\"^HU\\d{8}$\")),\n",
    "    \"IE\": (\"Ireland\", re.compile(r\"^IE\\d[A-Z0-9\\+\\*]\\d{5}[A-Z]{1,2}$\")),\n",
    "    \"IT\": (\"Italy\", re.compile(r\"^IT\\d{11}$\")),\n",
    "    \"LT\": (\"Lithuania\", re.compile(r\"^LT(\\d{9}|\\d{12})$\")),\n",
    "    \"LU\": (\"Luxembourg\", re.compile(r\"^LU\\d{8}$\")),\n",
    "    \"LV\": (\"Latvia\", re.compile(r\"^LV\\d{11}$\")),\n",
    "    \"MT\": (\"Malta\", re.compile(r\"^MT\\d{8}$\")),\n",
    "    \"NL\": (\"The Netherlands\", re.compile(r\"^NL\\d{9}B\\d{2}$\")),\n",
    "    \"PL\": (\"Poland\", re.compile(r\"^PL\\d{10}$\")),\n",
    "    \"PT\": (\"Portugal\", re.compile(r\"^PT\\d{9}$\")),\n",
    "    \"RO\": (\"Romania\", re.compile(r\"^RO\\d{2,10}$\")),\n",
    "    \"SE\": (\"Sweden\", re.compile(r\"^SE\\d{10}01$\")),\n",
    "    \"SI\": (\"Slovenia\", re.compile(r\"^SI\\d{8}$\")),\n",
    "    \"SK\": (\"Slovakia\", re.compile(r\"^SK\\d{10}$\")),\n",
    "}\n",
    "\n",
    "VIES_COUNTRY_CHOICES = sorted(\n",
    "    ((\"\", \"--\"),) + tuple((key, key) for key, value in VIES_OPTIONS.items())\n",
    ")\n",
    "\n",
    "MEMBER_COUNTRY_CODES = VIES_OPTIONS.keys()"
   ]
  },
  {
   "cell_type": "code",
   "execution_count": 3,
   "metadata": {},
   "outputs": [],
   "source": [
    "from werkzeug.exceptions import HTTPException\n",
    "from werkzeug.utils import cached_property\n",
    "from zeep import Client\n",
    "\n",
    "              \n",
    "\n",
    "class VATIN(object):\n",
    "    \"\"\"Object wrapper for the european VAT Identification Number.\"\"\"\n",
    "\n",
    "    def __init__(self, country_code, number):\n",
    "        self.country_code = country_code\n",
    "        self.number = number\n",
    "\n",
    "    def __str__(self):\n",
    "        unformated_number = \"{country_code}{number}\".format(\n",
    "            country_code=self.country_code, number=self.number,\n",
    "        )\n",
    "\n",
    "        country = VIES_OPTIONS.get(self.country_code, {})\n",
    "        if len(country) == 3:\n",
    "            return country[2](unformated_number)\n",
    "        return unformated_number\n",
    "\n",
    "    def __repr__(self):\n",
    "        return \"<VATIN {}>\".format(self.__str__())\n",
    "\n",
    "    @property\n",
    "    def country_code(self):\n",
    "        return self._country_code\n",
    "\n",
    "    @country_code.setter\n",
    "    def country_code(self, value):\n",
    "        self._country_code = value.upper()\n",
    "\n",
    "    @property\n",
    "    def number(self):\n",
    "        return self._number\n",
    "\n",
    "    @number.setter\n",
    "    def number(self, value):\n",
    "        self._number = value.upper().replace(\" \", \"\")\n",
    "\n",
    "\n",
    "    @cached_property\n",
    "    def data(self):\n",
    "        \"\"\"VIES API response data.\"\"\"\n",
    "        client = Client(VIES_WSDL_URL)\n",
    "        try:\n",
    "            return client.service.checkVat(self.country_code, self.number)\n",
    "        except Exception as e:\n",
    "            logger.exception(e)\n",
    "            raise\n",
    "\n",
    "    def is_valid(self):\n",
    "        try:\n",
    "            self.verify()\n",
    "            self.validate()\n",
    "        except HTTPException:\n",
    "            return False\n",
    "        else:\n",
    "            return True\n",
    "\n",
    "    def verify_country_code(self):\n",
    "        if not re.match(r\"^[a-zA-Z]\", self.country_code):\n",
    "            msg =\"{} is not a valid ISO_3166-1 country code.\".format(self.country_code)\n",
    "            raise HTTPException(msg)\n",
    "            return msg\n",
    "        elif self.country_code not in MEMBER_COUNTRY_CODES:\n",
    "            msg =\"{} is not a European member state.\".format(self.country_code)\n",
    "            raise HTTPException(msg)\n",
    "            #return msg\n",
    "\n",
    "    def verify_regex(self):\n",
    "        country = dict(\n",
    "            map(\n",
    "                lambda x, y: (x, y),\n",
    "                (\"country\", \"validator\", \"formatter\"),\n",
    "                VIES_OPTIONS[self.country_code],\n",
    "            )\n",
    "        )\n",
    "        if not country[\"validator\"].match(\"{}{}\".format(self.country_code, self.number)):\n",
    "            msg =\"{} does not match the country's VAT ID specifications.\".format(self.country_code)\n",
    "            raise HTTPException(msg)\n",
    "            #return msg\n",
    "\n",
    "    def verify(self):\n",
    "        self.verify_country_code()\n",
    "        self.verify_regex()\n",
    "\n",
    "    def validate(self):\n",
    "        if not self.data.valid:\n",
    "            msg =\"{} is not a valid VATIN.\".format(self.country_code)\n",
    "            raise HTTPException(msg)\n",
    "            #return msg\n",
    "\n",
    "    @classmethod\n",
    "    def from_str(cls, value):\n",
    "        \"\"\"Return a VATIN object by given string.\"\"\"\n",
    "        return cls(value[:2].strip(), value[2:].strip())\n"
   ]
  },
  {
   "cell_type": "code",
   "execution_count": 14,
   "metadata": {},
   "outputs": [],
   "source": [
    "date = date.today()\n",
    "value = 'DE190200766'\n",
    "#value = 'IT190200766_false'\n",
    "country_code = value[:2].strip()\n",
    "number = value[2:].strip()"
   ]
  },
  {
   "cell_type": "code",
   "execution_count": 15,
   "metadata": {},
   "outputs": [
    {
     "ename": "NameError",
     "evalue": "name 'is_valid' is not defined",
     "output_type": "error",
     "traceback": [
      "\u001b[0;31m---------------------------------------------------------------------------\u001b[0m",
      "\u001b[0;31mNameError\u001b[0m                                 Traceback (most recent call last)",
      "\u001b[0;32m<ipython-input-15-5b68bacc7534>\u001b[0m in \u001b[0;36m<module>\u001b[0;34m\u001b[0m\n\u001b[0;32m----> 1\u001b[0;31m \u001b[0mcheck\u001b[0m \u001b[0;34m=\u001b[0m \u001b[0mis_valid\u001b[0m\u001b[0;34m(\u001b[0m\u001b[0mcountry_code\u001b[0m\u001b[0;34m,\u001b[0m \u001b[0mnumber\u001b[0m\u001b[0;34m)\u001b[0m\u001b[0;34m\u001b[0m\u001b[0;34m\u001b[0m\u001b[0m\n\u001b[0m",
      "\u001b[0;31mNameError\u001b[0m: name 'is_valid' is not defined"
     ]
    }
   ],
   "source": [
    "check = is_valid(country_code, number)"
   ]
  },
  {
   "cell_type": "code",
   "execution_count": 101,
   "metadata": {},
   "outputs": [
    {
     "data": {
      "text/plain": [
       "True"
      ]
     },
     "execution_count": 101,
     "metadata": {},
     "output_type": "execute_result"
    }
   ],
   "source": [
    "check"
   ]
  },
  {
   "cell_type": "code",
   "execution_count": null,
   "metadata": {},
   "outputs": [],
   "source": []
  },
  {
   "cell_type": "code",
   "execution_count": null,
   "metadata": {},
   "outputs": [],
   "source": [
    "def is_valid(country_code, number, date):\n",
    "    if vatin:\n",
    "        return vatin.valid\n",
    "    else:\n",
    "        try:\n",
    "            verify(country_code, number)\n",
    "            validate(country_code, number)\n",
    "        except HTTPException:\n",
    "            return False\n",
    "        else:\n",
    "            return True"
   ]
  },
  {
   "cell_type": "code",
   "execution_count": 13,
   "metadata": {},
   "outputs": [],
   "source": [
    "class VATIN(db.Model):\n",
    "    \"\"\" VATIN model \"\"\"\n",
    "    __tablename__ = \"vatin\"\n",
    "\n",
    "    id = db.Column(db.Integer, primary_key=True)\n",
    "    valid_from = db.Column(db.Date, nullable=False)\n",
    "    valid_to = db.Column(db.Date, default=date.today() + timedelta(days=3))\n",
    "    _country_code = db.Column(db.String(4), nullable=False)\n",
    "    _number = db.Column(db.String(4), nullable=False)\n",
    "    valid = db.Column(db.Boolean, nullable=False)\n",
    "\n",
    "    def __init__(self, **kwargs):\n",
    "        super(VATIN, self).__init__(**kwargs)\n",
    "        self.country_code = country_code\n",
    "        self.number = number\n",
    "        self.valid = valid\n",
    "\n",
    "\n",
    "    # https://www.python-course.eu/python3_properties.php\n",
    "    @property\n",
    "    def country_code(self):\n",
    "        return self._country_code\n",
    "\n",
    "    @country_code.setter\n",
    "    def country_code(self, value):\n",
    "        self._country_code = value.upper()\n",
    "\n",
    "    @property\n",
    "    def number(self):\n",
    "        return self._number\n",
    "\n",
    "    @number.setter\n",
    "    def number(self, value):\n",
    "        self._number = value.upper().replace(\" \", \"\")\n",
    "\n",
    "\n",
    "\n",
    "    def __str__(self):\n",
    "        unformated_number = \"{country_code}{number}\".format(\n",
    "            country_code=self.country_code, number=self.number,\n",
    "        )\n",
    "\n",
    "        country = VIES_OPTIONS.get(self.country_code, {})\n",
    "        if len(country) == 3:\n",
    "            return country[2](unformated_number)\n",
    "        return unformated_number\n",
    "\n",
    "    def __repr__(self):\n",
    "        return \"<VATIN {}>\".format(self.__str__())\n",
    "\n",
    "\n",
    "   "
   ]
  },
  {
   "cell_type": "code",
   "execution_count": 84,
   "metadata": {},
   "outputs": [],
   "source": [
    "\n",
    "\n",
    "def verify(country_code, number):\n",
    "    verify_country_code(country_code)\n",
    "    verify_regex(country_code, number)\n",
    "\n",
    "\n",
    "def validate(country_code, number):\n",
    "    valid = request_validity(country_code, number)\n",
    "    if not valid:\n",
    "        msg =\"{} is not a valid VATIN.\".format(country_code)\n",
    "        raise HTTPException(msg)\n",
    "        return msg\n"
   ]
  },
  {
   "cell_type": "code",
   "execution_count": 13,
   "metadata": {},
   "outputs": [],
   "source": [
    "from zeep import Client\n",
    "\n",
    "def request_validity(country_code, number):\n",
    "        \"\"\"VIES API response data.\"\"\"\n",
    "        client = Client(VIES_WSDL_URL)\n",
    "        try:\n",
    "            return client.service.checkVat(country_code, number)\n",
    "        except Exception as e:\n",
    "            logger.exception(e)\n",
    "            return False\n",
    "            "
   ]
  },
  {
   "cell_type": "code",
   "execution_count": null,
   "metadata": {},
   "outputs": [],
   "source": []
  },
  {
   "cell_type": "code",
   "execution_count": 86,
   "metadata": {},
   "outputs": [],
   "source": [
    "def verify_country_code(country_code):\n",
    "    if not re.match(r\"^[a-zA-Z]\", country_code):\n",
    "        msg =\"{} is not a valid ISO_3166-1 country code.\".format(country_code)\n",
    "        raise HTTPException(msg)\n",
    "        return msg\n",
    "    elif country_code not in MEMBER_COUNTRY_CODES:\n",
    "            msg =\"{} is not a European member state.\".format(country_code)\n",
    "            raise HTTPException(msg)\n",
    "            return msg\n",
    "\n",
    "def verify_regex(country_code, number):\n",
    "        country = dict(\n",
    "            map(\n",
    "                lambda x, y: (x, y),\n",
    "                (\"country\", \"validator\", \"formatter\"),\n",
    "                VIES_OPTIONS[country_code],\n",
    "            )\n",
    "        )\n",
    "        if not country[\"validator\"].match(\"{}{}\".format(country_code, number)):\n",
    "            msg =\"{} does not match the country's VAT ID specifications.\".format(country_code)\n",
    "            raise HTTPException(msg)\n",
    "            return msg"
   ]
  },
  {
   "cell_type": "code",
   "execution_count": 18,
   "metadata": {},
   "outputs": [
    {
     "data": {
      "text/plain": [
       "True"
      ]
     },
     "execution_count": 18,
     "metadata": {},
     "output_type": "execute_result"
    }
   ],
   "source": [
    "not re.match(r\"^[a-zA-Z]\", number)"
   ]
  },
  {
   "cell_type": "code",
   "execution_count": 21,
   "metadata": {},
   "outputs": [
    {
     "data": {
      "text/plain": [
       "True"
      ]
     },
     "execution_count": 21,
     "metadata": {},
     "output_type": "execute_result"
    }
   ],
   "source": [
    "date.today() <= date.today() + timedelta(days=1)"
   ]
  },
  {
   "cell_type": "code",
   "execution_count": 19,
   "metadata": {},
   "outputs": [],
   "source": [
    "a = 1\n",
    "b = 2\n",
    "c = 3\n",
    "\n",
    "def f(**kwargs):\n",
    "    return kwargs.get('a') + kwargs.get('b') + kwargs.get('c')"
   ]
  },
  {
   "cell_type": "code",
   "execution_count": 14,
   "metadata": {},
   "outputs": [],
   "source": [
    "from zeep import helpers"
   ]
  },
  {
   "cell_type": "code",
   "execution_count": 15,
   "metadata": {},
   "outputs": [
    {
     "name": "stderr",
     "output_type": "stream",
     "text": [
      "Forcing soap:address location to HTTPS\n",
      "Forcing soap:address location to HTTPS\n",
      "Forcing soap:address location to HTTPS\n"
     ]
    }
   ],
   "source": [
    "vat_es = request_validity('ES', 'B86728631')\n",
    "vat_cz = request_validity('CZ', '684824655') \n",
    "vat_de = request_validity('DE', '322857776')"
   ]
  },
  {
   "cell_type": "code",
   "execution_count": 16,
   "metadata": {},
   "outputs": [],
   "source": [
    "new_vat_es = helpers.serialize_object(vat_es)\n",
    "new_vat_cz = helpers.serialize_object(vat_cz)\n",
    "new_vat_de = helpers.serialize_object(vat_de)"
   ]
  },
  {
   "cell_type": "code",
   "execution_count": 17,
   "metadata": {},
   "outputs": [
    {
     "name": "stdout",
     "output_type": "stream",
     "text": [
      "OrderedDict([('countryCode', 'ES'), ('vatNumber', 'B86728631'), ('requestDate', datetime.date(2020, 5, 25)), ('valid', True), ('name', '---'), ('address', '---')])\n",
      "OrderedDict([('countryCode', 'CZ'), ('vatNumber', '684824655'), ('requestDate', datetime.date(2020, 5, 25)), ('valid', True), ('name', 'ON LINE DESK, S.A.'), ('address', 'Calle Ferraz 28, Planta 1, Puerta Izd\\n28008 MADRID\\n ')])\n",
      "OrderedDict([('countryCode', 'DE'), ('vatNumber', '322857776'), ('requestDate', datetime.date(2020, 5, 25)), ('valid', True), ('name', '---'), ('address', '---')])\n"
     ]
    }
   ],
   "source": [
    "print(new_vat_es)\n",
    "print(new_vat_cz)\n",
    "print(new_vat_de)"
   ]
  },
  {
   "cell_type": "code",
   "execution_count": 39,
   "metadata": {},
   "outputs": [
    {
     "name": "stdout",
     "output_type": "stream",
     "text": [
      "False --- ---\n"
     ]
    }
   ],
   "source": [
    "new_vat['countryCode']\n",
    "valid = new_vat['valid']\n",
    "name = new_vat['name']\n",
    "address = new_vat['address']\n",
    "\n",
    "print(valid, name, address)"
   ]
  },
  {
   "cell_type": "code",
   "execution_count": 117,
   "metadata": {},
   "outputs": [
    {
     "data": {
      "text/plain": [
       "{\n",
       "    'countryCode': 'DE',\n",
       "    'vatNumber': '190200766',\n",
       "    'requestDate': datetime.date(2020, 4, 15),\n",
       "    'valid': True,\n",
       "    'name': '---',\n",
       "    'address': '---'\n",
       "}"
      ]
     },
     "execution_count": 117,
     "metadata": {},
     "output_type": "execute_result"
    }
   ],
   "source": [
    "vat.data"
   ]
  },
  {
   "cell_type": "code",
   "execution_count": 119,
   "metadata": {},
   "outputs": [
    {
     "name": "stdout",
     "output_type": "stream",
     "text": [
      "DE\n",
      "190200766\n"
     ]
    }
   ],
   "source": [
    "print(vat.country_code)\n",
    "print(vat.number)"
   ]
  },
  {
   "cell_type": "code",
   "execution_count": 120,
   "metadata": {},
   "outputs": [],
   "source": [
    "vat.verify_regex()"
   ]
  },
  {
   "cell_type": "code",
   "execution_count": 100,
   "metadata": {},
   "outputs": [],
   "source": [
    "country = dict(\n",
    "            map(\n",
    "                lambda x, y: (x, y),\n",
    "                (\"country\", \"validator\", \"formatter\"),\n",
    "                VIES_OPTIONS[vat.country_code],\n",
    "            )\n",
    "        )"
   ]
  },
  {
   "cell_type": "code",
   "execution_count": 121,
   "metadata": {},
   "outputs": [
    {
     "data": {
      "text/plain": [
       "{'country': 'Spain',\n",
       " 'validator': re.compile(r'^ES[A-Z0-9]\\d{7}[A-Z0-9]$', re.UNICODE)}"
      ]
     },
     "execution_count": 121,
     "metadata": {},
     "output_type": "execute_result"
    }
   ],
   "source": [
    "country"
   ]
  },
  {
   "cell_type": "code",
   "execution_count": 122,
   "metadata": {},
   "outputs": [],
   "source": [
    "def verify_country_code(self):\n",
    "    if not re.match(r\"^[a-zA-Z]\", self.country_code):\n",
    "        msg =\"{} is not a valid ISO_3166-1 country code.\".format(self.country_code)\n",
    "        raise HTTPException(msg)\n",
    "    elif self.country_code not in MEMBER_COUNTRY_CODES:\n",
    "        msg =\"{} is not a european member state.\".format(self.country_code)\n",
    "        raise HTTPException(msg)"
   ]
  },
  {
   "cell_type": "code",
   "execution_count": 125,
   "metadata": {},
   "outputs": [],
   "source": [
    "vat.verify_country_code()"
   ]
  },
  {
   "cell_type": "code",
   "execution_count": 126,
   "metadata": {},
   "outputs": [],
   "source": [
    "def from_str(value):\n",
    "        \"\"\"Return a VATIN object by given string.\"\"\"\n",
    "        return (value[:2].strip(), value[2:].strip())"
   ]
  },
  {
   "cell_type": "code",
   "execution_count": 127,
   "metadata": {},
   "outputs": [
    {
     "data": {
      "text/plain": [
       "('DE', '190200766')"
      ]
     },
     "execution_count": 127,
     "metadata": {},
     "output_type": "execute_result"
    }
   ],
   "source": [
    "from_str('DE190200766')"
   ]
  },
  {
   "cell_type": "code",
   "execution_count": 258,
   "metadata": {},
   "outputs": [],
   "source": [
    "import datetime\n",
    "\n",
    "today = datetime.date.today()"
   ]
  },
  {
   "cell_type": "code",
   "execution_count": 259,
   "metadata": {},
   "outputs": [
    {
     "data": {
      "text/plain": [
       "datetime.date(2020, 4, 16)"
      ]
     },
     "execution_count": 259,
     "metadata": {},
     "output_type": "execute_result"
    }
   ],
   "source": [
    "today"
   ]
  },
  {
   "cell_type": "code",
   "execution_count": 268,
   "metadata": {},
   "outputs": [],
   "source": [
    "# Retrieve daily exchange rate and add to csv file\n",
    "def daily_ecb_exchange_rate():\n",
    "    #df = pd.read_csv(filepath, sep=',')\n",
    "    daily_rate_dict = {}\n",
    "\n",
    "    #get exchange rate data\n",
    "    import requests\n",
    "    r = requests.get(\n",
    "        'http://www.ecb.europa.eu/stats/eurofxref/eurofxref-daily.xml', stream=True)\n",
    "    from xml.etree import ElementTree as ET\n",
    "    tree = ET.parse(r.raw)\n",
    "    root = tree.getroot()\n",
    "    namespaces = {'ex': 'http://www.ecb.int/vocabulary/2002-08-01/eurofxref'}\n",
    "    for cube in root.findall('.//ex:Cube[@currency]', namespaces=namespaces):\n",
    "        # data is added to dict\n",
    "        daily_rate_dict[str(cube.attrib['currency'])] = cube.attrib['rate']\n",
    "    #daily_rate_dict['Date'] = datetime.date.today().strftime(\"%d.%m.%y\")\n",
    "    return daily_rate_dict\n",
    "    \n",
    "    #dict is used for new df row\n",
    "    #new_row = pd.DataFrame(data=daily_rate_dict, index=[0])\n",
    "\n",
    "    #append row to the dataframe\n",
    "    #df = pd.concat([new_row, df], sort=False).reset_index(drop=True)\n",
    "\n",
    "    #move 'Date' column to front\n",
    "    #cols = list(df)\n",
    "    #cols.insert(0, cols.pop(cols.index('Date')))\n",
    "    #df = df.loc[:, cols]\n",
    "\n",
    "    #write new df into csv_file\n",
    "    #df.to_csv(filepath, index=False)"
   ]
  },
  {
   "cell_type": "code",
   "execution_count": 269,
   "metadata": {},
   "outputs": [],
   "source": [
    "daily_rate_dict = daily_ecb_exchange_rate()"
   ]
  },
  {
   "cell_type": "code",
   "execution_count": 282,
   "metadata": {},
   "outputs": [
    {
     "data": {
      "text/plain": [
       "'26.991'"
      ]
     },
     "execution_count": 282,
     "metadata": {},
     "output_type": "execute_result"
    }
   ],
   "source": [
    "daily_rate_dict['CZK']"
   ]
  },
  {
   "cell_type": "code",
   "execution_count": 6,
   "metadata": {},
   "outputs": [],
   "source": [
    "db.drop_all()"
   ]
  },
  {
   "cell_type": "code",
   "execution_count": 51,
   "metadata": {},
   "outputs": [],
   "source": [
    "class ExchangeRateCollection(db.Model):\n",
    "    \"\"\" ExchangeRates parent_model \"\"\"\n",
    "    __tablename__ = \"exchange_rate_collection\"\n",
    "    id = db.Column(db.Integer, primary_key=True)\n",
    "    date = db.Column(db.Date, default=datetime.date.today)\n",
    "    created_on = db.Column(db.DateTime, default=datetime.datetime.utcnow)\n",
    "    exchange_rates_eur = db.relationship(\n",
    "        'ExchangeRatesEUR', backref='exchange_rate_collection', lazy=True)\n",
    "    exchange_rates_gbp = db.relationship(\n",
    "        'ExchangeRatesGBP', backref='exchange_rate_collection', lazy=True)\n",
    "    exchange_rates_czk = db.relationship(\n",
    "        'ExchangeRatesPLN', backref='exchange_rate_collection', lazy=True)\n",
    "    exchange_rates_czk = db.relationship(\n",
    "        'ExchangeRatesPLN', backref='exchange_rate_collection', lazy=True)\n",
    "\n",
    "\n",
    "    def __init__(self, **kwargs):\n",
    "        super(ExchangeRateCollection, self).__init__(**kwargs)\n",
    "\n",
    "    def __repr__(self):\n",
    "        return '<ExchangeRates: %r>' % self.date\n",
    "\n",
    "\n",
    "\n",
    "    discriminator = db.Column('exchange_rates_currency', db.String(50))\n",
    "    __mapper_args__ = {'polymorphic_on': discriminator}\n",
    "\n",
    "class ExchangeRatesCURRENCY(db.Model):\n",
    "    \"\"\" ExchangeRates BASE model \"\"\"\n",
    "    __tablename__ = \"exchange_rates\"\n",
    "    id = db.Column(db.Integer, primary_key=True)\n",
    "    source = db.Column(db.String(32), default=\"ECB\")\n",
    "    created_on = db.Column(db.DateTime, default=datetime.datetime.utcnow)\n",
    "    exchange_rate_collection_id = db.Column(db.Integer, db.ForeignKey('exchange_rate_collection.id'),\n",
    "                                            nullable=False)\n",
    "    eur = db.Column(db.Numeric(scale=8))\n",
    "    gbp = db.Column(db.Numeric(scale=8))\n",
    "    czk = db.Column(db.Numeric(scale=8))\n",
    "    pln = db.Column(db.Numeric(scale=8))\n",
    "\n",
    "    discriminator = db.Column('exchange_rates_base', db.String(32))\n",
    "    __mapper_args__ = {'polymorphic_on': discriminator}\n",
    "\n",
    "\n",
    "class ExchangeRatesEUR(ExchangeRatesCURRENCY):\n",
    "    \"\"\" ExchangeRates EUR model \"\"\"\n",
    "    __tablename__ = \"exchange_rates_eur\"\n",
    "    __mapper_args__ = {'polymorphic_identity': 'exchange_rates_eur'}\n",
    "\n",
    "    exchange_rates_eur_id = db.Column('id', db.Integer, db.ForeignKey('exchange_rates.id'),\n",
    "                         primary_key=True)\n",
    "\n",
    "    def __init__(ExchangeRatesEUR, **kwargs):\n",
    "        super(ExchangeRatesEUR, self).__init__(**kwargs)\n",
    "\n",
    "    def __repr__(self):\n",
    "        return '<ExchangeRatesEUR: %r>' % self.exchange_rate_collection.date\n",
    "\n",
    "\n",
    "class ExchangeRatesGBP(ExchangeRatesCURRENCY):\n",
    "    \"\"\" ExchangeRates GPB model \"\"\"\n",
    "    __tablename__ = \"exchange_rates_gbp\"\n",
    "    __mapper_args__ = {'polymorphic_identity': 'exchange_rates_gbp'}\n",
    "\n",
    "    exchange_rates_gbp_id = db.Column('id', db.Integer, db.ForeignKey('exchange_rates.id'),\n",
    "                                      primary_key=True)\n",
    "\n",
    "    def __init__(ExchangeRatesGBP, **kwargs):\n",
    "        super(ExchangeRatesGBP, self).__init__(**kwargs)\n",
    "\n",
    "    def __repr__(self):\n",
    "        return '<ExchangeRatesGBP: %r>' % self.exchange_rate_collection.date\n",
    "\n",
    "\n",
    "class ExchangeRatesCZK(ExchangeRatesCURRENCY):\n",
    "    \"\"\" ExchangeRates CZK model \"\"\"\n",
    "    __tablename__ = \"exchange_rates_czk\"\n",
    "    __mapper_args__ = {'polymorphic_identity': 'exchange_rates_czk'}\n",
    "\n",
    "    exchange_rates_czk_id = db.Column('id', db.Integer, db.ForeignKey('exchange_rates.id'),\n",
    "                                      primary_key=True)\n",
    "\n",
    "    def __init__(ExchangeRatesCZK, **kwargs):\n",
    "        super(ExchangeRatesCZK, self).__init__(**kwargs)\n",
    "\n",
    "    def __repr__(self):\n",
    "        return '<ExchangeRatesCZK: %r>' % self.exchange_rate_collection.date\n",
    "\n",
    "\n",
    "class ExchangeRatesPLN(ExchangeRatesCURRENCY):\n",
    "    \"\"\" ExchangeRates PLN model \"\"\"\n",
    "    __tablename__ = \"exchange_rates_pln\"\n",
    "    __mapper_args__ = {'polymorphic_identity': 'exchange_rates_pln'}\n",
    "\n",
    "    exchange_rates_pln_id = db.Column('id', db.Integer, db.ForeignKey('exchange_rates.id'),\n",
    "                                      primary_key=True)\n",
    "\n",
    "    def __init__(ExchangeRatesPLN, **kwargs):\n",
    "        super(ExchangeRatesPLN, self).__init__(**kwargs)\n",
    "\n",
    "    def __repr__(self):\n",
    "        return '<ExchangeRatesPLN: %r>' % self.exchange_rate_collection.date\n"
   ]
  },
  {
   "cell_type": "code",
   "execution_count": 52,
   "metadata": {},
   "outputs": [],
   "source": [
    "from werkzeug.exceptions import InternalServerError\n",
    "\n",
    "class ExchangeRatesService:\n",
    "\n",
    "    @staticmethod\n",
    "    def retrieve_ecb_exchange_rates():\n",
    "        #df = pd.read_csv(filepath, sep=',')\n",
    "        exchange_rate_dict = {}\n",
    "\n",
    "        #get exchange rate data\n",
    "        import requests\n",
    "        r = requests.get(\n",
    "            'http://www.ecb.europa.eu/stats/eurofxref/eurofxref-daily.xml', stream=True)\n",
    "        from xml.etree import ElementTree as ET\n",
    "        tree = ET.parse(r.raw)\n",
    "        root = tree.getroot()\n",
    "        namespaces = {\n",
    "            'ex': 'http://www.ecb.int/vocabulary/2002-08-01/eurofxref'}\n",
    "        for cube in root.findall('.//ex:Cube[@currency]', namespaces=namespaces):\n",
    "            # data is added to dict\n",
    "            exchange_rate_dict[str(cube.attrib['currency'])] = cube.attrib['rate']\n",
    "        #daily_rate_dict['Date'] = datetime.date.today().strftime(\"%d.%m.%y\")\n",
    "        return exchange_rate_dict\n",
    "\n",
    "\n",
    "    def create_exchange_rate_collection(date) -> ExchangeRateCollection:\n",
    "        exchange_rate_collection = ExchangeRateCollection.query.filter_by(date=date).first()\n",
    "\n",
    "        if not exchange_rate_collection:\n",
    "            #create new exchange_rate_collection based on TaxAuditor model\n",
    "            new_exchange_rate_collection = ExchangeRateCollection(\n",
    "                date=date,\n",
    "                created_on=datetime.datetime.utcnow()\n",
    "            )\n",
    "\n",
    "            #add exchange_rate_collection to db\n",
    "            db.session.add(new_exchange_rate_collection)\n",
    "            db.session.commit()\n",
    "\n",
    "            return new_exchange_rate_collection\n",
    "\n",
    "\n",
    "    def create_exchange_rates_EUR(date) -> ExchangeRatesEUR:\n",
    "        exchange_rate_collection = ExchangeRateCollection.query.filter_by(\n",
    "            date=date).first()\n",
    "\n",
    "        if exchange_rate_collection:\n",
    "\n",
    "            #api call to ECB\n",
    "            exchange_rate_dict = ExchangeRatesService.retrieve_ecb_exchange_rates()\n",
    "\n",
    "            new_exchange_rates_EUR = ExchangeRatesEUR(\n",
    "                source='ECB',\n",
    "                created_on=datetime.datetime.utcnow(),\n",
    "                exchange_rate_collection_id=exchange_rate_collection.id,\n",
    "                eur=1.0000,\n",
    "                gbp=exchange_rate_dict['GBP'],\n",
    "                czk=exchange_rate_dict['CZK'],\n",
    "                pln=exchange_rate_dict['PLN']\n",
    "            )\n",
    "\n",
    "            #add exchange_rate_collection to db\n",
    "            db.session.add(new_exchange_rates_EUR)\n",
    "            db.session.commit()\n",
    "\n",
    "            return new_exchange_rates_EUR\n",
    "\n",
    "        else:\n",
    "            response_object = {\n",
    "                'status' : 'error',\n",
    "                'message': 'The corresponding exchange rate collection can not be found.'\n",
    "            }\n",
    "            raise InternalServerError(response_object)\n",
    "\n",
    "\n",
    "    def create_exchange_rates_GBP(date) -> ExchangeRatesGBP:\n",
    "        exchange_rate_collection = ExchangeRateCollection.query.filter_by(\n",
    "                date=date).first()\n",
    "\n",
    "        exchange_rates_EUR = ExchangeRatesEUR.query.filter_by(\n",
    "                exchange_rate_collection_id=exchange_rate_collection.id)\n",
    "\n",
    "        if exchange_rate_collection and exchange_rates_EUR:\n",
    "\n",
    "            new_exchange_rates_EUR = ExchangeRatesEUR(\n",
    "                source='ECB',\n",
    "                created_on=datetime.datetime.utcnow(),\n",
    "                exchange_rate_collection_id=exchange_rate_collection.id,\n",
    "                eur=1/exchange_rates_EUR.gbp,\n",
    "                gbp=1.0000,\n",
    "                czk=eur * exchange_rates_EUR.czk,\n",
    "                pln=eur * exchange_rates_EUR.pln\n",
    "            )\n",
    "\n",
    "            #add exchange_rate_collection to db\n",
    "            db.session.add(new_exchange_rates_GBP)\n",
    "            db.session.commit()\n",
    "\n",
    "            return new_exchange_rates_GBP\n",
    "\n",
    "        else:\n",
    "            response_object = {\n",
    "                'status': 'error',\n",
    "                'message': 'An error occured.'\n",
    "            }\n",
    "            raise InternalServerError(response_object)\n",
    "\n",
    "\n",
    "    def create_exchange_rates_CZK(date) -> ExchangeRatesCZK:\n",
    "        exchange_rate_collection = ExchangeRateCollection.query.filter_by(\n",
    "            date=date).first()\n",
    "\n",
    "        exchange_rates_EUR = ExchangeRatesEUR.query.filter_by(\n",
    "            exchange_rate_collection_id=exchange_rate_collection.id)\n",
    "\n",
    "        if exchange_rate_collection and exchange_rates_EUR:\n",
    "\n",
    "            new_exchange_rates_EUR = ExchangeRatesEUR(\n",
    "                source='ECB',\n",
    "                created_on=datetime.datetime.utcnow(),\n",
    "                exchange_rate_collection_id=exchange_rate_collection.id,\n",
    "                eur=1/exchange_rates_EUR.czk,\n",
    "                gbp=eur * exchange_rates_EUR.gbp,\n",
    "                czk=1.0000,\n",
    "                pln=eur * exchange_rates_EUR.pln\n",
    "            )\n",
    "\n",
    "            #add exchange_rate_collection to db\n",
    "            db.session.add(new_exchange_rates_CZK)\n",
    "            db.session.commit()\n",
    "\n",
    "            return new_exchange_rates_CZK\n",
    "\n",
    "        else:\n",
    "            response_object = {\n",
    "                'status': 'error',\n",
    "                'message': 'An error occured.'\n",
    "            }\n",
    "            raise InternalServerError(response_object)\n",
    "\n",
    "    def create_exchange_rates_PLN(date) -> ExchangeRatesPLN:\n",
    "        exchange_rate_collection = ExchangeRateCollection.query.filter_by(\n",
    "            date=date).first()\n",
    "\n",
    "        exchange_rates_EUR = ExchangeRatesEUR.query.filter_by(\n",
    "            exchange_rate_collection_id=exchange_rate_collection.id)\n",
    "\n",
    "        if exchange_rate_collection and exchange_rates_EUR:\n",
    "\n",
    "            new_exchange_rates_EUR = ExchangeRatesEUR(\n",
    "                source='ECB',\n",
    "                created_on=datetime.datetime.utcnow(),\n",
    "                exchange_rate_collection_id=exchange_rate_collection.id,\n",
    "                eur=1/exchange_rates_EUR.pln,\n",
    "                gbp=eur * exchange_rates_EUR.gbp,\n",
    "                czk=eur * exchange_rates_EUR.czk,\n",
    "                pln=1.0000\n",
    "            )\n",
    "\n",
    "            #add exchange_rate_collection to db\n",
    "            db.session.add(new_exchange_rates_PLN)\n",
    "            db.session.commit()\n",
    "\n",
    "            return new_exchange_rates_PLN\n",
    "\n",
    "        else:\n",
    "            response_object = {\n",
    "                'status': 'error',\n",
    "                'message': 'An error occured.'\n",
    "            }\n",
    "            raise InternalServerError(response_object)\n"
   ]
  },
  {
   "cell_type": "code",
   "execution_count": 53,
   "metadata": {},
   "outputs": [
    {
     "ename": "NameError",
     "evalue": "name 'self' is not defined",
     "output_type": "error",
     "traceback": [
      "\u001b[0;31m---------------------------------------------------------------------------\u001b[0m",
      "\u001b[0;31mNameError\u001b[0m                                 Traceback (most recent call last)",
      "\u001b[0;32m<ipython-input-53-994b04013202>\u001b[0m in \u001b[0;36m<module>\u001b[0;34m\u001b[0m\n\u001b[1;32m      2\u001b[0m \u001b[0mdate\u001b[0m \u001b[0;34m=\u001b[0m \u001b[0mdatetime\u001b[0m\u001b[0;34m.\u001b[0m\u001b[0mdate\u001b[0m\u001b[0;34m.\u001b[0m\u001b[0mtoday\u001b[0m\u001b[0;34m(\u001b[0m\u001b[0;34m)\u001b[0m\u001b[0;34m\u001b[0m\u001b[0;34m\u001b[0m\u001b[0m\n\u001b[1;32m      3\u001b[0m \u001b[0mexchange_rate_collection\u001b[0m \u001b[0;34m=\u001b[0m \u001b[0mExchangeRatesService\u001b[0m\u001b[0;34m.\u001b[0m\u001b[0mcreate_exchange_rate_collection\u001b[0m\u001b[0;34m(\u001b[0m\u001b[0mdate\u001b[0m\u001b[0;34m)\u001b[0m\u001b[0;34m\u001b[0m\u001b[0;34m\u001b[0m\u001b[0m\n\u001b[0;32m----> 4\u001b[0;31m \u001b[0mExchangeRatesService\u001b[0m\u001b[0;34m.\u001b[0m\u001b[0mcreate_exchange_rates_EUR\u001b[0m\u001b[0;34m(\u001b[0m\u001b[0mdate\u001b[0m\u001b[0;34m)\u001b[0m\u001b[0;34m\u001b[0m\u001b[0;34m\u001b[0m\u001b[0m\n\u001b[0m\u001b[1;32m      5\u001b[0m \u001b[0mExchangeRatesService\u001b[0m\u001b[0;34m.\u001b[0m\u001b[0mcreate_exchange_rates_GBP\u001b[0m\u001b[0;34m(\u001b[0m\u001b[0mdate\u001b[0m\u001b[0;34m)\u001b[0m\u001b[0;34m\u001b[0m\u001b[0;34m\u001b[0m\u001b[0m\n\u001b[1;32m      6\u001b[0m \u001b[0mExchangeRatesService\u001b[0m\u001b[0;34m.\u001b[0m\u001b[0mcreate_exchange_rates_CZK\u001b[0m\u001b[0;34m(\u001b[0m\u001b[0mdate\u001b[0m\u001b[0;34m)\u001b[0m\u001b[0;34m\u001b[0m\u001b[0;34m\u001b[0m\u001b[0m\n",
      "\u001b[0;32m<ipython-input-52-7249d4b82ce6>\u001b[0m in \u001b[0;36mcreate_exchange_rates_EUR\u001b[0;34m(date)\u001b[0m\n\u001b[1;32m     57\u001b[0m                 \u001b[0mgbp\u001b[0m\u001b[0;34m=\u001b[0m\u001b[0mexchange_rate_dict\u001b[0m\u001b[0;34m[\u001b[0m\u001b[0;34m'GBP'\u001b[0m\u001b[0;34m]\u001b[0m\u001b[0;34m,\u001b[0m\u001b[0;34m\u001b[0m\u001b[0;34m\u001b[0m\u001b[0m\n\u001b[1;32m     58\u001b[0m                 \u001b[0mczk\u001b[0m\u001b[0;34m=\u001b[0m\u001b[0mexchange_rate_dict\u001b[0m\u001b[0;34m[\u001b[0m\u001b[0;34m'CZK'\u001b[0m\u001b[0;34m]\u001b[0m\u001b[0;34m,\u001b[0m\u001b[0;34m\u001b[0m\u001b[0;34m\u001b[0m\u001b[0m\n\u001b[0;32m---> 59\u001b[0;31m                 \u001b[0mpln\u001b[0m\u001b[0;34m=\u001b[0m\u001b[0mexchange_rate_dict\u001b[0m\u001b[0;34m[\u001b[0m\u001b[0;34m'PLN'\u001b[0m\u001b[0;34m]\u001b[0m\u001b[0;34m\u001b[0m\u001b[0;34m\u001b[0m\u001b[0m\n\u001b[0m\u001b[1;32m     60\u001b[0m             )\n\u001b[1;32m     61\u001b[0m \u001b[0;34m\u001b[0m\u001b[0m\n",
      "\u001b[0;32m<string>\u001b[0m in \u001b[0;36m__init__\u001b[0;34m(ExchangeRatesEUR, **kwargs)\u001b[0m\n",
      "\u001b[0;32m/usr/local/lib/python3.7/site-packages/sqlalchemy/orm/state.py\u001b[0m in \u001b[0;36m_initialize_instance\u001b[0;34m(*mixed, **kwargs)\u001b[0m\n\u001b[1;32m    431\u001b[0m         \u001b[0;32mexcept\u001b[0m\u001b[0;34m:\u001b[0m\u001b[0;34m\u001b[0m\u001b[0;34m\u001b[0m\u001b[0m\n\u001b[1;32m    432\u001b[0m             \u001b[0;32mwith\u001b[0m \u001b[0mutil\u001b[0m\u001b[0;34m.\u001b[0m\u001b[0msafe_reraise\u001b[0m\u001b[0;34m(\u001b[0m\u001b[0;34m)\u001b[0m\u001b[0;34m:\u001b[0m\u001b[0;34m\u001b[0m\u001b[0;34m\u001b[0m\u001b[0m\n\u001b[0;32m--> 433\u001b[0;31m                 \u001b[0mmanager\u001b[0m\u001b[0;34m.\u001b[0m\u001b[0mdispatch\u001b[0m\u001b[0;34m.\u001b[0m\u001b[0minit_failure\u001b[0m\u001b[0;34m(\u001b[0m\u001b[0mself\u001b[0m\u001b[0;34m,\u001b[0m \u001b[0margs\u001b[0m\u001b[0;34m,\u001b[0m \u001b[0mkwargs\u001b[0m\u001b[0;34m)\u001b[0m\u001b[0;34m\u001b[0m\u001b[0;34m\u001b[0m\u001b[0m\n\u001b[0m\u001b[1;32m    434\u001b[0m \u001b[0;34m\u001b[0m\u001b[0m\n\u001b[1;32m    435\u001b[0m     \u001b[0;32mdef\u001b[0m \u001b[0mget_history\u001b[0m\u001b[0;34m(\u001b[0m\u001b[0mself\u001b[0m\u001b[0;34m,\u001b[0m \u001b[0mkey\u001b[0m\u001b[0;34m,\u001b[0m \u001b[0mpassive\u001b[0m\u001b[0;34m)\u001b[0m\u001b[0;34m:\u001b[0m\u001b[0;34m\u001b[0m\u001b[0;34m\u001b[0m\u001b[0m\n",
      "\u001b[0;32m/usr/local/lib/python3.7/site-packages/sqlalchemy/util/langhelpers.py\u001b[0m in \u001b[0;36m__exit__\u001b[0;34m(self, type_, value, traceback)\u001b[0m\n\u001b[1;32m     67\u001b[0m             \u001b[0;32mif\u001b[0m \u001b[0;32mnot\u001b[0m \u001b[0mself\u001b[0m\u001b[0;34m.\u001b[0m\u001b[0mwarn_only\u001b[0m\u001b[0;34m:\u001b[0m\u001b[0;34m\u001b[0m\u001b[0;34m\u001b[0m\u001b[0m\n\u001b[1;32m     68\u001b[0m                 compat.raise_(\n\u001b[0;32m---> 69\u001b[0;31m                     \u001b[0mexc_value\u001b[0m\u001b[0;34m,\u001b[0m \u001b[0mwith_traceback\u001b[0m\u001b[0;34m=\u001b[0m\u001b[0mexc_tb\u001b[0m\u001b[0;34m,\u001b[0m\u001b[0;34m\u001b[0m\u001b[0;34m\u001b[0m\u001b[0m\n\u001b[0m\u001b[1;32m     70\u001b[0m                 )\n\u001b[1;32m     71\u001b[0m         \u001b[0;32melse\u001b[0m\u001b[0;34m:\u001b[0m\u001b[0;34m\u001b[0m\u001b[0;34m\u001b[0m\u001b[0m\n",
      "\u001b[0;32m/usr/local/lib/python3.7/site-packages/sqlalchemy/util/compat.py\u001b[0m in \u001b[0;36mraise_\u001b[0;34m(***failed resolving arguments***)\u001b[0m\n\u001b[1;32m    176\u001b[0m \u001b[0;34m\u001b[0m\u001b[0m\n\u001b[1;32m    177\u001b[0m         \u001b[0;32mtry\u001b[0m\u001b[0;34m:\u001b[0m\u001b[0;34m\u001b[0m\u001b[0;34m\u001b[0m\u001b[0m\n\u001b[0;32m--> 178\u001b[0;31m             \u001b[0;32mraise\u001b[0m \u001b[0mexception\u001b[0m\u001b[0;34m\u001b[0m\u001b[0;34m\u001b[0m\u001b[0m\n\u001b[0m\u001b[1;32m    179\u001b[0m         \u001b[0;32mfinally\u001b[0m\u001b[0;34m:\u001b[0m\u001b[0;34m\u001b[0m\u001b[0;34m\u001b[0m\u001b[0m\n\u001b[1;32m    180\u001b[0m             \u001b[0;31m# credit to\u001b[0m\u001b[0;34m\u001b[0m\u001b[0;34m\u001b[0m\u001b[0;34m\u001b[0m\u001b[0m\n",
      "\u001b[0;32m/usr/local/lib/python3.7/site-packages/sqlalchemy/orm/state.py\u001b[0m in \u001b[0;36m_initialize_instance\u001b[0;34m(*mixed, **kwargs)\u001b[0m\n\u001b[1;32m    428\u001b[0m \u001b[0;34m\u001b[0m\u001b[0m\n\u001b[1;32m    429\u001b[0m         \u001b[0;32mtry\u001b[0m\u001b[0;34m:\u001b[0m\u001b[0;34m\u001b[0m\u001b[0;34m\u001b[0m\u001b[0m\n\u001b[0;32m--> 430\u001b[0;31m             \u001b[0;32mreturn\u001b[0m \u001b[0mmanager\u001b[0m\u001b[0;34m.\u001b[0m\u001b[0moriginal_init\u001b[0m\u001b[0;34m(\u001b[0m\u001b[0;34m*\u001b[0m\u001b[0mmixed\u001b[0m\u001b[0;34m[\u001b[0m\u001b[0;36m1\u001b[0m\u001b[0;34m:\u001b[0m\u001b[0;34m]\u001b[0m\u001b[0;34m,\u001b[0m \u001b[0;34m**\u001b[0m\u001b[0mkwargs\u001b[0m\u001b[0;34m)\u001b[0m\u001b[0;34m\u001b[0m\u001b[0;34m\u001b[0m\u001b[0m\n\u001b[0m\u001b[1;32m    431\u001b[0m         \u001b[0;32mexcept\u001b[0m\u001b[0;34m:\u001b[0m\u001b[0;34m\u001b[0m\u001b[0;34m\u001b[0m\u001b[0m\n\u001b[1;32m    432\u001b[0m             \u001b[0;32mwith\u001b[0m \u001b[0mutil\u001b[0m\u001b[0;34m.\u001b[0m\u001b[0msafe_reraise\u001b[0m\u001b[0;34m(\u001b[0m\u001b[0;34m)\u001b[0m\u001b[0;34m:\u001b[0m\u001b[0;34m\u001b[0m\u001b[0;34m\u001b[0m\u001b[0m\n",
      "\u001b[0;32m<ipython-input-51-19afddc57cbd>\u001b[0m in \u001b[0;36m__init__\u001b[0;34m(ExchangeRatesEUR, **kwargs)\u001b[0m\n\u001b[1;32m     52\u001b[0m \u001b[0;34m\u001b[0m\u001b[0m\n\u001b[1;32m     53\u001b[0m     \u001b[0;32mdef\u001b[0m \u001b[0m__init__\u001b[0m\u001b[0;34m(\u001b[0m\u001b[0mExchangeRatesEUR\u001b[0m\u001b[0;34m,\u001b[0m \u001b[0;34m**\u001b[0m\u001b[0mkwargs\u001b[0m\u001b[0;34m)\u001b[0m\u001b[0;34m:\u001b[0m\u001b[0;34m\u001b[0m\u001b[0;34m\u001b[0m\u001b[0m\n\u001b[0;32m---> 54\u001b[0;31m         \u001b[0msuper\u001b[0m\u001b[0;34m(\u001b[0m\u001b[0mExchangeRatesEUR\u001b[0m\u001b[0;34m,\u001b[0m \u001b[0mself\u001b[0m\u001b[0;34m)\u001b[0m\u001b[0;34m.\u001b[0m\u001b[0m__init__\u001b[0m\u001b[0;34m(\u001b[0m\u001b[0;34m**\u001b[0m\u001b[0mkwargs\u001b[0m\u001b[0;34m)\u001b[0m\u001b[0;34m\u001b[0m\u001b[0;34m\u001b[0m\u001b[0m\n\u001b[0m\u001b[1;32m     55\u001b[0m \u001b[0;34m\u001b[0m\u001b[0m\n\u001b[1;32m     56\u001b[0m     \u001b[0;32mdef\u001b[0m \u001b[0m__repr__\u001b[0m\u001b[0;34m(\u001b[0m\u001b[0mself\u001b[0m\u001b[0;34m)\u001b[0m\u001b[0;34m:\u001b[0m\u001b[0;34m\u001b[0m\u001b[0;34m\u001b[0m\u001b[0m\n",
      "\u001b[0;31mNameError\u001b[0m: name 'self' is not defined"
     ]
    }
   ],
   "source": [
    "db.create_all()\n",
    "date = datetime.date.today()\n",
    "exchange_rate_collection = ExchangeRatesService.create_exchange_rate_collection(date)\n",
    "ExchangeRatesService.create_exchange_rates_EUR(date)\n",
    "ExchangeRatesService.create_exchange_rates_GBP(date)\n",
    "ExchangeRatesService.create_exchange_rates_CZK(date)\n",
    "ExchangeRatesService.create_exchange_rates_PLN(date)"
   ]
  },
  {
   "cell_type": "code",
   "execution_count": 59,
   "metadata": {},
   "outputs": [
    {
     "data": {
      "text/plain": [
       "datetime.date(2020, 4, 16)"
      ]
     },
     "execution_count": 59,
     "metadata": {},
     "output_type": "execute_result"
    }
   ],
   "source": [
    "exchange_rate_collection.date"
   ]
  },
  {
   "cell_type": "code",
   "execution_count": 60,
   "metadata": {},
   "outputs": [],
   "source": [
    "exchange_rate_collection = ExchangeRateCollection.query.filter_by(date=date).first()"
   ]
  },
  {
   "cell_type": "code",
   "execution_count": 61,
   "metadata": {},
   "outputs": [
    {
     "data": {
      "text/plain": [
       "1"
      ]
     },
     "execution_count": 61,
     "metadata": {},
     "output_type": "execute_result"
    }
   ],
   "source": [
    "exchange_rate_collection.id"
   ]
  },
  {
   "cell_type": "code",
   "execution_count": 110,
   "metadata": {},
   "outputs": [
    {
     "ename": "ValueError",
     "evalue": "The truth value of a DataFrame is ambiguous. Use a.empty, a.bool(), a.item(), a.any() or a.all().",
     "output_type": "error",
     "traceback": [
      "\u001b[0;31m---------------------------------------------------------------------------\u001b[0m",
      "\u001b[0;31mValueError\u001b[0m                                Traceback (most recent call last)",
      "\u001b[0;32m<ipython-input-110-fbd55f77ab7c>\u001b[0m in \u001b[0;36m<module>\u001b[0;34m\u001b[0m\n\u001b[0;32m----> 1\u001b[0;31m \u001b[0mtest\u001b[0m\u001b[0;34m(\u001b[0m\u001b[0;34m)\u001b[0m\u001b[0;34m\u001b[0m\u001b[0;34m\u001b[0m\u001b[0m\n\u001b[0m",
      "\u001b[0;32m<ipython-input-109-475e22a639a0>\u001b[0m in \u001b[0;36mtest\u001b[0;34m()\u001b[0m\n\u001b[1;32m      1\u001b[0m \u001b[0;32mdef\u001b[0m \u001b[0mtest\u001b[0m\u001b[0;34m(\u001b[0m\u001b[0;34m)\u001b[0m\u001b[0;34m:\u001b[0m\u001b[0;34m\u001b[0m\u001b[0;34m\u001b[0m\u001b[0m\n\u001b[0;32m----> 2\u001b[0;31m     \u001b[0;32mif\u001b[0m \u001b[0;34m(\u001b[0m\u001b[0mdf1\u001b[0m \u001b[0;34m==\u001b[0m \u001b[0mdf2\u001b[0m\u001b[0;34m)\u001b[0m\u001b[0;34m:\u001b[0m\u001b[0;34m\u001b[0m\u001b[0;34m\u001b[0m\u001b[0m\n\u001b[0m\u001b[1;32m      3\u001b[0m         \u001b[0;32mreturn\u001b[0m \u001b[0;32mTrue\u001b[0m\u001b[0;34m\u001b[0m\u001b[0;34m\u001b[0m\u001b[0m\n\u001b[1;32m      4\u001b[0m     \u001b[0;32melse\u001b[0m\u001b[0;34m:\u001b[0m\u001b[0;34m\u001b[0m\u001b[0;34m\u001b[0m\u001b[0m\n\u001b[1;32m      5\u001b[0m         \u001b[0;32mreturn\u001b[0m \u001b[0;32mFalse\u001b[0m\u001b[0;34m\u001b[0m\u001b[0;34m\u001b[0m\u001b[0m\n",
      "\u001b[0;32m/usr/local/lib/python3.7/site-packages/pandas/core/generic.py\u001b[0m in \u001b[0;36m__nonzero__\u001b[0;34m(self)\u001b[0m\n\u001b[1;32m   1477\u001b[0m     \u001b[0;32mdef\u001b[0m \u001b[0m__nonzero__\u001b[0m\u001b[0;34m(\u001b[0m\u001b[0mself\u001b[0m\u001b[0;34m)\u001b[0m\u001b[0;34m:\u001b[0m\u001b[0;34m\u001b[0m\u001b[0;34m\u001b[0m\u001b[0m\n\u001b[1;32m   1478\u001b[0m         raise ValueError(\n\u001b[0;32m-> 1479\u001b[0;31m             \u001b[0;34mf\"The truth value of a {type(self).__name__} is ambiguous. \"\u001b[0m\u001b[0;34m\u001b[0m\u001b[0;34m\u001b[0m\u001b[0m\n\u001b[0m\u001b[1;32m   1480\u001b[0m             \u001b[0;34m\"Use a.empty, a.bool(), a.item(), a.any() or a.all().\"\u001b[0m\u001b[0;34m\u001b[0m\u001b[0;34m\u001b[0m\u001b[0m\n\u001b[1;32m   1481\u001b[0m         )\n",
      "\u001b[0;31mValueError\u001b[0m: The truth value of a DataFrame is ambiguous. Use a.empty, a.bool(), a.item(), a.any() or a.all()."
     ]
    }
   ],
   "source": [
    "test()"
   ]
  },
  {
   "cell_type": "code",
   "execution_count": 99,
   "metadata": {},
   "outputs": [
    {
     "data": {
      "text/html": [
       "<div>\n",
       "<style scoped>\n",
       "    .dataframe tbody tr th:only-of-type {\n",
       "        vertical-align: middle;\n",
       "    }\n",
       "\n",
       "    .dataframe tbody tr th {\n",
       "        vertical-align: top;\n",
       "    }\n",
       "\n",
       "    .dataframe thead th {\n",
       "        text-align: right;\n",
       "    }\n",
       "</style>\n",
       "<table border=\"1\" class=\"dataframe\">\n",
       "  <thead>\n",
       "    <tr style=\"text-align: right;\">\n",
       "      <th></th>\n",
       "      <th>UNIQUE_ACCOUNT_IDENTIFIER</th>\n",
       "      <th>ACTIVITY_PERIOD</th>\n",
       "      <th>SALES_CHANNEL</th>\n",
       "      <th>MARKETPLACE</th>\n",
       "      <th>TRANSACTION_TYPE</th>\n",
       "      <th>TRANSACTION_EVENT_ID</th>\n",
       "      <th>ACTIVITY_TRANSACTION_ID</th>\n",
       "      <th>TAX_CALCULATION_DATE</th>\n",
       "      <th>TRANSACTION_DEPART_DATE</th>\n",
       "      <th>TRANSACTION_ARRIVAL_DATE</th>\n",
       "      <th>...</th>\n",
       "      <th>VAT_INV_CONVERTED_AMT</th>\n",
       "      <th>VAT_INV_CURRENCY_CODE</th>\n",
       "      <th>VAT_INV_EXCHANGE_RATE</th>\n",
       "      <th>VAT_INV_EXCHANGE_RATE_DATE</th>\n",
       "      <th>EXPORT_OUTSIDE_EU</th>\n",
       "      <th>INVOICE_URL</th>\n",
       "      <th>BUYER_NAME</th>\n",
       "      <th>ARRIVAL_ADDRESS</th>\n",
       "      <th>SUPPLIER_NAME</th>\n",
       "      <th>SUPPLIER_VAT_NUMBER</th>\n",
       "    </tr>\n",
       "  </thead>\n",
       "  <tbody>\n",
       "    <tr>\n",
       "      <th>0</th>\n",
       "      <td>A2SC0NLSYTA68B</td>\n",
       "      <td>2020-MAR</td>\n",
       "      <td>AFN</td>\n",
       "      <td>NaN</td>\n",
       "      <td>FC_TRANSFER</td>\n",
       "      <td>4738902045</td>\n",
       "      <td>4738902045</td>\n",
       "      <td>NaN</td>\n",
       "      <td>31-03-2020</td>\n",
       "      <td>31-03-2020</td>\n",
       "      <td>...</td>\n",
       "      <td>NaN</td>\n",
       "      <td>NaN</td>\n",
       "      <td>NaN</td>\n",
       "      <td>NaN</td>\n",
       "      <td>NaN</td>\n",
       "      <td>NaN</td>\n",
       "      <td>NaN</td>\n",
       "      <td>NaN</td>\n",
       "      <td>NaN</td>\n",
       "      <td>NaN</td>\n",
       "    </tr>\n",
       "    <tr>\n",
       "      <th>1</th>\n",
       "      <td>A2SC0NLSYTA68B</td>\n",
       "      <td>2020-MAR</td>\n",
       "      <td>AFN</td>\n",
       "      <td>NaN</td>\n",
       "      <td>FC_TRANSFER</td>\n",
       "      <td>4776207619</td>\n",
       "      <td>4776207619</td>\n",
       "      <td>NaN</td>\n",
       "      <td>30-03-2020</td>\n",
       "      <td>31-03-2020</td>\n",
       "      <td>...</td>\n",
       "      <td>NaN</td>\n",
       "      <td>NaN</td>\n",
       "      <td>NaN</td>\n",
       "      <td>NaN</td>\n",
       "      <td>NaN</td>\n",
       "      <td>NaN</td>\n",
       "      <td>NaN</td>\n",
       "      <td>NaN</td>\n",
       "      <td>NaN</td>\n",
       "      <td>NaN</td>\n",
       "    </tr>\n",
       "    <tr>\n",
       "      <th>2</th>\n",
       "      <td>A2SC0NLSYTA68B</td>\n",
       "      <td>2020-MAR</td>\n",
       "      <td>AFN</td>\n",
       "      <td>NaN</td>\n",
       "      <td>FC_TRANSFER</td>\n",
       "      <td>4701102862</td>\n",
       "      <td>4701102862</td>\n",
       "      <td>NaN</td>\n",
       "      <td>30-03-2020</td>\n",
       "      <td>31-03-2020</td>\n",
       "      <td>...</td>\n",
       "      <td>NaN</td>\n",
       "      <td>NaN</td>\n",
       "      <td>NaN</td>\n",
       "      <td>NaN</td>\n",
       "      <td>NaN</td>\n",
       "      <td>NaN</td>\n",
       "      <td>NaN</td>\n",
       "      <td>NaN</td>\n",
       "      <td>NaN</td>\n",
       "      <td>NaN</td>\n",
       "    </tr>\n",
       "    <tr>\n",
       "      <th>3</th>\n",
       "      <td>A2SC0NLSYTA68B</td>\n",
       "      <td>2020-MAR</td>\n",
       "      <td>AFN</td>\n",
       "      <td>NaN</td>\n",
       "      <td>FC_TRANSFER</td>\n",
       "      <td>4701201862</td>\n",
       "      <td>4701201862</td>\n",
       "      <td>NaN</td>\n",
       "      <td>31-03-2020</td>\n",
       "      <td>31-03-2020</td>\n",
       "      <td>...</td>\n",
       "      <td>NaN</td>\n",
       "      <td>NaN</td>\n",
       "      <td>NaN</td>\n",
       "      <td>NaN</td>\n",
       "      <td>NaN</td>\n",
       "      <td>NaN</td>\n",
       "      <td>NaN</td>\n",
       "      <td>NaN</td>\n",
       "      <td>NaN</td>\n",
       "      <td>NaN</td>\n",
       "    </tr>\n",
       "    <tr>\n",
       "      <th>4</th>\n",
       "      <td>A2SC0NLSYTA68B</td>\n",
       "      <td>2020-MAR</td>\n",
       "      <td>AFN</td>\n",
       "      <td>NaN</td>\n",
       "      <td>FC_TRANSFER</td>\n",
       "      <td>4701201862</td>\n",
       "      <td>4701201862</td>\n",
       "      <td>NaN</td>\n",
       "      <td>31-03-2020</td>\n",
       "      <td>31-03-2020</td>\n",
       "      <td>...</td>\n",
       "      <td>NaN</td>\n",
       "      <td>NaN</td>\n",
       "      <td>NaN</td>\n",
       "      <td>NaN</td>\n",
       "      <td>NaN</td>\n",
       "      <td>NaN</td>\n",
       "      <td>NaN</td>\n",
       "      <td>NaN</td>\n",
       "      <td>NaN</td>\n",
       "      <td>NaN</td>\n",
       "    </tr>\n",
       "  </tbody>\n",
       "</table>\n",
       "<p>5 rows × 92 columns</p>\n",
       "</div>"
      ],
      "text/plain": [
       "  UNIQUE_ACCOUNT_IDENTIFIER ACTIVITY_PERIOD SALES_CHANNEL MARKETPLACE  \\\n",
       "0            A2SC0NLSYTA68B        2020-MAR           AFN         NaN   \n",
       "1            A2SC0NLSYTA68B        2020-MAR           AFN         NaN   \n",
       "2            A2SC0NLSYTA68B        2020-MAR           AFN         NaN   \n",
       "3            A2SC0NLSYTA68B        2020-MAR           AFN         NaN   \n",
       "4            A2SC0NLSYTA68B        2020-MAR           AFN         NaN   \n",
       "\n",
       "  TRANSACTION_TYPE TRANSACTION_EVENT_ID ACTIVITY_TRANSACTION_ID  \\\n",
       "0      FC_TRANSFER           4738902045              4738902045   \n",
       "1      FC_TRANSFER           4776207619              4776207619   \n",
       "2      FC_TRANSFER           4701102862              4701102862   \n",
       "3      FC_TRANSFER           4701201862              4701201862   \n",
       "4      FC_TRANSFER           4701201862              4701201862   \n",
       "\n",
       "  TAX_CALCULATION_DATE TRANSACTION_DEPART_DATE TRANSACTION_ARRIVAL_DATE  ...  \\\n",
       "0                  NaN              31-03-2020               31-03-2020  ...   \n",
       "1                  NaN              30-03-2020               31-03-2020  ...   \n",
       "2                  NaN              30-03-2020               31-03-2020  ...   \n",
       "3                  NaN              31-03-2020               31-03-2020  ...   \n",
       "4                  NaN              31-03-2020               31-03-2020  ...   \n",
       "\n",
       "  VAT_INV_CONVERTED_AMT VAT_INV_CURRENCY_CODE VAT_INV_EXCHANGE_RATE  \\\n",
       "0                   NaN                   NaN                   NaN   \n",
       "1                   NaN                   NaN                   NaN   \n",
       "2                   NaN                   NaN                   NaN   \n",
       "3                   NaN                   NaN                   NaN   \n",
       "4                   NaN                   NaN                   NaN   \n",
       "\n",
       "  VAT_INV_EXCHANGE_RATE_DATE  EXPORT_OUTSIDE_EU  INVOICE_URL  BUYER_NAME  \\\n",
       "0                        NaN                NaN          NaN         NaN   \n",
       "1                        NaN                NaN          NaN         NaN   \n",
       "2                        NaN                NaN          NaN         NaN   \n",
       "3                        NaN                NaN          NaN         NaN   \n",
       "4                        NaN                NaN          NaN         NaN   \n",
       "\n",
       "   ARRIVAL_ADDRESS  SUPPLIER_NAME  SUPPLIER_VAT_NUMBER  \n",
       "0              NaN            NaN                  NaN  \n",
       "1              NaN            NaN                  NaN  \n",
       "2              NaN            NaN                  NaN  \n",
       "3              NaN            NaN                  NaN  \n",
       "4              NaN            NaN                  NaN  \n",
       "\n",
       "[5 rows x 92 columns]"
      ]
     },
     "execution_count": 99,
     "metadata": {},
     "output_type": "execute_result"
    }
   ],
   "source": [
    "df.head()"
   ]
  },
  {
   "cell_type": "code",
   "execution_count": null,
   "metadata": {},
   "outputs": [],
   "source": []
  },
  {
   "cell_type": "code",
   "execution_count": null,
   "metadata": {},
   "outputs": [],
   "source": []
  },
  {
   "cell_type": "code",
   "execution_count": 7,
   "metadata": {},
   "outputs": [],
   "source": [
    "from datetime import datetime"
   ]
  },
  {
   "cell_type": "code",
   "execution_count": 100,
   "metadata": {},
   "outputs": [],
   "source": [
    "date_str = df.iloc[5]['TRANSACTION_DEPART_DATE']\n",
    "\n",
    "date_object = datetime.strptime(date_str, '%d-%m-%Y').date()"
   ]
  },
  {
   "cell_type": "code",
   "execution_count": 101,
   "metadata": {},
   "outputs": [
    {
     "data": {
      "text/plain": [
       "datetime.date(2018, 8, 30)"
      ]
     },
     "execution_count": 101,
     "metadata": {},
     "output_type": "execute_result"
    }
   ],
   "source": [
    "date_object"
   ]
  },
  {
   "cell_type": "code",
   "execution_count": 111,
   "metadata": {},
   "outputs": [],
   "source": [
    "export = not bool(pd.isnull(df.iloc[5]['EXPORT_OUTSIDE_EU']))"
   ]
  },
  {
   "cell_type": "code",
   "execution_count": 139,
   "metadata": {},
   "outputs": [],
   "source": [
    "channel_code = str(df.iloc[5]['TRANSACTION_EVENT_ID']).upper()"
   ]
  },
  {
   "cell_type": "code",
   "execution_count": 176,
   "metadata": {},
   "outputs": [],
   "source": [
    "for i in range(100):\n",
    "    #tax_calculation_date = datetime.strptime(df.iloc[i]['TAX_CALCULATION_DATE'], '%d-%m-%Y').date() if type(df.iloc[i]['TAX_CALCULATION_DATE']) == str else None\n",
    "    #if not type(df.iloc[i]['TAX_CALCULATION_DATE']) == str or not type(type(df.iloc[i]['TAX_CALCULATION_DATE']) == float):\n",
    "     #   print(df.iloc[i]['TAX_CALCULATION_DATE'])\n",
    "        #print(type(df.iloc[i]['TAX_CALCULATION_DATE']))\n",
    "    if not type(df.iloc[i]['TAX_CALCULATION_DATE']) == str and not type(df.iloc[i]['TAX_CALCULATION_DATE']) == float:\n",
    "        print(df.iloc[i]['TAX_CALCULATION_DATE'])\n",
    "        print(type(df.iloc[i]['TAX_CALCULATION_DATE']))\n"
   ]
  },
  {
   "cell_type": "code",
   "execution_count": 214,
   "metadata": {},
   "outputs": [],
   "source": [
    "#for i in range(10,25):\n",
    "    #departure_seller_vat_number = str(df.iloc[i]['SELLER_DEPART_VAT_NUMBER']) if not pd.isnull(df.iloc[i]['SELLER_DEPART_VAT_NUMBER']) else None\n",
    "    #arrival_date = datetime.strptime(str(df.iloc[i]['TRANSACTION_ARRIVAL_DATE']), '%d-%m-%Y').date() if type(df.iloc[i]['TRANSACTION_ARRIVAL_DATE']) == str else None #datetime.date object #-->transaction\n",
    " #   print(df.iloc[i]['SELLER_DEPART_VAT_NUMBER'])\n",
    "  #  print(type(df.iloc[i]['SELLER_DEPART_VAT_NUMBER']))\n",
    "   # print(\"\")"
   ]
  },
  {
   "cell_type": "code",
   "execution_count": 5,
   "metadata": {},
   "outputs": [],
   "source": []
  },
  {
   "cell_type": "code",
   "execution_count": 8,
   "metadata": {},
   "outputs": [],
   "source": []
  },
  {
   "cell_type": "code",
   "execution_count": 46,
   "metadata": {},
   "outputs": [
    {
     "name": "stdout",
     "output_type": "stream",
     "text": [
      "None\n",
      "None\n",
      "None\n",
      "None\n",
      "None\n",
      "None\n",
      "0.19\n",
      "None\n",
      "0.19\n",
      "0.19\n",
      "0.19\n",
      "0.19\n",
      "0.19\n",
      "0.19\n",
      "0.19\n",
      "0.23\n",
      "None\n",
      "None\n",
      "0.19\n",
      "0.19\n",
      "0.19\n",
      "0.19\n",
      "0.19\n",
      "0.19\n",
      "0.2\n"
     ]
    }
   ],
   "source": [
    "df = pd.read_csv('/Users/tm/Downloads/Dummy_txt.txt', encoding='latin-1', delimiter='\\t')\n",
    "#df = pd.read_csv('/Users/tm/Downloads/THOMAS/02_Monthly_Data/Sales_Tax_Transaction_Reports/Sales_Tax_Transaction_Report_M-2019-06.txt', encoding='latin-1', delimiter='\\t') \n",
    "for i in range(25):\n",
    "    print(float(df.iloc[i]['PRICE_OF_ITEMS_VAT_RATE_PERCENT']) if not pd.isnull(df.iloc[i]['PRICE_OF_ITEMS_VAT_RATE_PERCENT']) else None)"
   ]
  },
  {
   "cell_type": "code",
   "execution_count": 42,
   "metadata": {},
   "outputs": [],
   "source": []
  },
  {
   "cell_type": "code",
   "execution_count": 43,
   "metadata": {},
   "outputs": [
    {
     "name": "stdout",
     "output_type": "stream",
     "text": [
      "Does not exist\n"
     ]
    }
   ],
   "source": []
  },
  {
   "cell_type": "code",
   "execution_count": 30,
   "metadata": {},
   "outputs": [],
   "source": []
  },
  {
   "cell_type": "code",
   "execution_count": 35,
   "metadata": {},
   "outputs": [],
   "source": []
  },
  {
   "cell_type": "code",
   "execution_count": 38,
   "metadata": {},
   "outputs": [
    {
     "data": {
      "text/plain": [
       "'None is a and 5 is b'"
      ]
     },
     "execution_count": 38,
     "metadata": {},
     "output_type": "execute_result"
    }
   ],
   "source": []
  },
  {
   "cell_type": "code",
   "execution_count": 71,
   "metadata": {},
   "outputs": [
    {
     "data": {
      "text/plain": [
       "5"
      ]
     },
     "execution_count": 71,
     "metadata": {},
     "output_type": "execute_result"
    }
   ],
   "source": [
    "a = 5\n",
    "b = 1\n",
    "5 or 1\n",
    "#True if ( b==1 and a == (2 or 3 or 5)) else False"
   ]
  },
  {
   "cell_type": "code",
   "execution_count": 65,
   "metadata": {},
   "outputs": [],
   "source": [
    "default=datetime.date.today()"
   ]
  },
  {
   "cell_type": "code",
   "execution_count": 56,
   "metadata": {},
   "outputs": [],
   "source": [
    "exchange_rate_date = default - datetime.timedelta(days=1)"
   ]
  },
  {
   "cell_type": "code",
   "execution_count": 57,
   "metadata": {},
   "outputs": [
    {
     "data": {
      "text/plain": [
       "datetime.date(2020, 4, 27)"
      ]
     },
     "execution_count": 57,
     "metadata": {},
     "output_type": "execute_result"
    }
   ],
   "source": [
    "exchange_rate_date"
   ]
  },
  {
   "cell_type": "code",
   "execution_count": 61,
   "metadata": {},
   "outputs": [
    {
     "data": {
      "text/plain": [
       "datetime.date(2020, 4, 27)"
      ]
     },
     "execution_count": 61,
     "metadata": {},
     "output_type": "execute_result"
    }
   ],
   "source": []
  },
  {
   "cell_type": "code",
   "execution_count": 3,
   "metadata": {},
   "outputs": [],
   "source": [
    "class Currency(db.Model):  # type: ignore\n",
    "    \"\"\" Currency model \"\"\"\n",
    "    __tablename__ = \"currency\"\n",
    "\n",
    "    code = db.Column(db.String(4), primary_key=True)\n",
    "    country_codes = db.relationship('Country', backref='currency', lazy=True)\n",
    "    \n",
    "\n",
    "    def __init__(self, **kwargs):\n",
    "        super(Currency, self).__init__(**kwargs)\n",
    "\n",
    "    def __repr__(self):\n",
    "        return '<Currency: {}>'.format(self.code)\n",
    "\n",
    "\n",
    "class TaxRateType(db.Model):  # type: ignore\n",
    "    \"\"\" TaxRateType model, e.g. R, R2, Z, S \"\"\"\n",
    "    __tablename__ = \"tax_rate_type\"\n",
    "\n",
    "    code = db.Column(db.String(8), primary_key=True)\n",
    "    description = db.Column(db.String(256), default=None)\n",
    "    tax_rates = db.relationship('TaxRate', backref='tax_rate_type', lazy=True)\n",
    "\n",
    "\n",
    "    def __init__(self, **kwargs):\n",
    "        super(TaxRateType, self).__init__(**kwargs)\n",
    "\n",
    "    def __repr__(self):\n",
    "        return '<TaxRateType: {}'.format(self.code)\n",
    "\n",
    "\n",
    "class Country(db.Model):  # type: ignore\n",
    "    \"\"\" Country model \"\"\"\n",
    "    __tablename__ = \"country\"\n",
    "\n",
    "    code = db.Column(db.String(4), primary_key=True)\n",
    "    id = db.Column(db.Integer, autoincrement=True)\n",
    "    country_name = db.Column(db.String(40), nullable=False)\n",
    "    \n",
    "    \n",
    "    currency_code = db.Column(db.String(8), db.ForeignKey('currency.code'))\n",
    "    tax_rates = db.relationship('TaxRate', backref='country')\n",
    "\n",
    "\n",
    "    def __init__(self, **kwargs):\n",
    "        super(Country, self).__init__(**kwargs)\n",
    "\n",
    "    def __repr__(self):\n",
    "        return '<Country: {}>'.format(self.code)\n",
    "\n",
    "\n",
    "class TaxCode(db.Model):  # type: ignore\n",
    "    \"\"\" Item tax_code, e.g. A_GEN_STANDARD \"\"\"\n",
    "    __tablename__ = \"tax_code\"\n",
    "\n",
    "    code = db.Column(db.String(8), primary_key=True)\n",
    "    description = db.Column(db.String(64))\n",
    "    tax_rates = db.relationship('TaxRate', backref='tax_code')\n",
    "\n",
    "    \n",
    "    def __init__(self, **kwargs):\n",
    "        super(TaxCode, self).__init__(**kwargs)\n",
    "\n",
    "    def __repr__(self):\n",
    "        return '<TaxCode:{} valid from:{}>'.format(self.code, self.description)\n",
    "\n",
    "    \n",
    "class TaxRate(db.Model):  # type: ignore\n",
    "    \"\"\" TaxRate model, e.g. rate: 0.2 \"\"\"\n",
    "    __tablename__ = \"tax_rate\"\n",
    "\n",
    "    id = db.Column(db.Integer, primary_key=True)\n",
    "    \n",
    "    valid_from = db.Column(db.DateTime, nullable=False)\n",
    "    valid_to = db.Column(db.DateTime)\n",
    "    \n",
    "    rate = db.Column(db.Numeric(precision=8, scale=4))\n",
    "    \n",
    "    tax_rate_type_code = db.Column(db.String(4), db.ForeignKey('tax_rate_type.code'))\n",
    "    country_code = db.Column(db.String(4), db.ForeignKey('country.code'))\n",
    "    tax_code_code = db.Column(db.String(8), db.ForeignKey('tax_code.code'))\n",
    "\n",
    "\n",
    "    def __init__(self, **kwargs):\n",
    "         super(TaxRate, self).__init__(**kwargs)\n",
    "\n",
    "    def __repr__(self):\n",
    "        return '<TaxRate: valid: {}-{} – country_code: {} – rate {}>'.format(self.valid_from, self.valid_to, self.country_code, self.rate)\n",
    "\n",
    "#mapped class TaxCode->tax_code' has no property 'country'"
   ]
  },
  {
   "cell_type": "code",
   "execution_count": 4,
   "metadata": {},
   "outputs": [],
   "source": [
    "db.create_all()"
   ]
  },
  {
   "cell_type": "code",
   "execution_count": 5,
   "metadata": {},
   "outputs": [],
   "source": [
    "germany, poland, great_britain, netherlands = Country(code=\"DE\", country_name=\"Germany\", currency_code = \"EUR\"), Country(code=\"PL\", country_name=\"Poland\", currency_code = \"PLN\"), Country(code=\"GB\", country_name=\"Great Britain\", currency_code = \"GBP\"), Country(code=\"NL\", country_name=\"Netherlands\", currency_code = \"EUR\")\n",
    "\n",
    "db.session.add(germany)\n",
    "db.session.add(poland)\n",
    "db.session.add(great_britain)\n",
    "db.session.add(netherlands)\n",
    "\n",
    "\n",
    "eur, gbp, pln, czs = Currency(code=\"EUR\"), Currency(code=\"GBP\"), Currency(code=\"PLN\"), Currency(code=\"CZS\")\n",
    "\n",
    "db.session.add(eur)\n",
    "db.session.add(gbp)\n",
    "db.session.add(pln)\n",
    "db.session.add(czs)\n",
    "\n",
    "\n",
    "s = TaxRateType(code=\"S\", description=\"Standard Rate\")\n",
    "r = TaxRateType(code=\"R\", description=\"Reduced Rate\")\n",
    "r2 = TaxRateType(code=\"R2\", description=\"Reduced Rate 2\")\n",
    "z = TaxRateType(code=\"Z\", description=\"Zero Rate\")\n",
    "\n",
    "db.session.add(s)\n",
    "db.session.add(r)\n",
    "db.session.add(r2)\n",
    "db.session.add(z)\n",
    "\n",
    "A_GEN_STANDARD = TaxCode(code=\"A_GEN_STANDARD\", description=\"Standard Rate\")\n",
    "A_BOOK_AUDIOBOOK = TaxCode(code=\"A_BOOK_AUDIOBOOK\", description=\"Audiobooks in the physical format\")\n",
    "A_BOOKS_GEN = TaxCode(code=\"A_BOOKS_GEN\", description=\"Printed Books\")\n",
    "\n",
    "db.session.add(A_GEN_STANDARD)\n",
    "db.session.add(A_BOOK_AUDIOBOOK)\n",
    "db.session.add(A_BOOKS_GEN)\n",
    "\n",
    "db.session.commit()\n",
    "\n",
    "\n",
    "    \n",
    "t1 = TaxRate(valid_from=datetime.datetime.utcnow(), rate=0.19, tax_rate_type_code=\"S\", country_code=\"DE\", tax_code_code=\"A_GEN_STANDARD\")\n",
    "t2 = TaxRate(valid_from=datetime.datetime.utcnow(), rate=0.19, tax_rate_type_code=\"S\", country_code=\"FR\", tax_code_code=\"A_GEN_STANDARD\")\n",
    "t3 = TaxRate(valid_from=datetime.datetime.utcnow(), rate=0.19, tax_rate_type_code=\"S\", country_code=\"DE\", tax_code_code=\"A_BOOK_AUDIOBOOK\")\n",
    "t4 = TaxRate(valid_from=datetime.datetime.utcnow(), rate=0.0, tax_rate_type_code=\"Z\", country_code=\"DE\", tax_code_code=\"A_BOOKS_GEN\")\n",
    "\n",
    "db.session.add(t1)\n",
    "db.session.add(t2)\n",
    "db.session.add(t3)\n",
    "db.session.add(t4)\n",
    "\n",
    "db.session.commit()"
   ]
  },
  {
   "cell_type": "code",
   "execution_count": 45,
   "metadata": {},
   "outputs": [
    {
     "data": {
      "text/plain": [
       "[<TaxCode:A_GEN_STANDARD valid from:Standard Rate>,\n",
       " <TaxCode:A_BOOK_AUDIOBOOK valid from:Audiobooks in the physical format>,\n",
       " <TaxCode:A_BOOKS_GEN valid from:Printed Books>]"
      ]
     },
     "execution_count": 45,
     "metadata": {},
     "output_type": "execute_result"
    }
   ],
   "source": [
    "TaxCode.query.all()"
   ]
  },
  {
   "cell_type": "code",
   "execution_count": 11,
   "metadata": {},
   "outputs": [],
   "source": [
    "tax_rate = TaxRate.query.filter(TaxRate.valid_from<datetime.datetime.utcnow(), TaxRate.country_code=='DE').all()"
   ]
  },
  {
   "cell_type": "code",
   "execution_count": 14,
   "metadata": {},
   "outputs": [
    {
     "data": {
      "text/plain": [
       "[<TaxRate: valid: 2020-04-29 07:41:43.661656-None – country_code: DE – rate 0.1900>,\n",
       " <TaxRate: valid: 2020-04-29 07:41:43.662270-None – country_code: DE – rate 0.1900>,\n",
       " <TaxRate: valid: 2020-04-29 07:41:43.662407-None – country_code: DE – rate 0.0000>]"
      ]
     },
     "execution_count": 14,
     "metadata": {},
     "output_type": "execute_result"
    }
   ],
   "source": [
    "germany.tax_rates"
   ]
  },
  {
   "cell_type": "code",
   "execution_count": 89,
   "metadata": {},
   "outputs": [],
   "source": [
    "def check_refund_case(item_price_total_gross, shipment_price_total_gross, gift_wrap_price_total_gross):\n",
    "        sale_transaction = True\n",
    "        if sale_transaction:\n",
    "            print(\"check1\")\n",
    "            if not item_price_total_gross or not shipment_price_total_gross or not gift_wrap_price_total_gross:\n",
    "                return print(\"check none\")\n",
    "            else:\n",
    "                print('all here')\n",
    "        else:\n",
    "            return False"
   ]
  },
  {
   "cell_type": "code",
   "execution_count": 90,
   "metadata": {},
   "outputs": [],
   "source": [
    "item_price_total_gross = 1\n",
    "shipment_price_total_gross = None\n",
    "gift_wrap_price_total_gross =3"
   ]
  },
  {
   "cell_type": "code",
   "execution_count": 91,
   "metadata": {},
   "outputs": [
    {
     "name": "stdout",
     "output_type": "stream",
     "text": [
      "check1\n",
      "check none\n"
     ]
    }
   ],
   "source": [
    "check_refund_case(item_price_total_gross, shipment_price_total_gross, gift_wrap_price_total_gross)"
   ]
  },
  {
   "cell_type": "code",
   "execution_count": 124,
   "metadata": {},
   "outputs": [],
   "source": [
    "i = 1\n",
    "from datetime import datetime"
   ]
  },
  {
   "cell_type": "code",
   "execution_count": 125,
   "metadata": {},
   "outputs": [],
   "source": []
  },
  {
   "cell_type": "code",
   "execution_count": 157,
   "metadata": {},
   "outputs": [],
   "source": [
    "class Calculation:\n",
    "    def __init__(self):\n",
    "        self.amazon_vat_calculation_service: bool = TransactionService.check_amazon_vat_calculation_service(input.check_tax_calculation_date)\n",
    "\n",
    "        self.account: Account = PlatformService.get_by_public_id_channel_code(input.account_public_id, input.channel_code)\n",
    "        self.item: Item = ItemService.get_by_sku_account_date(input.item_sku, account, input.tax_date)\n",
    "        self.bundle: Bundle = TransactionService.get_bundle_by_account_item__date(account, item, input.transaction_public_id)\n",
    "        self.transaction_type: TransactionType = get_transaction_type_by_public_code_account(input.transaction_type_public_code, account)\n",
    "\n",
    "        !!!!! #customer_type = CustomerService.get_type_by_vatin_date(vat_number=input.customer_vat_number, date=input.tax_date, !!!!! )\n",
    "\n",
    "        self.arrival_country: Country = CountryService.get_by_code(input.arrival_country_code)\n",
    "        self.departure_country: Country = CountryService.get_by_code(input.departure_country_code)\n",
    "        self.eu: EU = CountryService.get_eu_by_date(input.tax_date) #EU\n",
    "\n",
    "        self.tax_treatment_code: str = TaxRateService.define_tax_treatment_code(account, input.check_export, eu, customer_type, departure_country, arrival_country, amazon_vat_calculation_service, input.check_item_price_tax_rate_rate)\n",
    "\n",
    "        self.tax_juristdiction: Country = TransactionService.define_tax_jurisdiction(tax_treatment_code, departure_country, arrival_country)\n",
    "        self.item_tax_code_code: str = TransactionService.get_item_tax_code_code(item, input.check_item_tax_code_code)\n",
    "\n",
    "        self.item_price_tax_rate_rate, gift_wrap_tax_rate_rate, shipment_price_tax_rate_rate = TransactionService.get_tax_rate_rates(tax_jurisdiction, tax_treatment_code, item_tax_code_code, input.tax_date)\n",
    "\n",
    "        self.item_price_net: float = TransactionService.get_price_net(input.item_price_gross, item_price_tax_rate_rate)\n",
    "        self.item_price_discount_net: float = TransactionService.get_price_net(input.item_price_discount_gross, item_price_tax_rate_rate)\n",
    "        self.item_price_total_net: float = TransactionService.get_price_net(input.item_price_total_gross, item_price_tax_rate_rate)\n",
    "\n",
    "        self.shipment_price_net: float = TransactionService.get_price_net(input.shipment_price_gross, shipment_price_tax_rate_rate)\n",
    "        self.shipment_price_discount_net: float = TransactionService.get_price_net(input.shipment_price_discount_gross, shipment_price_tax_rate_rate)\n",
    "        self.shipment_price_total_net: float = TransactionService.get_price_net(input.shipment_price_total_gross, shipment_price_tax_rate_rate)\n",
    "\n",
    "        self.gift_wrap_price_net: float = TransactionService.get_price_net(input.gift_wrap_price_gross, gift_wrap_price_tax_rate_rate)\n",
    "        self.gift_wrap_price_discount_net: float = TransactionService.get_price_net(input.gift_wrap_price_discount_gross, gift_wrap_price_tax_rate_rate)\n",
    "        self.gift_wrap_price_total_net: float = TransactionService.get_price_net(input.gift_wrap_price_total_gross, gift_wrap_price_tax_rate_rate)\n",
    "\n",
    "        self.item_price_vat: float = TransactionService.get_price_vat(input.item_price_gross, item_price_tax_rate_rate)\n",
    "        self.item_price_discount_vat: float = TransactionService.get_price_vat(input.item_price_discount_gross, item_price_tax_rate_rate)\n",
    "        self.item_price_total_vat: float = TransactionService.get_price_vat(input.item_price_total_gross, item_price_tax_rate_rate)\n",
    "\n",
    "        self.shipment_price_vat: float = TransactionService.get_price_vat(input.shipment_price_gross, shipment_price_tax_rate_rate)\n",
    "        self.shipment_price_discount_vat: float = TransactionService.get_price_vat(input.shipment_price_discount_gross, shipment_price_tax_rate_rate)\n",
    "        self.shipment_price_total_vat: float = TransactionService.get_price_vat(input.shipment_price_total_gross, shipment_price_tax_rate_rate)\n",
    "\n",
    "        self.gift_wrap_price_vat: float = TransactionService.get_price_vat(input.gift_wrap_price_gross, gift_wrap_price_tax_rate_rate)\n",
    "        self.gift_wrap_price_discount_vat: float = TransactionService.get_price_vat(input.gift_wrap_price_discount_gross, gift_wrap_price_tax_rate_rate)\n",
    "        self.gift_wrap_price_total_vat: float = TransactionService.get_price_vat(input.gift_wrap_price_total_gross, gift_wrap_price_tax_rate_rate)\n",
    "\n",
    "        self.total_value_net: float = TransactionService.get_total_value(item_price_total_net, shipment_price_total_net, gift_wrap_price_total_net)\n",
    "        self.total_value_vat: float = TransactionService.get_total_value(item_price_total_vat, shipment_price_total_vat, gift_wrap_price_total_vat)\n",
    "        self.total_value_gross: float = TransactionService.get_total_value(input.item_price_total_gross, input.shipment_price_total_gross, input.gift_wrap_price_total_gross)\n",
    "\n",
    "        self.invoice_currency_code: str = tax_juristdiction.currency_code\n",
    "\n",
    "        self.invoice_exchange_rate: float = get_invoice_exchange_rate(input.currency_code, invoice_currency_code, input.tax_date)\n",
    "\n",
    "        self.invoice_amount_net: float = TransactionService.get_invoice_amount(total_value_net, invoice_exchange_rate)\n",
    "        self.invoice_amount_vat: float = TransactionService.get_invoice_amount(total_value_vat, invoice_exchange_rate)\n",
    "        self.invoice_amount_gross: float = TransactionService.get_invoice_amount(total_value_gross, invoice_exchange_rate)\n",
    "\n",
    "        self.arrival_seller_vat_country_code: str = arrival_country.vat_country_code\n",
    "        self.departure_seller_vat_country_code: str = departure_country.vat_country_code\n",
    "        self.seller_vat_country_code: str = tax_juristdiction.vat_country_code"
   ]
  },
  {
   "cell_type": "code",
   "execution_count": 152,
   "metadata": {},
   "outputs": [],
   "source": [
    "inputs = []\n",
    "for i in range(len(df.index)):\n",
    "    inputs.append(Input(df, i))\n",
    "    "
   ]
  },
  {
   "cell_type": "code",
   "execution_count": 140,
   "metadata": {},
   "outputs": [
    {
     "data": {
      "text/plain": [
       "'A2SC0NLSYTA68B'"
      ]
     },
     "execution_count": 140,
     "metadata": {},
     "output_type": "execute_result"
    }
   ],
   "source": [
    "new_input.account_public_id"
   ]
  },
  {
   "cell_type": "code",
   "execution_count": 158,
   "metadata": {},
   "outputs": [],
   "source": [
    "input = Input(df, 210)"
   ]
  },
  {
   "cell_type": "code",
   "execution_count": 159,
   "metadata": {},
   "outputs": [
    {
     "data": {
      "text/plain": [
       "'GERMANY'"
      ]
     },
     "execution_count": 159,
     "metadata": {},
     "output_type": "execute_result"
    }
   ],
   "source": [
    "input.check_tax_jurisdiction"
   ]
  },
  {
   "cell_type": "code",
   "execution_count": 162,
   "metadata": {},
   "outputs": [
    {
     "name": "stdout",
     "output_type": "stream",
     "text": [
      "A2SC0NLSYTA68B\n",
      "A2SC0NLSYTA68B\n",
      "A2SC0NLSYTA68B\n",
      "A2SC0NLSYTA68B\n",
      "A2SC0NLSYTA68B\n",
      "A2SC0NLSYTA68B\n",
      "A2SC0NLSYTA68B\n",
      "A2SC0NLSYTA68B\n",
      "A2SC0NLSYTA68B\n",
      "A2SC0NLSYTA68B\n",
      "A2SC0NLSYTA68B\n",
      "A2SC0NLSYTA68B\n",
      "A2SC0NLSYTA68B\n",
      "A2SC0NLSYTA68B\n",
      "A2SC0NLSYTA68B\n",
      "A2SC0NLSYTA68B\n",
      "A2SC0NLSYTA68B\n",
      "A2SC0NLSYTA68B\n",
      "A2SC0NLSYTA68B\n",
      "A2SC0NLSYTA68B\n",
      "A2SC0NLSYTA68B\n",
      "A2SC0NLSYTA68B\n",
      "A2SC0NLSYTA68B\n",
      "A2SC0NLSYTA68B\n",
      "A2SC0NLSYTA68B\n",
      "A2SC0NLSYTA68B\n",
      "A2SC0NLSYTA68B\n",
      "A2SC0NLSYTA68B\n",
      "A2SC0NLSYTA68B\n"
     ]
    }
   ],
   "source": [
    "for i in range(190,219):\n",
    "    print(inputs[i].account_public_id)"
   ]
  },
  {
   "cell_type": "code",
   "execution_count": 2,
   "metadata": {},
   "outputs": [],
   "source": [
    "# Test Item upload\n",
    "import pandas as pd"
   ]
  },
  {
   "cell_type": "code",
   "execution_count": 3,
   "metadata": {},
   "outputs": [],
   "source": [
    "TAX_DEFAULT_VALIDITY = datetime.strptime('31-12-2099', '%d-%m-%Y').date()\n",
    "\n",
    "class Item(db.Model):  # type: ignore\n",
    "    \"\"\" Item model \"\"\"\n",
    "    __tablename__ = \"item\"\n",
    "\n",
    "    id = db.Column(db.Integer, primary_key=True)\n",
    "    sku = db.Column(db.String(48), nullable=False)\n",
    "    seller_firm_id = db.Column(db.Integer)\n",
    "    valid_from = db.Column(db.Date, nullable=False)\n",
    "    valid_to = db.Column(db.Date, default=TAX_DEFAULT_VALIDITY)\n",
    "    brand_name = db.Column(db.String(256), nullable=False)\n",
    "    name = db.Column(db.String(256), nullable=False)\n",
    "    ean = db.Column(db.String(64), nullable=False)\n",
    "    asin = db.Column(db.String(64), nullable=False)\n",
    "    fnsku = db.Column(db.String(64), nullable=False)\n",
    "    # length_mm = db.Column(db.Integer, nullable=False)\n",
    "    # width_mm = db.Column(db.Integer, nullable=False)\n",
    "    # height_mm = db.Column(db.Integer, nullable=False)\n",
    "    # volume_m3 = db.Column(db.Float(precision=28), nullable=False)\n",
    "    # volume_f3 = db.Column(db.Float(precision=28), nullable=False)\n",
    "    weight_kg = db.Column(db.Float(precision=28), nullable=False)\n",
    "    # storage_size = db.Column(db.String(32), nullable=False)\n",
    "    # storage_media_type = db.Column(db.String(32), nullable=False)\n",
    "    # storage_category = db.Column(db.String(32), nullable=False)\n",
    "\n",
    "    tax_code_code = db.Column(db.String(8))\n",
    "\n",
    "    # item_purchase_price_currency_code = db.Column(db.String(4), db.ForeignKey('currency.code'), nullable=False)\n",
    "    # item_purchase_price_net = db.Column(db.Float(precision=28))\n",
    "\n",
    "    unit_cost_price_currency_code = db.Column(db.String(4), nullable=False)\n",
    "    unit_cost_price_net = db.Column(db.Float(precision=28))\n",
    "\n",
    "\n",
    "\n",
    "\n",
    "    def __init__(self, **kwargs):\n",
    "        super(Item, self).__init__(**kwargs)\n",
    "        #self.item_volume_m3 = (self.item_length_mm * self.item_width_mm * self.item_height_mm) / (1000**3)\n",
    "\n",
    "    def __repr__(self):\n",
    "        return '<Item: {} {} {} {}>'.format(self.seller_firm_id, self.sku, self.valid_from, self.valid_to)\n",
    "\n",
    "    def update(self, data_changes):\n",
    "        for key, val in data_changes.items():\n",
    "            setattr(self, key, val)\n",
    "        return self\n",
    "\n"
   ]
  },
  {
   "cell_type": "code",
   "execution_count": 119,
   "metadata": {},
   "outputs": [],
   "source": [
    "import os\n",
    "from datetime import date, timedelta\n",
    "from typing import List\n",
    "\n",
    "\n",
    "from werkzeug.exceptions import NotFound, UnsupportedMediaType\n",
    "\n",
    "\n",
    "from flask import current_app\n",
    "\n",
    "ITEM_DATA_ALLOWED_EXTENSIONS = ['csv']\n",
    "BASE_PATH_STATIC_DATA_SELLER_FIRM = '/Users/tm/Projects/NTAMAZON/webapp_data/seller_firm/static_data'\n",
    "TAX_DEFAULT_VALIDITY = datetime.strptime('31-12-2099', '%d-%m-%Y').date()\n",
    "MAX_FILE_SIZE_INPUT = 50 * 1024 * 1024\n",
    "\n",
    "\n",
    "class InputService:\n",
    "    @staticmethod\n",
    "    def allowed_file(filename: str, allowed_extensions: list) -> bool:\n",
    "        return '.' in filename and \\\n",
    "            filename.rsplit('.', 1)[1].lower(\n",
    "            ) in allowed_extensions\n",
    "\n",
    "\n",
    "    @staticmethod\n",
    "    def allowed_filesize(file_path: str) -> bool:\n",
    "        file_size = os.stat(file_path).st_size\n",
    "        if not file_size <= MAX_FILE_SIZE_INPUT:\n",
    "            os.remove(file_path)\n",
    "\n",
    "\n",
    "    @staticmethod\n",
    "    def store_file(file, allowed_extensions: list, basepath: str, file_type: str, owner_id: int):\n",
    "        if allowed_file(filename=file.filename, allowed_extensions=allowed_extensions):\n",
    "            filename = secure_filename(file.filename)\n",
    "\n",
    "            basepath_in = os.path.join(basepath, filetype, 'in')\n",
    "            os.makedirs(basepath_in, exist_ok=True)\n",
    "\n",
    "            stored_filename = \"{}_{}.{}\".format(owner_id, filename, filename.rsplit('.', 1)[1].lower())\n",
    "            file_path = os.path.join(basepath_in, stored_filename)\n",
    "            file.save(file_path)\n",
    "\n",
    "            if InputService.allowed_filesize(file_path):\n",
    "                return file_path\n",
    "\n",
    "            else:\n",
    "                raise RequestEntityTooLarge('Uploaded files exceed the file limit. Please reduce the number of files to be processed at once.')\n",
    "\n",
    "        else:\n",
    "            raise UnsupportedMediaType('The file {} is not allowed. Please recheck if the file extension matches {}'.format(filename, allowed_extensions))\n",
    "\n",
    "\n",
    "    \n",
    "    @staticmethod\n",
    "    def get_date_or_None(df, i:int, column:str) -> date or None:\n",
    "        if pd.isnull(df.iloc[i][column]):\n",
    "            return None\n",
    "        else:\n",
    "            try:\n",
    "                date = datetime.strptime(df.iloc[i][column], '%d-%m-%Y').date()\n",
    "            except:\n",
    "                try:\n",
    "                    date = datetime.strptime(df.iloc[i][column], '%d.%m.%Y').date()\n",
    "                except:\n",
    "                    try:\n",
    "                        date = datetime.strptime(df.iloc[i][column], '%d.%m.%y').date()\n",
    "                    except:\n",
    "                        raise UnsupportedMediaType('Can not read date format.')\n",
    "        return date\n",
    "\n",
    "\n",
    "\n",
    "    @staticmethod\n",
    "    def get_str(df, i:int, column:str) -> str:\n",
    "        try:\n",
    "            string = str(df.iloc[i][column])\n",
    "        except:\n",
    "            raise UnsupportedMediaType('Can not read date format.')\n",
    "        return string\n",
    "\n",
    "\n",
    "    @staticmethod\n",
    "    def get_str_or_None(df, i:int, column:str) -> str or None:\n",
    "        if pd.isnull(df.iloc[i][column]):\n",
    "            return None\n",
    "        else:\n",
    "            try:\n",
    "                string = str(df.iloc[i][column])\n",
    "            except:\n",
    "                raise UnsupportedMediaType('Can not read date format.')\n",
    "\n",
    "        return string\n",
    "\n",
    "\n",
    "    @staticmethod\n",
    "    def get_float(df, i:int, column:str) -> float:\n",
    "        if pd.isnull(df.iloc[i][column]):\n",
    "            return 0.0\n",
    "        else:\n",
    "            try:\n",
    "                flt = float(df.iloc[i][column])\n",
    "            except:\n",
    "                raise UnsupportedMediaType('Can not read date format.')\n",
    "\n",
    "        return flt\n",
    "\n",
    "\n",
    "    @staticmethod\n",
    "    def get_bool(df, i:int, column:str, value_true) -> bool:\n",
    "        try:\n",
    "            boolean = bool(df.iloc[i][column] == value_true)\n",
    "        except:\n",
    "            raise UnsupportedMediaType('Can not read date format.')\n",
    "\n",
    "        return boolean\n",
    "\n",
    "    \n",
    "    @staticmethod\n",
    "    def create_input_response_objects(file_path, input_type: str, total_number_inputs: int, error_counter: int, redundancy_counter: int) -> List[dict]:\n",
    "        response_objects = []\n",
    "        success_status = 'successfully'\n",
    "        notification = ''\n",
    "\n",
    "        if redundancy_counter > 0:\n",
    "                response_object_info = {\n",
    "                    'status': 'info',\n",
    "                    'message': '{} {}s had been uploaded earlier already and were skipped.'.format(str(redundancy_counter), input_type)\n",
    "                }\n",
    "                response_objects.append(response_object_info)\n",
    "\n",
    "        if error_counter > 0:\n",
    "            notification = 'However, please recheck the submitted file for invalid data.'\n",
    "\n",
    "            response_object_error = {\n",
    "                'status': 'warning',\n",
    "                'message': 'For {} {}s, the necessary {} details could not be read.'.format(str(error_counter), input_type, input_type)\n",
    "            }\n",
    "            response_objects.append(response_object_error)\n",
    "\n",
    "        filename = os.path.basename(file_path)\n",
    "\n",
    "        ending = 's' if total_number_inputs != 1 else ''\n",
    "\n",
    "        response_object = {\n",
    "            'status': 'success',\n",
    "            'message': 'The {} file \"{}\" ({} {}{} in total) has been {} uploaded. {}'.format(input_type, filename, str(total_number_inputs), input_type, ending, success_status, notification)\n",
    "        }\n",
    "\n",
    "        response_objects.append(response_object)\n",
    "\n",
    "        return response_objects\n",
    "    \n",
    "    \n",
    "class ItemService:\n",
    "\n",
    "\n",
    "    @staticmethod\n",
    "    def process_item_lists_upload(item_list_files: list, seller_firm_id_list: list):\n",
    "        file_path_list = []\n",
    "        for i, item_list_file in enumerate(item_list_files):\n",
    "            seller_firm_id = seller_firm_id_list[i]\n",
    "            try:\n",
    "                file_path = ItemService.store_item_list_file(item_list_file, seller_firm_id)\n",
    "                file_path_list.append(file_path)\n",
    "\n",
    "            except:\n",
    "                raise\n",
    "                !!! log??\n",
    "\n",
    "        ItemService.create_item_inputs(file_path_list, seller_firm_id)\n",
    "\n",
    "\n",
    "        return flat_response_objects\n",
    "\n",
    "\n",
    "\n",
    "    @staticmethod\n",
    "    def store_item_list_file(item_list_file, seller_firm_id: int):\n",
    "        file_path = InputService.store_file(file=item_list_file, allowed_extensions=ITEM_DATA_ALLOWED_EXTENSIONS, basepath=BASE_PATH_STATIC_DATA_SELLER_FIRM, file_type='item_list', owner_id=seller_firm_id)\n",
    "        return file_path\n",
    "\n",
    "#1.\n",
    "    def create_item_inputs(file_path_list: list, seller_firm_id_list: list):\n",
    "        if (file_path_list and seller_firm_id_list):\n",
    "            response_objects_cum = []\n",
    "            for i, file_path in enumerate(file_path_list):\n",
    "                seller_firm_id = seller_firm_id_list[i]\n",
    "                try:\n",
    "                    response_objects = ItemService.create_item_input(file_path, seller_firm_id)\n",
    "\n",
    "                    response_objects_cum.append(response_objects)\n",
    "                    \n",
    "                except:\n",
    "                    raise\n",
    "\n",
    "            # flatten list of response_object lists (i.e. response_objects)\n",
    "            flat_response_objects = [response_object for response_objects in response_objects_cum for response_object in response_objects]\n",
    "            return flat_response_objects\n",
    "\n",
    "        else:\n",
    "            raise\n",
    "\n",
    "\n",
    "\n",
    "\n",
    "    @staticmethod\n",
    "    def read_item_list_upload_into_df(file_path: str):\n",
    "        if os.path.isfile(file_path):\n",
    "            file_name = os.path.basename(file_path)\n",
    "            try:\n",
    "                if file_name.lower().endswith('.csv'):\n",
    "                    df = pd.read_csv(file_path, encoding=None)\n",
    "                else:\n",
    "                    raise UnsupportedMediaType(\n",
    "                        'File extension invalid (file: {}).'.format(file_name))\n",
    "                return df\n",
    "            except:\n",
    "                raise UnsupportedMediaType(\n",
    "                    'Cannot read file {}.'.format(file_name))\n",
    "\n",
    "        else:\n",
    "            raise #!!! (not a file)\n",
    "\n",
    "\n",
    "\n",
    "\n",
    "    @staticmethod\n",
    "    def create_item_input(file_path: str, seller_firm_id: int):\n",
    "        df = ItemService.read_item_list_upload_into_df(file_path)\n",
    "\n",
    "        redundancy_counter = 0\n",
    "        error_counter = 0\n",
    "        total_number_items = len(df.index)\n",
    "        input_type = 'item'\n",
    "\n",
    "        for i in range(total_number_items):\n",
    "\n",
    "            sku = InputService.get_str(df, i, column='sku')\n",
    "            seller_firm_id = seller_firm_id\n",
    "\n",
    "            valid_from = InputService.get_date_or_None(df, i, column='valid_from')\n",
    "            valid_to = InputService.get_date_or_None(df, i, column='valid_to')\n",
    "\n",
    "            if sku and seller_firm_id:\n",
    "                if not valid_from:\n",
    "                    valid_from = date.today()\n",
    "                if not valid_to:\n",
    "                    valid_to = valid_from + timedelta(days=TAX_DEFAULT_VALIDITY)\n",
    "\n",
    "                try:\n",
    "                    print('{}: type:{}'.format(sku, type(sku)))\n",
    "                    print('{}: type:{}'.format(seller_firm_id, type(seller_firm_id)))\n",
    "                    print('{}: type:{}'.format(valid_from, type(valid_from)))\n",
    "                    print('{}: type:{}'.format(valid_to, type(valid_to)))\n",
    "                    new_item = ItemService.create_item(df, i, sku, seller_firm_id, valid_from, valid_to)\n",
    "                    db.session.add(new_item)\n",
    "                    db.session.commit()\n",
    "\n",
    "                except:\n",
    "                    raise\n",
    "                    #db.session.rollback()\n",
    "\n",
    "                    error_counter += 1\n",
    "\n",
    "            else:\n",
    "                redundancy_counter += 1\n",
    "\n",
    "        response_objects = InputService.create_input_response_objects(file_path, input_type, total_number_items, error_counter, redundancy_counter)\n",
    "\n",
    "        return response_objects\n",
    "\n",
    "\n",
    "\n",
    "\n",
    "    @staticmethod\n",
    "    def create_item(df, i, sku: str, seller_firm_id, valid_from: date, valid_to: date) -> dict:\n",
    "        item: Item = Item.query.filter(Item.sku == sku, Item.seller_firm_id == seller_firm_id, Item.valid_to >= valid_from).first()\n",
    "\n",
    "        new_item = Item(\n",
    "            sku = sku,\n",
    "            seller_firm_id = seller_firm_id,\n",
    "            valid_from = valid_from,\n",
    "            valid_to = valid_to,\n",
    "            brand_name = InputService.get_str_or_None(df, i, column='brand_name'),\n",
    "            name=InputService.get_str_or_None(df, i, column='name'),\n",
    "            ean=InputService.get_str_or_None(df, i, column='ean'),\n",
    "            asin=InputService.get_str_or_None(df, i, column='asin'),\n",
    "            fnsku=InputService.get_str_or_None(df, i, column='fnsku'),\n",
    "            weight_kg = InputService.get_float(df, i, column='weight_kg'),\n",
    "            tax_code_code =InputService.get_str_or_None(df, i, column='tax_code_code'),\n",
    "            unit_cost_price_currency_code =InputService.get_str_or_None(df, i, column='unit_cost_price_currency_code'),\n",
    "            unit_cost_price_net =InputService.get_float(df, i, column='unit_cost_price_net')\n",
    "        )\n",
    "\n",
    "        if item:\n",
    "            if item.valid_from >= valid_from:\n",
    "                db.session.delete(item)\n",
    "                \n",
    "            else:\n",
    "                data_changes = {\n",
    "                    'valid_to': valid_from - timedelta(days=1)\n",
    "                }\n",
    "                item.update(data_changes)\n",
    "\n",
    "\n",
    "        return new_item\n"
   ]
  },
  {
   "cell_type": "code",
   "execution_count": 5,
   "metadata": {},
   "outputs": [],
   "source": [
    "db.drop_all()\n",
    "db.create_all()"
   ]
  },
  {
   "cell_type": "code",
   "execution_count": 28,
   "metadata": {},
   "outputs": [
    {
     "name": "stdout",
     "output_type": "stream",
     "text": [
      "WE-01-02-01-01-01-01-41: type:<class 'str'>\n",
      "A2SC0NLSYTA68B: type:<class 'str'>\n",
      "2016-06-01: type:<class 'datetime.date'>\n",
      "2025-06-01: type:<class 'datetime.date'>\n",
      "WE-01-02-01-01-01-01-41: type:<class 'str'>\n",
      "A2SC0NLSYTA68B: type:<class 'str'>\n",
      "2016-06-01: type:<class 'datetime.date'>\n",
      "2025-06-01: type:<class 'datetime.date'>\n"
     ]
    }
   ],
   "source": [
    "file_path_list = ['/Users/tm/Projects/NTAMAZON/webapp_data/seller_firm_data/static/item_list/in/item_list.csv']\n",
    "seller_firm_id_list = ['A2SC0NLSYTA68B']\n",
    "response_objects = ItemService.create_item_inputs(file_path_list, seller_firm_id_list)"
   ]
  },
  {
   "cell_type": "code",
   "execution_count": 17,
   "metadata": {},
   "outputs": [],
   "source": [
    "file_path_list = ['/Users/tm/Projects/NTAMAZON/webapp_data/seller_firm_data/static/item_list/in/item_list.csv']\n",
    "file_path = file_path_list[0]\n",
    "df = pd.read_csv(file_path)"
   ]
  },
  {
   "cell_type": "code",
   "execution_count": 18,
   "metadata": {},
   "outputs": [
    {
     "data": {
      "text/html": [
       "<div>\n",
       "<style scoped>\n",
       "    .dataframe tbody tr th:only-of-type {\n",
       "        vertical-align: middle;\n",
       "    }\n",
       "\n",
       "    .dataframe tbody tr th {\n",
       "        vertical-align: top;\n",
       "    }\n",
       "\n",
       "    .dataframe thead th {\n",
       "        text-align: right;\n",
       "    }\n",
       "</style>\n",
       "<table border=\"1\" class=\"dataframe\">\n",
       "  <thead>\n",
       "    <tr style=\"text-align: right;\">\n",
       "      <th></th>\n",
       "      <th>valid_from</th>\n",
       "      <th>valid_to</th>\n",
       "      <th>sku</th>\n",
       "      <th>brand_name</th>\n",
       "      <th>name</th>\n",
       "      <th>ean</th>\n",
       "      <th>asin</th>\n",
       "      <th>fnsku</th>\n",
       "      <th>weight_kg</th>\n",
       "      <th>tax_code_code</th>\n",
       "      <th>unit_cost_price_currency_code</th>\n",
       "      <th>unit_cost_price_net</th>\n",
       "    </tr>\n",
       "  </thead>\n",
       "  <tbody>\n",
       "    <tr>\n",
       "      <th>0</th>\n",
       "      <td>01.06.16</td>\n",
       "      <td>01.06.25</td>\n",
       "      <td>WE-01-02-01-01-01-01-41</td>\n",
       "      <td>weltenmann</td>\n",
       "      <td>WELTENMANN Classic Men Cotton Slip-on Espadril...</td>\n",
       "      <td>8.440000e+12</td>\n",
       "      <td>B07DFKN4TM</td>\n",
       "      <td>X000UUSGXL</td>\n",
       "      <td>0.57</td>\n",
       "      <td>A_GEN_STANDARD</td>\n",
       "      <td>EUR</td>\n",
       "      <td>9.7</td>\n",
       "    </tr>\n",
       "    <tr>\n",
       "      <th>1</th>\n",
       "      <td>01.06.16</td>\n",
       "      <td>01.06.25</td>\n",
       "      <td>WE-01-02-01-01-01-01-41</td>\n",
       "      <td>weltenmann</td>\n",
       "      <td>WELTENMANN Classic Men Cotton Slip-on Espadril...</td>\n",
       "      <td>8.440000e+12</td>\n",
       "      <td>B07DFKN4TM</td>\n",
       "      <td>X000UUSGXL</td>\n",
       "      <td>0.57</td>\n",
       "      <td>A_GEN_STANDARD</td>\n",
       "      <td>EUR</td>\n",
       "      <td>9.7</td>\n",
       "    </tr>\n",
       "  </tbody>\n",
       "</table>\n",
       "</div>"
      ],
      "text/plain": [
       "  valid_from  valid_to                      sku  brand_name  \\\n",
       "0   01.06.16  01.06.25  WE-01-02-01-01-01-01-41  weltenmann   \n",
       "1   01.06.16  01.06.25  WE-01-02-01-01-01-01-41  weltenmann   \n",
       "\n",
       "                                                name           ean  \\\n",
       "0  WELTENMANN Classic Men Cotton Slip-on Espadril...  8.440000e+12   \n",
       "1  WELTENMANN Classic Men Cotton Slip-on Espadril...  8.440000e+12   \n",
       "\n",
       "         asin       fnsku  weight_kg   tax_code_code  \\\n",
       "0  B07DFKN4TM  X000UUSGXL       0.57  A_GEN_STANDARD   \n",
       "1  B07DFKN4TM  X000UUSGXL       0.57  A_GEN_STANDARD   \n",
       "\n",
       "  unit_cost_price_currency_code  unit_cost_price_net  \n",
       "0                           EUR                  9.7  \n",
       "1                           EUR                  9.7  "
      ]
     },
     "execution_count": 18,
     "metadata": {},
     "output_type": "execute_result"
    }
   ],
   "source": [
    "df.head()"
   ]
  },
  {
   "cell_type": "code",
   "execution_count": 87,
   "metadata": {},
   "outputs": [],
   "source": [
    "sku = string = str(df.iloc[0]['sku'])\n",
    "valid_from = InputService.get_date_or_None(df, 0, column='valid_from')\n",
    "fnsku=InputService.get_str_or_None(df, 0, column='fnsku')"
   ]
  },
  {
   "cell_type": "code",
   "execution_count": null,
   "metadata": {},
   "outputs": [],
   "source": []
  },
  {
   "cell_type": "code",
   "execution_count": 29,
   "metadata": {},
   "outputs": [],
   "source": [
    "items = Item.query.all()"
   ]
  },
  {
   "cell_type": "code",
   "execution_count": 30,
   "metadata": {},
   "outputs": [
    {
     "data": {
      "text/plain": [
       "[{'status': 'success',\n",
       "  'message': 'The item file \"item_list.csv\" (2 items in total) has been successfully uploaded. '}]"
      ]
     },
     "execution_count": 30,
     "metadata": {},
     "output_type": "execute_result"
    }
   ],
   "source": [
    "response_objects"
   ]
  },
  {
   "cell_type": "code",
   "execution_count": 31,
   "metadata": {},
   "outputs": [
    {
     "data": {
      "text/plain": [
       "[<Item: A2SC0NLSYTA68B WE-01-02-01-01-01-01-41 2016-06-01 2016-05-31>,\n",
       " <Item: A2SC0NLSYTA68B WE-01-02-01-01-01-01-41 2016-06-01 2025-06-01>]"
      ]
     },
     "execution_count": 31,
     "metadata": {},
     "output_type": "execute_result"
    }
   ],
   "source": [
    "items"
   ]
  },
  {
   "cell_type": "code",
   "execution_count": 37,
   "metadata": {},
   "outputs": [],
   "source": [
    "int_1 = 1\n",
    "int_2 = 2\n",
    "\n",
    "def operation(function, int_a, int_b):\n",
    "    return function(int_a, int_b)\n",
    "\n",
    "def add(int_1: int, int_2: int):\n",
    "    return int_1 + int_2\n",
    "\n",
    "def sub(int_1: int, int_2: int):\n",
    "    return int_1 - int_2"
   ]
  },
  {
   "cell_type": "code",
   "execution_count": 39,
   "metadata": {},
   "outputs": [
    {
     "data": {
      "text/plain": [
       "-1"
      ]
     },
     "execution_count": 39,
     "metadata": {},
     "output_type": "execute_result"
    }
   ],
   "source": [
    "operation(function=sub, int_a=int_1, int_b=int_2)"
   ]
  },
  {
   "cell_type": "code",
   "execution_count": 48,
   "metadata": {},
   "outputs": [],
   "source": [
    "long_list = []\n",
    "string_a = 'ALALAL'\n",
    "long_list = [string_a] * 15"
   ]
  },
  {
   "cell_type": "code",
   "execution_count": 50,
   "metadata": {},
   "outputs": [
    {
     "data": {
      "text/plain": [
       "15"
      ]
     },
     "execution_count": 50,
     "metadata": {},
     "output_type": "execute_result"
    }
   ],
   "source": [
    "len(long_list)"
   ]
  },
  {
   "cell_type": "code",
   "execution_count": 51,
   "metadata": {},
   "outputs": [
    {
     "data": {
      "text/plain": [
       "function"
      ]
     },
     "execution_count": 51,
     "metadata": {},
     "output_type": "execute_result"
    }
   ],
   "source": [
    "type(operation)"
   ]
  },
  {
   "cell_type": "code",
   "execution_count": 55,
   "metadata": {},
   "outputs": [
    {
     "data": {
      "text/plain": [
       "0"
      ]
     },
     "execution_count": 55,
     "metadata": {},
     "output_type": "execute_result"
    }
   ],
   "source": [
    "a = 0\n",
    "a +=0\n",
    "a"
   ]
  },
  {
   "cell_type": "code",
   "execution_count": 56,
   "metadata": {},
   "outputs": [
    {
     "data": {
      "text/plain": [
       "1"
      ]
     },
     "execution_count": 56,
     "metadata": {},
     "output_type": "execute_result"
    }
   ],
   "source": [
    "d = {\n",
    "    'a':1,\n",
    "    'b':2\n",
    "}\n",
    "\n",
    "d.get('a')"
   ]
  },
  {
   "cell_type": "code",
   "execution_count": 62,
   "metadata": {},
   "outputs": [
    {
     "data": {
      "text/plain": [
       "6"
      ]
     },
     "execution_count": 62,
     "metadata": {},
     "output_type": "execute_result"
    }
   ],
   "source": [
    "a = 1\n",
    "b = 2\n",
    "c = 3\n",
    "\n",
    "def add(a,b, **kwargs):\n",
    "    result = a + b + kwargs['c']\n",
    "    return result\n",
    "    \n",
    "add(a,b, c=c)"
   ]
  },
  {
   "cell_type": "code",
   "execution_count": 82,
   "metadata": {},
   "outputs": [],
   "source": [
    "import shutil\n",
    "file_path_in_list = ['/Users/tm/Projects/NTAMAZON/webapp_data/seller_firm_data/static/item_list/in/item_list.csv', '/Users/tm/Projects/NTAMAZON/webapp_data/seller_firm_data/static/item_list/in/item_list_copy.csv']\n",
    "basepath = '/Users/tm/Projects/NTAMAZON/webapp_data/seller_firm_data/static/'\n",
    "file_type = 'item_list'\n",
    "\n",
    "def move_file_to_out(file_path_in_list: list, basepath: str, file_type: str):\n",
    "    basepath_in = os.path.join(basepath, file_type, 'in')\n",
    "    basepath_out = os.path.join(basepath, file_type, 'out')\n",
    "    os.makedirs(basepath_out, exist_ok=True)\n",
    "\n",
    "    for file_path_in in file_path_in_list:\n",
    "        print (file_path_in)\n",
    "        file_name = os.path.basename(file_path_in)\n",
    "        print(file_name)\n",
    "        file_path_out = os.path.join(basepath, file_type, 'out', file_name)\n",
    "        print(file_path_out)\n",
    "        try:\n",
    "            shutil.move(file_path_in, file_path_out)\n",
    "        except:\n",
    "            raise"
   ]
  },
  {
   "cell_type": "code",
   "execution_count": 83,
   "metadata": {},
   "outputs": [
    {
     "name": "stdout",
     "output_type": "stream",
     "text": [
      "/Users/tm/Projects/NTAMAZON/webapp_data/seller_firm_data/static/item_list/in/item_list.csv\n",
      "item_list.csv\n",
      "/Users/tm/Projects/NTAMAZON/webapp_data/seller_firm_data/static/item_list/out/item_list.csv\n",
      "/Users/tm/Projects/NTAMAZON/webapp_data/seller_firm_data/static/item_list/in/item_list_copy.csv\n",
      "item_list_copy.csv\n",
      "/Users/tm/Projects/NTAMAZON/webapp_data/seller_firm_data/static/item_list/out/item_list_copy.csv\n"
     ]
    }
   ],
   "source": [
    "move_file_to_out(file_path_in_list, basepath, file_type)"
   ]
  },
  {
   "cell_type": "code",
   "execution_count": 10,
   "metadata": {},
   "outputs": [],
   "source": [
    "def f(**kwargs):\n",
    "    if ('df' and 'i') in kwargs and isinstance(kwargs['df'], pd.DataFrame) and isinstance(kwargs['i'], int):\n",
    "        print('passed')\n",
    "    else:\n",
    "        print('failed')\n"
   ]
  },
  {
   "cell_type": "code",
   "execution_count": 11,
   "metadata": {},
   "outputs": [
    {
     "name": "stdout",
     "output_type": "stream",
     "text": [
      "passed\n"
     ]
    }
   ],
   "source": [
    "f(df=df, i=1)"
   ]
  },
  {
   "cell_type": "code",
   "execution_count": 1,
   "metadata": {},
   "outputs": [],
   "source": [
    "import pandas as pd"
   ]
  },
  {
   "cell_type": "code",
   "execution_count": 3,
   "metadata": {},
   "outputs": [],
   "source": [
    "\n",
    "class InputService:\n",
    "    @staticmethod\n",
    "    def read_file_path_into_df(file_path: str, encoding, delimiter):\n",
    "        if os.path.isfile(file_path):\n",
    "            file_name = os.path.basename(file_path)\n",
    "            try:\n",
    "                if file_name.lower().endswith('.csv'):\n",
    "                    df = pd.read_csv(file_path, encoding=encoding, delimiter=delimiter)\n",
    "                else:\n",
    "                    raise UnsupportedMediaType(\n",
    "                        'File extension invalid (file: {}).'.format(file_name))\n",
    "                return df\n",
    "            except:\n",
    "                raise UnsupportedMediaType(\n",
    "                    'Cannot read file {}.'.format(file_name))\n",
    "\n",
    "        else:\n",
    "            raise  # !!! (not a file)\n",
    "            "
   ]
  },
  {
   "cell_type": "code",
   "execution_count": 6,
   "metadata": {},
   "outputs": [],
   "source": [
    "file_path = '/Users/tm/Projects/NTAMAZON/webapp_data/templates/distance_sales.csv'\n",
    "df = InputService.read_file_path_into_df(file_path, encoding=None, delimiter=None)"
   ]
  },
  {
   "cell_type": "code",
   "execution_count": 7,
   "metadata": {},
   "outputs": [
    {
     "data": {
      "text/html": [
       "<div>\n",
       "<style scoped>\n",
       "    .dataframe tbody tr th:only-of-type {\n",
       "        vertical-align: middle;\n",
       "    }\n",
       "\n",
       "    .dataframe tbody tr th {\n",
       "        vertical-align: top;\n",
       "    }\n",
       "\n",
       "    .dataframe thead th {\n",
       "        text-align: right;\n",
       "    }\n",
       "</style>\n",
       "<table border=\"1\" class=\"dataframe\">\n",
       "  <thead>\n",
       "    <tr style=\"text-align: right;\">\n",
       "      <th></th>\n",
       "      <th>seller_firm_public_id</th>\n",
       "      <th>valid_from</th>\n",
       "      <th>valid_to</th>\n",
       "      <th>arrival_country_code</th>\n",
       "      <th>status</th>\n",
       "    </tr>\n",
       "  </thead>\n",
       "  <tbody>\n",
       "    <tr>\n",
       "      <th>0</th>\n",
       "      <td>A00</td>\n",
       "      <td>01.06.16</td>\n",
       "      <td>01.06.25</td>\n",
       "      <td>CZ</td>\n",
       "      <td>False</td>\n",
       "    </tr>\n",
       "    <tr>\n",
       "      <th>1</th>\n",
       "      <td>A01</td>\n",
       "      <td>01.06.18</td>\n",
       "      <td>31.12.19</td>\n",
       "      <td>DE</td>\n",
       "      <td>False</td>\n",
       "    </tr>\n",
       "    <tr>\n",
       "      <th>2</th>\n",
       "      <td>A01</td>\n",
       "      <td>01.06.18</td>\n",
       "      <td>31.12.19</td>\n",
       "      <td>ES</td>\n",
       "      <td>False</td>\n",
       "    </tr>\n",
       "    <tr>\n",
       "      <th>3</th>\n",
       "      <td>A01</td>\n",
       "      <td>01.06.18</td>\n",
       "      <td>31.12.19</td>\n",
       "      <td>FR</td>\n",
       "      <td>False</td>\n",
       "    </tr>\n",
       "    <tr>\n",
       "      <th>4</th>\n",
       "      <td>A01</td>\n",
       "      <td>01.06.18</td>\n",
       "      <td>31.12.19</td>\n",
       "      <td>GB</td>\n",
       "      <td>False</td>\n",
       "    </tr>\n",
       "  </tbody>\n",
       "</table>\n",
       "</div>"
      ],
      "text/plain": [
       "  seller_firm_public_id valid_from  valid_to arrival_country_code  status\n",
       "0                   A00   01.06.16  01.06.25                   CZ   False\n",
       "1                   A01   01.06.18  31.12.19                   DE   False\n",
       "2                   A01   01.06.18  31.12.19                   ES   False\n",
       "3                   A01   01.06.18  31.12.19                   FR   False\n",
       "4                   A01   01.06.18  31.12.19                   GB   False"
      ]
     },
     "execution_count": 7,
     "metadata": {},
     "output_type": "execute_result"
    }
   ],
   "source": [
    "df.head()"
   ]
  },
  {
   "cell_type": "code",
   "execution_count": 8,
   "metadata": {},
   "outputs": [
    {
     "data": {
      "text/plain": [
       "True"
      ]
     },
     "execution_count": 8,
     "metadata": {},
     "output_type": "execute_result"
    }
   ],
   "source": [
    "isinstance(df, pd.DataFrame)"
   ]
  },
  {
   "cell_type": "code",
   "execution_count": 121,
   "metadata": {},
   "outputs": [],
   "source": [
    "valid_from = InputService.get_date_or_None(df, 1, column='valid_from')"
   ]
  },
  {
   "cell_type": "code",
   "execution_count": 3,
   "metadata": {},
   "outputs": [],
   "source": [
    "db.create_all()"
   ]
  },
  {
   "cell_type": "code",
   "execution_count": 2,
   "metadata": {},
   "outputs": [],
   "source": [
    "class VATIN(db.Model):\n",
    "    \"\"\" VATIN model \"\"\"\n",
    "    __tablename__ = \"vatin\"\n",
    "\n",
    "    id = db.Column(db.Integer, primary_key=True)\n",
    "    created_on = db.Column(db.Date, default=date.today())\n",
    "    valid_from = db.Column(db.Date, nullable=False)\n",
    "    valid_to = db.Column(db.Date, default=date.today() + timedelta(days=1))\n",
    "   \n",
    "    def __init__(self, **kwargs):\n",
    "        super().__init__(**kwargs)"
   ]
  },
  {
   "cell_type": "code",
   "execution_count": 4,
   "metadata": {},
   "outputs": [],
   "source": [
    "vatin = VATIN(valid_from=date.today())\n",
    "db.session.add(vatin)\n",
    "db.session.commit()"
   ]
  },
  {
   "cell_type": "code",
   "execution_count": 5,
   "metadata": {},
   "outputs": [],
   "source": [
    "vatin = VATIN.query.first()"
   ]
  },
  {
   "cell_type": "code",
   "execution_count": 8,
   "metadata": {},
   "outputs": [
    {
     "data": {
      "text/plain": [
       "datetime.date(2020, 5, 14)"
      ]
     },
     "execution_count": 8,
     "metadata": {},
     "output_type": "execute_result"
    }
   ],
   "source": [
    "vatin.valid_to"
   ]
  },
  {
   "cell_type": "code",
   "execution_count": 12,
   "metadata": {},
   "outputs": [],
   "source": [
    "seller_firm_id_list = [5] * 3"
   ]
  },
  {
   "cell_type": "code",
   "execution_count": 13,
   "metadata": {},
   "outputs": [
    {
     "data": {
      "text/plain": [
       "[5, 5, 5]"
      ]
     },
     "execution_count": 13,
     "metadata": {},
     "output_type": "execute_result"
    }
   ],
   "source": [
    "seller_firm_id_list"
   ]
  },
  {
   "cell_type": "code",
   "execution_count": 15,
   "metadata": {},
   "outputs": [
    {
     "name": "stdout",
     "output_type": "stream",
     "text": [
      "1 2 3\n"
     ]
    }
   ],
   "source": [
    "def function1(**kwargs):\n",
    "    a = 1\n",
    "    b = 2\n",
    "    function2(a=a,b=b, **kwargs)\n",
    "\n",
    "def function2(**kwargs):\n",
    "    function3(**kwargs)\n",
    "    \n",
    "def function3(**kwargs):\n",
    "    a = kwargs.get('a')\n",
    "    b = kwargs.get('b')\n",
    "    c = kwargs.get('c')\n",
    "    print(a,b,c)\n",
    "    \n",
    "\n",
    "function1(c=3)\n",
    "    "
   ]
  },
  {
   "cell_type": "code",
   "execution_count": 3,
   "metadata": {},
   "outputs": [
    {
     "data": {
      "text/plain": [
       "'distance_sales.csv'"
      ]
     },
     "execution_count": 3,
     "metadata": {},
     "output_type": "execute_result"
    }
   ],
   "source": [
    "file_path = 'distance_sales.csv'\n",
    "os.path.basename(file_path)"
   ]
  },
  {
   "cell_type": "code",
   "execution_count": 5,
   "metadata": {},
   "outputs": [],
   "source": [
    "\n",
    "from datetime import datetime, date, timedelta\n",
    "import os\n",
    "from flask import Flask, session\n",
    "from flask_sqlalchemy import SQLAlchemy\n",
    "\n",
    "app = Flask(__name__)\n",
    "app.config[\"SQLALCHEMY_DATABASE_URI\"] = \"sqlite://\"\n",
    "app.config[\"SQLALCHEMY_TRACK_MODIFICATIONS\"] = False\n",
    "\n",
    "db = SQLAlchemy(app)\n"
   ]
  },
  {
   "cell_type": "code",
   "execution_count": 2,
   "metadata": {},
   "outputs": [],
   "source": [
    "from typing import NamedTuple\n",
    "\n",
    "\n",
    "class Transaction(db.Model):\n",
    "    __tablename__= \"transaction\"\n",
    "    id = db.Column(db.Integer, primary_key=True)\n",
    "    date = db.Column(db.Date)\n",
    "    account_id = db.Column(db.Integer, db.ForeignKey('account.id'))\n",
    "    \n",
    "    def __init__(self, **kwargs):\n",
    "        super().__init__(**kwargs)\n",
    "        \n",
    "    def __repr__(self):\n",
    "        return '<Transaction: id: {}, date: {}, account_id: {}'.format(self.id, self.date, self.account_id)\n",
    "    \n",
    "        \n",
    "        \n",
    "class Account(db.Model):\n",
    "    __tablename__= \"account\"\n",
    "    id = db.Column(db.Integer, primary_key=True)\n",
    "    seller_firm_id = db.Column(db.Integer, db.ForeignKey('seller_firm.id'))\n",
    "    transactions = db.relationship('Transaction', backref='account', lazy=True)\n",
    "    \n",
    "    def __init__(self, **kwargs):\n",
    "        super().__init__(**kwargs)\n",
    "\n",
    "class SellerFirm(db.Model):\n",
    "    __tablename__= \"seller_firm\"\n",
    "    id = db.Column(db.Integer, primary_key=True)\n",
    "    accounts = db.relationship('Account', backref='seller_firm', lazy=True)\n",
    "\n",
    "    \n",
    "    def __init__(self, **kwargs):\n",
    "        super().__init__(**kwargs)\n",
    "      \n"
   ]
  },
  {
   "cell_type": "code",
   "execution_count": 3,
   "metadata": {},
   "outputs": [],
   "source": [
    "db.drop_all()\n",
    "db.create_all()"
   ]
  },
  {
   "cell_type": "code",
   "execution_count": 4,
   "metadata": {},
   "outputs": [],
   "source": [
    "s1 = SellerFirm()\n",
    "s2 = SellerFirm()\n",
    "\n",
    "db.session.add(s1)\n",
    "db.session.add(s2)\n",
    "\n",
    "a1 = Account(seller_firm_id = 1)\n",
    "a2 = Account(seller_firm_id = 1)\n",
    "a3 = Account(seller_firm_id = 2)\n",
    "\n",
    "db.session.add(a1)\n",
    "db.session.add(a2)\n",
    "db.session.add(a3)\n",
    "\n",
    "t1 = Transaction(date=date.today(), account_id=1)\n",
    "t2 = Transaction(date=date.today() + timedelta(days=1), account_id=1)\n",
    "t3 = Transaction(date=date.today() + timedelta(days=5), account_id=3)\n",
    "t4 = Transaction(date=date.today() + timedelta(days=1), account_id=2)\n",
    "t5 = Transaction(date=date.today() + timedelta(days=1), account_id=1)\n",
    "\n",
    "db.session.add(t1)\n",
    "db.session.add(t2)\n",
    "db.session.add(t3)\n",
    "db.session.add(t4)\n",
    "db.session.add(t5)\n",
    "\n",
    "db.session.commit()\n"
   ]
  },
  {
   "cell_type": "code",
   "execution_count": 5,
   "metadata": {},
   "outputs": [
    {
     "name": "stdout",
     "output_type": "stream",
     "text": [
      "date_start 2020-05-16\n",
      "date_end 2020-05-17\n"
     ]
    }
   ],
   "source": [
    "seller_firm_id = 1\n",
    "date_start = date.today()\n",
    "print('date_start', date_start)\n",
    "date_end = date.today() + timedelta(days=1)\n",
    "print('date_end', date_end)"
   ]
  },
  {
   "cell_type": "code",
   "execution_count": 13,
   "metadata": {},
   "outputs": [
    {
     "name": "stdout",
     "output_type": "stream",
     "text": [
      "{'_sa_instance_state': <sqlalchemy.orm.state.InstanceState object at 0x1127e9590>, 'id': 1, 'seller_firm_id': 1}\n",
      "{'_sa_instance_state': <sqlalchemy.orm.state.InstanceState object at 0x1127e9450>, 'id': 2, 'seller_firm_id': 1}\n",
      "{'_sa_instance_state': <sqlalchemy.orm.state.InstanceState object at 0x1127e9610>, 'id': 3, 'seller_firm_id': 2}\n"
     ]
    }
   ],
   "source": [
    "for a in Account.query.all():\n",
    "    print(a.__dict__)"
   ]
  },
  {
   "cell_type": "code",
   "execution_count": 40,
   "metadata": {},
   "outputs": [
    {
     "name": "stdout",
     "output_type": "stream",
     "text": [
      "0:00:00.002055\n",
      "0:00:00.003452\n",
      "0:00:00.002479\n",
      "0:00:00.002092\n",
      "0:00:00.002365\n",
      "0:00:00.001912\n",
      "0:00:00.001712\n",
      "0:00:00.001642\n",
      "0:00:00.001822\n",
      "0:00:00.001571\n",
      "0:00:00.001594\n",
      "0:00:00.001718\n",
      "0:00:00.001673\n",
      "0:00:00.001669\n",
      "0:00:00.005029\n",
      "0:00:00.004237\n",
      "0:00:00.002735\n",
      "0:00:00.003369\n",
      "0:00:00.003343\n",
      "0:00:00.002868\n"
     ]
    }
   ],
   "source": [
    "l = []\n",
    "for i in range(20):\n",
    "    start = datetime.utcnow()\n",
    "    transactions = Transaction.query.join(Transaction.account, aliased=True).filter_by(seller_firm_id=seller_firm_id).all()\n",
    "    end = datetime.utcnow()\n",
    "    duration = end - start\n",
    "     l.append(duration)\n",
    "\n",
    "import statistics\n",
    "statistics.mean(l)\n",
    "\n",
    "print(l)\n"
   ]
  },
  {
   "cell_type": "code",
   "execution_count": 27,
   "metadata": {},
   "outputs": [],
   "source": [
    "class Parent(db.Model):\n",
    "    __tablename__= \"parent\"\n",
    "    id = db.Column(db.Integer, primary_key=True)\n",
    "    \n",
    "    def __init__(self, **kwargs):\n",
    "        super().__init__(**kwargs)\n",
    "        \n",
    "    \n",
    "class Girl(Parent):\n",
    "    id = db.Column(db.Integer, primary_key=True)\n",
    "    name = db.Column(db.String(40))\n",
    "\n",
    "\n",
    "class Boy(Parent):\n",
    "    id = db.Column(db.Integer, primary_key=True)\n",
    "    name = db.Column(db.String(40))\n",
    "    "
   ]
  },
  {
   "cell_type": "code",
   "execution_count": 28,
   "metadata": {},
   "outputs": [
    {
     "data": {
      "text/plain": [
       "[<Transaction: id: 1, date: 2020-05-15, account_id: 1,\n",
       " <Transaction: id: 2, date: 2020-05-16, account_id: 1,\n",
       " <Transaction: id: 4, date: 2020-05-16, account_id: 2,\n",
       " <Transaction: id: 5, date: 2020-05-16, account_id: 1]"
      ]
     },
     "execution_count": 28,
     "metadata": {},
     "output_type": "execute_result"
    }
   ],
   "source": [
    "transactions"
   ]
  },
  {
   "cell_type": "code",
   "execution_count": 34,
   "metadata": {},
   "outputs": [
    {
     "data": {
      "text/plain": [
       "datetime.datetime(2020, 5, 15, 13, 28, 32, 925875)"
      ]
     },
     "execution_count": 34,
     "metadata": {},
     "output_type": "execute_result"
    }
   ],
   "source": [
    "start = datetime.utcnow()"
   ]
  },
  {
   "cell_type": "code",
   "execution_count": null,
   "metadata": {},
   "outputs": [],
   "source": []
  }
 ],
 "metadata": {
  "kernelspec": {
   "display_name": "Python 3",
   "language": "python",
   "name": "python3"
  },
  "language_info": {
   "codemirror_mode": {
    "name": "ipython",
    "version": 3
   },
   "file_extension": ".py",
   "mimetype": "text/x-python",
   "name": "python",
   "nbconvert_exporter": "python",
   "pygments_lexer": "ipython3",
   "version": "3.7.6"
  }
 },
 "nbformat": 4,
 "nbformat_minor": 4
}
